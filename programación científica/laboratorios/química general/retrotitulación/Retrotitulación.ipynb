{
 "cells": [
  {
   "cell_type": "code",
   "execution_count": 7,
   "id": "32f8170a",
   "metadata": {},
   "outputs": [
    {
     "name": "stdout",
     "output_type": "stream",
     "text": [
      "Datos\n",
      "   m(g)  VHCl(mL)  VNaOH(mL)\n",
      "0   0.1        20        6.7\n",
      "1   0.1        20        7.2\n",
      " \n",
      "Moles en exceso\n",
      "0    0.00067\n",
      "1    0.00072\n",
      "Name: VNaOH(mL), dtype: float64\n",
      " \n",
      "Moles reaccionantes\n",
      "0    0.0013\n",
      "1    0.0013\n",
      "dtype: float64\n",
      " \n",
      "gramos CaCO3\n",
      "0    0.065\n",
      "1    0.065\n",
      "dtype: float64\n",
      " \n",
      "concentración\n",
      "0    65.0\n",
      "1    65.0\n",
      "dtype: float64\n",
      "Media\n",
      "65\n",
      "Desviación estandar\n",
      "0\n"
     ]
    }
   ],
   "source": [
    "import pandas as pd\n",
    "datos=pd.read_csv('Datos.csv')\n",
    "print('Datos')\n",
    "print(datos)\n",
    "MHCl=0.1#M\n",
    "MNaOH=0.1#M\n",
    "moles_excesoHCl=(datos['VNaOH(mL)']*(10**-3)*MNaOH).round(5)\n",
    "print(' ')\n",
    "print('Moles en exceso')\n",
    "print(moles_excesoHCl)\n",
    "moles_inicialesHCl=datos['VHCl(mL)']*(10**-3)*MHCl\n",
    "moles_reaccionantesHCL=(moles_inicialesHCl-moles_excesoHCl).round(4)\n",
    "print(' ')\n",
    "print('Moles reaccionantes')\n",
    "print(moles_reaccionantesHCL)\n",
    "molesCaCO3=moles_reaccionantesHCL*(1/2)\n",
    "gCaCO3=molesCaCO3*100\n",
    "porcentaje_masa_masa=(gCaCO3/datos['m(g)'])*100\n",
    "print(' ')\n",
    "print('gramos CaCO3')\n",
    "print(round(gCaCO3,3))\n",
    "print(' ')\n",
    "print('concentración')\n",
    "print(round(porcentaje_masa_masa))\n",
    "print('Media')\n",
    "print(round(porcentaje_masa_masa.mean()))\n",
    "print('Desviación estandar')\n",
    "print(round(porcentaje_masa_masa.std()))\n"
   ]
  },
  {
   "cell_type": "code",
   "execution_count": 11,
   "id": "90cc1ace",
   "metadata": {},
   "outputs": [
    {
     "name": "stdout",
     "output_type": "stream",
     "text": [
      "Datos compañeros\n",
      "   porcentaje CaCO3 en la muestra\n",
      "0                              65\n",
      "1                              72\n",
      "2                              70\n",
      "3                              65\n",
      "4                              77\n",
      "5                              70\n",
      "6                              78\n",
      "7                              74\n",
      " \n",
      "Media\n",
      "porcentaje CaCO3 en la muestra    71.375\n",
      "dtype: float64\n",
      "Desviación estandar\n",
      "porcentaje CaCO3 en la muestra    4.897157\n",
      "dtype: float64\n"
     ]
    }
   ],
   "source": [
    "datos=pd.read_csv('Datos compañeros.csv')\n",
    "print('Datos compañeros')\n",
    "print(datos)\n",
    "print(' ')\n",
    "print('Media')\n",
    "print(datos.mean())\n",
    "print('Desviación estandar')\n",
    "print(datos.std())"
   ]
  },
  {
   "cell_type": "code",
   "execution_count": null,
   "id": "94604464",
   "metadata": {},
   "outputs": [],
   "source": []
  }
 ],
 "metadata": {
  "kernelspec": {
   "display_name": "Python 3",
   "language": "python",
   "name": "python3"
  },
  "language_info": {
   "codemirror_mode": {
    "name": "ipython",
    "version": 3
   },
   "file_extension": ".py",
   "mimetype": "text/x-python",
   "name": "python",
   "nbconvert_exporter": "python",
   "pygments_lexer": "ipython3",
   "version": "3.8.8"
  }
 },
 "nbformat": 4,
 "nbformat_minor": 5
}
