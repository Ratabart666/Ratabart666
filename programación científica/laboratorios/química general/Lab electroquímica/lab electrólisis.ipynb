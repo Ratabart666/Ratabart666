{
 "cells": [
  {
   "cell_type": "code",
   "execution_count": 5,
   "id": "6a7e4e94",
   "metadata": {},
   "outputs": [
    {
     "name": "stdout",
     "output_type": "stream",
     "text": [
      "    t(s)   I(A)\n",
      "0    0.0  0.730\n",
      "1   30.0  0.819\n",
      "2   60.0  0.788\n",
      "3   90.0  0.783\n",
      "4  120.0  0.774\n",
      "5  150.0  0.844\n",
      "6  180.0  0.890\n",
      "7  210.0  0.944\n",
      "-----------\n",
      "La integración númerica de la replica 1 es:\n",
      "168C\n",
      "------------\n",
      "La integración númerica de la replica 2 es:\n",
      "172C\n"
     ]
    },
    {
     "data": {
      "image/png": "[encoded data removed]",
      "text/plain": [
       "<Figure size 432x288 with 1 Axes>"
      ]
     },
     "metadata": {
      "needs_background": "light"
     },
     "output_type": "display_data"
    },
    {
     "data": {
      "image/png": "[encoded data removed]",
      "text/plain": [
       "<Figure size 432x288 with 1 Axes>"
      ]
     },
     "metadata": {
      "needs_background": "light"
     },
     "output_type": "display_data"
    }
   ],
   "source": [
    "import pandas as pd \n",
    "import matplotlib.pyplot as plt\n",
    "from scipy.optimize import curve_fit\n",
    "from scipy.integrate import trapezoid\n",
    "\n",
    "datos1=pd.read_csv('Datos réplica 1.csv')\n",
    "datos2=pd.read_csv('Datos réplica 2.csv')\n",
    "fig1=datos1.plot.scatter(x='t(s)',y='I(A)')\n",
    "fig1.set_xlim(0,180)\n",
    "fig1.set_ylim(0,1)\n",
    "fig1.set_title('Experimento 1')\n",
    "print(datos2)\n",
    "fig2=datos2.plot.scatter(x='t(s)',y='I(A)')\n",
    "fig2.set_xlim(0,210)\n",
    "fig2.set_ylim(0,1)\n",
    "Q1=trapezoid(datos1['I(A)'],dx=30,axis=0)# Integración númerica replica 1\n",
    "Q2=trapezoid(datos2['I(A)'],dx=30,axis=0)# Integración númerica replica 2\n",
    "print('-----------')\n",
    "print('La integración númerica de la replica 1 es:')\n",
    "print(str(round(Q1))+'C')\n",
    "print('------------')\n",
    "print('La integración númerica de la replica 2 es:')\n",
    "print(str(round(Q2))+'C')\n",
    "\n"
   ]
  },
  {
   "cell_type": "code",
   "execution_count": 2,
   "id": "5523b092",
   "metadata": {},
   "outputs": [
    {
     "name": "stdout",
     "output_type": "stream",
     "text": [
      "0.708\n",
      "0.000781\n",
      "    t(s)   I(A)\n",
      "0    0.0  0.932\n",
      "1   30.0  0.949\n",
      "2   60.0  0.944\n",
      "3   90.0  0.965\n",
      "4  120.0  0.960\n",
      "5  150.0  0.882\n",
      "6  180.0  0.882\n",
      "    t(s)   I(A)\n",
      "0    0.0  0.730\n",
      "1   30.0  0.819\n",
      "2   60.0  0.788\n",
      "3   90.0  0.783\n",
      "4  120.0  0.774\n",
      "5  150.0  0.844\n",
      "6  180.0  0.890\n",
      "7  210.0  0.944\n",
      "172\n",
      "110112\n",
      "6.882000000000008\n",
      "110112 14\n",
      "688200000000000736100352 14\n",
      "--\n",
      "0.000781\n"
     ]
    },
    {
     "data": {
      "image/png": "[encoded data removed]",
      "text/plain": [
       "<Figure size 432x288 with 1 Axes>"
      ]
     },
     "metadata": {
      "needs_background": "light"
     },
     "output_type": "display_data"
    },
    {
     "data": {
      "image/png": "[encoded data removed]",
      "text/plain": [
       "<Figure size 432x288 with 1 Axes>"
      ]
     },
     "metadata": {
      "needs_background": "light"
     },
     "output_type": "display_data"
    }
   ],
   "source": [
    "import pandas as pd \n",
    "import matplotlib.pyplot as plt\n",
    "from scipy.optimize import curve_fit\n",
    "from scipy.integrate import trapezoid\n",
    "\n",
    "datos1=pd.read_csv('Datos réplica 1.csv')\n",
    "datos2=pd.read_csv('Datos réplica 2.csv')\n",
    "T=18.1+273\n",
    "mi1=1.03#g\n",
    "mf1=0.97#g\n",
    "mi2=0.97#g\n",
    "mf2=0.92#g\n",
    "h1=13.2#cm\n",
    "h2=14.7#cm\n",
    "v1=20.5#mL\n",
    "v2=3.5#mL\n",
    "vtot=(v1+v2)/1000#L\n",
    "patm=563/760#atm\n",
    "pvapor=15.48/760#atm\n",
    "phe=(1000*9.8*0.132)/101325#atm\n",
    "pgas=patm-pvapor-phe\n",
    "print(round(pgas,3))\n",
    "n=(mi2-mf2)/64\n",
    "print(round(n,6))\n",
    "print(datos1)\n",
    "fig1=datos1.plot.scatter(x='t(s)',y='I(A)')\n",
    "fig1.set_xlim(0,180)\n",
    "fig1.set_ylim(0,1)\n",
    "fig1.set_title('Experimento 1')\n",
    "print(datos2)\n",
    "fig2=datos2.plot.scatter(x='t(s)',y='I(A)')\n",
    "fig2.set_xlim(0,210)\n",
    "fig2.set_ylim(0,1)\n",
    "Q=trapezoid(datos2['I(A)'],dx=30,axis=0)\n",
    "print(round(Q))\n",
    "n2=0.05/64\n",
    "Na=round(Q/(2*n*(1.6*(10**(-19)))))\n",
    "F=round(Q/(2*n))\n",
    "print(F)\n",
    "print(Na/10**23)\n",
    "error=abs(round(((F-96484)/(96484))*100))\n",
    "Naverd=6.02*10**23\n",
    "error2=abs(round(((Na-Naverd)/(Naverd))*100))\n",
    "print(F,error)\n",
    "print(Na,error2)\n",
    "print('--')\n",
    "print(round(n,6))"
   ]
  },
  {
   "cell_type": "code",
   "execution_count": null,
   "id": "b86be443",
   "metadata": {},
   "outputs": [],
   "source": []
  }
 ],
 "metadata": {
  "kernelspec": {
   "display_name": "Python 3",
   "language": "python",
   "name": "python3"
  },
  "language_info": {
   "codemirror_mode": {
    "name": "ipython",
    "version": 3
   },
   "file_extension": ".py",
   "mimetype": "text/x-python",
   "name": "python",
   "nbconvert_exporter": "python",
   "pygments_lexer": "ipython3",
   "version": "3.8.8"
  }
 },
 "nbformat": 4,
 "nbformat_minor": 5
}
