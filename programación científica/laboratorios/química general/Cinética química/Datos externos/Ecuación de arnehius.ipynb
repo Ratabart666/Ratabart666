{
 "cells": [
  {
   "cell_type": "code",
   "execution_count": 1,
   "id": "19455466",
   "metadata": {
    "ExecuteTime": {
     "end_time": "2022-05-13T14:42:40.554202Z",
     "start_time": "2022-05-13T14:42:40.549202Z"
    }
   },
   "outputs": [],
   "source": [
    "#Librerias"
   ]
  },
  {
   "cell_type": "code",
   "execution_count": 2,
   "id": "dd009fcc",
   "metadata": {
    "ExecuteTime": {
     "end_time": "2022-05-13T14:42:43.863634Z",
     "start_time": "2022-05-13T14:42:41.139484Z"
    }
   },
   "outputs": [],
   "source": [
    "import pandas as pd\n",
    "import matplotlib.pyplot as plt\n",
    "from scipy.optimize import curve_fit\n",
    "import numpy as np"
   ]
  },
  {
   "cell_type": "code",
   "execution_count": 3,
   "id": "319a889c",
   "metadata": {
    "ExecuteTime": {
     "end_time": "2022-05-13T14:42:43.887645Z",
     "start_time": "2022-05-13T14:42:43.883645Z"
    }
   },
   "outputs": [],
   "source": [
    "#Datos"
   ]
  },
  {
   "cell_type": "code",
   "execution_count": 4,
   "id": "7f555ffe",
   "metadata": {
    "ExecuteTime": {
     "end_time": "2022-05-13T14:42:43.980646Z",
     "start_time": "2022-05-13T14:42:43.906640Z"
    }
   },
   "outputs": [
    {
     "name": "stdout",
     "output_type": "stream",
     "text": [
      "Estos son los datos experimentales\n",
      " \n",
      "   Concentración(M)  tiempo(s)\n",
      "0             0.010       0.00\n",
      "1             0.008    1315.99\n",
      "2             0.006    1593.39\n",
      "3             0.005    1734.77\n",
      "4             0.002    2694.16\n",
      "\n",
      "La temperatura de la reacción(sin catalizar) es: 276 k\n",
      "--------------\n",
      " \n",
      "   Concentración(M)  tiempo(s)\n",
      "0             0.010          0\n",
      "1             0.008         56\n",
      "2             0.006         59\n",
      "3             0.005        229\n",
      "4             0.004        250\n",
      "\n",
      "La temperatura de la reacción(sin catalizar) es: 293 k\n",
      "--------------\n",
      " \n",
      "   Concentración(M)  tiempo(s)\n",
      "0             0.008       0.00\n",
      "1             0.006       9.54\n",
      "2             0.005      38.92\n",
      "3             0.004      59.49\n",
      "\n",
      "La temperatura de la reacción(sin catalizar) es: 303 k\n",
      "--------------\n",
      " \n",
      "   Concentración(M)  tiempo(s)\n",
      "0             0.010          0\n",
      "1             0.008          3\n",
      "2             0.006         16\n",
      "\n",
      "La temperatura de la reacción(sin catalizar) es: 308 k\n"
     ]
    }
   ],
   "source": [
    "datos1=pd.read_csv('Cinética 276k.csv')\n",
    "print('Estos son los datos experimentales')\n",
    "print(' ')\n",
    "print(datos1)\n",
    "print('')\n",
    "T1=276#K\n",
    "print('La temperatura de la reacción(sin catalizar) es:',T1,'k')\n",
    "\n",
    "print('--------------')\n",
    "\n",
    "datos2=pd.read_csv('Cinética 293k.csv')\n",
    "print(' ')\n",
    "print(datos2)\n",
    "print('')\n",
    "T2=293#K\n",
    "print('La temperatura de la reacción(sin catalizar) es:',T2,'k')\n",
    "\n",
    "print('--------------')\n",
    "\n",
    "datos3=pd.read_csv('Cinética 303k.csv')\n",
    "print(' ')\n",
    "print(datos3)\n",
    "print('')\n",
    "T3=303#K\n",
    "print('La temperatura de la reacción(sin catalizar) es:',T3,'k')\n",
    "\n",
    "print('--------------')\n",
    "\n",
    "datos4=pd.read_csv('Cinética 308k.csv')\n",
    "print(' ')\n",
    "print(datos4)\n",
    "print('')\n",
    "T4=308#K\n",
    "print('La temperatura de la reacción(sin catalizar) es:',T4,'k')\n",
    "\n",
    "\n",
    "\n",
    "\n",
    "\n",
    "\n",
    "\n"
   ]
  },
  {
   "cell_type": "code",
   "execution_count": 5,
   "id": "dc36b8b1",
   "metadata": {
    "ExecuteTime": {
     "end_time": "2022-05-13T14:42:44.021648Z",
     "start_time": "2022-05-13T14:42:44.018648Z"
    }
   },
   "outputs": [],
   "source": [
    "#Gráficas"
   ]
  },
  {
   "cell_type": "code",
   "execution_count": 6,
   "id": "f5b439ca",
   "metadata": {
    "ExecuteTime": {
     "end_time": "2022-05-13T14:42:44.279665Z",
     "start_time": "2022-05-13T14:42:44.055651Z"
    }
   },
   "outputs": [
    {
     "name": "stdout",
     "output_type": "stream",
     "text": [
      "Haciendo el ajuste tenemos que la constante de velocidad para T=276 k es 0.0006 s**-1\n",
      "La concentración inicial es: 0.013 M\n"
     ]
    },
    {
     "data": {
      "image/png": "[encoded data removed]",
      "text/plain": [
       "<Figure size 432x288 with 1 Axes>"
      ]
     },
     "metadata": {
      "needs_background": "light"
     },
     "output_type": "display_data"
    }
   ],
   "source": [
    "def func(x,m,b):\n",
    "    return m*x+b\n",
    "ajuste,covarianza= curve_fit(func,datos1['tiempo(s)'],np.log(datos1['Concentración(M)']))\n",
    "m1=ajuste[0]\n",
    "b1=ajuste[1]\n",
    "x1=datos1['tiempo(s)'].tolist()[0]\n",
    "x2=datos1['tiempo(s)'].tolist()[-1]\n",
    "x=np.linspace(x1,x2,1000)\n",
    "fig,ax=plt.subplots()\n",
    "ax.scatter(datos1['tiempo(s)'],datos1['Concentración(M)'])\n",
    "ax.set_title('Cinética sin catalizador T='+str(T1)+'k'+' escala normal')\n",
    "ax.set_ylabel('[KMnO4]')\n",
    "ax.set_xlabel('tiempo(s)')\n",
    "ax.plot(x,np.e**func(x,m1,b1),color='red')\n",
    "print('Haciendo el ajuste tenemos que la constante de velocidad para T='+str(T1)+' k'+' es '+str(round(-m1,4)),'s**-1')\n",
    "print('La concentración inicial es:',round(np.e**b1,3),'M')"
   ]
  },
  {
   "cell_type": "code",
   "execution_count": 7,
   "id": "b9274a45",
   "metadata": {
    "ExecuteTime": {
     "end_time": "2022-05-13T14:42:44.678694Z",
     "start_time": "2022-05-13T14:42:44.527686Z"
    }
   },
   "outputs": [
    {
     "name": "stdout",
     "output_type": "stream",
     "text": [
      "Haciendo el ajuste tenemos que la constante de velocidad para T=293 k es 0.003 s**-1\n",
      "La concentración inicial es: 0.009 M\n"
     ]
    },
    {
     "data": {
      "image/png": "[encoded data removed]",
      "text/plain": [
       "<Figure size 432x288 with 1 Axes>"
      ]
     },
     "metadata": {
      "needs_background": "light"
     },
     "output_type": "display_data"
    }
   ],
   "source": [
    "def func(x,m,b):\n",
    "    return m*x+b\n",
    "ajuste,covarianza= curve_fit(func,datos2['tiempo(s)'],np.log(datos2['Concentración(M)']))\n",
    "m2=ajuste[0]\n",
    "b1=ajuste[1]\n",
    "x1=datos2['tiempo(s)'].tolist()[0]\n",
    "x2=datos2['tiempo(s)'].tolist()[-1]\n",
    "x=np.linspace(x1,x2,1000)\n",
    "fig,ax=plt.subplots()\n",
    "ax.scatter(datos2['tiempo(s)'],datos2['Concentración(M)'])\n",
    "ax.set_title('Cinética sin catalizador T='+str(T2)+'k'+' escala normal')\n",
    "ax.set_ylabel('[KMnO4]')\n",
    "ax.set_xlabel('tiempo(s)')\n",
    "ax.plot(x,np.e**func(x,m2,b1),color='red')\n",
    "print('Haciendo el ajuste tenemos que la constante de velocidad para T='+str(T2)+' k'+' es '+str(round(-m2,4)),'s**-1')\n",
    "print('La concentración inicial es:',round(np.e**b1,3),'M')"
   ]
  },
  {
   "cell_type": "code",
   "execution_count": 8,
   "id": "c9c44bc9",
   "metadata": {
    "ExecuteTime": {
     "end_time": "2022-05-13T14:42:45.537691Z",
     "start_time": "2022-05-13T14:42:45.363679Z"
    }
   },
   "outputs": [
    {
     "name": "stdout",
     "output_type": "stream",
     "text": [
      "Haciendo el ajuste tenemos que la constante de velocidad para T=303 k es 0.0104 s**-1\n",
      "La concentración inicial es: 0.007 M\n"
     ]
    },
    {
     "data": {
      "image/png": "[encoded data removed]",
      "text/plain": [
       "<Figure size 432x288 with 1 Axes>"
      ]
     },
     "metadata": {
      "needs_background": "light"
     },
     "output_type": "display_data"
    }
   ],
   "source": [
    "def func(x,m,b):\n",
    "    return m*x+b\n",
    "ajuste,covarianza= curve_fit(func,datos3['tiempo(s)'],np.log(datos3['Concentración(M)']))\n",
    "m3=ajuste[0]\n",
    "b1=ajuste[1]\n",
    "x1=datos3['tiempo(s)'].tolist()[0]\n",
    "x2=datos3['tiempo(s)'].tolist()[-1]\n",
    "x=np.linspace(x1,x2,1000)\n",
    "fig,ax=plt.subplots()\n",
    "ax.scatter(datos3['tiempo(s)'],datos3['Concentración(M)'])\n",
    "ax.set_title('Cinética sin catalizador T='+str(T3)+'k'+' escala normal')\n",
    "ax.set_ylabel('[KMnO4]')\n",
    "ax.set_xlabel('tiempo(s)')\n",
    "ax.plot(x,np.e**func(x,m3,b1),color='red')\n",
    "print('Haciendo el ajuste tenemos que la constante de velocidad para T='+str(T3)+' k'+' es '+str(round(-m3,4)),'s**-1')\n",
    "print('La concentración inicial es:',round(np.e**b1,3),'M')\n"
   ]
  },
  {
   "cell_type": "code",
   "execution_count": 9,
   "id": "556d0e2d",
   "metadata": {
    "ExecuteTime": {
     "end_time": "2022-05-13T14:42:46.015732Z",
     "start_time": "2022-05-13T14:42:45.844716Z"
    }
   },
   "outputs": [
    {
     "name": "stdout",
     "output_type": "stream",
     "text": [
      "Haciendo el ajuste tenemos que la constante de velocidad para T=308 k es 0.029 s**-1\n",
      "La concentración inicial es: 0.009 M\n"
     ]
    },
    {
     "data": {
      "image/png": "[encoded data removed]",
      "text/plain": [
       "<Figure size 432x288 with 1 Axes>"
      ]
     },
     "metadata": {
      "needs_background": "light"
     },
     "output_type": "display_data"
    }
   ],
   "source": [
    "def func(x,m,b):\n",
    "    return m*x+b\n",
    "ajuste,covarianza= curve_fit(func,datos4['tiempo(s)'],np.log(datos4['Concentración(M)']))\n",
    "m4=ajuste[0]\n",
    "b1=ajuste[1]\n",
    "x1=datos4['tiempo(s)'].tolist()[0]\n",
    "x2=datos4['tiempo(s)'].tolist()[-1]\n",
    "x=np.linspace(x1,x2,1000)\n",
    "fig,ax=plt.subplots()\n",
    "ax.scatter(datos4['tiempo(s)'],datos4['Concentración(M)'])\n",
    "ax.set_title('Cinética sin catalizador T='+str(T4)+'k'+' escala normal')\n",
    "ax.set_ylabel('[KMnO4]')\n",
    "ax.set_xlabel('tiempo(s)')\n",
    "ax.plot(x,np.e**func(x,m4,b1),color='red')\n",
    "print('Haciendo el ajuste tenemos que la constante de velocidad para T='+str(T4)+' k'+' es '+str(round(-m4,4)),'s**-1')\n",
    "print('La concentración inicial es:',round(np.e**b1,3),'M')"
   ]
  },
  {
   "cell_type": "code",
   "execution_count": 10,
   "id": "a88571f6",
   "metadata": {
    "ExecuteTime": {
     "end_time": "2022-05-13T14:42:46.023728Z",
     "start_time": "2022-05-13T14:42:46.017728Z"
    }
   },
   "outputs": [],
   "source": [
    "#Datos constantes de velocidad"
   ]
  },
  {
   "cell_type": "code",
   "execution_count": 11,
   "id": "84aad5c0",
   "metadata": {
    "ExecuteTime": {
     "end_time": "2022-05-13T14:42:48.196985Z",
     "start_time": "2022-05-13T14:42:48.188988Z"
    }
   },
   "outputs": [
    {
     "name": "stdout",
     "output_type": "stream",
     "text": [
      "Los datos de la constante de velocidad a diferentes temperaturas, son los siguientes:\n",
      " \n",
      "   temp(K)  k(s**-1)\n",
      "0      276  0.000581\n",
      "1      293  0.002982\n",
      "2      303  0.010360\n",
      "3      308  0.028992\n"
     ]
    }
   ],
   "source": [
    "print('Los datos de la constante de velocidad a diferentes temperaturas, son los siguientes:')\n",
    "print(' ')\n",
    "data={'temp(K)':[T1,T2,T3,T4],'k(s**-1)':[-m1,-m2,-m3,-m4]}\n",
    "df=pd.DataFrame(data)\n",
    "print(df)"
   ]
  },
  {
   "cell_type": "code",
   "execution_count": 12,
   "id": "5def001d",
   "metadata": {
    "ExecuteTime": {
     "end_time": "2022-05-13T14:42:48.858036Z",
     "start_time": "2022-05-13T14:42:48.679022Z"
    }
   },
   "outputs": [
    {
     "name": "stdout",
     "output_type": "stream",
     "text": [
      "Haciendo el ajuste tenemos que la energía de activación es:  83 kJ/mol\n",
      "El factor de frecuencia es:  2.32 exp 12 s**-1\n"
     ]
    },
    {
     "data": {
      "image/png": "[encoded data removed]",
      "text/plain": [
       "<Figure size 432x288 with 1 Axes>"
      ]
     },
     "metadata": {
      "needs_background": "light"
     },
     "output_type": "display_data"
    }
   ],
   "source": [
    "temp=[T1,T2,T3,T4]\n",
    "K=[-m1,-m2,-m3,-m4]\n",
    "invtemp=[1/T1,1/T2,1/T3,1/T4]\n",
    "lnk=[np.log(-m1),np.log(-m2),np.log(-m3),np.log(-m4)]\n",
    "def func(x,m,b):\n",
    "    return m*x+b\n",
    "ajuste,covarianza= curve_fit(func,invtemp,lnk)\n",
    "R=8.314#J/K*mol\n",
    "Ea=-ajuste[0]*R#J\n",
    "A=np.e**ajuste[1]\n",
    "x1=invtemp[-1]\n",
    "x2=invtemp[0]\n",
    "x=np.linspace(x1,x2,1000)\n",
    "fig,ax=plt.subplots()\n",
    "ax.scatter(temp,K)\n",
    "ax.set_title('k(s**-1) vs T(k)')\n",
    "ax.set_ylabel('K(s**-1)')\n",
    "ax.set_xlabel('T(k)')\n",
    "ax.plot(x**-1,np.e**func(x,ajuste[0],ajuste[1]),color='red')\n",
    "\n",
    "print('Haciendo el ajuste tenemos que la energía de activación es: ',round(Ea/1000),'kJ/mol')\n",
    "print('El factor de frecuencia es: ',round(A/10**12,2),'exp 12 s**-1')\n",
    "\n",
    "\n",
    "\n"
   ]
  },
  {
   "cell_type": "code",
   "execution_count": 13,
   "id": "ae25821c",
   "metadata": {
    "ExecuteTime": {
     "end_time": "2022-05-13T14:42:49.219108Z",
     "start_time": "2022-05-13T14:42:49.211108Z"
    }
   },
   "outputs": [
    {
     "name": "stdout",
     "output_type": "stream",
     "text": [
      "La vida media para T=276k\n",
      "La vida media es: 1397 s\n",
      "La vida media experimental es: 1735 s\n",
      "El error del modelo es de: 19 %\n"
     ]
    }
   ],
   "source": [
    "print('La vida media para T=276k')\n",
    "K276=np.e**func(1/276,ajuste[0],ajuste[1])\n",
    "t=round(np.log(2)*(1/K276))\n",
    "te=round(datos1['tiempo(s)'].tolist()[3])\n",
    "print('La vida media es:',t,'s')\n",
    "print('La vida media experimental es:',te,'s')\n",
    "print('El error del modelo es de:',round(100*abs(t-te)/te),'%')\n"
   ]
  }
 ],
 "metadata": {
  "hide_input": false,
  "interpreter": {
   "hash": "66f804da07f0f556d77bc3269dc5bb19edf020422864031af2885e5ff55f9079"
  },
  "kernelspec": {
   "display_name": "Python 3.10.4 64-bit (windows store)",
   "language": "python",
   "name": "python3"
  },
  "language_info": {
   "codemirror_mode": {
    "name": "ipython",
    "version": 3
   },
   "file_extension": ".py",
   "mimetype": "text/x-python",
   "name": "python",
   "nbconvert_exporter": "python",
   "pygments_lexer": "ipython3",
   "version": "3.10.4"
  },
  "nbTranslate": {
   "displayLangs": [
    "*"
   ],
   "hotkey": "alt-t",
   "langInMainMenu": true,
   "sourceLang": "en",
   "targetLang": "fr",
   "useGoogleTranslate": true
  },
  "toc": {
   "base_numbering": 1,
   "nav_menu": {},
   "number_sections": true,
   "sideBar": true,
   "skip_h1_title": false,
   "title_cell": "Table of Contents",
   "title_sidebar": "Contents",
   "toc_cell": false,
   "toc_position": {},
   "toc_section_display": true,
   "toc_window_display": false
  },
  "varInspector": {
   "cols": {
    "lenName": 16,
    "lenType": 16,
    "lenVar": 40
   },
   "kernels_config": {
    "python": {
     "delete_cmd_postfix": "",
     "delete_cmd_prefix": "del ",
     "library": "var_list.py",
     "varRefreshCmd": "print(var_dic_list())"
    },
    "r": {
     "delete_cmd_postfix": ") ",
     "delete_cmd_prefix": "rm(",
     "library": "var_list.r",
     "varRefreshCmd": "cat(var_dic_list()) "
    }
   },
   "types_to_exclude": [
    "module",
    "function",
    "builtin_function_or_method",
    "instance",
    "_Feature"
   ],
   "window_display": false
  }
 },
 "nbformat": 4,
 "nbformat_minor": 5
}
