{
 "cells": [
  {
   "cell_type": "code",
   "execution_count": 6,
   "id": "9c64a1c1",
   "metadata": {},
   "outputs": [
    {
     "name": "stdout",
     "output_type": "stream",
     "text": [
      "   Taguafria( C)  Taguacaliente( C)  ΔT( C)\n",
      "0           16.1               45.5     7.4\n",
      "1           18.5               50.0     7.8\n",
      "-------------------\n",
      "   TNaOHsolo( C)  Tdespuesdeagregar HCl( C)  ΔT( C)\n",
      "0           17.2                       22.8     5.9\n",
      "1           16.9                       23.1     6.2\n",
      "-------------------\n",
      "   Tinicial( C)  Tfinal( C)  ΔT( C)\n",
      "0          17.2        16.5    -0.7\n",
      "1          17.5        17.0    -0.5\n",
      "-------------------\n"
     ]
    }
   ],
   "source": [
    "import pandas as pd\n",
    "datos1=pd.read_csv('Datos 1.csv')\n",
    "datos2=pd.read_csv('Datos 2.csv')\n",
    "datos3=pd.read_csv('Datos 3.csv')\n",
    "magua1=20*1#v(mL)*1g/mL\n",
    "magua2=40#mL\n",
    "Cagua=4.18#J/g*C\n",
    "masaNaOH=20*(10**-3)*40#L\n",
    "molesNaOH\n",
    "molesU=1/60#1g*(1mol/60g)\n",
    "molesHCl=20*(10**-3)#Moles HCl\n",
    "print(datos1)\n",
    "print('-------------------')\n",
    "print(datos2)\n",
    "print('-------------------')\n",
    "print(datos3)\n",
    "print('-------------------')\n",
    "\n",
    "\n"
   ]
  },
  {
   "cell_type": "code",
   "execution_count": 7,
   "id": "355e9398",
   "metadata": {},
   "outputs": [
    {
     "name": "stdout",
     "output_type": "stream",
     "text": [
      "0    165.0\n",
      "1    170.0\n",
      "dtype: float64\n",
      "-------------------\n",
      "Según los datos la capacidad calorifica del calorimetro es:\n",
      "( 0.17 +- 0.004 )KJ/K\n"
     ]
    }
   ],
   "source": [
    "ΔT1=datos1['ΔT( C)']\n",
    "ΔT2=datos1['Taguafria( C)']+datos1['ΔT( C)']-datos1['Taguacaliente( C)']\n",
    "Ccalo=-magua1*Cagua*(ΔT2+ΔT1)/ΔT1\n",
    "print(round(Ccalo))\n",
    "print('-------------------')\n",
    "print('Según los datos la capacidad calorifica del calorimetro es:')\n",
    "print('(',round(Ccalo.mean()/1000,2),'+-',round(Ccalo.std()/1000,3),')KJ/K')\n",
    "Ccalo=round(Ccalo.mean())"
   ]
  },
  {
   "cell_type": "code",
   "execution_count": 13,
   "id": "fcbb2e4a",
   "metadata": {},
   "outputs": [
    {
     "name": "stdout",
     "output_type": "stream",
     "text": [
      "0   -1011.0\n",
      "1   -1062.0\n",
      "Name: ΔT( C), dtype: float64\n",
      "-------------------\n",
      "Según los datos la entalpia de la reacción es:\n",
      "( -1.04 +- 0.04 )KJ\n",
      " \n",
      " \n",
      "0   -50546.0\n",
      "1   -53117.0\n",
      "Name: ΔT( C), dtype: float64\n",
      "-------------------\n",
      "Según los datos la entalpia molar de la reacción es:\n",
      "( -52 +- 2 )KJ/mol HCl\n"
     ]
    }
   ],
   "source": [
    "Entalpia=-datos2['ΔT( C)']*(Ccalo+masaNaOH*Cagua)\n",
    "print(round(Entalpia))\n",
    "print('-------------------')\n",
    "print('Según los datos la entalpia de la reacción es:')\n",
    "print('(',round(Entalpia.mean()/1000,2),'+-',round(Entalpia.std()/1000,2),')KJ')\n",
    "EntalpiaMol=Entalpia/molesHCl\n",
    "print(' ')\n",
    "print(' ')\n",
    "print(round(EntalpiaMol))\n",
    "print('-------------------')\n",
    "print('Según los datos la entalpia molar de la reacción es:')\n",
    "print('(',round(EntalpiaMol.mean()/1000),'+-',round(EntalpiaMol.std()/1000),')KJ/mol HCl')\n"
   ]
  },
  {
   "cell_type": "code",
   "execution_count": 14,
   "id": "d70263cf",
   "metadata": {},
   "outputs": [
    {
     "name": "stdout",
     "output_type": "stream",
     "text": [
      "0    235.0\n",
      "1    168.0\n",
      "Name: ΔT( C), dtype: float64\n",
      "-------------------\n",
      "Según los datos la entalpia de la solución es:\n",
      "( 201 +- 47 )kJ\n",
      " \n",
      " \n",
      "0    14078.0\n",
      "1    10056.0\n",
      "Name: ΔT( C), dtype: float64\n",
      "-------------------\n",
      "Según los datos la entalpia de la solución es:\n",
      "( 12 +- 3 )KJ/mol\n"
     ]
    }
   ],
   "source": [
    "EntalpiaSol=-datos3['ΔT( C)']*(Ccalo+magua2*Cagua)\n",
    "print(round(EntalpiaSol))\n",
    "print('-------------------')\n",
    "print('Según los datos la entalpia de la solución es:')\n",
    "print('(',round(EntalpiaSol.mean()),'+-',round(EntalpiaSol.std()),')kJ')\n",
    "EntalpiaSolMol=EntalpiaSol/molesU\n",
    "print(' ')\n",
    "print(' ')\n",
    "print(round(EntalpiaSolMol))\n",
    "print('-------------------')\n",
    "print('Según los datos la entalpia de la solución es:')\n",
    "print('(',round(EntalpiaSolMol.mean()/1000),'+-',round(EntalpiaSolMol.std()/1000),')KJ/mol')\n"
   ]
  },
  {
   "cell_type": "code",
   "execution_count": null,
   "id": "09d9314c",
   "metadata": {},
   "outputs": [],
   "source": []
  }
 ],
 "metadata": {
  "kernelspec": {
   "display_name": "Python 3",
   "language": "python",
   "name": "python3"
  },
  "language_info": {
   "codemirror_mode": {
    "name": "ipython",
    "version": 3
   },
   "file_extension": ".py",
   "mimetype": "text/x-python",
   "name": "python",
   "nbconvert_exporter": "python",
   "pygments_lexer": "ipython3",
   "version": "3.8.8"
  }
 },
 "nbformat": 4,
 "nbformat_minor": 5
}
