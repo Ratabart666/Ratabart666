{
 "cells": [
  {
   "cell_type": "markdown",
   "id": "7523f3c1",
   "metadata": {},
   "source": [
    "# Automáta con pila que reconoce a $\\{ w \\in \\sum^{*}:0^{n}1^{n} n \\in \\mathbb{N}\\}$, $\\sum= \\{ 0,1 \\}$"
   ]
  },
  {
   "cell_type": "code",
   "execution_count": 1,
   "id": "2349b348",
   "metadata": {},
   "outputs": [
    {
     "data": {
      "text/plain": [
       "PDAConfiguration('q5', '', PDAStack())"
      ]
     },
     "execution_count": 1,
     "metadata": {},
     "output_type": "execute_result"
    }
   ],
   "source": [
    "#Cuidado con la sintaxis, es importante que sea igual al ejemplo que está aqui, adicionalmente si al inicio del automáta con pila\n",
    "# existen transiciones epsilon y se agregan simbolos a la pila, porfavor coloque estos simbolos en initial_stack_symbolos\n",
    "#adicionalmente el concepto de cambiar en la pila e-simbolo, equivale a colocar todas las reglas simbolo en sigma-simbolo, esto para evitar errores en el programa\n",
    "# y que solamente se entienda como leer '' a cuando ya no haya simbolos a leer\n",
    "#quitar en la pila se simboliza por estado,'', adicionar a la pila como simbolo pila: (estado,(simbolo,simbolo pila))\n",
    "#remplazar simbolos se reconoce como simbolo pila: (estado,simbolo)\n",
    "# Debido a la las llaves de los diccionarios, si en el mismo estado hay 2 llaves de lectura iguales, ocasionará error,por ende debe\n",
    "#buscar un automáta con pila no determinista\n",
    "from automata.pda.dpda import DPDA\n",
    "dpda = DPDA(\n",
    "    states={'q2','q3','q4','q5'},\n",
    "    input_symbols={'0', '1'},\n",
    "    stack_symbols={'A', 'B','$'},\n",
    "    transitions={\n",
    "#############################################3     \n",
    "        'q2': {\n",
    "            '0': {'$': ('q3', ('A', '$'))}  \n",
    "        },\n",
    "#############################################3     \n",
    "        \n",
    "        'q3': {\n",
    "            '0': {'A': ('q3', ('A', 'A'))},\n",
    "            '1': {'A': ('q4', '')}\n",
    "#############################################3         \n",
    "        },\n",
    "        'q4': {\n",
    "            '1': {'A': ('q4','')},\n",
    "            '' : {'$':('q5','')}\n",
    "#############################################3            \n",
    "        }\n",
    "    },\n",
    "    initial_state='q2',\n",
    "    initial_stack_symbol='$',\n",
    "    final_states={'q5'},\n",
    "    acceptance_mode='final_state'\n",
    ")\n",
    "dpda.read_input('0000011111')"
   ]
  }
 ],
 "metadata": {
  "hide_input": false,
  "kernelspec": {
   "display_name": "Python 3 (ipykernel)",
   "language": "python",
   "name": "python3"
  },
  "language_info": {
   "codemirror_mode": {
    "name": "ipython",
    "version": 3
   },
   "file_extension": ".py",
   "mimetype": "text/x-python",
   "name": "python",
   "nbconvert_exporter": "python",
   "pygments_lexer": "ipython3",
   "version": "3.8.8"
  },
  "latex_envs": {
   "LaTeX_envs_menu_present": true,
   "autoclose": false,
   "autocomplete": true,
   "bibliofile": "biblio.bib",
   "cite_by": "apalike",
   "current_citInitial": 1,
   "eqLabelWithNumbers": true,
   "eqNumInitial": 1,
   "hotkeys": {
    "equation": "Ctrl-E",
    "itemize": "Ctrl-I"
   },
   "labels_anchors": false,
   "latex_user_defs": false,
   "report_style_numbering": false,
   "user_envs_cfg": false
  },
  "nbTranslate": {
   "displayLangs": [
    "*"
   ],
   "hotkey": "alt-t",
   "langInMainMenu": true,
   "sourceLang": "en",
   "targetLang": "fr",
   "useGoogleTranslate": true
  },
  "toc": {
   "base_numbering": 1,
   "nav_menu": {},
   "number_sections": true,
   "sideBar": true,
   "skip_h1_title": false,
   "title_cell": "Table of Contents",
   "title_sidebar": "Contents",
   "toc_cell": false,
   "toc_position": {},
   "toc_section_display": true,
   "toc_window_display": false
  },
  "varInspector": {
   "cols": {
    "lenName": 16,
    "lenType": 16,
    "lenVar": 40
   },
   "kernels_config": {
    "python": {
     "delete_cmd_postfix": "",
     "delete_cmd_prefix": "del ",
     "library": "var_list.py",
     "varRefreshCmd": "print(var_dic_list())"
    },
    "r": {
     "delete_cmd_postfix": ") ",
     "delete_cmd_prefix": "rm(",
     "library": "var_list.r",
     "varRefreshCmd": "cat(var_dic_list()) "
    }
   },
   "types_to_exclude": [
    "module",
    "function",
    "builtin_function_or_method",
    "instance",
    "_Feature"
   ],
   "window_display": false
  }
 },
 "nbformat": 4,
 "nbformat_minor": 5
}
