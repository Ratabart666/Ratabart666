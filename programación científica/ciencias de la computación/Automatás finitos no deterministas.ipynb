{
 "cells": [
  {
   "cell_type": "markdown",
   "id": "947d204b",
   "metadata": {},
   "source": [
    "# Acepta las cadenas que tienen a 101 o 11 como subcadena inicial"
   ]
  },
  {
   "cell_type": "code",
   "execution_count": 3,
   "id": "733e0ac0",
   "metadata": {
    "ExecuteTime": {
     "end_time": "2022-05-06T05:11:13.339453Z",
     "start_time": "2022-05-06T05:11:13.328455Z"
    },
    "run_control": {
     "marked": true
    }
   },
   "outputs": [
    {
     "name": "stdout",
     "output_type": "stream",
     "text": [
      "{'q1'}\n",
      "{'q1'}\n",
      "{'q1'}\n",
      "{'q1'}\n",
      "{'q1'}\n",
      "{'q1'}\n",
      "{'q1'}\n",
      "{'q1'}\n",
      "{'q1'}\n",
      "{'q1'}\n",
      "{'q1'}\n",
      "{'q1'}\n",
      "{'q1'}\n",
      "{'q1'}\n",
      "{'q1', 'q3', 'q2'}\n",
      "{'q1', 'q3'}\n",
      "{'q4', 'q1', 'q3', 'q2'}\n",
      "{'q4', 'q1', 'q3'}\n",
      "{'q4', 'q1'}\n",
      "{'q4', 'q1'}\n",
      "{'q4', 'q1'}\n",
      "{'q4', 'q1'}\n",
      "{'q4', 'q1'}\n",
      "{'q4', 'q1'}\n",
      "{'q4', 'q1'}\n",
      "{'q4', 'q1'}\n",
      "{'q4', 'q1'}\n",
      "{'q4', 'q1'}\n",
      "{'q4', 'q1'}\n",
      "{'q4', 'q1'}\n",
      "{'q4', 'q1'}\n",
      "{'q4', 'q1'}\n",
      "{'q4', 'q1'}\n"
     ]
    }
   ],
   "source": [
    "from automata.fa.nfa import NFA\n",
    "\n",
    "nfa = NFA(\n",
    "    states={'q1', 'q2', 'q3','q4'},\n",
    "    input_symbols={'1', '0'},\n",
    "    transitions={\n",
    "        'q1': {'0': {'q1'},'1':{'q1','q2'}},    # Use '' as the key name for empty string (lambda/epsilon) transitions\n",
    "        'q2': {'0': {'q3'},'':{'q3'}},\n",
    "        'q3': {'1': {'q4'}},\n",
    "        'q4': {'0':{'q4'},'1':{'q4'}}\n",
    "    },\n",
    "    initial_state='q1',\n",
    "    final_states={'q4'}\n",
    ")\n",
    "x = list(nfa.read_input_stepwise('00000000000001010000000000000000'))\n",
    "for i in x:\n",
    "    print(i)"
   ]
  }
 ],
 "metadata": {
  "hide_input": false,
  "kernelspec": {
   "display_name": "Python 3 (ipykernel)",
   "language": "python",
   "name": "python3"
  },
  "language_info": {
   "codemirror_mode": {
    "name": "ipython",
    "version": 3
   },
   "file_extension": ".py",
   "mimetype": "text/x-python",
   "name": "python",
   "nbconvert_exporter": "python",
   "pygments_lexer": "ipython3",
   "version": "3.8.8"
  },
  "nbTranslate": {
   "displayLangs": [
    "*"
   ],
   "hotkey": "alt-t",
   "langInMainMenu": true,
   "sourceLang": "en",
   "targetLang": "fr",
   "useGoogleTranslate": true
  },
  "toc": {
   "base_numbering": 1,
   "nav_menu": {},
   "number_sections": true,
   "sideBar": true,
   "skip_h1_title": false,
   "title_cell": "Table of Contents",
   "title_sidebar": "Contents",
   "toc_cell": false,
   "toc_position": {},
   "toc_section_display": true,
   "toc_window_display": false
  },
  "varInspector": {
   "cols": {
    "lenName": 16,
    "lenType": 16,
    "lenVar": 40
   },
   "kernels_config": {
    "python": {
     "delete_cmd_postfix": "",
     "delete_cmd_prefix": "del ",
     "library": "var_list.py",
     "varRefreshCmd": "print(var_dic_list())"
    },
    "r": {
     "delete_cmd_postfix": ") ",
     "delete_cmd_prefix": "rm(",
     "library": "var_list.r",
     "varRefreshCmd": "cat(var_dic_list()) "
    }
   },
   "types_to_exclude": [
    "module",
    "function",
    "builtin_function_or_method",
    "instance",
    "_Feature"
   ],
   "window_display": false
  }
 },
 "nbformat": 4,
 "nbformat_minor": 5
}
