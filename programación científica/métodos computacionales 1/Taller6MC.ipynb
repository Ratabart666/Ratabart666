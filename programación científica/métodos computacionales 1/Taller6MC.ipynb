{
 "cells": [
  {
   "cell_type": "markdown",
   "metadata": {
    "id": "0Z8Dn_z6Mb9b"
   },
   "source": [
    "# Taller 6\n",
    "\n",
    "## Métodos Computacionales 1 2022-10\n",
    "\n",
    "Instrucciones: Suba el jupyter notebook **.ipynb** en la actividad de bloque neon. El archivo debe ser nombrado ApellidoNombre_ApellidoNombre_Taller6.ipynb. **El archivo debe poder correr en el binder de la magistral** \n",
    "\n",
    "Si un ejercicio demora **más de 10 segundos** en correr se considerará **incorrecto**.\n",
    "\n",
    "No modifique el cuaderno, ni los casos de prueba, puede correr los casos de prueba pero no modificarlos.\n",
    "\n",
    "**Entrega: Lunes 16 de Mayo 11:59 pm**"
   ]
  },
  {
   "cell_type": "markdown",
   "metadata": {
    "id": "VvtNBbxJ0n7a"
   },
   "source": [
    "## Librerias"
   ]
  },
  {
   "cell_type": "code",
   "execution_count": 7,
   "metadata": {
    "ExecuteTime": {
     "end_time": "2022-05-18T01:19:19.323750Z",
     "start_time": "2022-05-18T01:19:19.306765Z"
    },
    "id": "mmgcGeXk0pPA",
    "run_control": {
     "marked": false
    }
   },
   "outputs": [],
   "source": [
    "import numpy as np\n",
    "import matplotlib.pyplot as plt\n",
    "from scipy.stats import norm, multivariate_normal \n",
    "from scipy.stats import norm\n",
    "import Algoritmosnumericos as Alg\n",
    "plt.style.use('dark_background')\n",
    "#%matplotlib widget\n",
    "#%config InlineBackend.figure_format = 'retina'\n",
    "import math\n",
    "from math import factorial as fac\n",
    "import random"
   ]
  },
  {
   "cell_type": "code",
   "execution_count": 8,
   "metadata": {
    "ExecuteTime": {
     "end_time": "2022-05-18T01:19:19.352752Z",
     "start_time": "2022-05-18T01:19:19.346750Z"
    }
   },
   "outputs": [],
   "source": [
    "def hipotesis(n, μ, σ, μh, α):\n",
    "    # Normalizamos por comodidad para una distribución normal estandar y hallamos el valor absoluto del estádistico de prueba\n",
    "    z = abs(μh-μ)*(np.sqrt(n))*(1/σ)\n",
    "    # Hecho lo  anterior hallamos la mitad de p\n",
    "    p = 1-norm.cdf(z)\n",
    "    # Realizamos la prueba de hipotésis\n",
    "    if(2*p < α):\n",
    "        print('p: ', 2*p)\n",
    "        print(False)\n",
    "    else:\n",
    "        print('p: ', 2*p)\n",
    "        print(True)"
   ]
  },
  {
   "cell_type": "markdown",
   "metadata": {
    "id": "TtDSGwXXOzhk"
   },
   "source": [
    "## Problema 1\n",
    "\n",
    "Resolver los siguientes problemas con 30000 pasos de MonteCarlo. Además planteé la ecuación que resuelve el problema\n",
    "\n",
    "a) Un examen de opción múltiple contiene 30 preguntas, cada una con cinco respuestas posibles. Supongase que el estudiante sólo adivina las respuestas. ¿Cuál es la probabilidad de que el estudiante conteste de manera correcta más de 20 preguntas? \n",
    "\n",
    "b) En una central teléfonica se reciben llamadas según las leyes de un proceso de Poisson, con un promedio de diez llamadas por hora, ¿Cuál es la probabilidad de que ninguna llamada sea recibida entre las 8am y las 12 del medio día?"
   ]
  },
  {
   "cell_type": "markdown",
   "metadata": {
    "id": "7xE2bIxWNz14"
   },
   "source": [
    "Punto a)\n",
    "\n",
    "Se tiene la ecuación para una distribución binomial como:\n",
    "$$P(x)= \\frac{n!}{x!(n-x)!} p^{x}q^{n-x}$$\n",
    "Donde:\n",
    "- n es es el número de muestras (n = 30)\n",
    "- x es la variable aleatoria\n",
    "- p es la probabilidad de exito (p = 1/5 = 0.2)\n",
    "- q es la probabilidad de fracaso (q = 1 - 0.2 = 0.8)\n",
    "\n",
    "Así, la función que se utilizará es:\n",
    "$$P(x)= \\frac{30!}{x!(30-x)!} 0.2^{x}0.8^{30-x}$$\n",
    "\n",
    "Y para utilizar el método de monte carlo, se tomarán como límites desde 21 hasta 30 porque en el problema se especifica 'la probabilidad de que sea mayor a 20 el número de preguntas acertadas'"
   ]
  },
  {
   "cell_type": "code",
   "execution_count": 9,
   "metadata": {
    "ExecuteTime": {
     "end_time": "2022-05-18T01:19:19.735781Z",
     "start_time": "2022-05-18T01:19:19.376755Z"
    },
    "run_control": {
     "marked": false
    }
   },
   "outputs": [
    {
     "name": "stdout",
     "output_type": "stream",
     "text": [
      "La probabilidad de que el estudiante conteste de manera correcta más de 20 preguntas es aproximadamente 4.409260244002287e-09\n"
     ]
    }
   ],
   "source": [
    "#Límites\n",
    "LimInferior = 21\n",
    "LimSuperior = 30\n",
    "#Función de integración. n= 30 x = variable aleatoria p = 0.2, q = 0.8\n",
    "def f(x):\n",
    "    return (fac(30)/(fac(x)*fac(30 - x)))*math.pow(0.2, x)*math.pow(0.8, 30 - x)\n",
    "#MonteCarlo\n",
    "def MonteCarlo(LimInferior, LimSuperior, Muestras):\n",
    "    suma = 0\n",
    "    for i in range(Muestras):\n",
    "        suma += f(int(LimInferior + (LimSuperior-LimInferior)*np.random.uniform(0,1,1)))\n",
    "    return ((LimSuperior-LimInferior)/Muestras)*suma\n",
    "#Solución\n",
    "Dist_Binomial = MonteCarlo(LimInferior, LimSuperior, 30000)\n",
    "print(f'La probabilidad de que el estudiante conteste de manera correcta más de 20 preguntas es aproximadamente {Dist_Binomial}')"
   ]
  },
  {
   "cell_type": "markdown",
   "metadata": {},
   "source": [
    "Punto b)\n",
    "\n",
    "Para este punto se pide la probabilidad de que en una central telefónica ninguna llamada sea recibida entre las 8 y las 12. Se hará en dos partes: la primera, por medio de montecarlo con distribución de poisson y la segunda, con la función de distribución de poisson:\n",
    "\n",
    "$$P(x)= \\frac{e^{-\\lambda }\\lambda ^{x}}{x!}$$\n",
    "\n",
    "Donde:\n",
    "- Lambda es el promedio por unidad de tiempo (lambda = 10 llamadas / hora), sin embargo, se tomarán cuatro horas, por tanto lambda cambia de 10 a 40 llamadas por hora.\n",
    "- x es la variable aleatoria, o en este caso cero."
   ]
  },
  {
   "cell_type": "code",
   "execution_count": 10,
   "metadata": {
    "ExecuteTime": {
     "end_time": "2022-05-18T01:19:19.752784Z",
     "start_time": "2022-05-18T01:19:19.737782Z"
    }
   },
   "outputs": [
    {
     "name": "stdout",
     "output_type": "stream",
     "text": [
      "La probabilidad de que entre las 8 y las 12 no se reciban llamadas, por el método 1, es de 0.0\n"
     ]
    }
   ],
   "source": [
    "# Primera parte\n",
    "dist_poisson = np.random.poisson(40, 30000)\n",
    "Probabilidad = 0\n",
    "for value in dist_poisson:\n",
    "    if value == 0:\n",
    "        Probabilidad += 1\n",
    "        \n",
    "Probabilidad = Probabilidad / len(dist_poisson)\n",
    "\n",
    "print(f'La probabilidad de que entre las 8 y las 12 no se reciban llamadas, por el método 1, es de {Probabilidad}')"
   ]
  },
  {
   "cell_type": "code",
   "execution_count": 11,
   "metadata": {
    "ExecuteTime": {
     "end_time": "2022-05-18T01:19:19.759782Z",
     "start_time": "2022-05-18T01:19:19.753782Z"
    }
   },
   "outputs": [
    {
     "name": "stdout",
     "output_type": "stream",
     "text": [
      "La probabilidad de que entre las 8 y las 12 no se reciban llamadas, por el método 2, es de 4.248354255291598e-18\n"
     ]
    }
   ],
   "source": [
    "# Segunda parte \n",
    "\n",
    "lambda_pss = 40\n",
    "equis = 0\n",
    "probabilidad = (math.pow(math.e, - lambda_pss)*(math.pow(lambda_pss, equis)))/fac(equis)\n",
    "\n",
    "print(f'La probabilidad de que entre las 8 y las 12 no se reciban llamadas, por el método 2, es de {probabilidad}')"
   ]
  },
  {
   "cell_type": "markdown",
   "metadata": {},
   "source": [
    "Conclusión:\n",
    "\n",
    "Por medio del método 1 no se consigue una buena estimación de la probabilidad porque python arroja cero inmediatamente, por otro lado, el método 2 el cuál es analítico brinda una mejor probabilidad, la cual tiende a un orden de a la menos 18."
   ]
  },
  {
   "cell_type": "markdown",
   "metadata": {
    "id": "xLdV95A5DY-l"
   },
   "source": [
    "## Problema 2\n",
    "\n",
    "Considere las dos caracteristicas \"Alcohol level\" y \"Alcalinity level\" del conjunto de datos [wine_data](https://scikit-learn.org/stable/modules/generated/sklearn.datasets.load_wine.html). Pueden usar el notebook que vimos en clase la referencia es el siguiente curso. \n",
    "[Machine Learning Fundamentals UC San Diego](https://www.edx.org/es/course/machine-learning-fundamentals-2)"
   ]
  },
  {
   "cell_type": "code",
   "execution_count": 12,
   "metadata": {
    "ExecuteTime": {
     "end_time": "2022-05-18T01:19:19.773782Z",
     "start_time": "2022-05-18T01:19:19.761785Z"
    },
    "colab": {
     "base_uri": "https://localhost:8080/"
    },
    "id": "WK56oFi5BHMz",
    "outputId": "666d1e99-438c-421f-b483-c1ee92ea8b0b"
   },
   "outputs": [],
   "source": [
    "from sklearn.datasets import load_wine\n",
    "import scipy.stats\n",
    "alcohol_levels = load_wine()['data'][:, [0]].ravel()\n",
    "alcalinity_levels = load_wine()['data'][:, [3]].ravel()"
   ]
  },
  {
   "cell_type": "markdown",
   "metadata": {
    "id": "w9TDfMOMGC--"
   },
   "source": [
    "a) A partir de esas dos caracteristicas del vino, calcule el vector $\\vec{\\mu}$ y la matrix de covarianza $\\Sigma$, \n",
    "\n",
    "$$\n",
    "\\vec{\\mu} = \\begin{bmatrix}\n",
    "\\mu_x\\\\\n",
    "\\mu_y\n",
    "\\end{bmatrix}, \\quad \\Sigma = \\begin{bmatrix}\n",
    "\\text{Var}(x) & \\text{Cov}(x, y)\\\\\n",
    "\\text{Cov}(y, x) & \\text{Var}(y)\n",
    "\\end{bmatrix}\n",
    "$$"
   ]
  },
  {
   "cell_type": "code",
   "execution_count": 13,
   "metadata": {
    "ExecuteTime": {
     "end_time": "2022-05-18T01:19:19.782784Z",
     "start_time": "2022-05-18T01:19:19.774785Z"
    },
    "colab": {
     "base_uri": "https://localhost:8080/"
    },
    "id": "RMVO6JheB4L1",
    "outputId": "c1cb149c-afcd-4b58-fb0c-cf3801a08ee9"
   },
   "outputs": [
    {
     "name": "stdout",
     "output_type": "stream",
     "text": [
      "Vector promedio:\n",
      "\n",
      "[13.000618, 19.494944]\n",
      "-----------------------\n",
      "\n",
      "Vector covarianza:\n",
      "\n",
      "[0.659062, -0.841093]\n",
      "[-0.841093, 11.152686]\n"
     ]
    },
    {
     "data": {
      "text/plain": [
       "' '"
      ]
     },
     "execution_count": 13,
     "metadata": {},
     "output_type": "execute_result"
    }
   ],
   "source": [
    "## Tu codigo aqui\n",
    "mu = [[np.mean(alcohol_levels),np.mean(alcalinity_levels)]]\n",
    "covar = np.cov(alcohol_levels,alcalinity_levels).tolist()\n",
    "print('Vector promedio:')\n",
    "print('')\n",
    "Alg.print_matriz(mu)\n",
    "print('-----------------------')\n",
    "print('')\n",
    "print('Vector covarianza:')\n",
    "print('')\n",
    "Alg.print_matriz(covar)"
   ]
  },
  {
   "cell_type": "markdown",
   "metadata": {
    "id": "wgwnS3uQHY0l"
   },
   "source": [
    "b) A partir del la matriz de covarianza dibuje los puntos y la gaussiana bivariada, con las curvas de nivel.\n",
    "\n",
    "El resultado se tiene que ver como lo siguiente, \n",
    "\n",
    "![](https://raw.githubusercontent.com/diegour1/MetodosComputacionales1/main/DataFiles/image11.png)"
   ]
  },
  {
   "cell_type": "code",
   "execution_count": 14,
   "metadata": {
    "ExecuteTime": {
     "end_time": "2022-05-18T01:19:20.221819Z",
     "start_time": "2022-05-18T01:19:19.784786Z"
    },
    "run_control": {
     "marked": true
    }
   },
   "outputs": [
    {
     "data": {
      "image/png": "[encoded data removed]",
      "text/plain": [
       "<Figure size 432x288 with 1 Axes>"
      ]
     },
     "metadata": {
      "needs_background": "dark"
     },
     "output_type": "display_data"
    }
   ],
   "source": [
    "x,y=np.mgrid[10:16:.01,5:35:.01]\n",
    "pos=np.dstack((x, y))\n",
    "rv=multivariate_normal(mu[0],covar)\n",
    "fig2=plt.figure()\n",
    "ax2=fig2.add_subplot(111)\n",
    "ax2.contour(x, y, rv.pdf(pos), [2.78546789e-03, 9.8965346e-03, 2.89565538e-02],colors='red')\n",
    "ax2.plot(alcohol_levels,alcalinity_levels,\"o\")\n",
    "plt.show()"
   ]
  },
  {
   "cell_type": "markdown",
   "metadata": {
    "id": "QQ703UhFHr4F"
   },
   "source": [
    "c) Diagonalice la matriz de covarianza, es decir obtenga los valores propios y vectores propios de la matriz de covarianza"
   ]
  },
  {
   "cell_type": "code",
   "execution_count": 15,
   "metadata": {
    "ExecuteTime": {
     "end_time": "2022-05-18T01:19:20.236820Z",
     "start_time": "2022-05-18T01:19:20.223820Z"
    },
    "colab": {
     "base_uri": "https://localhost:8080/"
    },
    "id": "U6Vv9XzwStEg",
    "outputId": "12afb1b5-e652-480e-92bc-1409b0dc8322"
   },
   "outputs": [
    {
     "name": "stdout",
     "output_type": "stream",
     "text": [
      "eig vectores:\n",
      " \n",
      "[[-0.9968434   0.07939293]\n",
      " [-0.07939293 -0.9968434 ]]\n",
      "----------------------------------------------------------------------------------------------------\n",
      "eig valores:\n",
      " \n",
      "[ 0.59207404 11.21967444]\n",
      "\n",
      "####################################################################################################\n",
      " \n",
      "Utilizando Gram SchmidhSchmidt: \n",
      "\n",
      "[-0.996843, 0.079393]\n",
      "[-0.079393, -0.996843]\n",
      "\n",
      "Matriz diagonal de valores propios\n",
      "[0.592074, 0.0]\n",
      "[0.0, 11.219674]\n"
     ]
    },
    {
     "data": {
      "text/plain": [
       "' '"
      ]
     },
     "execution_count": 15,
     "metadata": {},
     "output_type": "execute_result"
    }
   ],
   "source": [
    "# Tu codigo aquí\n",
    "eig_vals,eig_vecs=np.linalg.eig(covar)\n",
    "print('eig vectores:')\n",
    "print(' ')\n",
    "print(eig_vecs)\n",
    "print(100*'-')\n",
    "print('eig valores:')\n",
    "print(' ')\n",
    "print(eig_vals)\n",
    "\n",
    "eig_vecs=Alg.gram_schmidt(eig_vecs)\n",
    "diag=np.diag(eig_vals)\n",
    "print('')\n",
    "print(100*'#')\n",
    "print(' ')\n",
    "print('Utilizando Gram SchmidhSchmidt: ')\n",
    "print('')\n",
    "Alg.print_matriz(eig_vecs)\n",
    "print('')\n",
    "print('Matriz diagonal de valores propios')\n",
    "Alg.print_matriz(diag)\n",
    "\n"
   ]
  },
  {
   "cell_type": "markdown",
   "metadata": {
    "id": "0NbXN5dXIjnT"
   },
   "source": [
    "d) A partir de los vectores propios y valores propios de la matriz, y el vector $\\vec{\\mu}$.\n",
    "\n",
    "*   Desplace los datos de forma que el promedio de los datos en juntas coordenadas sea cero.\n",
    "*   Rote los datos de forma que la covarianza de los datos sea cero.\n",
    "*   Gráfique la gaussiana de los nuevos datos rotados con sus curvas de nivel, a partir de la diagonzalización de la matrix de covarianza original (parte c). No volver a usar la función `np.cov()` de numpy.\n",
    "\n",
    "Una rotación de puntos en dos dimensiones se puede ver como una matriz de la forma,\n",
    "\n",
    "$$\n",
    "\\text{Rot}(\\theta) = \\begin{bmatrix}\n",
    "\\cos{\\theta} & -\\sin{\\theta}\\\\\n",
    "\\sin{\\theta} & \\cos{\\theta}\n",
    "\\end{bmatrix}\n",
    "$$\n",
    "\n",
    "La gráfica se debe ver como lo siguiente,\n",
    "\n",
    "![](https://raw.githubusercontent.com/diegour1/MetodosComputacionales1/main/DataFiles/image12.png)"
   ]
  },
  {
   "cell_type": "markdown",
   "metadata": {},
   "source": [
    "La idea es expresar los datos a través de una base tal que la covarianza sea 0(y automáticamente la inversa de la covarianza sea una matriz diagonal).\n",
    "\n",
    "Haciendo lo anterior se puede demostrar que la gráfica resultante no tendrá ''rotación asociada'' ya que:(D es la inversa de la nueva matriz de covarianza, además D es diagonal;adicionalmante $\\bar{x}=(x,y)$ **expresado en la nueva base**)\n",
    "\n",
    "$$(\\bar{x}-\\mu)^{T} D (\\bar{x}-\\mu)=ax^2+by^{2}$$\n",
    "\n",
    "Que se cumpla lo anterior significa que la función multivariada no tendrá rotación asociada a ningún eje.\n",
    "\n",
    "\n",
    "Por otro lado ya diagonalizamos la matriz $\\Sigma$ por ende tenemos:\n",
    "\n",
    "D=matriz diagonal de valores propios\n",
    "\n",
    "A=matriz de vectores propios\n",
    "\n",
    "$$D=A^{-1}\\Sigma A=$$ como la matriz A es una matriz unitaria(Recuerde que $\\Sigma$ es simétrica, por lo tanto es diagonalizable ortogonalmente o equivalentemente se puede encontrar una matriz de vectores propios A, tal que esa matriz sea unitaria) \n",
    "\n",
    "$$D=A^{T}\\Sigma A$$\n",
    "\n",
    "Sacando inversa a ambos lados nos queda\n",
    "\n",
    "$$D^{-1}=D'=A^{T}\\Sigma ^{-1} A$$\n",
    "\n",
    "Por ende $\\Sigma ^{-1}$ tambien es diagonalizable ortogonalmente y debido a que D es diagonal su inversa es una matriz diagonal donde sus entradas son los recíprocos de las entradas diagonales de A.\n",
    "\n",
    "La nueva matriz de covarianza sería D, sin embargo sabemos por álgebra lineal que esta matriz de covarianza está asociada a la nueva base A, me explico:\n",
    "\n",
    "Si vemos a la nueva varianza como una transformación lineal, notamos que esta misma está asociada como una transformación de la nueva base a la nueva base, por ende en la ecuación de la distribución multinormal debemos expresar los datos en la nueva base ortonormal.\n",
    "\n",
    "\n",
    "Por ende tenemos que cambiar de base a cada punto experimental, esto se hace multiplicando cada vector de datos por $A^{-1}=A^{T}$"
   ]
  },
  {
   "cell_type": "code",
   "execution_count": 16,
   "metadata": {
    "ExecuteTime": {
     "end_time": "2022-05-18T01:19:20.582845Z",
     "start_time": "2022-05-18T01:19:20.238819Z"
    }
   },
   "outputs": [
    {
     "data": {
      "image/png": "[encoded data removed]",
      "text/plain": [
       "<Figure size 432x288 with 1 Axes>"
      ]
     },
     "metadata": {
      "needs_background": "dark"
     },
     "output_type": "display_data"
    },
    {
     "name": "stdout",
     "output_type": "stream",
     "text": [
      "Las 2 nuevas características( o bases) serían: \n",
      " \n",
      "Nueva base en x,  [[-0.9968433994903422, -0.0793929272198599]]\n",
      "Nueva base en y,  [[0.0793929272198599, -0.9968433994903422]]\n",
      "Nueva matriz covarianza,  [[ 0.59207404  0.        ]\n",
      " [ 0.         11.21967444]]\n"
     ]
    }
   ],
   "source": [
    "alcohol_levels=alcohol_levels-mu[0][0]\n",
    "alcalinity_levels=alcalinity_levels-mu[0][1]\n",
    "def newdata(x,y):\n",
    "    xnew=[]\n",
    "    ynew=[]\n",
    "    aux=None\n",
    "    for i in range(len(x)):\n",
    "        aux=Alg.producto(Alg.transpuesta(eig_vecs),[[x[i],y[i]]])\n",
    "        xnew.append(aux[0][0])\n",
    "        ynew.append(aux[0][1])\n",
    "    return xnew,ynew\n",
    "newdata=newdata(alcohol_levels,alcalinity_levels)\n",
    "\n",
    "x,y=np.mgrid[-2.5:3.0:.01,-10:12.5:.01]\n",
    "pos=np.dstack((x, y))\n",
    "rv=multivariate_normal([0,0],diag)\n",
    "fig2=plt.figure()\n",
    "ax2=fig2.add_subplot(111)\n",
    "ax2.contour(x, y, rv.pdf(pos), [0.0033,0.00951,0.0237],colors='red')\n",
    "ax2.plot(newdata[0],newdata[1],\"o\")\n",
    "ax2.set_xlabel('Nueva base x')\n",
    "ax2.set_ylabel('Nueva base y')\n",
    "ax2.set_title('Datos')\n",
    "\n",
    "plt.show()\n",
    "print('Las 2 nuevas características( o bases) serían: ')\n",
    "print(' ')\n",
    "print('Nueva base en x, ',Alg.columnaj(eig_vecs,0))\n",
    "print('Nueva base en y, ',Alg.columnaj(eig_vecs,1))\n",
    "print('Nueva matriz covarianza, ',diag)"
   ]
  },
  {
   "cell_type": "markdown",
   "metadata": {
    "id": "rmMGythIMLDN"
   },
   "source": [
    "Nota: Las coordenadas de los nuevos datos se llaman Componentes principales, lo que hicimos fue basicamente el método PCA, el cual permite reducir la dimensionalidad de los datos, ignorando las componentes menos importantes."
   ]
  },
  {
   "cell_type": "markdown",
   "metadata": {
    "id": "Haqd76Hlz2V6"
   },
   "source": [
    "## Problema 3\n",
    "\n",
    "Un método para medir el nivel de pH de una solución resulta en una medición con un valor que está distribuido de forma normal con un promedio igual al nivel de pH y una desviación estándar de 0.05. Un ingeniero ambiental afirma que las dos soluciones vienen de la misma fuente. Si esta hipótesis fuera correcta entonces el nivel de pH de las soluciones sería igual. Para probar la veracidad de esta afirmación se realizaron 10 mediciones independientes del nivel de pH de juntas soluciones, los datos son los siguientes.\n",
    "\n",
    "![](https://raw.githubusercontent.com/diegour1/MetodosComputacionales1/main/DataFiles/image10.png)\n",
    "\n",
    "1.   Calcule el $p$ value, guárdelo en la variable `p_value`.\n",
    "2.   Qué puede concluir con un level of significance de $\\alpha = 0.05$, guarde la conclusión en el string `conclusion`\n",
    "\n",
    "Incluya el siguiente `print` al final:\n",
    "\n",
    "```\n",
    "print(f\"p value = {p_value}, la conclusion es:  {conclusion}\")\n",
    "```\n",
    "\n",
    "\n",
    "\n"
   ]
  },
  {
   "cell_type": "markdown",
   "metadata": {},
   "source": [
    "La idea es a través de la prueba de hipótesis validar si la resta entre las 2 distribuciones tiene promedio 0. Para eso restamos A de B y estimamos los parámetros faltantes con esta información. \n",
    "\n",
    "De manera análoga calculcamos la desviación estandar de una resta que seria la raiz cuadrada de las sumas de las desviaciones estandar al cuadrado, como tienen la misma desviación sería $\\sqrt{2}\\sigma$ donde sigma es la desviación estandar"
   ]
  },
  {
   "cell_type": "code",
   "execution_count": 17,
   "metadata": {
    "ExecuteTime": {
     "end_time": "2022-05-18T01:19:20.591845Z",
     "start_time": "2022-05-18T01:19:20.584848Z"
    }
   },
   "outputs": [],
   "source": [
    "def hipotesis(n, μ, σ, μh, α):\n",
    "    # Normalizamos por comodidad para una distribución normal estandar y hallamos el valor absoluto del estádistico de prueba\n",
    "    z = abs(μh-μ)*(np.sqrt(n))*(1/σ)\n",
    "    # Hecho lo  anterior hallamos la mitad de p\n",
    "    p = 2*(1-norm.cdf(z))\n",
    "    # Realizamos la prueba de hipotésis\n",
    "    if(p < α):\n",
    "        print('p: ', p)\n",
    "        print(False)\n",
    "    else:\n",
    "        print('p: ', p)\n",
    "        print(True)"
   ]
  },
  {
   "cell_type": "code",
   "execution_count": 18,
   "metadata": {
    "ExecuteTime": {
     "end_time": "2022-05-18T01:19:20.600846Z",
     "start_time": "2022-05-18T01:19:20.594847Z"
    }
   },
   "outputs": [
    {
     "name": "stdout",
     "output_type": "stream",
     "text": [
      "p:  0.42082864053497304\n",
      "True\n"
     ]
    }
   ],
   "source": [
    "A = [6.24, 6.31, 6.28, 6.30, 6.25, 6.26, 6.24, 6.29, 6.22, 6.28]\n",
    "B = [6.27, 6.25, 6.33, 6.27, 6.24, 6.31, 6.28, 6.29, 6.34, 6.27]\n",
    "C = np.array(B)-np.array(A)\n",
    "n, μ, σ, μh, α = len(C), np.mean(C), np.sqrt(2)*0.05, 0, 0.05\n",
    "hipotesis(n, μ, σ, μh, α)"
   ]
  }
 ],
 "metadata": {
  "colab": {
   "name": "Taller6MC.ipynb",
   "provenance": []
  },
  "hide_input": false,
  "interpreter": {
   "hash": "66f804da07f0f556d77bc3269dc5bb19edf020422864031af2885e5ff55f9079"
  },
  "kernelspec": {
   "display_name": "Python 3.10.4 64-bit (windows store)",
   "language": "python",
   "name": "python3"
  },
  "language_info": {
   "codemirror_mode": {
    "name": "ipython",
    "version": 3
   },
   "file_extension": ".py",
   "mimetype": "text/x-python",
   "name": "python",
   "nbconvert_exporter": "python",
   "pygments_lexer": "ipython3",
   "version": "3.10.4"
  },
  "nbTranslate": {
   "displayLangs": [
    "*"
   ],
   "hotkey": "alt-t",
   "langInMainMenu": true,
   "sourceLang": "en",
   "targetLang": "fr",
   "useGoogleTranslate": true
  },
  "toc": {
   "base_numbering": 1,
   "nav_menu": {},
   "number_sections": false,
   "sideBar": true,
   "skip_h1_title": false,
   "title_cell": "Table of Contents",
   "title_sidebar": "Contents",
   "toc_cell": false,
   "toc_position": {},
   "toc_section_display": true,
   "toc_window_display": true
  },
  "varInspector": {
   "cols": {
    "lenName": 16,
    "lenType": 16,
    "lenVar": 40
   },
   "kernels_config": {
    "python": {
     "delete_cmd_postfix": "",
     "delete_cmd_prefix": "del ",
     "library": "var_list.py",
     "varRefreshCmd": "print(var_dic_list())"
    },
    "r": {
     "delete_cmd_postfix": ") ",
     "delete_cmd_prefix": "rm(",
     "library": "var_list.r",
     "varRefreshCmd": "cat(var_dic_list()) "
    }
   },
   "types_to_exclude": [
    "module",
    "function",
    "builtin_function_or_method",
    "instance",
    "_Feature"
   ],
   "window_display": false
  }
 },
 "nbformat": 4,
 "nbformat_minor": 1
}
