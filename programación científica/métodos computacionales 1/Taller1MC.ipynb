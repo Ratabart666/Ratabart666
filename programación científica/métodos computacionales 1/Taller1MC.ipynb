{
 "cells": [
  {
   "cell_type": "markdown",
   "metadata": {
    "id": "0Z8Dn_z6Mb9b"
   },
   "source": [
    "# Taller 1\n",
    "\n",
    "## Métodos Computacionales 1 2022-10\n",
    "\n",
    "Instrucciones: Suba el jupyter notebook **.ipynb** en la actividad de bloque neon. El archivo debe ser nombrado ApellidoNombre_ApellidoNombre_Taller1.ipynb. **El archivo debe poder correr en el binder de la magistral** \n",
    "\n",
    "Si un ejercicio demora **más de 10 segundos** en correr se considerará **incorrecto**.\n",
    "\n",
    "No modifique el cuaderno, ni los casos de prueba, puede correr los casos de prueba pero no modificarlos.\n",
    "\n",
    "**Entrega: Martes 8 de Febrero 11:59 pm**"
   ]
  },
  {
   "cell_type": "markdown",
   "metadata": {
    "id": "xLdV95A5DY-l"
   },
   "source": [
    "## Problema 1\n",
    "\n",
    "Convierta una fecha de un formato a otro.\n",
    "Usted recibe un string de una fecha debe convertir la fecha a otro string. Revise los casos de prueba como ejemplos. Guarde el string en la variable $\\verb+date_format2+$.\n",
    "\n",
    "**Entrada:** String Fecha Formato 1\n",
    "\n",
    "**Salida:** String Fecha Formato 2"
   ]
  },
  {
   "cell_type": "code",
   "execution_count": 3,
   "metadata": {
    "id": "qM64bLGFHt5W"
   },
   "outputs": [],
   "source": [
    "def date_converter(date: str) -> str:\n",
    "    '''\n",
    "      Input\n",
    "        date: String, fecha en formato 1\n",
    "      Returns\n",
    "        date: String, fecha en formato 2\n",
    "    '''\n",
    "    datelist = date.split('/')\n",
    "    # Extraemos los datos\n",
    "    day = datelist[0]\n",
    "    month = datelist[1]\n",
    "    year = datelist[2]\n",
    "    # Cambiamos el formato del dia\n",
    "    if day[0] == '0':\n",
    "        day = day[1]\n",
    "    # Cambiamos el formato del mes\n",
    "    dictmonth = {'01': 'January', '02': 'February', '03': 'March',\n",
    "                 '04': 'April', '05': 'May', '06': 'June',\n",
    "                 '07': 'July', '08': 'August', '09': 'September',\n",
    "                 '10': 'October', '11': 'November', '12': 'December'}\n",
    "    month = dictmonth[month]\n",
    "    # Juntamos todo\n",
    "    date_new = day+str(' ')+month+str(' ')+year+str(' ')+'year'\n",
    "    return date_new"
   ]
  },
  {
   "cell_type": "code",
   "execution_count": 4,
   "metadata": {
    "colab": {
     "base_uri": "https://localhost:8080/"
    },
    "id": "4MDp5_93JORP",
    "outputId": "d28ce001-c162-4904-ea92-218774aee6a8"
   },
   "outputs": [
    {
     "name": "stdout",
     "output_type": "stream",
     "text": [
      "Pasó las pruebas\n"
     ]
    }
   ],
   "source": [
    "def test_1():\n",
    "    assert date_converter(\"11/04/1812\") == \"11 April 1812 year\"\n",
    "    assert date_converter(\"09/07/1995\") == \"9 July 1995 year\"\n",
    "    assert date_converter(\"20/11/1990\") == \"20 November 1990 year\"\n",
    "    assert date_converter(\"01/01/2000\") == \"1 January 2000 year\"\n",
    "    print('Pasó las pruebas')\n",
    "\n",
    "\n",
    "test_1()"
   ]
  },
  {
   "cell_type": "markdown",
   "metadata": {
    "id": "TtDSGwXXOzhk"
   },
   "source": [
    "## Problema 2\n",
    "\n",
    "**Parte 1** (4 Puntos) Cree un programa, que resuelva el siguiente problema de tiro parabólico. Usted lanza una bola desde un edificio de altura $H$ que se encuentra en la cima de una montaña muy grande de inclinación constante igual a $\\alpha$ con respecto a la superficie horizontal, la velocidad inicial de la pelota es  $v$, calcule el ángulo $\\theta$ que se debe lanzar la pelota para que esta llegue lo más lejos posible en la dirección $x$ horizontal desde del punto de lanzamiento. La altura H, el angulo $\\alpha$ en grados con un decimal, y la velocidad $v$ se deben ingresar como entradas del programa en ese orden, primero altura, luego el ángulo y luego la velocidad, la salida es el ángulo de lanzamiento. El ángulo debe tener una exactitud de un decimal y debe estar reportado en grados. La altura se debe ingresar en m, el angulo de la montaña en grados y la velocidad en m/s, tome la gravedad igual a $9.8m/s^2$.\n",
    "\n",
    "![Imagen tiro Parabolico](https://raw.githubusercontent.com/diegour1/MetodosComputacionales1/main/DataFiles/image1.png)\n",
    "\n",
    "**Ejemplos:**\n",
    "\n",
    "print(max_angle(0, 0, 15)) -> 45.0\n",
    "\n",
    "print(max_angle(56, 15, 30)) -> 29.3\n",
    "\n",
    "print(max_angle(20, 67, 7)) -> 9.2"
   ]
  },
  {
   "cell_type": "markdown",
   "metadata": {
    "id": "0EiufNgQSZM0"
   },
   "source": [
    "**Parte 2** (1 Puntos) Resuelva analíticamente el problema. Incluya el archivo $\\verb+ApellidoNombre_ApellidoNombre_Ejercicio01.pdf+$ para la solución análitica."
   ]
  },
  {
   "cell_type": "code",
   "execution_count": 3,
   "metadata": {
    "ExecuteTime": {
     "end_time": "2022-04-09T21:40:10.465389Z",
     "start_time": "2022-04-09T21:40:10.451385Z"
    },
    "id": "fTjWYNpA08bn"
   },
   "outputs": [],
   "source": [
    "import numpy as np\n",
    "import matplotlib.pyplot as plt\n",
    "\n",
    "\n",
    "def alcanze(theta, height, alpha, vel):\n",
    "    '''\n",
    "      Input\n",
    "        theta: float, angulo de tiro respecto a la horizontal(grados)\n",
    "        heigth: float, altura del edificio(m)\n",
    "        alpha: float, angulo en grados de la montana con respecto \n",
    "        a la superficie horizontal(grados)\n",
    "        vel: float, velocidad inicial de la pelota(m/s)\n",
    "      Returns\n",
    "        theta_max : float, angulo maximo para alcanzar la distancia \n",
    "        maxima horizontal\n",
    "    '''\n",
    "    # Primero convertimos los ángulos a radianes ya que las funciones\n",
    "    # trigonométricas de np funcionan con radianes\n",
    "    theta = np.radians(theta)\n",
    "    alpha = np.radians(alpha)\n",
    "    g = 9.8  # m/s**2 #Gravedad del planeta tierra\n",
    "    # Hallamos con las variables dadas el alcanze x(Resolviendo la ecuación\n",
    "    # cuadrática, los coeficientes se muestran a continuación)\n",
    "    a = g\n",
    "\n",
    "    auxiliar = -2*((vel*np.cos(theta))**2)  # Factor común a (b) y a (c)\n",
    "\n",
    "    b = auxiliar*(np.tan(theta)+np.tan(alpha))\n",
    "\n",
    "    c = auxiliar*height\n",
    "\n",
    "    # Parte de la solución de la ecuación cuadrática, discriminante\n",
    "    raiz = ((b**2)-4*a*c)**(1/2)\n",
    "\n",
    "    x = (-b+raiz)/(2*a)  # Alcanze horizontal\n",
    "    return x\n",
    "\n",
    "\n",
    "def max_angle(height, alpha, vel):\n",
    "    '''\n",
    "      Input\n",
    "        heigth: float, altura del edificio(m)\n",
    "        alpha: float, angulo de la montana con respecto a la\n",
    "        superficie horizontal(grados)\n",
    "        vel: float, velocidad inicial de la pelota(m/s)\n",
    "      Returns\n",
    "        theta_max : float, angulo maximo para alcanzar la distancia maxima \n",
    "        horizontal(grados)\n",
    "    '''\n",
    "    max = [0, 0]  # Lista que contiene en el primer float el ángulo máximo\n",
    "    # y en el segundo el alcanze máximo correspondiente\n",
    "    # Con el siguiente algoritmo buscamos numericamente el ángulo que da el\n",
    "    # máximo alcanze con los parámetros dados\n",
    "    # (El resultado es dado con una cifra decimal)\n",
    "    for i in np.arange(0, 90, 0.1):\n",
    "\n",
    "        if (alcanze(i, height, alpha, vel)) > max[1]:\n",
    "            max[0] = i\n",
    "            max[1] = (alcanze(i, height, alpha, vel))\n",
    "    print('Para los valores de:')\n",
    "    print('altura edificio:', height, 'm')\n",
    "    print('angulo de la montaña:', alpha, 'grados')\n",
    "    print('Magnitud de la velocidad inicial:', vel, 'm/s')\n",
    "    print(' ')\n",
    "    aux1 = str(round(max[0], 2))\n",
    "    aux2 = str(' grados. Adicionalmente el alcanze máximo correspondiente es: ')\n",
    "    aux3 = str(round(max[1], 2))+str(' m')\n",
    "\n",
    "    return str('El ángulo que máxima el alcanze es: ')+aux1+aux2"
   ]
  },
  {
   "cell_type": "code",
   "execution_count": 6,
   "metadata": {
    "ExecuteTime": {
     "end_time": "2022-04-09T21:42:37.695937Z",
     "start_time": "2022-04-09T21:42:37.687241Z"
    }
   },
   "outputs": [],
   "source": [
    "def max_anglecomprobacion(height, alpha, vel):\n",
    "    '''\n",
    "      Input\n",
    "        heigth: float, altura del edificio(m)\n",
    "        alpha: float, angulo de la montana con respecto a la superficie\n",
    "        horizontal(grados)\n",
    "        vel: float, velocidad inicial de la pelota(m/s)\n",
    "      Returns\n",
    "        theta_max : float, angulo maximo para alcanzar la distancia maxima\n",
    "        horizontal(grados)\n",
    "    '''\n",
    "    max = [0, 0]  # Lista que contiene en el primer float el ángulo máximo\n",
    "    # y en el segundo el alcanze máximo correspondiente\n",
    "    # Con el siguiente algoritmo buscamos numericamente el ángulo que da\n",
    "    # el máximo alcanze con los parámetros dados\n",
    "    # (El resultado es dado con una cifra decimal)\n",
    "    for i in np.arange(0, 90, 0.1):\n",
    "        if (alcanze(i, height, alpha, vel)) > max[1]:\n",
    "            max[0] = i\n",
    "            max[1] = (alcanze(i, height, alpha, vel))\n",
    "\n",
    "    return round(max[0], 2)\n",
    "# Comprobación de los ejemplos\n",
    "\n",
    "\n",
    "def test_2():\n",
    "    assert max_anglecomprobacion(0, 0, 15) == 45.0\n",
    "    assert max_anglecomprobacion(56, 15, 30) == 29.3\n",
    "    assert max_anglecomprobacion(20, 67, 7) == 9.2\n",
    "    print('El archivo corre perfectamente.')"
   ]
  },
  {
   "cell_type": "code",
   "execution_count": 7,
   "metadata": {
    "ExecuteTime": {
     "end_time": "2022-04-09T21:42:43.794115Z",
     "start_time": "2022-04-09T21:42:43.742941Z"
    },
    "id": "XncAaDyD48tC"
   },
   "outputs": [
    {
     "name": "stdout",
     "output_type": "stream",
     "text": [
      "Para los valores de:\n",
      "altura edificio: 10 m\n",
      "angulo de la montaña: 0 grados\n",
      "Magnitud de la velocidad inicial: 5 m/s\n",
      " \n",
      "El ángulo que máxima el alcanze es: 18.6 grados. Adicionalmente el alcanze máximo correspondiente es: \n",
      " \n",
      "---------------------------------------------------------------------\n",
      "Para los valores de:\n",
      "altura edificio: 20 m\n",
      "angulo de la montaña: 10 grados\n",
      "Magnitud de la velocidad inicial: 50 m/s\n",
      " \n",
      "El ángulo que máxima el alcanze es: 38.3 grados. Adicionalmente el alcanze máximo correspondiente es: \n",
      " \n",
      "---------------------------------------------------------------------\n",
      "Para los valores de:\n",
      "altura edificio: 15 m\n",
      "angulo de la montaña: 30 grados\n",
      "Magnitud de la velocidad inicial: 30 m/s\n",
      " \n",
      "El ángulo que máxima el alcanze es: 28.2 grados. Adicionalmente el alcanze máximo correspondiente es: \n"
     ]
    }
   ],
   "source": [
    "### No modifique los siguientes prints estos son para su evaluacion\n",
    "\n",
    "print(max_angle(10, 0, 5))\n",
    "print(' ')\n",
    "print('---------------------------------------------------------------------')\n",
    "print(max_angle(20, 10, 50))\n",
    "print(' ')\n",
    "print('---------------------------------------------------------------------')\n",
    "print(max_angle(15, 30, 30))\n",
    "\n",
    "\n"
   ]
  },
  {
   "cell_type": "markdown",
   "metadata": {},
   "source": [
    "# comprobacion experimental:\n"
   ]
  },
  {
   "cell_type": "markdown",
   "metadata": {},
   "source": [
    "#### hallando la velocidad inicial:"
   ]
  },
  {
   "cell_type": "code",
   "execution_count": 8,
   "metadata": {
    "ExecuteTime": {
     "end_time": "2022-04-09T21:42:54.830651Z",
     "start_time": "2022-04-09T21:42:54.823650Z"
    }
   },
   "outputs": [
    {
     "name": "stdout",
     "output_type": "stream",
     "text": [
      "La velocidad inicial es: 0.58 m/s\n"
     ]
    }
   ],
   "source": [
    "R = 0.2280  # m\n",
    "H = 0.7541  # m\n",
    "g = 9.8  # m/s**2\n",
    "v0 = R*((g/(2*H))**(1/2))\n",
    "print('La velocidad inicial es:', round(v0, 2), 'm/s')"
   ]
  },
  {
   "cell_type": "code",
   "execution_count": 10,
   "metadata": {
    "ExecuteTime": {
     "end_time": "2022-04-09T21:43:05.740896Z",
     "start_time": "2022-04-09T21:43:05.735033Z"
    }
   },
   "outputs": [
    {
     "name": "stdout",
     "output_type": "stream",
     "text": [
      "0.21 m\n"
     ]
    }
   ],
   "source": [
    "print(round(alcanze(0, 0.550, 19, v0), 2), 'm')"
   ]
  },
  {
   "cell_type": "markdown",
   "metadata": {},
   "source": [
    "El resultado experimental es 0.22m"
   ]
  },
  {
   "cell_type": "markdown",
   "metadata": {
    "id": "CkoXSN869-OF"
   },
   "source": [
    "## Problema 3\n",
    "\n",
    "Cada semana usted realiza una fiesta con sus amigos. A veces se reúnen en un bar los viernes, o salen de la ciudad los sábados. Usted quiere simplificar el proceso de reunir a las personas y por lo cual decide crear un programa que automatice el proceso. \n",
    "\n",
    "Usted debe crear la clase ```Party(place)``` la cual envía invitaciones a todos sus amigos. También debe crear la clase ```Friend``` y cada amigo debe ser una instancia de esta clase. A veces el círculo de amigos cambia - hay nuevos amigos, algunos amigos desaparecen de su vida (por ejemplo - se cambian de ciudad). Para crear las conexiones correctas usted debe crear la clase Party con los siguientes métodos:\n",
    "\n",
    "**add_friend((Friend(name)))** - agregar el 'friend' a la lista de 'observers' (la lista 'observers' son la gente que recibe una invitación cuando una fiesta es programada)\n",
    "\n",
    "**del_friend(friend)** - remover 'friend' de la lista 'observers'\n",
    "\n",
    "**send_invites()** - enviar las invitaciones con el día y hora a cada persona de la lista 'observers'\n",
    "\n",
    "La clase Friend debe tener el método **show_invite()** el cual retorna un string de la última invitación que la persona recibió con el lugar, el día y la hora. El lugar - es el 'place' el cual es dado a la instancia de Party en el momento de su creación. Si la persona no recibe ninguna invitación, ese método debe retornar - \"No party...\"\n",
    "\n",
    "En este problema usted puede usar el método de programación [Observer Design Pattern](https://en.wikipedia.org/wiki/Observer_pattern)\n",
    "\n",
    "**Entrada**: Los métodos de la Clase Party y Friend.\n",
    "\n",
    "**Salida**: String de la última invitación recibida por la persona.\n",
    "\n",
    "**Restricciones:** Los nombres de los amigos son todos diferentes.\n",
    " "
   ]
  },
  {
   "cell_type": "code",
   "execution_count": 11,
   "metadata": {
    "ExecuteTime": {
     "end_time": "2022-04-09T21:44:25.617170Z",
     "start_time": "2022-04-09T21:44:25.605271Z"
    },
    "id": "9TY11E0x9iou"
   },
   "outputs": [],
   "source": [
    "'''\n",
    "    clases: \n",
    "        Party\n",
    "            Atributos: lista de observers (amigos), place (lugar del encuentro)\n",
    "            Métodos:\n",
    "                ---> exist_friend. Compara si un nombre ya está incluido en\n",
    "                la lista de amigos.\n",
    "                        Parámetros: friend (objeto amigo)\n",
    "                        Retorno: boolean \n",
    "\n",
    "                ---> add_friend. utiliza el metodo exist_friend para añadir\n",
    "                o no al nuevo amigo.\n",
    "                        Parámetros: friend (objeto amigo)\n",
    "                        Retorno: none\n",
    "\n",
    "                ---> del_friend. Borra un amigo de la lista\n",
    "                        Parámetros: friend (objeto amigo)\n",
    "                        Retorno: none\n",
    "\n",
    "                ---> send_invites. Envía las notificaciones del encuentro\n",
    "                        Parámetros: friend (objeto amigo)\n",
    "                        Retorno: none      \n",
    "        Friend\n",
    "            Atributos: name (nombre del amigo)\n",
    "            Métodos:\n",
    "                ---> show_invite. Muestra la ultima invitación enviada, \n",
    "                si no hay muestra el mensaje \"No Party...\"\n",
    "                    Retorno: invitación (str)\n",
    "'''\n",
    "\n",
    "\n",
    "class Party:\n",
    "    def __init__(self, place):\n",
    "        self._observers = []\n",
    "        self._place = place\n",
    "\n",
    "    def exist_friend(self, friend):\n",
    "        for obs in self._observers:\n",
    "            if(obs.name == friend.name):\n",
    "                return True\n",
    "        return False\n",
    "\n",
    "    def add_friend(self, friend):\n",
    "        if(self.exist_friend(friend)):\n",
    "            print('No se puedo añadir')\n",
    "        else:\n",
    "            self._observers.append(friend)\n",
    "\n",
    "    def del_friend(self, friend):\n",
    "        self._observers.remove(friend)\n",
    "\n",
    "    def send_invites(self, date):\n",
    "        for obs in self._observers:\n",
    "            obs.invite = str(f\"{self._place}: {date}\")\n",
    "\n",
    "\n",
    "class Friend:\n",
    "    def __init__(self, name):\n",
    "        self.name = name\n",
    "        self.invite = \"\"\n",
    "\n",
    "    def show_invite(self):\n",
    "        if self.invite == \"\":\n",
    "            return \"No party...\"\n",
    "        else:\n",
    "            return self.invite"
   ]
  },
  {
   "cell_type": "code",
   "execution_count": 12,
   "metadata": {
    "ExecuteTime": {
     "end_time": "2022-04-09T21:44:27.279829Z",
     "start_time": "2022-04-09T21:44:27.270823Z"
    },
    "id": "HxDX4zTlH3z4"
   },
   "outputs": [
    {
     "name": "stdout",
     "output_type": "stream",
     "text": [
      "Pasó prueba 1\n"
     ]
    }
   ],
   "source": [
    "def test4a():\n",
    "    party = Party(\"Midnight Pub\")\n",
    "    nick = Friend(\"Nick\")\n",
    "    john = Friend(\"John\")\n",
    "    lucy = Friend(\"Lucy\")\n",
    "    chuck = Friend(\"Chuck\")\n",
    "\n",
    "    party.add_friend(nick)\n",
    "    party.add_friend(john)\n",
    "    party.add_friend(lucy)\n",
    "    party.send_invites(\"Friday, 9:00 PM\")\n",
    "    party.del_friend(nick)\n",
    "    party.send_invites(\"Saturday, 10:00 AM\")\n",
    "    party.add_friend(chuck)\n",
    "\n",
    "    assert john.show_invite() == \"Midnight Pub: Saturday, 10:00 AM\"\n",
    "    assert lucy.show_invite() == \"Midnight Pub: Saturday, 10:00 AM\"\n",
    "    assert nick.show_invite() == \"Midnight Pub: Friday, 9:00 PM\"\n",
    "    assert chuck.show_invite() == \"No party...\"\n",
    "    print(\"Pasó prueba 1\")\n",
    "\n",
    "\n",
    "test4a()"
   ]
  },
  {
   "cell_type": "code",
   "execution_count": 13,
   "metadata": {
    "ExecuteTime": {
     "end_time": "2022-04-09T21:44:28.643163Z",
     "start_time": "2022-04-09T21:44:28.636160Z"
    },
    "id": "vLpokbi3IZyj"
   },
   "outputs": [
    {
     "name": "stdout",
     "output_type": "stream",
     "text": [
      "Pasó prueba 2\n"
     ]
    }
   ],
   "source": [
    "def test4b():\n",
    "    party = Party(\"Karl`s home\")\n",
    "    jack = Friend('Jack McConnel')\n",
    "    bob = Friend('Bob Monteu')\n",
    "    mary = Friend('Mary Forest')\n",
    "    party.add_friend(jack)\n",
    "    party.add_friend(bob)\n",
    "    party.send_invites('Sunday, 11:30 AM')\n",
    "    party.add_friend(mary)\n",
    "\n",
    "    assert bob.show_invite() == \"Karl`s home: Sunday, 11:30 AM\"\n",
    "    assert mary.show_invite() == \"No party...\"\n",
    "    print(\"Pasó prueba 2\")\n",
    "\n",
    "\n",
    "test4b()"
   ]
  },
  {
   "cell_type": "code",
   "execution_count": 14,
   "metadata": {
    "ExecuteTime": {
     "end_time": "2022-04-09T21:44:29.912693Z",
     "start_time": "2022-04-09T21:44:29.904686Z"
    },
    "id": "asoLqV1HI8sL"
   },
   "outputs": [
    {
     "name": "stdout",
     "output_type": "stream",
     "text": [
      "Pasó prueba 3\n"
     ]
    }
   ],
   "source": [
    "def test4c():\n",
    "    party = Party(\"Miranda`s home\")\n",
    "    patrick = Friend('Patrick')\n",
    "    amanda = Friend('Amanda')\n",
    "    grace = Friend('Grace')\n",
    "    party.add_friend(patrick)\n",
    "    party.add_friend(amanda)\n",
    "    party.add_friend(grace)\n",
    "    party.send_invites('Friday, 19:00')\n",
    "\n",
    "    assert grace.show_invite() == \"Miranda`s home: Friday, 19:00\"\n",
    "    print(\"Pasó prueba 3\")\n",
    "\n",
    "\n",
    "test4c()"
   ]
  },
  {
   "cell_type": "code",
   "execution_count": 15,
   "metadata": {
    "ExecuteTime": {
     "end_time": "2022-04-09T21:44:30.901652Z",
     "start_time": "2022-04-09T21:44:30.890654Z"
    },
    "id": "omAANa7gKco9"
   },
   "outputs": [
    {
     "name": "stdout",
     "output_type": "stream",
     "text": [
      "Pasó prueba 4\n"
     ]
    }
   ],
   "source": [
    "def test4d():\n",
    "    party_1 = Party(\"Celentano\")\n",
    "    party_2 = Party(\"Itaka\")\n",
    "    party_3 = Party(\"Disneyland\")\n",
    "    john = Friend('John')\n",
    "    rose = Friend('Rose')\n",
    "    gabe = Friend('Gabe')\n",
    "    party_1.add_friend(john)\n",
    "    party_2.add_friend(rose)\n",
    "    party_3.add_friend(gabe)\n",
    "    party_1.send_invites('Friday, 18:45')\n",
    "    party_2.send_invites('Saturday, 12:30')\n",
    "    party_3.send_invites('Sunday, 10:00')\n",
    "\n",
    "    assert gabe.show_invite() == \"Disneyland: Sunday, 10:00\"\n",
    "    assert rose.show_invite() == \"Itaka: Saturday, 12:30\"\n",
    "    print(\"Pasó prueba 4\")\n",
    "\n",
    "\n",
    "test4d()"
   ]
  }
 ],
 "metadata": {
  "colab": {
   "name": "Taller1MC.ipynb",
   "provenance": []
  },
  "hide_input": false,
  "kernelspec": {
   "display_name": "Python 3 (ipykernel)",
   "language": "python",
   "name": "python3"
  },
  "language_info": {
   "codemirror_mode": {
    "name": "ipython",
    "version": 3
   },
   "file_extension": ".py",
   "mimetype": "text/x-python",
   "name": "python",
   "nbconvert_exporter": "python",
   "pygments_lexer": "ipython3",
   "version": "3.8.8"
  },
  "latex_envs": {
   "LaTeX_envs_menu_present": true,
   "autoclose": false,
   "autocomplete": true,
   "bibliofile": "biblio.bib",
   "cite_by": "apalike",
   "current_citInitial": 1,
   "eqLabelWithNumbers": true,
   "eqNumInitial": 1,
   "hotkeys": {
    "equation": "Ctrl-E",
    "itemize": "Ctrl-I"
   },
   "labels_anchors": false,
   "latex_user_defs": false,
   "report_style_numbering": false,
   "user_envs_cfg": false
  },
  "nbTranslate": {
   "displayLangs": [
    "*"
   ],
   "hotkey": "alt-t",
   "langInMainMenu": true,
   "sourceLang": "en",
   "targetLang": "fr",
   "useGoogleTranslate": true
  },
  "toc": {
   "base_numbering": 1,
   "nav_menu": {},
   "number_sections": true,
   "sideBar": true,
   "skip_h1_title": false,
   "title_cell": "Table of Contents",
   "title_sidebar": "Contents",
   "toc_cell": false,
   "toc_position": {},
   "toc_section_display": true,
   "toc_window_display": false
  },
  "varInspector": {
   "cols": {
    "lenName": 16,
    "lenType": 16,
    "lenVar": 40
   },
   "kernels_config": {
    "python": {
     "delete_cmd_postfix": "",
     "delete_cmd_prefix": "del ",
     "library": "var_list.py",
     "varRefreshCmd": "print(var_dic_list())"
    },
    "r": {
     "delete_cmd_postfix": ") ",
     "delete_cmd_prefix": "rm(",
     "library": "var_list.r",
     "varRefreshCmd": "cat(var_dic_list()) "
    }
   },
   "types_to_exclude": [
    "module",
    "function",
    "builtin_function_or_method",
    "instance",
    "_Feature"
   ],
   "window_display": false
  },
  "widgets": {
   "application/vnd.jupyter.widget-state+json": {
    "state": {},
    "version_major": 2,
    "version_minor": 0
   }
  }
 },
 "nbformat": 4,
 "nbformat_minor": 4
}
