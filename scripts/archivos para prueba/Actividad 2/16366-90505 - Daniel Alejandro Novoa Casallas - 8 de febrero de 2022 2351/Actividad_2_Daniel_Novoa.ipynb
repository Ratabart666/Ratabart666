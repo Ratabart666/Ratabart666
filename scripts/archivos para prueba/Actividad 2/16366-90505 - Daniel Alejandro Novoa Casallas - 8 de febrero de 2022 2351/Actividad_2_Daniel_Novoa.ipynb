{
 "cells": [
  {
   "cell_type": "code",
   "execution_count": 11,
   "id": "48d03c2c-2ec6-4780-84cc-986bab7f077f",
   "metadata": {},
   "outputs": [],
   "source": [
    "class difficult: #Se establece la clase (objeto) para la ejecución del código\n",
    "    def __init__(self, rea, ima): #Se define e inicializan los atributos del objeto que cree anteriormente\n",
    "        self.rea=rea #Se establen los parámetros del método para acceder a los métodos y atributos de las instancias\n",
    "        self.ima=ima\n",
    "    def suma(self,other,*args): #Se establece el método de suma\n",
    "        x = self.rea+other.rea #Creamos la variable x\n",
    "        y = self.ima+other.ima #Creamos la variable y\n",
    "        return f\"{x}+{y}i\" #Se establece el retorno con una cadena de texto con el método de f-string\n",
    "    def resta(self,other,*args): #Se establece el método de resta\n",
    "        w = self.rea-other.rea #Creamos la variable w\n",
    "        z = self.ima-other.ima #Creamos la variable z\n",
    "        return f\"{w}+{z}i\" #Se establece el retorno con una cadena de texto con el método de f-string\n",
    "    def imprimir(self):\n",
    "        return f\"(self.rea)+(self.ima)i\" #Se imprime la cadena de texto con\n",
    "    def multiplicación(self,other,*args):\n",
    "        v = (self.rea*other.rea)-(self.ima*other.ima) #(x+yi)(w+zi) = xw-yz\n",
    "        t = (self.rea*other.ima)+(self.ima*other.rea) #(x+yi)(w+zi) = (xz-yw)i\n",
    "        return f\"{v}+{t}i\"\n",
    "    def division(self,other,*args):\n",
    "        j = ((self.rea*other.rea)+(self.ima*other.ima))/((other.rea**2)+(other.ima**2)) #(x+yi)/(w+zi) = (xw+yz)/w^2 + z^2\n",
    "        q = ((self.ima*other.rea)-(self.rea*other.ima))/((other.rea**2)+(other.ima**2)) #(x+yi)/(w+zi) = ((yw-xz)/w^2 + z^2)i\n",
    "        return f\"{j}+{q}i\" #(x+yi)/(w+zi) = ((xw+yz)/w^2 + z^2) + ((yw-xz)/w^2 + z^2)i\n",
    "    \n",
    "        "
   ]
  },
  {
   "cell_type": "code",
   "execution_count": 12,
   "id": "b6b1596d-8c74-40c3-82f9-03d3da2b9e42",
   "metadata": {},
   "outputs": [
    {
     "data": {
      "text/plain": [
       "'5+5i'"
      ]
     },
     "execution_count": 12,
     "metadata": {},
     "output_type": "execute_result"
    }
   ],
   "source": [
    "z=difficult(2,1)\n",
    "z2=difficult(3,4)\n",
    "z.suma(z2)"
   ]
  },
  {
   "cell_type": "code",
   "execution_count": null,
   "id": "10c381f6-44b1-449a-b570-89c5af1f30db",
   "metadata": {},
   "outputs": [],
   "source": []
  }
 ],
 "metadata": {
  "kernelspec": {
   "display_name": "Python 3 (ipykernel)",
   "language": "python",
   "name": "python3"
  },
  "language_info": {
   "codemirror_mode": {
    "name": "ipython",
    "version": 3
   },
   "file_extension": ".py",
   "mimetype": "text/x-python",
   "name": "python",
   "nbconvert_exporter": "python",
   "pygments_lexer": "ipython3",
   "version": "3.7.12"
  }
 },
 "nbformat": 4,
 "nbformat_minor": 5
}
