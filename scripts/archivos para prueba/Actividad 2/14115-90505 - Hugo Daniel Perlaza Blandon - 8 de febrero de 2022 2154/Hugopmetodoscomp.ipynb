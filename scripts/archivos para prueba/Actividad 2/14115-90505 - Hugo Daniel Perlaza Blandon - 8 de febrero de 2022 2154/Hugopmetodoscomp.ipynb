{
 "cells": [
  {
   "cell_type": "code",
   "execution_count": 1,
   "id": "2bc0bb21-1a6a-430d-a57e-0d0ffc33ee3a",
   "metadata": {},
   "outputs": [],
   "source": [
    "class complej:\n",
    "    def __init__(self,real,imag):\n",
    "        self.real=real\n",
    "        self.imag=imag\n",
    "    def suma(self,other,*args):\n",
    "        a=self.real+other.real #(a+bi)+(c+di)->a+c\n",
    "        b=self.imag+other.imag #(a+bi)+(c+di)->(b+d)i\n",
    "        return f\"{a}+{b}i\" #(a+c)+(b+d)i\n",
    "    def resta(self,other,*args):\n",
    "        c=self.real-other.real #(a+bi)-(c+di)->a-c\n",
    "        d=self.imag-other.imag #(a+bi)-(c+di)->(b-d)i\n",
    "        return f\"{c}+{d}i\" #(a-c)+(b-d)i\n",
    "    def mult(self,other,*args):\n",
    "        e=(self.real*other.real)-(self.imag*other.imag) #(a+bi)(c+di)->ac-bd\n",
    "        f=(self.real*other.imag)+(self.imag*other.real) #(a+bi)(c+di)->(ad-bc)i\n",
    "        return f\"{e}+{f}i\" #(a+bi)(c+di)->(ac-bd)+(ad-bc)i\n",
    "    def divi(self,other,*args):\n",
    "        g=((self.real*other.real)+(self.imag*other.imag))/((other.real**2)+(other.imag**2)) #(a+bi)/(c+di)->(ac+bd)/c^2 + d^2\n",
    "        h=((self.imag*other.real)-(self.real*other.imag))/((other.real**2)+(other.imag**2)) #(a+bi)/(c+di)->((bc-ad)/c^2 + d^2)i\n",
    "        return f\"{g}+{h}i\" #(a+bi)/(c+di)->((ac+bd)/c^2 + d^2)+((bc-ad)/c^2 + d^2)i\n",
    "    def norma(self):\n",
    "        j=((self.real**2)+(self.imag**2))**(1/2) #|a+bi|->sqrt((a^2)+(b^2))\n",
    "        return j\n",
    "        "
   ]
  },
  {
   "cell_type": "code",
   "execution_count": 2,
   "id": "cb9202ea-ac63-4f8b-b70c-7997122523ae",
   "metadata": {},
   "outputs": [
    {
     "data": {
      "text/plain": [
       "'5+5i'"
      ]
     },
     "execution_count": 2,
     "metadata": {},
     "output_type": "execute_result"
    }
   ],
   "source": [
    "z1=complej(2,1)\n",
    "z2=complej(3,4)\n",
    "z1.suma(z2)"
   ]
  },
  {
   "cell_type": "code",
   "execution_count": 3,
   "id": "9b0860c0-83d9-40ee-97fb-0290598bac1e",
   "metadata": {},
   "outputs": [
    {
     "data": {
      "text/plain": [
       "'5+11i'"
      ]
     },
     "execution_count": 3,
     "metadata": {},
     "output_type": "execute_result"
    }
   ],
   "source": [
    "z1=complej(4,9)\n",
    "z2=complej(1,2)\n",
    "z1.suma(z2)"
   ]
  },
  {
   "cell_type": "code",
   "execution_count": 4,
   "id": "085b8b0b-eb11-419a-ad4b-9bbeadf5a450",
   "metadata": {},
   "outputs": [
    {
     "data": {
      "text/plain": [
       "'1+-2i'"
      ]
     },
     "execution_count": 4,
     "metadata": {},
     "output_type": "execute_result"
    }
   ],
   "source": [
    "z1=complej(5,2)\n",
    "z2=complej(4,4)\n",
    "z1.resta(z2)"
   ]
  },
  {
   "cell_type": "code",
   "execution_count": 5,
   "id": "96456953-0047-4532-b493-2925ca26fa55",
   "metadata": {},
   "outputs": [
    {
     "data": {
      "text/plain": [
       "'-1+7i'"
      ]
     },
     "execution_count": 5,
     "metadata": {},
     "output_type": "execute_result"
    }
   ],
   "source": [
    "z1=complej(9,8)\n",
    "z2=complej(10,1)\n",
    "z1.resta(z2)"
   ]
  },
  {
   "cell_type": "code",
   "execution_count": 6,
   "id": "f4a4a6b1-1d51-4d01-b0fc-a4e9d8db18cc",
   "metadata": {},
   "outputs": [
    {
     "data": {
      "text/plain": [
       "'2+11i'"
      ]
     },
     "execution_count": 6,
     "metadata": {},
     "output_type": "execute_result"
    }
   ],
   "source": [
    "z1=complej(2,1)\n",
    "z2=complej(3,4)\n",
    "z1.mult(z2)"
   ]
  },
  {
   "cell_type": "code",
   "execution_count": 7,
   "id": "709126e9-afd0-437f-93c1-c1b2d7a057f1",
   "metadata": {},
   "outputs": [
    {
     "data": {
      "text/plain": [
       "'31+24i'"
      ]
     },
     "execution_count": 7,
     "metadata": {},
     "output_type": "execute_result"
    }
   ],
   "source": [
    "z1=complej(7,2)\n",
    "z2=complej(5,2)\n",
    "z1.mult(z2)"
   ]
  },
  {
   "cell_type": "code",
   "execution_count": 8,
   "id": "08b7740a-5b6e-4510-bf1f-90226e1cfd48",
   "metadata": {},
   "outputs": [
    {
     "data": {
      "text/plain": [
       "'0.4+-0.2i'"
      ]
     },
     "execution_count": 8,
     "metadata": {},
     "output_type": "execute_result"
    }
   ],
   "source": [
    "z1=complej(2,1)\n",
    "z2=complej(3,4)\n",
    "z1.divi(z2)"
   ]
  },
  {
   "cell_type": "code",
   "execution_count": 9,
   "id": "5d463993-d4eb-4029-8a10-1aba8635d3ab",
   "metadata": {},
   "outputs": [
    {
     "data": {
      "text/plain": [
       "'1.0+0.0i'"
      ]
     },
     "execution_count": 9,
     "metadata": {},
     "output_type": "execute_result"
    }
   ],
   "source": [
    "z1=complej(6,6)\n",
    "z2=complej(6,6)\n",
    "z1.divi(z2)"
   ]
  },
  {
   "cell_type": "code",
   "execution_count": 24,
   "id": "40531439-0c20-4bbe-94a6-eeb47e235f4f",
   "metadata": {},
   "outputs": [
    {
     "data": {
      "text/plain": [
       "2.23606797749979"
      ]
     },
     "execution_count": 24,
     "metadata": {},
     "output_type": "execute_result"
    }
   ],
   "source": [
    "z=complej(2,1)\n",
    "z.norma()"
   ]
  },
  {
   "cell_type": "code",
   "execution_count": 26,
   "id": "11248afd-b19f-437a-a2ec-afbbf11fc0c3",
   "metadata": {},
   "outputs": [
    {
     "data": {
      "text/plain": [
       "8.54400374531753"
      ]
     },
     "execution_count": 26,
     "metadata": {},
     "output_type": "execute_result"
    }
   ],
   "source": [
    "z=complej(3,8)\n",
    "z.norma()"
   ]
  },
  {
   "cell_type": "code",
   "execution_count": null,
   "id": "fdd49259-e107-4e14-9ad1-264ed91278bc",
   "metadata": {},
   "outputs": [],
   "source": []
  }
 ],
 "metadata": {
  "kernelspec": {
   "display_name": "Python 3 (ipykernel)",
   "language": "python",
   "name": "python3"
  },
  "language_info": {
   "codemirror_mode": {
    "name": "ipython",
    "version": 3
   },
   "file_extension": ".py",
   "mimetype": "text/x-python",
   "name": "python",
   "nbconvert_exporter": "python",
   "pygments_lexer": "ipython3",
   "version": "3.7.12"
  }
 },
 "nbformat": 4,
 "nbformat_minor": 5
}
