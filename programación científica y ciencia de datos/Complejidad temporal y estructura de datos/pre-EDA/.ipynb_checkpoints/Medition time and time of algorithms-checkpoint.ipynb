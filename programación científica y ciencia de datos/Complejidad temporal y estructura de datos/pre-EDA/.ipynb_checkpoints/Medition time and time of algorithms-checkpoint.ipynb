{
 "cells": [
  {
   "cell_type": "code",
   "execution_count": null,
   "id": "e0d9da82",
   "metadata": {
    "ExecuteTime": {
     "start_time": "2022-05-11T03:12:02.916Z"
    }
   },
   "outputs": [],
   "source": [
    "import time#segundos\n",
    "import matplotlib.pyplot as plt\n",
    "import numpy as np\n",
    "from scipy.optimize import curve_fit\n",
    "\n",
    "plt.style.use('dark_background')\n",
    "z=[]\n",
    "n=1000\n",
    "def tiempo(n):\n",
    "    inicio = time.time()\n",
    "    for i in range(n):\n",
    "        z.append(i)\n",
    "    fin = time.time()\n",
    "    return(fin-inicio)\n",
    "\n",
    "x=[]\n",
    "y=[]\n",
    "for i in range(10):\n",
    "    x.append(i*n)\n",
    "    y.append(tiempo(i*n))\n",
    "plt.scatter(x,y)\n",
    "\n",
    "\n",
    "\n",
    "    \n"
   ]
  },
  {
   "cell_type": "code",
   "execution_count": null,
   "id": "6a5d1bd1",
   "metadata": {
    "ExecuteTime": {
     "start_time": "2022-05-11T03:12:03.523Z"
    }
   },
   "outputs": [],
   "source": [
    "def func(x, m, b):\n",
    "    return m*x+b\n",
    "\n",
    "\n",
    "ajuste,covarianza= curve_fit(func,x,y)\n",
    "desviacionestandar=np.sqrt(np.diag(covarianza))\n",
    "m=ajuste[0]\n",
    "b=ajuste[1]\n",
    "\n",
    "fig,ax = plt.subplots() \n",
    "\n",
    "x0=x[0]\n",
    "xf=x[-1]\n",
    "z=np.linspace(x0,xf,1000)\n",
    "\n",
    "ax.scatter(x,y,color='red')\n",
    "ax.plot(z,z*m+b,color='blue')\n",
    "ax.set_xlabel('n')  \n",
    "ax.set_ylabel('t(s)')  \n",
    "ax.set_title('t vs n')\n",
    "\n",
    "print('El tiempo adicional por cada iteración es:',m,'segundos/iteracion')\n",
    "\n"
   ]
  },
  {
   "cell_type": "code",
   "execution_count": null,
   "id": "e01fb193",
   "metadata": {},
   "outputs": [],
   "source": []
  },
  {
   "cell_type": "code",
   "execution_count": null,
   "id": "2d6c69fd",
   "metadata": {},
   "outputs": [],
   "source": []
  }
 ],
 "metadata": {
  "hide_input": false,
  "kernelspec": {
   "display_name": "Python 3 (ipykernel)",
   "language": "python",
   "name": "python3"
  },
  "language_info": {
   "codemirror_mode": {
    "name": "ipython",
    "version": 3
   },
   "file_extension": ".py",
   "mimetype": "text/x-python",
   "name": "python",
   "nbconvert_exporter": "python",
   "pygments_lexer": "ipython3",
   "version": "3.8.8"
  },
  "nbTranslate": {
   "displayLangs": [
    "*"
   ],
   "hotkey": "alt-t",
   "langInMainMenu": true,
   "sourceLang": "en",
   "targetLang": "fr",
   "useGoogleTranslate": true
  },
  "toc": {
   "base_numbering": 1,
   "nav_menu": {},
   "number_sections": true,
   "sideBar": true,
   "skip_h1_title": false,
   "title_cell": "Table of Contents",
   "title_sidebar": "Contents",
   "toc_cell": false,
   "toc_position": {},
   "toc_section_display": true,
   "toc_window_display": false
  },
  "varInspector": {
   "cols": {
    "lenName": 16,
    "lenType": 16,
    "lenVar": 40
   },
   "kernels_config": {
    "python": {
     "delete_cmd_postfix": "",
     "delete_cmd_prefix": "del ",
     "library": "var_list.py",
     "varRefreshCmd": "print(var_dic_list())"
    },
    "r": {
     "delete_cmd_postfix": ") ",
     "delete_cmd_prefix": "rm(",
     "library": "var_list.r",
     "varRefreshCmd": "cat(var_dic_list()) "
    }
   },
   "types_to_exclude": [
    "module",
    "function",
    "builtin_function_or_method",
    "instance",
    "_Feature"
   ],
   "window_display": false
  }
 },
 "nbformat": 4,
 "nbformat_minor": 5
}
