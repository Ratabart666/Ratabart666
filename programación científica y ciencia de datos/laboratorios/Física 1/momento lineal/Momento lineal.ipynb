{
 "cells": [
  {
   "cell_type": "code",
   "execution_count": 399,
   "id": "9bda394e",
   "metadata": {},
   "outputs": [],
   "source": [
    "#Librerias\n",
    "import pandas as pd\n",
    "import matplotlib.pyplot as plt\n",
    "import numpy as np\n",
    "from scipy.optimize import curve_fit"
   ]
  },
  {
   "cell_type": "code",
   "execution_count": 400,
   "id": "c9e4f118",
   "metadata": {
    "scrolled": true,
    "slideshow": {
     "slide_type": "skip"
    }
   },
   "outputs": [
    {
     "name": "stdout",
     "output_type": "stream",
     "text": [
      "La incertidumbre de la masa en todos los experimentos es(Δm) es  5e-05 kg\n",
      "La masa de cada carro se da en cada inciso\n",
      "-----------------------------------------------------------------------------------\n",
      " \n",
      "    Datos choque elástico\n",
      " \n",
      "Los datos antes del choque son:\n",
      " \n",
      "   t(s)  xg(m)  xa(m)\n",
      "0   0.0   0.06   0.85\n",
      "1   0.1   0.10   0.82\n",
      "2   0.2   0.13   0.79\n",
      "3   0.3   0.17   0.76\n",
      "4   0.4   0.20   0.74\n",
      "5   0.5   0.24   0.71\n",
      "6   0.6   0.27   0.68\n",
      "7   0.7   0.30   0.65\n",
      "-----------------------------------\n",
      "Los datos después del choque son:\n",
      " \n",
      "   t(s)  xg(m)  xa(m)\n",
      "0   0.0   0.29   0.65\n",
      "1   0.1   0.23   0.65\n",
      "2   0.2   0.17   0.66\n",
      "3   0.3   0.11   0.66\n",
      "4   0.4   0.05   0.66\n",
      "5   0.5   0.00   0.66\n",
      "-----------------------------------------------------------------------------------------------------\n",
      " \n",
      "    Datos choque inelástico\n",
      " \n",
      "Los datos antes del choque son:\n",
      " \n",
      "   t(s)  xg(m)  xa(m)\n",
      "0   0.0   0.21   0.84\n",
      "1   0.1   0.21   0.80\n",
      "2   0.2   0.21   0.75\n",
      "3   0.3   0.21   0.70\n",
      "4   0.4   0.21   0.65\n",
      "5   0.5   0.21   0.61\n",
      "-----------------------------------\n",
      "Los datos después del choque son:\n",
      " \n",
      "    t(s)  xg-a(m)\n",
      "0    0.0     0.56\n",
      "1    0.1     0.53\n",
      "2    0.2     0.49\n",
      "3    0.3     0.46\n",
      "4    0.4     0.43\n",
      "5    0.5     0.39\n",
      "6    0.6     0.36\n",
      "7    0.7     0.33\n",
      "8    0.8     0.30\n",
      "9    0.9     0.27\n",
      "10   1.0     0.24\n",
      "11   1.1     0.21\n",
      "12   1.2     0.18\n",
      "-----------------------------------------------------------------------------------------------------\n",
      "El signo de las cantidades vectoriales van de acuerdo a la siguiente convención:\n",
      " \n",
      "Postivo: derecha, negativo:izquierda\n",
      " \n",
      "El sistema de referencia usado es el lado izquierdo de la rampa\n"
     ]
    }
   ],
   "source": [
    "#Datos\n",
    "Δm=0.05/1000#kg\n",
    "#Colisión elástica\n",
    "datos1antes=pd.read_csv('Datos antes del choque(choque elastico).csv')\n",
    "datos1despues=pd.read_csv('Datos despues del choque(choque elastico).csv')\n",
    "#Colisión inelástica\n",
    "datos2antes=pd.read_csv('Datos antes del choque(choque inelastico).csv')\n",
    "datos2despues=pd.read_csv('Datos despues del choque(choque inelastico).csv')\n",
    "\n",
    "\n",
    "print('La incertidumbre de la masa en todos los experimentos es(Δm) es ',Δm,'kg')\n",
    "print('La masa de cada carro se da en cada inciso')\n",
    "\n",
    "print('-----------------------------------------------------------------------------------')\n",
    "print(' ')\n",
    "print('    Datos choque elástico')\n",
    "print(' ')\n",
    "print('Los datos antes del choque son:')\n",
    "print(' ')\n",
    "print(datos1antes)\n",
    "print('-----------------------------------')\n",
    "print('Los datos después del choque son:')\n",
    "print(' ')\n",
    "print(datos1despues)\n",
    "\n",
    "print('-----------------------------------------------------------------------------------------------------')\n",
    "print(' ')\n",
    "print('    Datos choque inelástico')\n",
    "print(' ')\n",
    "print('Los datos antes del choque son:')\n",
    "print(' ')\n",
    "print(datos2antes)\n",
    "print('-----------------------------------')\n",
    "print('Los datos después del choque son:')\n",
    "print(' ')\n",
    "print(datos2despues)\n",
    "print('-----------------------------------------------------------------------------------------------------')\n",
    "\n",
    "\n",
    "\n",
    "print('El signo de las cantidades vectoriales van de acuerdo a la siguiente convención:')\n",
    "print(' ')\n",
    "print('Postivo: derecha, negativo:izquierda')\n",
    "print(' ')\n",
    "print('El sistema de referencia usado es el lado izquierdo de la rampa')"
   ]
  },
  {
   "cell_type": "code",
   "execution_count": null,
   "id": "4021dbd8",
   "metadata": {
    "slideshow": {
     "slide_type": "skip"
    }
   },
   "outputs": [],
   "source": []
  },
  {
   "cell_type": "code",
   "execution_count": 392,
   "id": "1310a134",
   "metadata": {},
   "outputs": [
    {
     "name": "stdout",
     "output_type": "stream",
     "text": [
      "La masa del carro gris(mg) es: 0.2691 Kg\n",
      "La masa del carro azul(ma) es: 0.8324 Kg\n"
     ]
    }
   ],
   "source": [
    "#Colisión elástica\n",
    "mg=269.10/1000#kg\n",
    "ma=832.40/1000#kg\n",
    "print('La masa del carro gris(mg) es:',mg,'Kg')\n",
    "print('La masa del carro azul(ma) es:',ma,'Kg')"
   ]
  },
  {
   "cell_type": "code",
   "execution_count": 393,
   "id": "d3f96750",
   "metadata": {},
   "outputs": [
    {
     "name": "stdout",
     "output_type": "stream",
     "text": [
      "        Hacemos una ajuste lineal antes del choque.\n",
      " \n",
      "Hacemos una ajuste lineal para el carro gris.\n",
      " \n",
      "El ajuste es x(t)=vag*t+x0ag,tiene como parametros:\n",
      " \n",
      "vag=(0.34+-0.005)m/s, x0ag=(0.06+-0.002)m.\n",
      " \n",
      "Por ende la velocidad del carro gris antes del choque (vag) es:( 0.34 +- 0.005 )m/s\n",
      "----------------------------------\n",
      "Hacemos una ajuste lineal para el carro azul.\n",
      " \n",
      "El ajuste es x(t)=vaa*t+x0aa,tiene como parametros:\n",
      " \n",
      "vaa=(-0.28+-0.004)m/s, x0ag=(0.85+-0.002)m.\n",
      " \n",
      "Por ende la velocidad del carro azul antes del choque (vaa) es:( -0.28 +- 0.004 )m/s\n",
      "----------------------------------\n",
      "Gráficando y comparando con los puntos obtenidos por los datos, tenemos:\n"
     ]
    },
    {
     "data": {
      "text/plain": [
       "<matplotlib.legend.Legend at 0x236fb3c82b0>"
      ]
     },
     "execution_count": 393,
     "metadata": {},
     "output_type": "execute_result"
    },
    {
     "data": {
      "image/png": "[encoded data removed]",
      "text/plain": [
       "<Figure size 432x288 with 1 Axes>"
      ]
     },
     "metadata": {
      "needs_background": "light"
     },
     "output_type": "display_data"
    }
   ],
   "source": [
    "#Antes del choque\n",
    "def func(x, m, b):\n",
    "    return m*x+b\n",
    "\n",
    "print('        Hacemos una ajuste lineal antes del choque.')\n",
    "print(' ')\n",
    "print('Hacemos una ajuste lineal para el carro gris.')\n",
    "print(' ')\n",
    "ajuste,covarianza= curve_fit(func,datos1antes['t(s)'].tolist(),datos1antes['xg(m)'].tolist())\n",
    "desviacionestandar=np.sqrt(np.diag(covarianza))\n",
    "vag=round(ajuste[0],2)\n",
    "x0ag=round(ajuste[1],2)\n",
    "Δvag=round(desviacionestandar[0],3)\n",
    "Δx0ag=round(desviacionestandar[1],3)\n",
    "print('El ajuste es x(t)=vag*t+x0ag,tiene como parametros:')\n",
    "print(' ')\n",
    "print(str('vag=(')+str(vag)+str('+-')+str(Δvag)+str(')m/s,'),str('x0ag=(')+str(x0ag)+str('+-')+str(Δx0ag)+str(')m.'))\n",
    "print(' ')\n",
    "print('Por ende la velocidad del carro gris antes del choque (vag) es:(',vag,'+-',Δvag,')m/s')\n",
    "print('----------------------------------')\n",
    "\n",
    "print('Hacemos una ajuste lineal para el carro azul.')\n",
    "print(' ')\n",
    "ajuste,covarianza= curve_fit(func,datos1antes['t(s)'].tolist(),datos1antes['xa(m)'].tolist())\n",
    "desviacionestandar=np.sqrt(np.diag(covarianza))\n",
    "vaa=round(ajuste[0],2)\n",
    "x0aa=round(ajuste[1],2)\n",
    "Δvaa=round(desviacionestandar[0],3)\n",
    "Δx0aa=round(desviacionestandar[1],3)\n",
    "print('El ajuste es x(t)=vaa*t+x0aa,tiene como parametros:')\n",
    "print(' ')\n",
    "print(str('vaa=(')+str(vaa)+str('+-')+str(Δvaa)+str(')m/s,'),str('x0ag=(')+str(x0aa)+str('+-')+str(Δx0aa)+str(')m.'))\n",
    "print(' ')\n",
    "print('Por ende la velocidad del carro azul antes del choque (vaa) es:(',vaa,'+-',Δvaa,')m/s')\n",
    "print('----------------------------------')\n",
    "print('Gráficando y comparando con los puntos obtenidos por los datos, tenemos:')\n",
    "\n",
    "fig, ax = plt.subplots() \n",
    "x1=datos1antes['t(s)'].tolist()[0]\n",
    "x2=datos1antes['t(s)'].tolist()[-1]\n",
    "x=np.linspace(x1,x2,1000)\n",
    "y1=func(x,vag,x0ag)\n",
    "y2=func(x,vaa,x0aa)\n",
    "ax.scatter(datos1antes['t(s)'],datos1antes['xg(m)'],color='gray')\n",
    "ax.scatter(datos1antes['t(s)'],datos1antes['xa(m)'],color='blue')\n",
    "ax.plot(x, y1,color='gray',label='carro gris')  \n",
    "ax.plot(x, y2,color='blue', label='carro azul') \n",
    "ax.set_xlabel('t(s)')  \n",
    "ax.set_ylabel('x(m)')  \n",
    "ax.set_title('Antes del choque')\n",
    "ax.legend()\n",
    "\n"
   ]
  },
  {
   "cell_type": "code",
   "execution_count": 394,
   "id": "b46501e1",
   "metadata": {},
   "outputs": [
    {
     "name": "stdout",
     "output_type": "stream",
     "text": [
      "        Hacemos una ajuste lineal después del choque.\n",
      " \n",
      "Hacemos una ajuste lineal para el carro gris.\n",
      " \n",
      "El ajuste es x(t)=vdg*t+x0dg,tiene como parametros:\n",
      " \n",
      "vdg=(-0.59+-0.008)m/s, x0dg=(0.29+-0.002)m.\n",
      " \n",
      "Por ende la velocidad del carro gris después del choque (vdg) es:( -0.59 +- 0.008 )m/s\n",
      "----------------------------------\n",
      "Hacemos una ajuste lineal para el carro azul.\n",
      " \n",
      "El ajuste es x(t)=vda*t+x0da,tiene como parametros:\n",
      " \n",
      "vda=(0.02+-0.008)m/s, x0dg=(0.65+-0.002)m.\n",
      " \n",
      "Por ende la velocidad del carro azul después del choque (vda) es:( 0.02 +- 0.008 )m/s\n",
      "----------------------------------\n",
      "Gráficando y comparando con los puntos obtenidos por los datos, tenemos:\n"
     ]
    },
    {
     "data": {
      "text/plain": [
       "<matplotlib.legend.Legend at 0x236fb4cbe50>"
      ]
     },
     "execution_count": 394,
     "metadata": {},
     "output_type": "execute_result"
    },
    {
     "data": {
      "image/png": "[encoded data removed]",
      "text/plain": [
       "<Figure size 432x288 with 1 Axes>"
      ]
     },
     "metadata": {
      "needs_background": "light"
     },
     "output_type": "display_data"
    }
   ],
   "source": [
    "# Después del choque\n",
    "def func(x, m, b):\n",
    "    return m*x+b\n",
    "\n",
    "print('        Hacemos una ajuste lineal después del choque.')\n",
    "print(' ')\n",
    "print('Hacemos una ajuste lineal para el carro gris.')\n",
    "print(' ')\n",
    "ajuste,covarianza= curve_fit(func,datos1despues['t(s)'].tolist(),datos1despues['xg(m)'].tolist())\n",
    "desviacionestandar=np.sqrt(np.diag(covarianza))\n",
    "vdg=round(ajuste[0],2)\n",
    "xdg=round(ajuste[1],2)\n",
    "Δv0dg=round(desviacionestandar[0],3)\n",
    "Δx0dg=round(desviacionestandar[1],3)\n",
    "print('El ajuste es x(t)=vdg*t+x0dg,tiene como parametros:')\n",
    "print(' ')\n",
    "print(str('vdg=(')+str(vdg)+str('+-')+str(Δvdg)+str(')m/s,'),str('x0dg=(')+str(x0dg)+str('+-')+str(Δx0dg)+str(')m.'))\n",
    "print(' ')\n",
    "print('Por ende la velocidad del carro gris después del choque (vdg) es:(',vdg,'+-',Δvdg,')m/s')\n",
    "print('----------------------------------')\n",
    "\n",
    "print('Hacemos una ajuste lineal para el carro azul.')\n",
    "print(' ')\n",
    "ajuste,covarianza= curve_fit(func,datos1despues['t(s)'].tolist(),datos1despues['xa(m)'].tolist())\n",
    "desviacionestandar=np.sqrt(np.diag(covarianza))\n",
    "vda=round(ajuste[0],2)\n",
    "x0da=round(ajuste[1],2)\n",
    "Δvda=round(desviacionestandar[0],3)\n",
    "Δx0da=round(desviacionestandar[1],3)\n",
    "print('El ajuste es x(t)=vda*t+x0da,tiene como parametros:')\n",
    "print(' ')\n",
    "print(str('vda=(')+str(vda)+str('+-')+str(Δvda)+str(')m/s,'),str('x0dg=(')+str(x0da)+str('+-')+str(Δx0da)+str(')m.'))\n",
    "print(' ')\n",
    "print('Por ende la velocidad del carro azul después del choque (vda) es:(',vda,'+-',Δvda,')m/s')\n",
    "print('----------------------------------')\n",
    "print('Gráficando y comparando con los puntos obtenidos por los datos, tenemos:')\n",
    "\n",
    "fig, ax = plt.subplots() \n",
    "x1=datos1despues['t(s)'].tolist()[0]\n",
    "x2=datos1despues['t(s)'].tolist()[-1]\n",
    "x=np.linspace(x1,x2,1000)\n",
    "y1=func(x,vdg,x0dg)\n",
    "y2=func(x,vda,x0da)\n",
    "ax.scatter(datos1despues['t(s)'],datos1despues['xg(m)'],color='gray')\n",
    "ax.scatter(datos1despues['t(s)'],datos1despues['xa(m)'],color='blue')\n",
    "ax.plot(x, y1,color='gray',label='carro gris')  \n",
    "ax.plot(x, y2,color='blue', label='carro azul') \n",
    "ax.set_xlabel('t(s)')  \n",
    "ax.set_ylabel('x(m)')  \n",
    "ax.set_title('Despuésdel choque')\n",
    "ax.legend()"
   ]
  },
  {
   "cell_type": "code",
   "execution_count": 395,
   "id": "2f6c2b1c",
   "metadata": {},
   "outputs": [
    {
     "name": "stdout",
     "output_type": "stream",
     "text": [
      "El momento inicial es:( -0.14 +- 0.005 )kgm/s y el momento final es:( -0.14 +- 0.009 )kgm/s\n",
      "La energía cinética inicial es:( 0.048 +- 0.001 )J y la energía cinética final es:( 0.047 +- 0.001 )J\n"
     ]
    }
   ],
   "source": [
    "# calculo momento y energía\n",
    "mom0=round(ma*vaa+mg*vag,2)\n",
    "Δmom01=abs(vaa*Δm)\n",
    "Δmom02=abs(ma*Δvaa)\n",
    "Δmom03=abs(vag*Δm)\n",
    "Δmom04=abs(mg*Δvag)\n",
    "Δmom0=round(Δmom01+Δmom02+Δmom03+Δmom04,3)\n",
    "\n",
    "momf=round(ma*vda+mg*vdg,2)\n",
    "Δmomf1=abs(vda*Δm)\n",
    "Δmomf2=abs(ma*Δvda)\n",
    "Δmomf3=abs(vdg*Δm)\n",
    "Δmomf4=abs(mg*Δvdg)\n",
    "Δmomf=round(Δmomf1+Δmomf2+Δmomf3+Δmomf4,3)\n",
    "\n",
    "\n",
    "k0=round((1/2)*((ma*(vaa**2)+mg*(vag**2))),3)\n",
    "Δk01=abs((1/2)*(vaa**2)*Δm)\n",
    "Δk02=abs((ma*vaa*Δvaa))\n",
    "Δk03=abs((1/2)*(vag**2)*Δm)\n",
    "Δk04=abs((mg*vag*Δvag))\n",
    "Δk0=round(Δk01+Δk02+Δk03+Δk04,3)\n",
    "\n",
    "kf=round((1/2)*((ma*(vda**2)+mg*(vdg**2))),3)\n",
    "Δkf1=abs((1/2)*(vda**2)*Δm)\n",
    "Δkf2=abs((ma*vda*Δvda))\n",
    "Δkf3=abs((1/2)*(vdg**2)*Δm)\n",
    "Δkf4=abs((mg*vdg*Δvdg))\n",
    "Δkf=round(Δkf1+Δkf2+Δkf3+Δkf4,3)\n",
    "\n",
    "print('El momento inicial es:(',mom0,'+-',Δmom0,')kgm/s','y el momento final es:(',momf,'+-',Δmomf,')kgm/s')\n",
    "print('La energía cinética inicial es:(',k0,'+-',Δk0,')J','y la energía cinética final es:(',kf,'+-',Δkf,')J')\n",
    "\n"
   ]
  },
  {
   "cell_type": "code",
   "execution_count": null,
   "id": "270e3d29",
   "metadata": {},
   "outputs": [],
   "source": []
  },
  {
   "cell_type": "code",
   "execution_count": 387,
   "id": "6456542c",
   "metadata": {},
   "outputs": [
    {
     "name": "stdout",
     "output_type": "stream",
     "text": [
      "La masa del carro gris(mg) es: 0.2691 Kg\n",
      "La masa del carro azul(ma) es: 0.5824 Kg\n"
     ]
    }
   ],
   "source": [
    "#Colisión inelástica\n",
    "mg=269.10/1000#kg\n",
    "ma=582.40/1000#\n",
    "print('La masa del carro gris(mg) es:',mg,'Kg')\n",
    "print('La masa del carro azul(ma) es:',ma,'Kg')"
   ]
  },
  {
   "cell_type": "code",
   "execution_count": 388,
   "id": "e54f9e8a",
   "metadata": {},
   "outputs": [
    {
     "name": "stdout",
     "output_type": "stream",
     "text": [
      "        Hacemos una ajuste lineal antes del choque.\n",
      " \n",
      "Hacemos una ajuste lineal para el carro gris.\n",
      " \n",
      "El ajuste es x(t)=vag*t+x0ag,tiene como parametros:\n",
      " \n",
      "vag=(0.0+-0.0)m/s, x0ag=(0.06+-0.002)m.\n",
      " \n",
      "Por ende la velocidad del carro gris antes del choque (vag) es:( 0.0 +- 0.0 )m/s\n",
      "----------------------------------\n",
      "Hacemos una ajuste lineal para el carro azul.\n",
      " \n",
      "El ajuste es x(t)=vaa*t+x0aa,tiene como parametros:\n",
      " \n",
      "vaa=(-0.47+-0.009)m/s, x0ag=(0.84+-0.003)m.\n",
      " \n",
      "Por ende la velocidad del carro azul antes del choque (vaa) es:( -0.47 +- 0.009 )m/s\n",
      "----------------------------------\n",
      "Gráficando y comparando con los puntos obtenidos por los datos, tenemos:\n"
     ]
    },
    {
     "data": {
      "text/plain": [
       "<matplotlib.legend.Legend at 0x236fb4e9dc0>"
      ]
     },
     "execution_count": 388,
     "metadata": {},
     "output_type": "execute_result"
    },
    {
     "data": {
      "image/png": "[encoded data removed]",
      "text/plain": [
       "<Figure size 432x288 with 1 Axes>"
      ]
     },
     "metadata": {
      "needs_background": "light"
     },
     "output_type": "display_data"
    }
   ],
   "source": [
    "#Antes del choque\n",
    "def func(x, m, b):\n",
    "    return m*x+b\n",
    "\n",
    "print('        Hacemos una ajuste lineal antes del choque.')\n",
    "print(' ')\n",
    "print('Hacemos una ajuste lineal para el carro gris.')\n",
    "print(' ')\n",
    "ajuste,covarianza= curve_fit(func,datos2antes['t(s)'].tolist(),datos2antes['xg(m)'].tolist())\n",
    "desviacionestandar=np.sqrt(np.diag(covarianza))\n",
    "vag=round(ajuste[0],2)\n",
    "x0ag=round(ajuste[1],2)\n",
    "Δvag=round(desviacionestandar[0],3)\n",
    "Δx0ag=round(desviacionestandar[1],3)\n",
    "print('El ajuste es x(t)=vag*t+x0ag,tiene como parametros:')\n",
    "print(' ')\n",
    "print(str('vag=(')+str(vag)+str('+-')+str(Δvag)+str(')m/s,'),str('x0ag=(')+str(xag)+str('+-')+str(Δxag)+str(')m.'))\n",
    "print(' ')\n",
    "print('Por ende la velocidad del carro gris antes del choque (vag) es:(',vag,'+-',Δvag,')m/s')\n",
    "print('----------------------------------')\n",
    "\n",
    "print('Hacemos una ajuste lineal para el carro azul.')\n",
    "print(' ')\n",
    "ajuste,covarianza= curve_fit(func,datos2antes['t(s)'].tolist(),datos2antes['xa(m)'].tolist())\n",
    "desviacionestandar=np.sqrt(np.diag(covarianza))\n",
    "vaa=round(ajuste[0],2)\n",
    "x0aa=round(ajuste[1],2)\n",
    "Δvaa=round(desviacionestandar[0],3)\n",
    "Δx0aa=round(desviacionestandar[1],3)\n",
    "print('El ajuste es x(t)=vaa*t+x0aa,tiene como parametros:')\n",
    "print(' ')\n",
    "print(str('vaa=(')+str(vaa)+str('+-')+str(Δvaa)+str(')m/s,'),str('x0ag=(')+str(x0aa)+str('+-')+str(Δx0aa)+str(')m.'))\n",
    "print(' ')\n",
    "print('Por ende la velocidad del carro azul antes del choque (vaa) es:(',vaa,'+-',Δvaa,')m/s')\n",
    "print('----------------------------------')\n",
    "print('Gráficando y comparando con los puntos obtenidos por los datos, tenemos:')\n",
    "\n",
    "fig, ax = plt.subplots() \n",
    "x1=datos2antes['t(s)'].tolist()[0]\n",
    "x2=datos2antes['t(s)'].tolist()[-1]\n",
    "x=np.linspace(x1,x2,1000)\n",
    "y1=func(x,vag,x0ag)\n",
    "y2=func(x,vaa,x0aa)\n",
    "ax.scatter(datos2antes['t(s)'],datos2antes['xg(m)'],color='gray')\n",
    "ax.scatter(datos2antes['t(s)'],datos2antes['xa(m)'],color='blue')\n",
    "ax.plot(x, y1,color='gray',label='carro gris')  \n",
    "ax.plot(x, y2,color='blue', label='carro azul') \n",
    "ax.set_xlabel('t(s)')  \n",
    "ax.set_ylabel('x(m)')  \n",
    "ax.set_title('Antes del choque')\n",
    "ax.legend()\n"
   ]
  },
  {
   "cell_type": "code",
   "execution_count": 389,
   "id": "6b2bf72d",
   "metadata": {},
   "outputs": [
    {
     "name": "stdout",
     "output_type": "stream",
     "text": [
      "        Hacemos una ajuste lineal después del choque.\n",
      " \n",
      "Hacemos una ajuste lineal para los 2 carros que se mueven juntos.\n",
      " \n",
      "El ajuste es x(t)=vdag*t+x0dag,tiene como parametros:\n",
      " \n",
      "vdag=(-0.32+-0.003)m/s, x0dag=(0.56+-0.002)m.\n",
      " \n",
      "Por ende la velocidad de los 2 carros es (vdag) es:( -0.32 +- 0.003 )m/s\n",
      "----------------------------------\n",
      "Gráficando y comparando con los puntos obtenidos por los datos, tenemos:\n"
     ]
    },
    {
     "data": {
      "text/plain": [
       "<matplotlib.legend.Legend at 0x236fb4266a0>"
      ]
     },
     "execution_count": 389,
     "metadata": {},
     "output_type": "execute_result"
    },
    {
     "data": {
      "image/png": "[encoded data removed]",
      "text/plain": [
       "<Figure size 432x288 with 1 Axes>"
      ]
     },
     "metadata": {
      "needs_background": "light"
     },
     "output_type": "display_data"
    }
   ],
   "source": [
    "# Después del choque\n",
    "def func(x, m, b):\n",
    "    return m*x+b\n",
    "\n",
    "print('        Hacemos una ajuste lineal después del choque.')\n",
    "print(' ')\n",
    "print('Hacemos una ajuste lineal para los 2 carros que se mueven juntos.')\n",
    "print(' ')\n",
    "ajuste,covarianza= curve_fit(func,datos2despues['t(s)'].tolist(),datos2despues['xg-a(m)'].tolist())\n",
    "desviacionestandar=np.sqrt(np.diag(covarianza))\n",
    "vdag=round(ajuste[0],2)\n",
    "x0dag=round(ajuste[1],2)\n",
    "Δvdag=round(desviacionestandar[0],3)\n",
    "Δx0dag=round(desviacionestandar[1],3)\n",
    "print('El ajuste es x(t)=vdag*t+x0dag,tiene como parametros:')\n",
    "print(' ')\n",
    "print(str('vdag=(')+str(vdag)+str('+-')+str(Δvdag)+str(')m/s,'),str('x0dag=(')+str(x0dag)+str('+-')+str(Δx0dag)+str(')m.'))\n",
    "print(' ')\n",
    "print('Por ende la velocidad de los 2 carros es (vdag) es:(',vdag,'+-',Δvdag,')m/s')\n",
    "print('----------------------------------')\n",
    "print('Gráficando y comparando con los puntos obtenidos por los datos, tenemos:')\n",
    "\n",
    "fig, ax = plt.subplots() \n",
    "x1=datos2despues['t(s)'].tolist()[0]\n",
    "x2=datos2despues['t(s)'].tolist()[-1]\n",
    "x=np.linspace(x1,x2,1000)\n",
    "y=func(x,vdag,x0dag)\n",
    "ax.scatter(datos2despues['t(s)'],datos2despues['xg-a(m)'],color='red')\n",
    "ax.plot(x, y,color='red',label='carro gris y azul')  \n",
    "ax.set_xlabel('t(s)')  \n",
    "ax.set_ylabel('x(m)')  \n",
    "ax.set_title('Despuésdel choque')\n",
    "ax.legend()"
   ]
  },
  {
   "cell_type": "code",
   "execution_count": 300,
   "id": "d05577d3",
   "metadata": {},
   "outputs": [
    {
     "name": "stdout",
     "output_type": "stream",
     "text": [
      "El momento inicial es:( -0.27 +- 0.005 )kgm/s y el momento final es:( -0.27 +- 0.003 )kgm/s\n",
      "La energía cinética inicial es:( 0.064 +- 0.002 )J y la energía cinética final es:( 0.044 +- 0.001 )J\n"
     ]
    }
   ],
   "source": [
    "# calculo momento y energía\n",
    "mom0=round(ma*vaa+mg*vag,2)\n",
    "Δmom01=abs(vaa*Δm)\n",
    "Δmom02=abs(ma*Δvaa)\n",
    "Δmom03=abs(vag*Δm)\n",
    "Δmom04=abs(mg*Δvag)\n",
    "Δmom0=round(Δmom01+Δmom02+Δmom03+Δmom04,3)\n",
    "\n",
    "momf=round((ma+mg)*vdag,2)\n",
    "Δmomf1=abs(vdag*Δm)\n",
    "Δmomf2=abs(vdag*Δm)\n",
    "Δmomf3=abs((ma+mg)*Δvdag)\n",
    "Δmomf=round(Δmomf1+Δmomf2+Δmomf3,3)\n",
    "\n",
    "\n",
    "k0=round((1/2)*((ma*(vaa**2)+mg*(vag**2))),3)\n",
    "Δk01=abs((1/2)*(vaa**2)*Δm)\n",
    "Δk02=abs((ma*vaa*Δvaa))\n",
    "Δk03=abs((1/2)*(vag**2)*Δm)\n",
    "Δk04=abs((mg*vag*Δvag))\n",
    "Δk0=round(Δk01+Δk02+Δk03+Δk04,3)\n",
    "\n",
    "kf=round((1/2)*(ma+mg)*(vdag**2),3)\n",
    "Δkf1=abs((1/2)*(vdag**2)*Δm)\n",
    "Δkf2=abs((1/2)*(vdag**2)*Δm)\n",
    "Δkf3=abs((ma+mg)*vdag*Δvdag)\n",
    "Δkf=round(Δkf1+Δkf2+Δkf3,3)\n",
    "\n",
    "print('El momento inicial es:(',mom0,'+-',Δmom0,')kgm/s','y el momento final es:(',momf,'+-',Δmomf,')kgm/s')\n",
    "print('La energía cinética inicial es:(',k0,'+-',Δk0,')J','y la energía cinética final es:(',kf,'+-',Δkf,')J')"
   ]
  }
 ],
 "metadata": {
  "kernelspec": {
   "display_name": "Python 3",
   "language": "python",
   "name": "python3"
  },
  "language_info": {
   "codemirror_mode": {
    "name": "ipython",
    "version": 3
   },
   "file_extension": ".py",
   "mimetype": "text/x-python",
   "name": "python",
   "nbconvert_exporter": "python",
   "pygments_lexer": "ipython3",
   "version": "3.8.8"
  }
 },
 "nbformat": 4,
 "nbformat_minor": 5
}
