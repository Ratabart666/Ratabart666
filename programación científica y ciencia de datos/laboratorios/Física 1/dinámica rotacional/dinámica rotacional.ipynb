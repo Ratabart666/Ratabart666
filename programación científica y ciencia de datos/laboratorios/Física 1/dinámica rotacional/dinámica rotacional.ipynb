{
 "cells": [
  {
   "cell_type": "code",
   "execution_count": 147,
   "id": "ba4606a3",
   "metadata": {},
   "outputs": [],
   "source": [
    "#Librerias y datos\n",
    "import pandas as pd\n",
    "import matplotlib.pyplot as plt\n",
    "import numpy as np\n",
    "from scipy.optimize import curve_fit\n",
    "datos1=pd.read_csv('datos 1.csv')\n",
    "datos2=pd.read_csv('datos 2.csv')\n",
    "R=0.30#m\n",
    "ΔR=0.5/100#m\n",
    "M=2.776#kg\n",
    "ΔM=0.001#kg\n",
    "g=9.80#m/s**2\n",
    "\n",
    "\n"
   ]
  },
  {
   "cell_type": "code",
   "execution_count": 148,
   "id": "38b1b6e0",
   "metadata": {},
   "outputs": [
    {
     "name": "stdout",
     "output_type": "stream",
     "text": [
      "Haciendo una ajuste(el mejor ajuste de acuerdo al fenómeno y los datos es el cuadrático):\n",
      "El ajuste es x(t)=at**2+b*t+c,tiene como parametros:\n",
      " \n",
      "a=(0.69+-0.01)m/s**2, b=(0.05+-0.009)m/s, c=(-0.0+-0.0)m\n",
      " \n",
      "Del MRU, (1/2)aceleración=a, por lo tanto:aceleración=2*a\n",
      " \n",
      "Por ende la aceleración de la manzana es: ( 1.38 +- 0.02 )m/s**2\n",
      "----------------------------------\n",
      "Gráficando y comparando con los puntos obtenidos por los datos, tenemos\n"
     ]
    },
    {
     "data": {
      "text/plain": [
       "Text(0.5, 0, 't(s)')"
      ]
     },
     "execution_count": 148,
     "metadata": {},
     "output_type": "execute_result"
    },
    {
     "data": {
      "image/png": "[encoded data removed]",
      "text/plain": [
       "<Figure size 432x288 with 1 Axes>"
      ]
     },
     "metadata": {
      "needs_background": "light"
     },
     "output_type": "display_data"
    }
   ],
   "source": [
    "#movimiento manzana\n",
    "print('Haciendo una ajuste(el mejor ajuste de acuerdo al fenómeno y los datos es el cuadrático):')\n",
    "fig,ax=plt.subplots()\n",
    "def func(x, a, b, c):\n",
    "    return a*(x**2)+b*x+c\n",
    "ajuste,covarianza= curve_fit(func,datos1['t(s)'].tolist(),datos1['y(m)'].tolist())\n",
    "desviacionestandar=np.sqrt(np.diag(covarianza))\n",
    "a=round(ajuste[0],2)\n",
    "b=round(ajuste[1],2)\n",
    "c=round(ajuste[2],2)\n",
    "Δa=round(desviacionestandar[0],2)\n",
    "Δb=round(desviacionestandar[1],3)\n",
    "Δc=round(desviacionestandar[2],2)\n",
    "aceleracion1=round(2*a,2)\n",
    "Δaceleracion1=round(2*Δa,2)\n",
    "print('El ajuste es x(t)=at**2+b*t+c,tiene como parametros:')\n",
    "print(' ')\n",
    "print(str('a=(')+str(a)+str('+-')+str(Δa)+str(')m/s**2,'),str('b=(')+str(b)+str('+-')+str(Δb)+str(')m/s,'),str('c=(')+str(c)+\n",
    "      str('+-')+str(Δc)+str(')m'))\n",
    "print(' ')\n",
    "print('Del MRU, (1/2)aceleración=a, por lo tanto:aceleración=2*a')\n",
    "print(' ')\n",
    "print('Por ende la aceleración de la manzana es: (',2*a,'+-',2*Δa,')m/s**2')\n",
    "print('----------------------------------')\n",
    "print('Gráficando y comparando con los puntos obtenidos por los datos, tenemos')\n",
    "x1=datos1['t(s)'].tolist()[0]\n",
    "x2=datos1['t(s)'].tolist()[-1]\n",
    "x=np.linspace(x1,x2,1000)\n",
    "ax.plot(x,func(x,a,b,c),color='red')\n",
    "ax.scatter(datos1['t(s)'],datos1['y(m)'],color='blue')\n",
    "ax.set_title('ajuste cuadrático y(m) vs t(s)')\n",
    "ax.set_ylabel('y(m)')\n",
    "ax.set_xlabel('t(s)')"
   ]
  },
  {
   "cell_type": "code",
   "execution_count": 149,
   "id": "e1f2db96",
   "metadata": {},
   "outputs": [
    {
     "name": "stdout",
     "output_type": "stream",
     "text": [
      "Haciendo una ajuste(el mejor ajuste de acuerdo al fenómeno y los datos es el cuadrático):\n",
      "El ajuste es x(t)=at**2+b*t+c,tiene como parametros:\n",
      " \n",
      "a=(0.47+-0.01)m/s**2, b=(0.01+-0.011)m/s, c=(-0.0+-0.0)m\n",
      " \n",
      "Del MRU, (1/2)aceleración=a, por lo tanto:aceleración=2*a\n",
      " \n",
      "Por lo tanto la aceleración para la esfera azul es: ( 0.94 +- 0.02 )m/s**2\n",
      "----------------------------------\n",
      "Gráficando y comparando con los puntos obtenidos por los datos, tenemos\n"
     ]
    },
    {
     "data": {
      "text/plain": [
       "Text(0.5, 0, 't(s)')"
      ]
     },
     "execution_count": 149,
     "metadata": {},
     "output_type": "execute_result"
    },
    {
     "data": {
      "image/png": "[encoded data removed]",
      "text/plain": [
       "<Figure size 432x288 with 1 Axes>"
      ]
     },
     "metadata": {
      "needs_background": "light"
     },
     "output_type": "display_data"
    }
   ],
   "source": [
    "#movimiento esfera azul\n",
    "print('Haciendo una ajuste(el mejor ajuste de acuerdo al fenómeno y los datos es el cuadrático):')\n",
    "fig,ax=plt.subplots()\n",
    "def func(x, a, b, c):\n",
    "    return a*(x**2)+b*x+c\n",
    "ajuste,covarianza= curve_fit(func,datos2['t(s)'].tolist(),datos2['y(m)'].tolist())\n",
    "desviacionestandar=np.sqrt(np.diag(covarianza))\n",
    "a=round(ajuste[0],2)\n",
    "b=round(ajuste[1],2)\n",
    "c=round(ajuste[2],2)\n",
    "Δa=round(desviacionestandar[0],2)\n",
    "Δb=round(desviacionestandar[1],3)\n",
    "Δc=round(desviacionestandar[2],2)\n",
    "aceleracion2=round(2*a,2)\n",
    "Δaceleracion2=round(2*Δa,2)\n",
    "print('El ajuste es x(t)=at**2+b*t+c,tiene como parametros:')\n",
    "print(' ')\n",
    "print(str('a=(')+str(a)+str('+-')+str(Δa)+str(')m/s**2,'),str('b=(')+str(b)+str('+-')+str(Δb)+str(')m/s,'),str('c=(')+str(c)+\n",
    "      str('+-')+str(Δc)+str(')m'))\n",
    "print(' ')\n",
    "print('Del MRU, (1/2)aceleración=a, por lo tanto:aceleración=2*a')\n",
    "print(' ')\n",
    "print('Por lo tanto la aceleración para la esfera azul es: (',2*a,'+-',2*Δa,')m/s**2')\n",
    "print('----------------------------------')\n",
    "print('Gráficando y comparando con los puntos obtenidos por los datos, tenemos')\n",
    "x1=datos2['t(s)'].tolist()[0]\n",
    "x2=datos2['t(s)'].tolist()[-1]\n",
    "x=np.linspace(x1,x2,1000)\n",
    "ax.plot(x,func(x,a,b,c),color='red')\n",
    "ax.scatter(datos2['t(s)'],datos2['y(m)'],color='blue')\n",
    "ax.set_title('ajuste cuadrático y(m) vs t(s)')\n",
    "ax.set_ylabel('y(m)')\n",
    "ax.set_xlabel('t(s)')"
   ]
  },
  {
   "cell_type": "code",
   "execution_count": 150,
   "id": "b727daaa",
   "metadata": {},
   "outputs": [
    {
     "name": "stdout",
     "output_type": "stream",
     "text": [
      "El momento de inercia es:( 0.12 +- 0.004 )Kgm**2\n"
     ]
    }
   ],
   "source": [
    "#Momento de inercia disco\n",
    "I=round((1/2)*M*(R**2),2)\n",
    "ΔI1=M*R*ΔR\n",
    "ΔI2=(1/2)*(R**2)*ΔM\n",
    "ΔI=round((ΔI1**2+ΔI2**2)**(1/2),3)\n",
    "print('El momento de inercia es:(',round(I,2),'+-',round(ΔI,3),')Kgm**2')\n",
    "\n"
   ]
  },
  {
   "cell_type": "code",
   "execution_count": 151,
   "id": "b89d42a3",
   "metadata": {},
   "outputs": [
    {
     "name": "stdout",
     "output_type": "stream",
     "text": [
      "La masa de la manzana es:( 0.22 +- 0.01 )Kg\n"
     ]
    }
   ],
   "source": [
    "ma=round((I*aceleracion1)/((g-aceleracion1)*R**2),2)\n",
    "Δma=round(ma*((ΔM/M)**2+(Δaceleracion1/aceleracion1)**2+((1/2)*(ma/M))**2)**(1/2),2)\n",
    "print('La masa de la manzana es:(',ma,'+-',Δma,')Kg')"
   ]
  },
  {
   "cell_type": "code",
   "execution_count": 146,
   "id": "ef35746a",
   "metadata": {},
   "outputs": [
    {
     "name": "stdout",
     "output_type": "stream",
     "text": [
      "La masa de la esfera es:( 0.14 +- 0.005 )Kg\n"
     ]
    }
   ],
   "source": [
    "me=round((I*aceleracion2)/((g-aceleracion2)*R**2),2)\n",
    "Δme=round(me*((ΔM/M)**2+(Δaceleracion2/aceleracion2)**2+((1/2)*(me/M))**2)**(1/2),3)\n",
    "print('La masa de la esfera es:(',me,'+-',Δme,')Kg')"
   ]
  }
 ],
 "metadata": {
  "kernelspec": {
   "display_name": "Python 3",
   "language": "python",
   "name": "python3"
  },
  "language_info": {
   "codemirror_mode": {
    "name": "ipython",
    "version": 3
   },
   "file_extension": ".py",
   "mimetype": "text/x-python",
   "name": "python",
   "nbconvert_exporter": "python",
   "pygments_lexer": "ipython3",
   "version": "3.8.8"
  }
 },
 "nbformat": 4,
 "nbformat_minor": 5
}
