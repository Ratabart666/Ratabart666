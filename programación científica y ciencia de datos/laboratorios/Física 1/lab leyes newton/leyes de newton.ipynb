{
 "cells": [
  {
   "cell_type": "code",
   "execution_count": 152,
   "id": "1cf8d1f0",
   "metadata": {},
   "outputs": [
    {
     "name": "stdout",
     "output_type": "stream",
     "text": [
      "Estos son los datos medidos\n",
      "Ángulo respecto a la vertical(α): 0.93 radianes\n",
      "Incertidumbre a α(Δα):   0.009\n",
      "----------------------------------------------------\n",
      "Radio del péndulo cónico(r): 0.45 m\n",
      "Incertidumbre en r(Δr): 0.005 m\n",
      "----------------------------------------------------\n",
      "Periodo péndulo cónico(t): 1.2 s\n",
      "Incertidumbre tdir(Δt): 0.05 s\n",
      "----------------------------------------------------\n",
      "Medida del dinámometro(T): 4.8 N\n",
      "Incertidumbre Td:   0.2 N\n",
      "----------------------------------------------------\n",
      "Masa medida directamente(mdir): 0.2935 Kg\n",
      "Incertidumbre mdir(Δmdir): 0.0001 Kg\n"
     ]
    }
   ],
   "source": [
    "import numpy as np\n",
    "#Datos\n",
    "α=round(np.radians(53),2)#grados\n",
    "Δα=round(np.radians(0.5),3)#grados\n",
    "r=45/100#metros\n",
    "Δr=0.5/100#metros\n",
    "t=1.2#segundos\n",
    "Δt=0.05#segundos\n",
    "T=4.8#Newton\n",
    "ΔT=round(0.5/2,1)#Newton\n",
    "mdir=293.5/1000#kilogramos\n",
    "Δmdir=0.1/1000#Kilogramos\n",
    "print('Estos son los datos medidos')\n",
    "print('Ángulo respecto a la vertical(α):',α,'radianes')\n",
    "print('Incertidumbre a α(Δα):',' ',Δα)\n",
    "print('----------------------------------------------------')\n",
    "print('Radio del péndulo cónico(r):',r,'m')\n",
    "print('Incertidumbre en r(Δr):',Δr,'m')\n",
    "print('----------------------------------------------------')\n",
    "print('Periodo péndulo cónico(t):',t,'s')\n",
    "print('Incertidumbre tdir(Δt):',Δt,'s')\n",
    "print('----------------------------------------------------')\n",
    "print('Medida del dinámometro(T):',T,'N')\n",
    "print('Incertidumbre Td:',' ',ΔT,'N')\n",
    "print('----------------------------------------------------')\n",
    "print('Masa medida directamente(mdir):',mdir,'Kg')\n",
    "print('Incertidumbre mdir(Δmdir):',Δmdir,'Kg')\n",
    "\n"
   ]
  },
  {
   "cell_type": "code",
   "execution_count": 153,
   "id": "9288f34b",
   "metadata": {},
   "outputs": [
    {
     "name": "stdout",
     "output_type": "stream",
     "text": [
      "La masa calculada con la tensión y el ángulo respecto a la vertical es:( 0.29 +- 0.01 )kg\n"
     ]
    }
   ],
   "source": [
    "#Punto 3(Nos piden hallar la masa teórica).\n",
    "#De la ecuación 1 y 1' adjuntada en el documento, calculamos la masa y la incertidumbre en la masa.\n",
    "#sea la gravedad igual a 9.80m/s**2.\n",
    "m=round((T/9.80)*np.cos(α),2)\n",
    "Δm1=np.cos(α)*(ΔT/9.80)\n",
    "Δm2=-np.sin(α)*Δα*T*(1/9.80)\n",
    "Δm=round(((Δm1**2)+(Δm2**2))**(1/2),2)\n",
    "print('La masa calculada con la tensión y el ángulo respecto a la vertical es:(',m,'+-',Δm,')kg')\n",
    "\n"
   ]
  },
  {
   "cell_type": "code",
   "execution_count": 156,
   "id": "640caf37",
   "metadata": {},
   "outputs": [
    {
     "name": "stdout",
     "output_type": "stream",
     "text": [
      "La Fuerza radial(Fuerza neta), hallada con la tensión y el ángulo respecto a la vertical es:( 3.8 +- 0.6 )N\n",
      "-----------------------------------------------------------------------\n",
      "La Fuerza radial(Fuerza neta), hallada con la masa,el radio y el periodo de rotación es:( 3.6 +- 0.3 )N\n"
     ]
    }
   ],
   "source": [
    "#Punto 4 y 5(Nos piden encontrar la fuerza radial de 2 maneras distintas), adicionalmente hallamos las incertidumbres.\n",
    "#De la ecuación 1 en pivot,calculamos la fuerza radial en las 2 maneras.\n",
    "Fr1=round(T*np.sin(α),1)\n",
    "ΔFr11=np.sin(α)*ΔT\n",
    "ΔFr12=T*Δα*np.cos(α)\n",
    "ΔFr1=round(((ΔFr11*2)+(ΔFr12))**(1/2),1)\n",
    "print('La Fuerza radial(Fuerza neta), hallada con la tensión y el ángulo respecto a la vertical es:(',Fr1,'+-',ΔFr1,')N')\n",
    "print('-----------------------------------------------------------------------')\n",
    "Fr2=round(((2*np.pi)**2)*m*r*(1/t**2),1)\n",
    "ΔFr21=((2*np.pi)**2)*Δm*r*(1/t**2)\n",
    "ΔFr22=((2*np.pi)**2)*Δr*m*(1/t**2) \n",
    "ΔFr23=((2*np.pi)**2)*-2*m*r*(1/t**3)*Δt\n",
    "ΔFr2=round(((ΔFr21**2)+(ΔFr22**2)+(ΔFr23**2))**(1/2),1)\n",
    "print('La Fuerza radial(Fuerza neta), hallada con la masa,el radio y el periodo de rotación es:(',Fr2,'+-',ΔFr2,')N')"
   ]
  },
  {
   "cell_type": "code",
   "execution_count": 155,
   "id": "962ec75b",
   "metadata": {},
   "outputs": [
    {
     "name": "stdout",
     "output_type": "stream",
     "text": [
      "Los resultados son los siguientes:\n",
      "                                 \n",
      "                                 \n",
      "Velocidad angular:( 5.2 +- -0.2 )rad/s\n",
      "Aceleración centripeta:( 12 +- 1 )m/s**2\n",
      "Fuerza radial:( 3.6 +- 0.3 )N\n"
     ]
    }
   ],
   "source": [
    "#Punto 6\n",
    "#Por último hallamos la velocidad angular, y la aceleración centrípeta con sus incertidumbres\n",
    "w=round(2*np.pi/t,1)\n",
    "Δw=round(-2*Δt*np.pi/t**2,1)\n",
    "a=round(Fr2/m)\n",
    "Δa1=(1/m)*ΔFr2\n",
    "Δa2=Fr2*(-1/m**2)*Δm\n",
    "Δa=round(((Δa1**2)+(Δa2**2))**(1/2))\n",
    "\n",
    "print('Los resultados son los siguientes:')\n",
    "print('                                 ')\n",
    "print('                                 ')\n",
    "print('Velocidad angular:(',w,'+-',Δw,')rad/s')\n",
    "print('Aceleración centripeta:(',a,'+-',Δa,')m/s**2')\n",
    "print('Fuerza radial:(',Fr2,'+-',ΔFr2,')N')"
   ]
  }
 ],
 "metadata": {
  "kernelspec": {
   "display_name": "Python 3",
   "language": "python",
   "name": "python3"
  },
  "language_info": {
   "codemirror_mode": {
    "name": "ipython",
    "version": 3
   },
   "file_extension": ".py",
   "mimetype": "text/x-python",
   "name": "python",
   "nbconvert_exporter": "python",
   "pygments_lexer": "ipython3",
   "version": "3.8.8"
  }
 },
 "nbformat": 4,
 "nbformat_minor": 5
}
