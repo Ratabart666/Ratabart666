{
 "cells": [
  {
   "cell_type": "code",
   "execution_count": 96,
   "id": "4b926889",
   "metadata": {},
   "outputs": [],
   "source": [
    "#Librerias\n",
    "import pandas as pd\n",
    "import matplotlib.pyplot as plt\n",
    "import numpy as np\n",
    "from scipy.optimize import curve_fit"
   ]
  },
  {
   "cell_type": "code",
   "execution_count": 97,
   "id": "bc684a51",
   "metadata": {},
   "outputs": [
    {
     "name": "stdout",
     "output_type": "stream",
     "text": [
      "Los datos son los siguientes:\n",
      "Masa disco grande(M) 2.85 kg\n",
      "Masa disco pequeño(m) 3.06 kg\n",
      "Radio disco grande(R) 0.3 m\n",
      "Radio disco pequeño(r) 0.2 m\n",
      "Momento de inercia disco grande(I) 0.13 kgm**2\n",
      "Momento de inercia disco pequeño(i) 0.061 Kgm**2\n",
      "------------------------------ \n",
      "Datos antes del choque(Disco grande)\n",
      "       t(s)  Δθ(rad)\n",
      "0  0.508333     1.57\n",
      "1  0.508333     1.57\n",
      "2  0.445833     1.57\n",
      "3  0.762500     1.57\n",
      "4  1.012500     1.57\n",
      "5  0.666667     1.57\n",
      "6  0.883333     1.57\n",
      "Datos antes del choque(Ambos discos)\n",
      "------------------------------ \n",
      "       t(s)  Δθ(rad)\n",
      "0  0.750000     1.57\n",
      "1  0.750000     1.57\n",
      "2  0.629167     1.57\n",
      "3  1.125000     1.57\n",
      "4  1.537500     1.57\n",
      "5  0.945833     1.57\n",
      "6  1.254167     1.57\n"
     ]
    }
   ],
   "source": [
    "#Datos\n",
    "M=2.85#Kg\n",
    "m=3.06#Kg\n",
    "\n",
    "R=0.30#m\n",
    "r=0.20#m\n",
    "i=round((1/2)*m*(r**2),3)#kgm**2\n",
    "I=round((1/2)*M*(R**2),2)#kgm**\n",
    "datos1=pd.read_csv('Antes del choque.csv')\n",
    "datos2=pd.read_csv('Despues del choque.csv')\n",
    "print('Los datos son los siguientes:')\n",
    "print('Masa disco grande(M)',M,'kg')\n",
    "print('Masa disco pequeño(m)',m,'kg')\n",
    "print('Radio disco grande(R)',R,'m')\n",
    "print('Radio disco pequeño(r)',r,'m')\n",
    "print('Momento de inercia disco grande(I)',I,'kgm**2')\n",
    "print('Momento de inercia disco pequeño(i)',i,'Kgm**2')\n",
    "print('------------------------------ ')\n",
    "print('Datos antes del choque(Disco grande)')\n",
    "print(datos1)\n",
    "print('Datos antes del choque(Ambos discos)')\n",
    "print('------------------------------ ')\n",
    "print(datos2)\n",
    "\n",
    "\n",
    "\n"
   ]
  },
  {
   "cell_type": "code",
   "execution_count": 98,
   "id": "86c6983d",
   "metadata": {},
   "outputs": [
    {
     "name": "stdout",
     "output_type": "stream",
     "text": [
      "Velocidad antes de los discos(Disco grande)(rad/S)\n",
      " \n",
      "0    3.1\n",
      "1    3.1\n",
      "2    3.5\n",
      "3    2.1\n",
      "4    1.6\n",
      "5    2.4\n",
      "6    1.8\n",
      "dtype: float64\n",
      "------------------------------ \n",
      "Velocidad después de los discos(Ambos discos)(rad/s)\n",
      " \n",
      "0    2.1\n",
      "1    2.1\n",
      "2    2.5\n",
      "3    1.4\n",
      "4    1.0\n",
      "5    1.7\n",
      "6    1.3\n",
      "dtype: float64\n"
     ]
    }
   ],
   "source": [
    "va=round(datos1['Δθ(rad)']/datos1['t(s)'],1)\n",
    "vd=round(datos2['Δθ(rad)']/datos2['t(s)'],1)\n",
    "print('Velocidad antes de los discos(Disco grande)(rad/S)')\n",
    "print(' ')\n",
    "print(va)\n",
    "print('------------------------------ ')\n",
    "print('Velocidad después de los discos(Ambos discos)(rad/s)')\n",
    "print(' ')\n",
    "print(vd)\n"
   ]
  },
  {
   "cell_type": "code",
   "execution_count": 99,
   "id": "7381f349",
   "metadata": {},
   "outputs": [
    {
     "name": "stderr",
     "output_type": "stream",
     "text": [
      "No handles with labels found to put in legend.\n"
     ]
    },
    {
     "name": "stdout",
     "output_type": "stream",
     "text": [
      "        Hacemos una ajuste lineal para wf vs wi.\n",
      " \n",
      "Hacemos una ajuste lineal.\n",
      " \n",
      "El ajuste es wf(wi)=m*wi,tiene como parametros:\n",
      " \n",
      "m=(0.69+-0.01)\n",
      " \n",
      "Por ende m(adimensional)= 0.69\n",
      "------------------------------ \n"
     ]
    },
    {
     "data": {
      "text/plain": [
       "<matplotlib.legend.Legend at 0x1fde6a43100>"
      ]
     },
     "execution_count": 99,
     "metadata": {},
     "output_type": "execute_result"
    },
    {
     "data": {
      "image/png": "[encoded data removed]",
      "text/plain": [
       "<Figure size 432x288 with 1 Axes>"
      ]
     },
     "metadata": {
      "needs_background": "light"
     },
     "output_type": "display_data"
    }
   ],
   "source": [
    "def func(x, m):\n",
    "    return m*x\n",
    "\n",
    "print('        Hacemos una ajuste lineal para wf vs wi.')\n",
    "print(' ')\n",
    "print('Hacemos una ajuste lineal.')\n",
    "print(' ')\n",
    "ajuste,covarianza= curve_fit(func,va.tolist(),vd.tolist())\n",
    "desviacionestandar=np.sqrt(np.diag(covarianza))\n",
    "m=round(ajuste[0],2)\n",
    "Δm=round(desviacionestandar[0],3)\n",
    "print('El ajuste es wf(wi)=m*wi,tiene como parametros:')\n",
    "print(' ')\n",
    "print(str('m=(')+str(m)+str('+-')+str(Δm)+')')\n",
    "print(' ')\n",
    "print('Por ende m(adimensional)=',m)\n",
    "print('------------------------------ ')\n",
    "fig, ax = plt.subplots() \n",
    "x1=min(va.tolist())\n",
    "x2=max(va.tolist())\n",
    "x=np.linspace(x1,x2,1000)\n",
    "y1=func(x,m)\n",
    "ax.scatter(va.tolist(),vd.tolist(),color='red')\n",
    "ax.plot(x,y1,color='blue')  \n",
    "ax.set_xlabel('wi(rad/s)')  \n",
    "ax.set_ylabel('wf(rad/s)')  \n",
    "ax.set_title('wf vs wi')\n",
    "ax.legend()\n",
    "\n"
   ]
  },
  {
   "cell_type": "code",
   "execution_count": 100,
   "id": "34fdd529",
   "metadata": {},
   "outputs": [
    {
     "name": "stdout",
     "output_type": "stream",
     "text": [
      "Momento angular antes(kgm**2/s)\n",
      " \n",
      "0    0.40\n",
      "1    0.40\n",
      "2    0.46\n",
      "3    0.27\n",
      "4    0.21\n",
      "5    0.31\n",
      "6    0.23\n",
      "dtype: float64\n",
      "Momento angular después(kgm**2/s)\n",
      " \n",
      "0    0.40\n",
      "1    0.40\n",
      "2    0.48\n",
      "3    0.27\n",
      "4    0.19\n",
      "5    0.32\n",
      "6    0.25\n",
      "dtype: float64\n"
     ]
    }
   ],
   "source": [
    "Li=round(I*va,2)\n",
    "Lf=round((I+i)*vd,2)\n",
    "print('Momento angular antes(kgm**2/s)')\n",
    "print(' ')\n",
    "print(Li)\n",
    "print('Momento angular después(kgm**2/s)')\n",
    "print(' ')\n",
    "print(Lf)\n"
   ]
  },
  {
   "cell_type": "code",
   "execution_count": 106,
   "id": "505ee6db",
   "metadata": {},
   "outputs": [
    {
     "name": "stderr",
     "output_type": "stream",
     "text": [
      "No handles with labels found to put in legend.\n"
     ]
    },
    {
     "name": "stdout",
     "output_type": "stream",
     "text": [
      "        Hacemos una ajuste lineal para Lf vs Li.\n",
      " \n",
      "Hacemos una ajuste lineal.\n",
      " \n",
      "El ajuste es Lf(Li)=m*Li,tiene como parametros:\n",
      " \n",
      "m=(1.0+-0.0)\n",
      " \n",
      "Por ende m(adimensional)= 1.0\n",
      "------------------------------ \n"
     ]
    },
    {
     "data": {
      "text/plain": [
       "<matplotlib.legend.Legend at 0x1fde6c32730>"
      ]
     },
     "execution_count": 106,
     "metadata": {},
     "output_type": "execute_result"
    },
    {
     "data": {
      "image/png": "[encoded data removed]",
      "text/plain": [
       "<Figure size 432x288 with 1 Axes>"
      ]
     },
     "metadata": {
      "needs_background": "light"
     },
     "output_type": "display_data"
    }
   ],
   "source": [
    "def func(x, m):\n",
    "    return m*x\n",
    "\n",
    "print('        Hacemos una ajuste lineal para Lf vs Li.')\n",
    "print(' ')\n",
    "print('Hacemos una ajuste lineal.')\n",
    "print(' ')\n",
    "ajuste,covarianza= curve_fit(func,Li.tolist(),Lf.tolist())\n",
    "desviacionestandar=np.sqrt(np.diag(covarianza))\n",
    "m=round(ajuste[0],1)\n",
    "Δm=round(desviacionestandar[0],1)\n",
    "print('El ajuste es Lf(Li)=m*Li,tiene como parametros:')\n",
    "print(' ')\n",
    "print(str('m=(')+str(m)+str('+-')+str(Δm)+')')\n",
    "print(' ')\n",
    "print('Por ende m(adimensional)=',m)\n",
    "print('------------------------------ ')\n",
    "fig, ax = plt.subplots() \n",
    "x1=min(Li.tolist())\n",
    "x2=max(Li.tolist())\n",
    "x=np.linspace(x1,x2,1000)\n",
    "y1=func(x,m)\n",
    "ax.scatter(Li.tolist(),Lf.tolist(),color='red')\n",
    "ax.plot(x,y1,color='blue')  \n",
    "ax.set_xlabel('Li(Kgm**2/s)')  \n",
    "ax.set_ylabel('Lf(Kgm**2/s)')  \n",
    "ax.set_title('Lf vs Li')\n",
    "ax.legend()"
   ]
  },
  {
   "cell_type": "code",
   "execution_count": 102,
   "id": "52650953",
   "metadata": {},
   "outputs": [
    {
     "name": "stdout",
     "output_type": "stream",
     "text": [
      "Energía cinética antes(J)\n",
      " \n",
      "0    0.62\n",
      "1    0.62\n",
      "2    0.80\n",
      "3    0.29\n",
      "4    0.17\n",
      "5    0.37\n",
      "6    0.21\n",
      "dtype: float64\n",
      "Energía cinética después(J)\n",
      " \n",
      "0    0.42\n",
      "1    0.42\n",
      "2    0.60\n",
      "3    0.19\n",
      "4    0.10\n",
      "5    0.28\n",
      "6    0.16\n",
      "dtype: float64\n"
     ]
    }
   ],
   "source": [
    "Ki=round((1/2)*I*(va**2),2)\n",
    "Kf=round((1/2)*(I+i)*(vd**2),2)\n",
    "print('Energía cinética antes(J)')\n",
    "print(' ')\n",
    "print(Ki)\n",
    "print('Energía cinética después(J)')\n",
    "print(' ')\n",
    "print(Kf)\n"
   ]
  },
  {
   "cell_type": "code",
   "execution_count": 105,
   "id": "0f0513c9",
   "metadata": {},
   "outputs": [
    {
     "name": "stderr",
     "output_type": "stream",
     "text": [
      "No handles with labels found to put in legend.\n"
     ]
    },
    {
     "name": "stdout",
     "output_type": "stream",
     "text": [
      "        Hacemos una ajuste lineal para Kf vs Ki.\n",
      " \n",
      "Hacemos una ajuste lineal.\n",
      " \n",
      "El ajuste es Kf(Ki)=m*Ki,tiene como parametros:\n",
      " \n",
      "m=(0.71+-0.02)\n",
      " \n",
      "Por ende m(adimensional)= 0.71\n",
      "------------------------------ \n"
     ]
    },
    {
     "data": {
      "text/plain": [
       "<matplotlib.legend.Legend at 0x1fde6bd7fa0>"
      ]
     },
     "execution_count": 105,
     "metadata": {},
     "output_type": "execute_result"
    },
    {
     "data": {
      "image/png": "[encoded data removed]",
      "text/plain": [
       "<Figure size 432x288 with 1 Axes>"
      ]
     },
     "metadata": {
      "needs_background": "light"
     },
     "output_type": "display_data"
    }
   ],
   "source": [
    "def func(x, m):\n",
    "    return m*x\n",
    "\n",
    "print('        Hacemos una ajuste lineal para Kf vs Ki.')\n",
    "print(' ')\n",
    "print('Hacemos una ajuste lineal.')\n",
    "print(' ')\n",
    "ajuste,covarianza= curve_fit(func,Ki.tolist(),Kf.tolist())\n",
    "desviacionestandar=np.sqrt(np.diag(covarianza))\n",
    "m=round(ajuste[0],2)\n",
    "Δm=round(desviacionestandar[0],2)\n",
    "print('El ajuste es Kf(Ki)=m*Ki,tiene como parametros:')\n",
    "print(' ')\n",
    "print(str('m=(')+str(m)+str('+-')+str(Δm)+')')\n",
    "print(' ')\n",
    "print('Por ende m(adimensional)=',m)\n",
    "print('------------------------------ ')\n",
    "fig, ax = plt.subplots() \n",
    "x1=min(Ki.tolist())\n",
    "x2=max(Ki.tolist())\n",
    "x=np.linspace(x1,x2,1000)\n",
    "y1=func(x,m)\n",
    "ax.scatter(Ki.tolist(),Kf.tolist(),color='red')\n",
    "ax.plot(x,y1,color='blue')  \n",
    "ax.set_xlabel('Ki(J)')  \n",
    "ax.set_ylabel('Kf(J)')  \n",
    "ax.set_title('Kf vs Ki')\n",
    "ax.legend()"
   ]
  }
 ],
 "metadata": {
  "kernelspec": {
   "display_name": "Python 3",
   "language": "python",
   "name": "python3"
  },
  "language_info": {
   "codemirror_mode": {
    "name": "ipython",
    "version": 3
   },
   "file_extension": ".py",
   "mimetype": "text/x-python",
   "name": "python",
   "nbconvert_exporter": "python",
   "pygments_lexer": "ipython3",
   "version": "3.8.8"
  }
 },
 "nbformat": 4,
 "nbformat_minor": 5
}
