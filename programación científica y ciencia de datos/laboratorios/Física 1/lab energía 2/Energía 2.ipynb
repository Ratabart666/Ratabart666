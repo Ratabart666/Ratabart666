{
 "cells": [
  {
   "cell_type": "code",
   "execution_count": 6,
   "id": "8b23f950",
   "metadata": {},
   "outputs": [],
   "source": [
    "import pandas as pd\n",
    "import matplotlib.pyplot as plt\n",
    "\n"
   ]
  },
  {
   "cell_type": "code",
   "execution_count": 7,
   "id": "0e0dc46d",
   "metadata": {},
   "outputs": [
    {
     "name": "stdout",
     "output_type": "stream",
     "text": [
      "                                      DATOS\n",
      " \n",
      "(Experimento 1)Estos son son los datos del disco que desliza sin fricción sobre la rampa:\n",
      "                       \n",
      "La masa del disco(m) es: 0.175 kg\n",
      "La incertidumbre de la masa del disco(Δm) es: 0.005 kg\n",
      "                       \n",
      "La altura inicial del disco(hi) es: 0.16 m\n",
      "La altura final del disco(hf) es: 0.055 m\n",
      "El cambio en la altura del disco es: 0.105 m\n",
      "                       \n",
      "La longitud inicial del resorte es: 0.07 m\n",
      "La longitud final del resorte es: 0.025 m\n",
      "El cambio en la longitud del resorte es: -0.045 m\n",
      " \n",
      "La incertidumbre en todas las mediciones(directas:hi,hf,xi,xf) de longitud(Δl) tiene valor de: 0.005 m\n",
      "La incertidumbre en todas las mediciones(indirectas:Δhi,Δxi) de longitud(Δl) tiene valor de: 0.007 m\n",
      " \n",
      "-----------------------------------------------------------------------\n",
      "(Experimento 2)Estos son son los datos del resorte sencillo:\n",
      "                       \n",
      "   Δx(m)  F(N)\n",
      "0   0.01  0.98\n",
      "1   0.02  1.96\n",
      "2   0.03  2.94\n",
      "3   0.04  3.92\n",
      "                       \n",
      "-----------------------------------------------------------------------\n",
      "(Experimento 3)Estos son son los datos del resorte doble:\n",
      "                       \n",
      "   Δx(m)  F(N)\n",
      "0  0.005  0.98\n",
      "1  0.010  1.96\n",
      "2  0.015  2.94\n",
      "3  0.020  3.92\n",
      "                       \n",
      "Se toma en todos los experimentos la gravedad(g) como 9.8m/s**2\n"
     ]
    }
   ],
   "source": [
    "g=9.8#m/s**2#para todos los experimentos este es el valor de la gravedad\n",
    "#Experimento 1(Cálculo K(doble) con energía)\n",
    "m=175/1000#kg\n",
    "hi=16/100#m\n",
    "hf=5.5/100#m\n",
    "Δh=round(hi-hf,3)#m\n",
    "xi=7.0/100#m\n",
    "xf=2.5/100#m\n",
    "Δx=round(xf-xi,3)#m\n",
    "\n",
    "Δm=5/1000#kg\n",
    "Δl=0.5/100#m(incertidumbre)\n",
    "Δl2=round((Δl**2+Δl**2)**(1/2),3)#m\n",
    "#Experimento 1(Cálculo k(sencillo) con ley de hooke)\n",
    "datos=pd.read_csv('Datos.csv')\n",
    "#Experimento 2(Cálculo k(doble) con ley de hooke)\n",
    "datos2=pd.read_csv('Datos2.csv')\n",
    "print('                                      DATOS')\n",
    "print(' ')\n",
    "print('(Experimento 1)Estos son son los datos del disco que desliza ''sin fricción'' sobre la rampa:')\n",
    "print('                       ')\n",
    "print('La masa del disco(m) es:',m,'kg')\n",
    "print('La incertidumbre de la masa del disco(Δm) es:',Δm,'kg')\n",
    "print('                       ')\n",
    "print('La altura inicial del disco(hi) es:',hi,'m')\n",
    "print('La altura final del disco(hf) es:',hf,'m')\n",
    "print('El cambio en la altura del disco es:',Δh,'m')\n",
    "print('                       ')\n",
    "print('La longitud inicial del resorte es:',xi,'m')\n",
    "print('La longitud final del resorte es:',xf,'m')\n",
    "print('El cambio en la longitud del resorte es:',Δx,'m')\n",
    "print(' ')\n",
    "print('La incertidumbre en todas las mediciones(directas:hi,hf,xi,xf) de longitud(Δl) tiene valor de:',Δl,'m')\n",
    "print('La incertidumbre en todas las mediciones(indirectas:Δhi,Δxi) de longitud(Δl) tiene valor de:',Δl2,'m')\n",
    "print(' ')\n",
    "print('-----------------------------------------------------------------------')\n",
    "print('(Experimento 2)Estos son son los datos del resorte sencillo:')\n",
    "print('                       ')\n",
    "print(datos)\n",
    "print('                       ')\n",
    "print('-----------------------------------------------------------------------')\n",
    "print('(Experimento 3)Estos son son los datos del resorte doble:')\n",
    "print('                       ')\n",
    "print(datos2)\n",
    "print('                       ')\n",
    "print('Se toma en todos los experimentos la gravedad(g) como 9.8m/s**2')\n"
   ]
  },
  {
   "cell_type": "code",
   "execution_count": 8,
   "id": "6f8f7a48",
   "metadata": {},
   "outputs": [
    {
     "name": "stdout",
     "output_type": "stream",
     "text": [
      "La constante de resorte hallada por el metódo de energía es:\n",
      " 178 N/m\n"
     ]
    }
   ],
   "source": [
    "#Experimento 1 (Cálculo de K con energía)\n",
    "#mghi=mghf+(1/2)kΔx**2\n",
    "#k=2mg(hi-hf)/Δx**2=2mghi/Δx**2-2mghf/Δx**2\n",
    "k=round(((2*m*g*(Δh))/(Δx**2)))\n",
    "print('La constante de resorte hallada por el metódo de energía es:')\n",
    "print('',k,'N/m')"
   ]
  },
  {
   "cell_type": "code",
   "execution_count": 9,
   "id": "fe78ce93",
   "metadata": {},
   "outputs": [
    {
     "name": "stdout",
     "output_type": "stream",
     "text": [
      "--------------------------\n",
      "Haciendo una ajuste lineal (el mejor ajuste de acuerdo al fenómeno y los datos es el lineal.):\n",
      "El ajuste es F(Δx)=kΔx,tiene como parametros:\n",
      " \n",
      "k=(98+-0.0)N/m\n",
      " \n",
      "De la ley de hooke, la constante del resorte es K\n",
      "Por ende la constante del resorte es: 98 N/m\n",
      "----------------------------------\n",
      "Gráficando y comparando con los puntos obtenidos por los datos, tenemos:\n"
     ]
    },
    {
     "data": {
      "text/plain": [
       "Text(0.5, 0, 'F(N)')"
      ]
     },
     "execution_count": 9,
     "metadata": {},
     "output_type": "execute_result"
    },
    {
     "data": {
      "image/png": "[encoded data removed]",
      "text/plain": [
       "<Figure size 432x288 with 1 Axes>"
      ]
     },
     "metadata": {
      "needs_background": "light"
     },
     "output_type": "display_data"
    }
   ],
   "source": [
    "#Resorte sencillo\n",
    "import pandas as pd\n",
    "import matplotlib.pyplot as plt\n",
    "import numpy as np\n",
    "from scipy.optimize import curve_fit\n",
    "datos=pd.read_csv('Datos.csv')\n",
    "print('--------------------------')\n",
    "Δl=0.5/100#m\n",
    "\n",
    "print('Haciendo una ajuste lineal (el mejor ajuste de acuerdo al fenómeno y los datos es el lineal.):')\n",
    "fig,ax=plt.subplots()\n",
    "def func(x, m):\n",
    "    return m*x\n",
    "ajuste,covarianza= curve_fit(func,datos['Δx(m)'].tolist(),datos['F(N)'].tolist())\n",
    "desviacionestandar=np.sqrt(np.diag(covarianza))\n",
    "m=round(ajuste[0])\n",
    "Δm=desviacionestandar[0]\n",
    "print('El ajuste es F(Δx)=kΔx,tiene como parametros:')\n",
    "print(' ')\n",
    "print(str('k=(')+str(m)+str('+-')+str(Δm)+str(')N/m'))\n",
    "print(' ')\n",
    "print('De la ley de hooke, la constante del resorte es K')\n",
    "print('Por ende la constante del resorte es:',m,'N/m')\n",
    "print('----------------------------------')\n",
    "print('Gráficando y comparando con los puntos obtenidos por los datos, tenemos:')\n",
    "x1=datos['Δx(m)'].tolist()[0]\n",
    "x2=datos['Δx(m)'].tolist()[-1]\n",
    "x=np.linspace(x1,x2,1000)\n",
    "ax.plot(x,func(x,m),color='red')\n",
    "ax.scatter(datos['Δx(m)'],datos['F(N)'],color='blue')\n",
    "ax.set_title('ajuste lineal F(N) vs Δx(m)')\n",
    "ax.set_ylabel('Δx(m)')\n",
    "ax.set_xlabel('F(N)')\n",
    "\n"
   ]
  },
  {
   "cell_type": "code",
   "execution_count": 10,
   "id": "06477605",
   "metadata": {},
   "outputs": [
    {
     "name": "stdout",
     "output_type": "stream",
     "text": [
      "Haciendo una ajuste lineal (el mejor ajuste de acuerdo al fenómeno y los datos es el lineal.):\n",
      "El ajuste es F(Δx)=kΔx,tiene como parametros:\n",
      " \n",
      "k=(196+-0.0)N/m\n",
      " \n",
      "De la ley de hooke, la constante del resorte es K\n",
      "Por ende la constante del resorte es: 196 N/m\n",
      "----------------------------------\n",
      "Gráficando y comparando con los puntos obtenidos por los datos, tenemos:\n"
     ]
    },
    {
     "data": {
      "text/plain": [
       "Text(0.5, 0, 'F(N)')"
      ]
     },
     "execution_count": 10,
     "metadata": {},
     "output_type": "execute_result"
    },
    {
     "data": {
      "image/png": "[encoded data removed]",
      "text/plain": [
       "<Figure size 432x288 with 1 Axes>"
      ]
     },
     "metadata": {
      "needs_background": "light"
     },
     "output_type": "display_data"
    }
   ],
   "source": [
    "#Resorte doble\n",
    "import pandas as pd\n",
    "import matplotlib.pyplot as plt\n",
    "import numpy as np\n",
    "from scipy.optimize import curve_fit\n",
    "datos=pd.read_csv('Datos2.csv')\n",
    "print('Haciendo una ajuste lineal (el mejor ajuste de acuerdo al fenómeno y los datos es el lineal.):')\n",
    "fig,ax=plt.subplots()\n",
    "def func(x, m):\n",
    "    return m*x\n",
    "ajuste,covarianza= curve_fit(func,datos2['Δx(m)'].tolist(),datos2['F(N)'].tolist())\n",
    "desviacionestandar=np.sqrt(np.diag(covarianza))\n",
    "m=round(ajuste[0])\n",
    "Δm=desviacionestandar[0]\n",
    "print('El ajuste es F(Δx)=kΔx,tiene como parametros:')\n",
    "print(' ')\n",
    "print(str('k=(')+str(m)+str('+-')+str(Δm)+str(')N/m'))\n",
    "print(' ')\n",
    "print('De la ley de hooke, la constante del resorte es K')\n",
    "print('Por ende la constante del resorte es:',m,'N/m')\n",
    "print('----------------------------------')\n",
    "print('Gráficando y comparando con los puntos obtenidos por los datos, tenemos:')\n",
    "x1=datos2['Δx(m)'].tolist()[0]\n",
    "x2=datos2['Δx(m)'].tolist()[-1]\n",
    "x=np.linspace(x1,x2,1000)\n",
    "ax.plot(x,func(x,m),color='red')\n",
    "ax.scatter(datos2['Δx(m)'],datos2['F(N)'],color='blue')\n",
    "ax.set_title('ajuste lineal F(N) vs Δx(m)')\n",
    "ax.set_ylabel('Δx(m)')\n",
    "ax.set_xlabel('F(N)')\n"
   ]
  },
  {
   "cell_type": "code",
   "execution_count": 11,
   "id": "96893ce0",
   "metadata": {},
   "outputs": [
    {
     "name": "stdout",
     "output_type": "stream",
     "text": [
      "0.27 0.27\n",
      "La energía final es igual a la inicial, efectivamente se conserva la energía\n"
     ]
    }
   ],
   "source": [
    "#Confirmación, conservación de la energía\n",
    "g=9.8#m/s**2#para todos los experimentos este es el valor de la gravedad\n",
    "#Experimento 1(Cálculo K(doble) con energía)\n",
    "m=175/1000#kg\n",
    "hi=16/100#m\n",
    "hf=5.5/100#m\n",
    "Δh=round(hi-hf,3)#m\n",
    "xi=7.0/100#m\n",
    "xf=2.5/100#m\n",
    "Δx=round(xf-xi,3)#m\n",
    "print(round(m*g*hi,2),round(m*g*hf+(1/2)*k*(Δx**2),2))\n",
    "print('La energía final es igual a la inicial, efectivamente se conserva la energía')"
   ]
  },
  {
   "cell_type": "code",
   "execution_count": 12,
   "id": "4b45a388",
   "metadata": {},
   "outputs": [
    {
     "name": "stdout",
     "output_type": "stream",
     "text": [
      "Haciendo una ajuste lineal (el mejor ajuste de acuerdo al fenómeno y los datos es el lineal.):\n",
      "El ajuste es F(Δx)=kΔx,tiene como parametros:\n",
      " \n",
      "k=(196+-0.0)N/m\n",
      " \n",
      "De la ley de hooke, la constante del resorte es K\n",
      "Por ende la constante del resorte es: 196 N/m\n",
      "----------------------------------\n",
      "Gráficando y comparando con los puntos obtenidos por los datos, tenemos:\n"
     ]
    },
    {
     "data": {
      "text/plain": [
       "Text(0.5, 0, 'F(N)')"
      ]
     },
     "execution_count": 12,
     "metadata": {},
     "output_type": "execute_result"
    },
    {
     "data": {
      "image/png": "[encoded data removed]",
      "text/plain": [
       "<Figure size 432x288 with 1 Axes>"
      ]
     },
     "metadata": {
      "needs_background": "light"
     },
     "output_type": "display_data"
    }
   ],
   "source": [
    "import pandas as pd\n",
    "import matplotlib.pyplot as plt\n",
    "import numpy as np\n",
    "from scipy.optimize import curve_fit\n",
    "datos=pd.read_csv('Datos2.csv')\n",
    "print('Haciendo una ajuste lineal (el mejor ajuste de acuerdo al fenómeno y los datos es el lineal.):')\n",
    "fig,ax=plt.subplots()\n",
    "def func(x, m):\n",
    "    return m*x\n",
    "ajuste,covarianza= curve_fit(func,datos2['Δx(m)'].tolist(),datos2['F(N)'].tolist())\n",
    "desviacionestandar=np.sqrt(np.diag(covarianza))\n",
    "m=round(ajuste[0])\n",
    "Δm=desviacionestandar[0]\n",
    "print('El ajuste es F(Δx)=kΔx,tiene como parametros:')\n",
    "print(' ')\n",
    "print(str('k=(')+str(m)+str('+-')+str(Δm)+str(')N/m'))\n",
    "print(' ')\n",
    "print('De la ley de hooke, la constante del resorte es K')\n",
    "print('Por ende la constante del resorte es:',m,'N/m')\n",
    "print('----------------------------------')\n",
    "print('Gráficando y comparando con los puntos obtenidos por los datos, tenemos:')\n",
    "x1=datos2['Δx(m)'].tolist()[0]\n",
    "x2=datos2['Δx(m)'].tolist()[-1]\n",
    "x=np.linspace(x1,x2,1000)\n",
    "ax.plot(x,func(x,m),color='red')\n",
    "ax.scatter(datos2['Δx(m)'],datos2['F(N)'],color='blue')\n",
    "ax.set_title('ajuste lineal F(N) vs Δx(m)')\n",
    "ax.set_ylabel('Δx(m)')\n",
    "ax.set_xlabel('F(N)')"
   ]
  }
 ],
 "metadata": {
  "kernelspec": {
   "display_name": "Python 3",
   "language": "python",
   "name": "python3"
  },
  "language_info": {
   "codemirror_mode": {
    "name": "ipython",
    "version": 3
   },
   "file_extension": ".py",
   "mimetype": "text/x-python",
   "name": "python",
   "nbconvert_exporter": "python",
   "pygments_lexer": "ipython3",
   "version": "3.8.8"
  }
 },
 "nbformat": 4,
 "nbformat_minor": 5
}
