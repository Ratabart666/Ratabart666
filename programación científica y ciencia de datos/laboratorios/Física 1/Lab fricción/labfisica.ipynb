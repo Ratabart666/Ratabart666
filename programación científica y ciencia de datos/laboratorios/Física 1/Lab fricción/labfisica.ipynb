{
 "cells": [
  {
   "cell_type": "code",
   "execution_count": 2,
   "id": "14d0395a",
   "metadata": {
    "scrolled": true
   },
   "outputs": [
    {
     "name": "stdout",
     "output_type": "stream",
     "text": [
      "Estos son los datos obtenidos\n",
      "   t(s)   x(m)\n",
      "0   0.0  0.000\n",
      "1   0.1  0.010\n",
      "2   0.2  0.025\n",
      "3   0.3  0.055\n",
      "4   0.4  0.095\n",
      "5   0.5  0.145\n",
      "6   0.6  0.190\n",
      "θmax=0.45(Angúlo en el cual comienza a deslizar(rad))\n",
      "Δθmax=0.01(Incertidumbre angúlo(rad))\n",
      "Δt=0.005(Incertidumbre tiempo(s))\n",
      "Δx=0.005(Incertidumbre longitud(m))\n",
      "-----------------------------------\n",
      "Esta es la representación gráfica con su incertidumbre de x(m) vs t(s)\n"
     ]
    },
    {
     "data": {
      "text/plain": [
       "Text(0.5, 0, 't(s)')"
      ]
     },
     "execution_count": 2,
     "metadata": {},
     "output_type": "execute_result"
    },
    {
     "data": {
      "image/png": "[encoded data removed]",
      "text/plain": [
       "<Figure size 432x288 with 1 Axes>"
      ]
     },
     "metadata": {
      "needs_background": "light"
     },
     "output_type": "display_data"
    }
   ],
   "source": [
    "#PUNTO 1\n",
    "import pandas as pd\n",
    "import matplotlib.pyplot as plt\n",
    "import numpy as np\n",
    "from scipy.optimize import curve_fit\n",
    "datos=pd.read_csv('datos.csv')\n",
    "Δt=0.01/2#s\n",
    "Δx=0.01/2#m\n",
    "θmax=round(np.radians(26),2)#radianes\n",
    "Δθmax=round(np.radians(1/2),2)#radianes\n",
    "print('Estos son los datos obtenidos')\n",
    "print(datos)\n",
    "print('θmax='+str(θmax)+'(Angúlo en el cual comienza a deslizar(rad))')\n",
    "print('Δθmax='+str(Δθmax)+'(Incertidumbre angúlo(rad))')\n",
    "print('Δt='+str(Δt)+'(Incertidumbre tiempo(s))')\n",
    "print('Δx='+str(Δx)+'(Incertidumbre longitud(m))')\n",
    "print('-----------------------------------')\n",
    "fig,ax=plt.subplots()\n",
    "print('Esta es la representación gráfica con su incertidumbre de x(m) vs t(s)')\n",
    "ax.errorbar(datos['t(s)'],datos['x(m)'],xerr=Δt,yerr=Δx,ecolor='orange')\n",
    "ax.set_title('x(m) vs t(s)')\n",
    "ax.set_ylabel('x(m)')\n",
    "ax.set_xlabel('t(s)')\n",
    "\n",
    "\n",
    "\n",
    "\n",
    "\n",
    "\n",
    "\n"
   ]
  },
  {
   "cell_type": "code",
   "execution_count": 3,
   "id": "ef3974d0",
   "metadata": {},
   "outputs": [
    {
     "name": "stdout",
     "output_type": "stream",
     "text": [
      "Haciendo una ajuste(el mejor ajuste de acuerdo al fenómeno y los datos es el cuadrático):\n",
      "El ajuste es x(t)=at**2+b*t+c,tiene como parametros:\n",
      "a=(0.44+-0.04)m/s**2, b=(0.06+-0.03)m/s, c=(-0.0+-0.0)m\n",
      "----------------------------------\n",
      "Gráficando y comparando con los puntos obtenidos por los datos, tenemos\n"
     ]
    },
    {
     "data": {
      "text/plain": [
       "Text(0.5, 0, 't(s)')"
      ]
     },
     "execution_count": 3,
     "metadata": {},
     "output_type": "execute_result"
    },
    {
     "data": {
      "image/png": "[encoded data removed]",
      "text/plain": [
       "<Figure size 432x288 with 1 Axes>"
      ]
     },
     "metadata": {
      "needs_background": "light"
     },
     "output_type": "display_data"
    }
   ],
   "source": [
    "#PUNTO 1\n",
    "print('Haciendo una ajuste(el mejor ajuste de acuerdo al fenómeno y los datos es el cuadrático):')\n",
    "fig,ax=plt.subplots()\n",
    "def func(x, a, b, c):\n",
    "    return a*(x**2)+b*x+c\n",
    "ajuste,covarianza= curve_fit(func,datos['t(s)'].tolist(),datos['x(m)'].tolist())\n",
    "desviacionestandar=np.sqrt(np.diag(covarianza))\n",
    "a=round(ajuste[0],2)\n",
    "b=round(ajuste[1],2)\n",
    "c=round(ajuste[2],2)\n",
    "Δa=round(desviacionestandar[0],2)\n",
    "Δb=round(desviacionestandar[1],2)\n",
    "Δc=round(desviacionestandar[2],2)\n",
    "print('El ajuste es x(t)=at**2+b*t+c,tiene como parametros:')\n",
    "print(str('a=(')+str(a)+str('+-')+str(Δa)+str(')m/s**2,'),str('b=(')+str(b)+str('+-')+str(Δb)+str(')m/s,'),str('c=(')+str(c)+str('+-')+str(Δc)+str(')m'))\n",
    "print('----------------------------------')\n",
    "print('Gráficando y comparando con los puntos obtenidos por los datos, tenemos')\n",
    "x1=datos['t(s)'].tolist()[0]\n",
    "x2=datos['t(s)'].tolist()[-1]\n",
    "x=np.linspace(x1,x2,1000)\n",
    "ax.plot(x,func(x,a,b,c),color='red')\n",
    "ax.scatter(datos['t(s)'],datos['x(m)'],color='blue')\n",
    "ax.set_title('x(m) vs t(s)')\n",
    "ax.set_ylabel('x(m)')\n",
    "ax.set_xlabel('t(s)')\n",
    "\n"
   ]
  },
  {
   "cell_type": "code",
   "execution_count": 109,
   "id": "3419f694",
   "metadata": {},
   "outputs": [
    {
     "name": "stdout",
     "output_type": "stream",
     "text": [
      "Calculamos usmax de manera teórica a través del angúlo de elevación, damos su respectivo error:\n",
      "-----------------------\n",
      "usmax=0.48+-0.01\n"
     ]
    }
   ],
   "source": [
    "#PUNTO 2\n",
    "print('Calculamos usmax de manera teórica a través del angúlo de elevación, damos su respectivo error:')\n",
    "#En las notas se demuestra está formula, us=tan(θ)\n",
    "us=round(np.tan(θmax),2)\n",
    "#Se puede demostrar derivando y haciendo una aproximación lineal la formúla de la incertidumbre,Δus=sec**2(θ)*Δθ\n",
    "Δus=abs(round(((1/np.cos(θmax))**2)*Δθmax,2))\n",
    "print('-----------------------')\n",
    "print('usmax='+str(us)+str('+-')+str(Δus))"
   ]
  },
  {
   "cell_type": "code",
   "execution_count": 129,
   "id": "74da5654",
   "metadata": {},
   "outputs": [
    {
     "name": "stdout",
     "output_type": "stream",
     "text": [
      "Calculamos a través del ajuste, el coeficiente de fricción cinetíca uk y la aceleración: \n",
      "Importante:realizamos el experimento en la tierra,tomamos g=9,80m/s**2 y suponemos que este valor no tiene incertidumbre\n",
      "------------------------------------\n",
      "aceleración=(0.88+-0.08)m/s**2\n",
      "uk=0.38+-0.02\n"
     ]
    }
   ],
   "source": [
    "#PUNTO 3\n",
    "print('Calculamos a través del ajuste, el coeficiente de fricción cinetíca uk y la aceleración: ')\n",
    "print('Importante:realizamos el experimento en la tierra,tomamos g=9,80m/s**2 y suponemos que este valor no tiene incertidumbre')\n",
    "#(1/2)aceleracion=a,aceleracion=2*a\n",
    "aceleracion=2*a\n",
    "Δaceleracion=2*Δa\n",
    "print('------------------------------------')\n",
    "print('aceleración=('+str(aceleracion)+'+-'+str(Δaceleracion)+str(')m/s**2'))\n",
    "#aceleracion=gsinθ-ukgcosθ, ukgcosθ=gsinθ-aceleracion, uk=(gsinθ-aceleracion)/gcosθ\n",
    "#En las notas derivamos parcialmente la expresión para obtener la incertidumbre de uk\n",
    "uk=round((9.8*np.sin(θmax)-aceleracion)/(9.8*np.cos(θmax)),2)\n",
    "Δuk=round(abs(Δaceleracion/(np.cos(θmax)*9.80))+abs(((1/np.cos(θmax))*((1/np.cos(θmax))-((aceleracion*np.tan(θmax))/9.8)))*Δθmax),2)\n",
    "print('uk='+str(uk)+'+-'+str(Δuk))"
   ]
  }
 ],
 "metadata": {
  "kernelspec": {
   "display_name": "Python 3",
   "language": "python",
   "name": "python3"
  },
  "language_info": {
   "codemirror_mode": {
    "name": "ipython",
    "version": 3
   },
   "file_extension": ".py",
   "mimetype": "text/x-python",
   "name": "python",
   "nbconvert_exporter": "python",
   "pygments_lexer": "ipython3",
   "version": "3.8.8"
  }
 },
 "nbformat": 4,
 "nbformat_minor": 5
}
