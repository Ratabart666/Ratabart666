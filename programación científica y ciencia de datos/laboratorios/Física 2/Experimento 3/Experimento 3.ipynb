{
 "cells": [
  {
   "cell_type": "markdown",
   "id": "4a07e914",
   "metadata": {},
   "source": [
    "# DATOS"
   ]
  },
  {
   "cell_type": "code",
   "execution_count": 264,
   "id": "e1e7f60c",
   "metadata": {},
   "outputs": [],
   "source": [
    "import matplotlib.pyplot as plt\n",
    "import pandas as pd\n",
    "from scipy.optimize import curve_fit\n",
    "import numpy as np"
   ]
  },
  {
   "cell_type": "code",
   "execution_count": 265,
   "id": "8ddfd51c",
   "metadata": {},
   "outputs": [
    {
     "name": "stdout",
     "output_type": "stream",
     "text": [
      "   V(mL)     P(kPa)      T(C)  1/V(1/mL)\n",
      "0     16  71.325601  9.552031   0.062500\n",
      "1     14  72.276385  9.555319   0.071429\n",
      "2     12  73.144320  9.565182   0.083333\n",
      "3     10  73.976748  9.571756   0.100000\n",
      "4      8  74.895971  9.604619   0.125000\n",
      "5      6  75.704728  9.586547   0.166667\n",
      "6      4  76.722580  9.619401   0.250000\n",
      "-----------------------------------------------------\n",
      "   V(mL)     P(KPa)       T(C)\n",
      "0      4  82.510129  31.963705\n",
      "1      4  82.024874  29.614123\n",
      "2      4  81.776329  28.160056\n",
      "3      4  81.622468  27.180295\n",
      "4      4  81.468607  25.742348\n",
      "5      4  81.204281  24.762555\n",
      "6      4  81.074091  23.633722\n"
     ]
    }
   ],
   "source": [
    "datosPvsV=pd.read_csv('Datos P vs V.txt')\n",
    "datosPvsT=pd.read_csv('Datos P vs T.txt')\n",
    "\n",
    "print(datosPvsV)\n",
    "print('-----------------------------------------------------')\n",
    "print(datosPvsT)"
   ]
  },
  {
   "cell_type": "markdown",
   "id": "1b0566d2",
   "metadata": {},
   "source": [
    "# ANÁLISIS CUANTITATIVO"
   ]
  },
  {
   "cell_type": "markdown",
   "id": "e98dd45f",
   "metadata": {},
   "source": [
    "## Gráficas experimentales"
   ]
  },
  {
   "cell_type": "code",
   "execution_count": 266,
   "id": "86503eac",
   "metadata": {},
   "outputs": [
    {
     "data": {
      "text/plain": [
       "Text(0.5, 1.0, 'P vs 1/V')"
      ]
     },
     "execution_count": 266,
     "metadata": {},
     "output_type": "execute_result"
    },
    {
     "data": {
      "image/png": "[encoded data removed]",
      "text/plain": [
       "<Figure size 432x288 with 3 Axes>"
      ]
     },
     "metadata": {
      "needs_background": "light"
     },
     "output_type": "display_data"
    }
   ],
   "source": [
    "fig, ax = plt.subplots(1,3)\n",
    "\n",
    "ax[0].scatter(datosPvsV['V(mL)'],datosPvsV['P(kPa)'])\n",
    "ax[0].set_ylabel('P(KPa)')\n",
    "ax[0].set_xlabel('V(mL)')\n",
    "ax[0].set_title('P vs V')\n",
    "\n",
    "ax[1].scatter(datosPvsT['T(C)'],datosPvsT['P(KPa)'],color='red')\n",
    "ax[1].set_ylabel('P(KPa)')\n",
    "ax[1].set_xlabel('T(C)')\n",
    "ax[1].set_title('P vs T')\n",
    "\n",
    "ax[2].scatter(datosPvsV['1/V(1/mL)'],datosPvsV['P(kPa)'],color='green')\n",
    "ax[2].set_ylabel('P(KPa)')\n",
    "ax[2].set_xlabel('1/V(1/mL)')\n",
    "ax[2].set_title('P vs 1/V')\n"
   ]
  },
  {
   "cell_type": "markdown",
   "id": "58d918fe",
   "metadata": {},
   "source": [
    "## P vs V"
   ]
  },
  {
   "cell_type": "markdown",
   "id": "d194db08",
   "metadata": {},
   "source": [
    "#### Ajuste datos P vs V (Logger Pro):"
   ]
  },
  {
   "cell_type": "markdown",
   "id": "695080e4",
   "metadata": {},
   "source": [
    "P = A*V^B\n",
    "A: 82,15 +/- 0,6947(KPa/mL)\n",
    "B: -0,04662 +/- 0,003951(adimensional)\n",
    "Correlation: 0,9859"
   ]
  },
  {
   "cell_type": "markdown",
   "id": "444763a8",
   "metadata": {},
   "source": [
    "El exponente al ser negativo, nos indica la relación inversamente de crecimiento entre el volumen y la presión, a mayor magnitud, mayor es esta relación inversa de crecimiento; es decir para un mismo incremento de volumen habrá una mayor disminución de presión, se cumple un resultado similar si la la magnitud es menor."
   ]
  },
  {
   "cell_type": "markdown",
   "id": "9ba94343",
   "metadata": {},
   "source": [
    "#### Ajuste de datos lineal P vs(1/ V)(linealización):"
   ]
  },
  {
   "cell_type": "markdown",
   "id": "0cd5c004",
   "metadata": {},
   "source": [
    "$$P=\\frac{1}{V}m+b$$"
   ]
  },
  {
   "cell_type": "code",
   "execution_count": 267,
   "id": "78415542",
   "metadata": {},
   "outputs": [
    {
     "name": "stdout",
     "output_type": "stream",
     "text": [
      "Hacemos una ajuste lineal P vs (1/V).\n",
      " \n",
      "El ajuste P(1/V)=m*(1/V)+b,tiene como parámetros:\n",
      " \n",
      "m=(26.7+-4.82)KPa*mL, b=(70.7+-0.662)kpa.\n",
      "Gráficando P vs V con el ajuste y comparando los puntos experimentales tenemos:\n"
     ]
    },
    {
     "data": {
      "text/plain": [
       "Text(0.5, 1.0, 'P vs V')"
      ]
     },
     "execution_count": 267,
     "metadata": {},
     "output_type": "execute_result"
    },
    {
     "data": {
      "image/png": "[encoded data removed]",
      "text/plain": [
       "<Figure size 432x288 with 1 Axes>"
      ]
     },
     "metadata": {
      "needs_background": "light"
     },
     "output_type": "display_data"
    }
   ],
   "source": [
    "def func(x, m, b):\n",
    "    return m*x+b\n",
    "\n",
    "print('Hacemos una ajuste lineal P vs (1/V).')\n",
    "print(' ')\n",
    "ajuste,covarianza= curve_fit(func,datosPvsV['1/V(1/mL)'].tolist(),datosPvsV['P(kPa)'].tolist())\n",
    "desviacionestandar=np.sqrt(np.diag(covarianza))\n",
    "m=round(ajuste[0],1)\n",
    "b=round(ajuste[1],1)\n",
    "Δm=round(desviacionestandar[0],2)\n",
    "Δb=round(desviacionestandar[1],3)\n",
    "print('El ajuste P(1/V)=m*(1/V)+b,tiene como parámetros:')\n",
    "print(' ')\n",
    "print(str('m=(')+str(m)+str('+-')+str(Δm)+str(')KPa*mL,'),str('b=(')+str(b)+str('+-')+str(Δb)+str(')kpa.'))\n",
    "print('Gráficando P vs V con el ajuste y comparando los puntos experimentales tenemos:')\n",
    "\n",
    "fig,ax = plt.subplots() \n",
    "x0=datosPvsV['V(mL)'].tolist()[0]\n",
    "xf=datosPvsV['V(mL)'].tolist()[-1]\n",
    "x=np.linspace(x0,xf,1000)\n",
    "ax.scatter(datosPvsV['V(mL)'],datosPvsV['P(kPa)'],color='red')\n",
    "ax.plot(x,(1/x)*m+b,color='blue')\n",
    "ax.set_xlabel('v(mL)')  \n",
    "ax.set_ylabel('P(KPa)')  \n",
    "ax.set_title('P vs V')\n"
   ]
  },
  {
   "cell_type": "markdown",
   "id": "6aed4252",
   "metadata": {},
   "source": [
    "La pendiente del ajuste lineal P vs (1/V) significa la variación de la presión con el inverso de la temperatura. En otras palabras, el aumento de la presión correspondiente a un aumento en una unidad del 'inverso del volumen'"
   ]
  },
  {
   "cell_type": "markdown",
   "id": "3c3b4b6d",
   "metadata": {},
   "source": [
    "## P vs T"
   ]
  },
  {
   "cell_type": "markdown",
   "id": "912c1214",
   "metadata": {},
   "source": [
    "#### Ajuste de datos P vs T:"
   ]
  },
  {
   "cell_type": "markdown",
   "id": "66d86bf1",
   "metadata": {},
   "source": [
    "$$P=mT+b$$"
   ]
  },
  {
   "cell_type": "code",
   "execution_count": 273,
   "id": "b932b1b2",
   "metadata": {},
   "outputs": [
    {
     "name": "stdout",
     "output_type": "stream",
     "text": [
      "Hacemos una ajuste lineal P vs T.\n",
      " \n",
      "El ajuste es P(T)=m*(T)+b,tiene como parámetros:\n",
      " \n",
      "m=(0.17+-0.007)KPa/C, b=(77.04+-0.2)KPa.\n",
      "Gráficando el ajuste y comparando los puntos experimentales tenemos:\n"
     ]
    },
    {
     "data": {
      "text/plain": [
       "Text(0.5, 1.0, 'P vs T')"
      ]
     },
     "execution_count": 273,
     "metadata": {},
     "output_type": "execute_result"
    },
    {
     "data": {
      "image/png": "[encoded data removed]",
      "text/plain": [
       "<Figure size 432x288 with 1 Axes>"
      ]
     },
     "metadata": {
      "needs_background": "light"
     },
     "output_type": "display_data"
    }
   ],
   "source": [
    "def func(x, m, b):\n",
    "    return m*x+b\n",
    "\n",
    "print('Hacemos una ajuste lineal P vs T.')\n",
    "print(' ')\n",
    "ajuste,covarianza= curve_fit(func,datosPvsT['T(C)'].tolist(),datosPvsT['P(KPa)'].tolist())\n",
    "desviacionestandar=np.sqrt(np.diag(covarianza))\n",
    "m=round(ajuste[0],3)\n",
    "b=round(ajuste[1],2)\n",
    "Δm=round(desviacionestandar[0],3)\n",
    "Δb=round(desviacionestandar[1],1)\n",
    "print('El ajuste es P(T)=m*(T)+b,tiene como parámetros:')\n",
    "print(' ')\n",
    "print(str('m=(')+str(m)+str('+-')+str(Δm)+str(')KPa/C,'),str('b=(')+str(b)+str('+-')+str(Δb)+str(')KPa.'))\n",
    "print('Gráficando el ajuste y comparando los puntos experimentales tenemos:')\n",
    "\n",
    "fig,ax = plt.subplots() \n",
    "x0=datosPvsT['T(C)'].tolist()[0]\n",
    "xf=datosPvsT['T(C)'].tolist()[-1]\n",
    "x=np.linspace(x0,xf,1000)\n",
    "ax.scatter(datosPvsT['T(C)'],datosPvsT['P(KPa)'],color='red')\n",
    "ax.plot(x,x*m+b,color='blue')\n",
    "ax.set_xlabel('T(C)')  \n",
    "ax.set_ylabel('P(KPa)')  \n",
    "ax.set_title('P vs T')\n"
   ]
  },
  {
   "cell_type": "markdown",
   "id": "dcd7b420",
   "metadata": {},
   "source": [
    "En esto contexto la pendiente significa el aumento de presión a cada unidad de temperatura"
   ]
  },
  {
   "cell_type": "markdown",
   "id": "303b58da",
   "metadata": {},
   "source": [
    "#### Cero absoluto experimental"
   ]
  },
  {
   "cell_type": "markdown",
   "id": "8506ed4b",
   "metadata": {},
   "source": [
    "El punto donde la presión se hace cero, corresponde a una coordenada en T(C) de (-b/m), así podemos hallar el 0 absoluto en grados celsius experimentalmente. A continuación se muestra el 0 absoluto en grados celsius"
   ]
  },
  {
   "cell_type": "code",
   "execution_count": 274,
   "id": "633f7775",
   "metadata": {},
   "outputs": [
    {
     "data": {
      "text/plain": [
       "'El cero absoluto obtenido experimentalmente es: -453 C'"
      ]
     },
     "execution_count": 274,
     "metadata": {},
     "output_type": "execute_result"
    }
   ],
   "source": [
    "'El cero absoluto obtenido experimentalmente es: '+str(round(-b/m))+' C'"
   ]
  },
  {
   "cell_type": "markdown",
   "id": "4b4d2551",
   "metadata": {},
   "source": [
    "#### Descartando datos para obtener un valor experimental más cercano al teórico"
   ]
  },
  {
   "cell_type": "markdown",
   "id": "0ce8f605",
   "metadata": {},
   "source": [
    "Se tuvieron que descartar la mayoría de los datos, ya que estos mismo se ajustaban muy bien a la recta; sin embargo cuando se elijen los 2 puntos a continuación, se puede notar de la gráfica anterior, que estos 2 datos se ajustan menos a la recta anterior y presentan a simple vista,un punto de corte mucho menor que el obtenido anteriormente."
   ]
  },
  {
   "cell_type": "code",
   "execution_count": 275,
   "id": "f91ea7b0",
   "metadata": {},
   "outputs": [
    {
     "name": "stdout",
     "output_type": "stream",
     "text": [
      "   V(mL)     P(KPa)       T(C)\n",
      "0      4  81.204281  24.762555\n",
      "1      4  81.468607  25.742348\n"
     ]
    },
    {
     "name": "stderr",
     "output_type": "stream",
     "text": [
      "C:\\Users\\Asus\\anaconda3\\lib\\site-packages\\scipy\\optimize\\minpack.py:828: OptimizeWarning: Covariance of the parameters could not be estimated\n",
      "  warnings.warn('Covariance of the parameters could not be estimated',\n"
     ]
    }
   ],
   "source": [
    "datosPvsT2corr=pd.read_csv('Datos P vs T-datos descartados.txt')\n",
    "print(datosPvsT2corr)\n",
    "ajuste,covarianza= curve_fit(func,datosPvsT2corr['T(C)'].tolist(),datosPvsT2corr['P(KPa)'].tolist())\n",
    "desviacionestandar=np.sqrt(np.diag(covarianza))\n",
    "m=round(ajuste[0],3)\n",
    "b=round(ajuste[1],2)\n",
    "\n",
    "\n"
   ]
  },
  {
   "cell_type": "code",
   "execution_count": 276,
   "id": "cea27885",
   "metadata": {},
   "outputs": [
    {
     "data": {
      "text/plain": [
       "'El cero absoluto obtenido experimentalmente(descartando datos) es: -276 C'"
      ]
     },
     "execution_count": 276,
     "metadata": {},
     "output_type": "execute_result"
    }
   ],
   "source": [
    "'El cero absoluto obtenido experimentalmente(descartando datos) es: '+str(round(-b/m))+' C'"
   ]
  },
  {
   "cell_type": "markdown",
   "id": "a30097b4",
   "metadata": {},
   "source": [
    "#### Estimando la densidad del aire: (Debemos colocar las unidades correctamente)"
   ]
  },
  {
   "cell_type": "markdown",
   "id": "1ad08ab2",
   "metadata": {},
   "source": [
    "$$P=mT+b$$\n",
    "$$P=\\frac{R \\rho }{M}T$$\n",
    "haciendo el ajuste lineal(m es el parámetro del ajuste) y despejando la densidad queda\n",
    "$$\\rho=\\frac{Mm}{R}$$\n",
    "\n"
   ]
  },
  {
   "cell_type": "markdown",
   "id": "57e88b51",
   "metadata": {},
   "source": [
    "Debido a que se usó la ecuación de los gases ideales,las unidades se modifican; es así como la presión se pasa a Pascales, la temperatura a Kelvin y la masa molar a kg/mol"
   ]
  },
  {
   "cell_type": "code",
   "execution_count": 261,
   "id": "a85eac43",
   "metadata": {},
   "outputs": [
    {
     "name": "stdout",
     "output_type": "stream",
     "text": [
      "Hacemos una ajuste lineal P vs T.\n",
      " \n",
      "El ajuste es P(T)=m*(T),tiene como parámetros:\n",
      " \n",
      "m=(272+-0.375)Pa/K,\n",
      "De la ecuación anterior, la densidad del aire(M=28.966g/mol y R=8.314J/mol*K) es(: 0.948 +- 0.001 )kg/m**3\n"
     ]
    }
   ],
   "source": [
    "M=28.966e-3#kg/mol\n",
    "R=8.314#J/mol*K\n",
    "datosPvsT2=pd.DataFrame()\n",
    "datosPvsT2['T(K)']=datosPvsT['T(C)']+273.15\n",
    "datosPvsT2['P(Pa)']=datosPvsT['P(KPa)']*1e3\n",
    "\n",
    "def func(x, m):\n",
    "    return m*x\n",
    "\n",
    "print('Hacemos una ajuste lineal P vs T.')\n",
    "print(' ')\n",
    "ajuste,covarianza= curve_fit(func,datosPvsT2['T(K)'].tolist(),datosPvsT2['P(Pa)'].tolist())\n",
    "desviacionestandar=np.sqrt(np.diag(covarianza))\n",
    "m=round(ajuste[0])\n",
    "Δm=round(desviacionestandar[0],3)\n",
    "print('El ajuste es P(T)=m*(T),tiene como parámetros:')\n",
    "print(' ')\n",
    "print(str('m=(')+str(m)+str('+-')+str(Δm)+str(')Pa/K,'))\n",
    "rho=round((m*M)*(1/R),3)\n",
    "Δrho=round((M/R)*Δm,3)\n",
    "#unidades rho (kg/mol)*(Pa/K)*(mol*k/J)=kg*Pa*(1/J)=kg*(Newton/m**2)(1/Newton*metro)=kg/m**3\n",
    "print('De la ecuación anterior, la densidad del aire(M=28.966g/mol y R=8.314J/mol*K) es(:',rho,'+-',Δrho,')kg/m**3')"
   ]
  },
  {
   "cell_type": "markdown",
   "id": "7b880287",
   "metadata": {},
   "source": [
    "# Análisis cualitativo"
   ]
  },
  {
   "cell_type": "markdown",
   "id": "251fb7b9",
   "metadata": {},
   "source": [
    "#### ¿Cómo se comporta el volumen al aumentar T y mantener constante P?\n"
   ]
  },
  {
   "cell_type": "markdown",
   "id": "37a99bbf",
   "metadata": {},
   "source": [
    "Tenderá a aumentar,esto puede ser deducido de la ley del gas ideal"
   ]
  },
  {
   "cell_type": "markdown",
   "id": "74934c60",
   "metadata": {},
   "source": [
    "#### ¿Cómo se comporta la presión al aumentar T y mantener constante V ?\n"
   ]
  },
  {
   "cell_type": "markdown",
   "id": "3eae7738",
   "metadata": {},
   "source": [
    "Tenderá a aumentar, esto puede ser deducido de la ley del gas ideal"
   ]
  },
  {
   "cell_type": "markdown",
   "id": "0d80e390",
   "metadata": {},
   "source": [
    "#### En la sección de teoría se mencionó que el modelo del gas ideal tiende a fallar para bajas temperaturas y altas presiones ¿Cómo cree que difiere el volumen calculado con el modelo del gas ideal al volumen real cuando la presión es alta? (mayor, menor, no cambia). ¿Cómo cree que difiere la presión calculada con el modelo del gas ideal a la presión real cuando la temperatura es muy baja? (mayor, menor, no cambia). Justifique sus respuestas.\n"
   ]
  },
  {
   "cell_type": "markdown",
   "id": "ddba7103",
   "metadata": {},
   "source": [
    "a) Cuando la presión es alta el volumen real es mayor al volumen ideal, ya que al haber mayor presión el volumen de las moléculas ya es apreciable,esto porque interaccionan más frecuentemente con ellas mismas en vez del recipiente y se necesita un pequeño volumen de exceso en comparación al gas ideal para una presión dada, esto para que las moléculas interaccionen más con el recipiente.\n",
    "b)Cuando la temperatura es baja, las moléculas ''se mueven menos'', al moverse menos tienen más facilidad para interaccionar entre si por medio de fuerzas intramoleculares;esto ocasiona que al tratar de chocar con el recipiente, lo hagan con menos intensidad, ya que que sus compañeras jalan la molécula en dirección contraria al recipiente. Esta menor intensidad de los choques de las moléculas con la pared, se expresa en una presión menor a la del gas ideal(esto porque el modelo desprecia las interacciones intermoleculares)"
   ]
  },
  {
   "cell_type": "markdown",
   "id": "f33cc1b1",
   "metadata": {},
   "source": [
    "# Conclusiones"
   ]
  },
  {
   "cell_type": "markdown",
   "id": "48ea5684",
   "metadata": {},
   "source": [
    "Hemos comprobado la ley de los gases ideales, ya que como se aprecia hemos acertado númericamente sobre la relación de las variables\n",
    "termodinámicas. Adicionalmente hemos usado esta ley para teorizar la temperatura con 'cero movimiento molecular' y calculado la densidad del aire.\n",
    "Por último hemos hallado los siguientes valores experimentales con un error aceptable:\n",
    "$$\\rho aire=0.948$$\n",
    "$$Cero absoluto=-276 C$$\n",
    "\n",
    "    "
   ]
  }
 ],
 "metadata": {
  "kernelspec": {
   "display_name": "Python 3",
   "language": "python",
   "name": "python3"
  },
  "language_info": {
   "codemirror_mode": {
    "name": "ipython",
    "version": 3
   },
   "file_extension": ".py",
   "mimetype": "text/x-python",
   "name": "python",
   "nbconvert_exporter": "python",
   "pygments_lexer": "ipython3",
   "version": "3.8.8"
  }
 },
 "nbformat": 4,
 "nbformat_minor": 5
}
