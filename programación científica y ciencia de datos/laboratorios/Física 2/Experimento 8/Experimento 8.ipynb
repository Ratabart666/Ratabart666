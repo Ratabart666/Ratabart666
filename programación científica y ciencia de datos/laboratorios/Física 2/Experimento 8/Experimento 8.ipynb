{
 "cells": [
  {
   "cell_type": "markdown",
   "id": "bb38731e",
   "metadata": {},
   "source": [
    "# Librerias"
   ]
  },
  {
   "cell_type": "code",
   "execution_count": 1,
   "id": "785f0fe6",
   "metadata": {
    "ExecuteTime": {
     "end_time": "2022-05-02T16:15:51.284191Z",
     "start_time": "2022-05-02T16:15:49.143720Z"
    }
   },
   "outputs": [],
   "source": [
    "import pandas as pd \n",
    "import Algoritmosnumericos as Alg \n",
    "import matplotlib.pyplot as plt \n",
    "plt.style.use('dark_background')\n",
    "%matplotlib widget\n",
    "%config InlineBackend.figure_format = 'retina'"
   ]
  },
  {
   "cell_type": "markdown",
   "id": "29239d86",
   "metadata": {},
   "source": [
    "# Circuito"
   ]
  },
  {
   "attachments": {
    "1.png": {
     "image/png": "[encoded data removed]"
    }
   },
   "cell_type": "markdown",
   "id": "a9dc5545",
   "metadata": {},
   "source": [
    "![1.png](attachment:1.png)"
   ]
  },
  {
   "cell_type": "markdown",
   "id": "55e0ff26",
   "metadata": {},
   "source": [
    "# Análisis cuantitativo"
   ]
  },
  {
   "cell_type": "code",
   "execution_count": 3,
   "id": "59af8e28",
   "metadata": {
    "ExecuteTime": {
     "end_time": "2022-05-02T16:24:02.944504Z",
     "start_time": "2022-05-02T16:24:02.936505Z"
    }
   },
   "outputs": [],
   "source": [
    "R1 = 1  # Ω\n",
    "R2 = 1  # Ω\n",
    "R3 = 1  # Ω\n",
    "R4 = 1  # Ω\n",
    "R5 = 1  # Ω\n",
    "R6 = 1  # Ω\n",
    "V_fuente = 10  # V\n",
    "V1 = 1  # V\n",
    "V2 = 1  # V\n",
    "V3 = 1  # V\n",
    "V4 = 1  # V\n",
    "V5 = 1  # V\n",
    "V6 = 1  # V\n",
    "ΣVMalla_1 = 3  # V\n",
    "ΣVMalla_2 = 3  # V\n",
    "ΣVMalla_3 = 3  # V\n",
    "ΣINodo_c = 2  # I\n",
    "ΣINodo_f = 2  # I\n",
    "ΣINodo_h = 2  # I\n",
    "ΣINodo_e = 2  # I"
   ]
  },
  {
   "cell_type": "markdown",
   "id": "0df892e2",
   "metadata": {},
   "source": [
    "# Análisis Cualitativo"
   ]
  },
  {
   "cell_type": "markdown",
   "id": "c98a18df",
   "metadata": {},
   "source": [
    "- Explique cómo se puede medir la corriente que pasa\n",
    "a través de una resistencia usando la ley de Ohm y\n",
    "un voltímetro. Pregúntese qué información adicional\n",
    "necesitaría y cómo podría obtenerla.\n",
    "\n",
    "**R//**\n",
    "\n",
    "- Indique si es posible conectar resistencias tal que no se\n",
    "puedan reducir a alguna combinación de resistencias\n",
    "en serie y en paralelo Si es así, de ejemplos, y si no,\n",
    "diga por qué.\n",
    "\n",
    "**R//**\n",
    "\n",
    "- Si usted conecta N bombillos (resistencias) idénticos\n",
    "a una batería (fuente). ¿Cómo se compara el brillo\n",
    "(potencia) de cada bombillo a medida que se conectan\n",
    "más y más de ellos al circuito, si se conectan i) en\n",
    "serie, y ii) en paralelo?\n",
    "¿En qué caso la batería durará más? Justifique.\n",
    "\n",
    "**R//**\n"
   ]
  },
  {
   "cell_type": "markdown",
   "id": "07bbfaf4",
   "metadata": {},
   "source": [
    "# Conclusiones"
   ]
  },
  {
   "cell_type": "markdown",
   "id": "aaba79f9",
   "metadata": {},
   "source": [
    " "
   ]
  }
 ],
 "metadata": {
  "hide_input": false,
  "kernelspec": {
   "display_name": "Python 3 (ipykernel)",
   "language": "python",
   "name": "python3"
  },
  "language_info": {
   "codemirror_mode": {
    "name": "ipython",
    "version": 3
   },
   "file_extension": ".py",
   "mimetype": "text/x-python",
   "name": "python",
   "nbconvert_exporter": "python",
   "pygments_lexer": "ipython3",
   "version": "3.8.8"
  },
  "nbTranslate": {
   "displayLangs": [
    "*"
   ],
   "hotkey": "alt-t",
   "langInMainMenu": true,
   "sourceLang": "en",
   "targetLang": "fr",
   "useGoogleTranslate": true
  },
  "toc": {
   "base_numbering": 1,
   "nav_menu": {},
   "number_sections": false,
   "sideBar": true,
   "skip_h1_title": false,
   "title_cell": "Table of Contents",
   "title_sidebar": "Contents",
   "toc_cell": false,
   "toc_position": {},
   "toc_section_display": true,
   "toc_window_display": true
  },
  "varInspector": {
   "cols": {
    "lenName": 16,
    "lenType": 16,
    "lenVar": 40
   },
   "kernels_config": {
    "python": {
     "delete_cmd_postfix": "",
     "delete_cmd_prefix": "del ",
     "library": "var_list.py",
     "varRefreshCmd": "print(var_dic_list())"
    },
    "r": {
     "delete_cmd_postfix": ") ",
     "delete_cmd_prefix": "rm(",
     "library": "var_list.r",
     "varRefreshCmd": "cat(var_dic_list()) "
    }
   },
   "types_to_exclude": [
    "module",
    "function",
    "builtin_function_or_method",
    "instance",
    "_Feature"
   ],
   "window_display": false
  }
 },
 "nbformat": 4,
 "nbformat_minor": 5
}
