{
 "cells": [
  {
   "cell_type": "code",
   "execution_count": 2,
   "id": "c15d3cdf",
   "metadata": {},
   "outputs": [
    {
     "name": "stdout",
     "output_type": "stream",
     "text": [
      "Los datos para obtener el producto de solubilidad del Hidróxido de calcio son:\n",
      " \n",
      "   Volumen solución saturada Ca(OH)2(mL)  VHCl(mL)(0.1M) punto de viraje\n",
      "0                                     25                             7.3\n",
      "1                                     25                             6.9\n",
      "-------------------\n",
      "Los datos para obtener el producto de solubilidad del Hidróxido de calcio con el efecto del ion común son:\n",
      " \n",
      "   Volumen solución saturada Ca(OH)2(mL)  VCaCl2(mL)(0.1M)  \\\n",
      "0                                     25                 5   \n",
      "1                                     25                 5   \n",
      "\n",
      "   VHCl(punto viraje)(mL)  \n",
      "0                     7.0  \n",
      "1                     6.8  \n",
      "-------------------\n"
     ]
    }
   ],
   "source": [
    "import pandas as pd\n",
    "import numpy as np\n",
    "datosKps=pd.read_csv('Producto de solubilidad Hidroxido de Calcio.csv')\n",
    "datosioncomun=pd.read_csv('Efecto del Ión común.csv')\n",
    "print('Los datos para obtener el producto de solubilidad del Hidróxido de calcio son:')\n",
    "print(' ')\n",
    "print(datosKps)\n",
    "print('-------------------')\n",
    "print('Los datos para obtener el producto de solubilidad del Hidróxido de calcio con el efecto del ion común son:')\n",
    "print(' ')\n",
    "print(datosioncomun)\n",
    "print('-------------------')"
   ]
  },
  {
   "cell_type": "code",
   "execution_count": 3,
   "id": "7d7d30f8",
   "metadata": {},
   "outputs": [
    {
     "name": "stdout",
     "output_type": "stream",
     "text": [
      "La solubilidad del hidróxido de calcio es:\n",
      " \n",
      "( 1.05 )g/L\n"
     ]
    }
   ],
   "source": [
    "solubilidad=(((datosKps['VHCl(mL)(0.1M) punto de viraje'])*10**-3)*(0.1)*(1/2)*74)/(((datosKps['Volumen solución saturada Ca(OH)2(mL)'])*10**-3))\n",
    "print('La solubilidad del hidróxido de calcio es:')\n",
    "print(' ')\n",
    "print('(',round(solubilidad.mean(),2),')g/L')\n"
   ]
  },
  {
   "cell_type": "code",
   "execution_count": 4,
   "id": "e4a4b21d",
   "metadata": {},
   "outputs": [
    {
     "name": "stdout",
     "output_type": "stream",
     "text": [
      "Los resultados para la constante de equilibrio son:\n",
      " \n",
      "( 11 ) e-6\n"
     ]
    }
   ],
   "source": [
    "Mhidrocal=(((datosKps['VHCl(mL)(0.1M) punto de viraje'])*10**-3)*(0.1)*(1/2))/((datosKps['Volumen solución saturada Ca(OH)2(mL)'])*10**-3)\n",
    "Kps=(Mhidrocal)*((2*Mhidrocal)**2)\n",
    "print('Los resultados para la constante de equilibrio son:')\n",
    "print(' ')\n",
    "print('(',round(Kps.mean()*10**6),') e-6')\n"
   ]
  },
  {
   "cell_type": "code",
   "execution_count": 5,
   "id": "8c8261de",
   "metadata": {},
   "outputs": [
    {
     "name": "stdout",
     "output_type": "stream",
     "text": [
      "La solubilidad del hidróxido de calcio con el efecto del ión común es:\n",
      " \n",
      "( 0.8 )g/L\n"
     ]
    }
   ],
   "source": [
    "solubilidad=(((datosioncomun['VHCl(punto viraje)(mL)'])*10**-3)*(0.1)*(1/2)*74)/((datosioncomun['Volumen solución saturada Ca(OH)2(mL)']+datosioncomun['VHCl(punto viraje)(mL)'])*10**-3)\n",
    "print('La solubilidad del hidróxido de calcio con el efecto del ión común es:')\n",
    "print(' ')\n",
    "print('(',round(solubilidad.mean(),2),')g/L')\n"
   ]
  },
  {
   "cell_type": "code",
   "execution_count": 6,
   "id": "3bc6852c",
   "metadata": {},
   "outputs": [
    {
     "name": "stdout",
     "output_type": "stream",
     "text": [
      "Con ecuaciones termoquimicas obtenemos la energía estandar libre de gibbs para la solubilidad en agua del Ca(OH)2 (temperatura aproximada de 291K)\n",
      " \n",
      "28 kJ/mol reacción\n"
     ]
    }
   ],
   "source": [
    "print('Con ecuaciones termoquimicas obtenemos la energía estandar libre de gibbs para la solubilidad en agua del Ca(OH)2 (temperatura aproximada de 291K)')\n",
    "R=8.3144\n",
    "ΔG=-R*298*np.log(Kps.mean())\n",
    "print(' ')\n",
    "print(round(ΔG/1000),'kJ/mol reacción')"
   ]
  },
  {
   "cell_type": "code",
   "execution_count": null,
   "id": "0b20d739",
   "metadata": {},
   "outputs": [],
   "source": []
  }
 ],
 "metadata": {
  "kernelspec": {
   "display_name": "Python 3",
   "language": "python",
   "name": "python3"
  },
  "language_info": {
   "codemirror_mode": {
    "name": "ipython",
    "version": 3
   },
   "file_extension": ".py",
   "mimetype": "text/x-python",
   "name": "python",
   "nbconvert_exporter": "python",
   "pygments_lexer": "ipython3",
   "version": "3.8.8"
  }
 },
 "nbformat": 4,
 "nbformat_minor": 5
}
