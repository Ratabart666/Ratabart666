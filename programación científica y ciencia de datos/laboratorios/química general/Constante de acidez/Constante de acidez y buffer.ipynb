{
 "cells": [
  {
   "cell_type": "code",
   "execution_count": 2,
   "id": "29c7795b",
   "metadata": {},
   "outputs": [],
   "source": [
    "import pandas as pd\n",
    "import matplotlib.pyplot as plt\n",
    "import numpy as np"
   ]
  },
  {
   "cell_type": "code",
   "execution_count": 3,
   "id": "14ab4df3",
   "metadata": {},
   "outputs": [
    {
     "name": "stdout",
     "output_type": "stream",
     "text": [
      "Datos\n",
      " \n",
      "     pH  Vaa(mL)  Vnv(mL)(0.1M)\n",
      "0  2.92     10.0           10.2\n",
      "1  2.92     10.0           10.1\n",
      "-----------------------\n",
      "Concentración ácido acético\n",
      " \n",
      "( 0.101 +- 0.001 )M\n",
      "-----------------------\n",
      "Concentración iones hidronio\n",
      " \n",
      "( 0.0012 +- 0.0 )M\n",
      "-----------------------\n",
      "Constante de equilibrio de la reacción\n",
      " \n",
      "( 1.42 +- 0.01 )*10(**-5)\n"
     ]
    }
   ],
   "source": [
    "import matplotlib.pyplot as plt\n",
    "datosv=pd.read_csv('Valoración acido acetico.csv')\n",
    "M=(datosv['Vnv(mL)(0.1M)']*(10**-3))*0.1/(10*(10**-3))\n",
    "MH3O=10**(-datosv['pH'])\n",
    "K=((MH3O)**2/(M))\n",
    "print('Datos')\n",
    "print(' ')\n",
    "print(datosv)\n",
    "print('-----------------------')\n",
    "print('Concentración ácido acético')\n",
    "print(' ')\n",
    "print('(',round(M.mean(),3),'+-',round(M.std(),3),')M')\n",
    "print('-----------------------')\n",
    "print('Concentración iones hidronio')\n",
    "print(' ')\n",
    "print('(',round(MH3O.mean(),5),'+-',round(MH3O.std(),7),')M')\n",
    "print('-----------------------')\n",
    "print('Constante de equilibrio de la reacción')\n",
    "print(' ')\n",
    "print('(',round(K.mean(),7)*10**5,'+-',round(K.std(),7)*10**5,')*10(**-5)')\n"
   ]
  },
  {
   "cell_type": "code",
   "execution_count": 4,
   "id": "e733e3b6",
   "metadata": {},
   "outputs": [
    {
     "name": "stdout",
     "output_type": "stream",
     "text": [
      "-----------------------\n",
      "   VHCl(mL)    pH\n",
      "0         1  4.46\n",
      "1         2  4.26\n",
      "2         3  4.06\n",
      "3         4  2.72\n",
      "4         5  2.41\n",
      "-----------------------\n",
      "   VNaOH(mL)    pH\n",
      "0          1  5.17\n",
      "1          2  5.24\n",
      "2          3  5.46\n",
      "3          4  5.83\n",
      "4          5  9.25\n"
     ]
    }
   ],
   "source": [
    "#Comportamiento buffer ácido acético\n",
    "pH=4.76\n",
    "Molaridad_HCl_y_NaOH=0.1#M\n",
    "datos1=pd.read_csv('Comportamiento buffer con acido fuerte.csv')\n",
    "datos2=pd.read_csv('Comportamiento buffer con base fuerte.csv')\n",
    "print('-----------------------')\n",
    "print(datos1)\n",
    "print('-----------------------')\n",
    "print(datos2)"
   ]
  },
  {
   "cell_type": "code",
   "execution_count": 5,
   "id": "1c1b3174",
   "metadata": {},
   "outputs": [
    {
     "data": {
      "text/plain": [
       "Text(0.5, 0, 'mL NaOH(0.1M) ad buffer')"
      ]
     },
     "execution_count": 5,
     "metadata": {},
     "output_type": "execute_result"
    },
    {
     "data": {
      "image/png": "[encoded data removed]",
      "text/plain": [
       "<Figure size 432x288 with 2 Axes>"
      ]
     },
     "metadata": {
      "needs_background": "light"
     },
     "output_type": "display_data"
    }
   ],
   "source": [
    "import matplotlib.pyplot as plt\n",
    "fig, ax = plt.subplots(1,2)\n",
    "ax[0].scatter(datos1['VHCl(mL)'],datos1['pH'])\n",
    "ax[0].set_title('buffer vs ácido fuerte')\n",
    "ax[0].set_xlabel('mL HCl(0.1M) ad buffer')\n",
    "ax[0].set_ylabel('pH')\n",
    "ax[1].scatter(datos2['VNaOH(mL)'],datos2['pH'],color='red')\n",
    "ax[1].set_title('buffer vs base fuerte')\n",
    "ax[1].set_xlabel('mL NaOH(0.1M) ad buffer')\n",
    "\n",
    "\n",
    "\n"
   ]
  },
  {
   "cell_type": "code",
   "execution_count": 7,
   "id": "fdd8ce6d",
   "metadata": {},
   "outputs": [
    {
     "name": "stdout",
     "output_type": "stream",
     "text": [
      "Con ecuaciones termoquimicas obtenemos la energía estandar libre de gibbs estandar para la ionización en agua del ácido acético (temperatura aproximada de 291K)\n",
      " \n",
      "28 kJ/mol reacción\n"
     ]
    }
   ],
   "source": [
    "print('Con ecuaciones termoquimicas obtenemos la energía estandar libre de gibbs estandar para la ionización en agua del ácido acético (temperatura aproximada de 291K)')\n",
    "K=K.mean()\n",
    "R=8.3144\n",
    "ΔG=-R*298*np.log(K)\n",
    "print(' ')\n",
    "print(round(ΔG/1000),'kJ/mol reacción')\n",
    "\n"
   ]
  }
 ],
 "metadata": {
  "kernelspec": {
   "display_name": "Python 3",
   "language": "python",
   "name": "python3"
  },
  "language_info": {
   "codemirror_mode": {
    "name": "ipython",
    "version": 3
   },
   "file_extension": ".py",
   "mimetype": "text/x-python",
   "name": "python",
   "nbconvert_exporter": "python",
   "pygments_lexer": "ipython3",
   "version": "3.8.8"
  }
 },
 "nbformat": 4,
 "nbformat_minor": 5
}
