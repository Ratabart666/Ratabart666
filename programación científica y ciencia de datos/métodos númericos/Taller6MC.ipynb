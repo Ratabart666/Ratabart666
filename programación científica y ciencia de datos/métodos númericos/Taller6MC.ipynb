{
 "cells": [
  {
   "cell_type": "markdown",
   "metadata": {
    "id": "0Z8Dn_z6Mb9b"
   },
   "source": [
    "# Taller 6\n",
    "\n",
    "## Métodos Computacionales 1 2022-10\n",
    "\n",
    "Instrucciones: Suba el jupyter notebook **.ipynb** en la actividad de bloque neon. El archivo debe ser nombrado ApellidoNombre_ApellidoNombre_Taller6.ipynb. **El archivo debe poder correr en el binder de la magistral** \n",
    "\n",
    "Si un ejercicio demora **más de 10 segundos** en correr se considerará **incorrecto**.\n",
    "\n",
    "No modifique el cuaderno, ni los casos de prueba, puede correr los casos de prueba pero no modificarlos.\n",
    "\n",
    "**Entrega: Lunes 16 de Mayo 11:59 pm**"
   ]
  },
  {
   "cell_type": "markdown",
   "metadata": {
    "id": "VvtNBbxJ0n7a"
   },
   "source": [
    "## Librerias"
   ]
  },
  {
   "cell_type": "code",
   "execution_count": 1,
   "metadata": {
    "id": "mmgcGeXk0pPA"
   },
   "outputs": [],
   "source": [
    "import numpy as np\n",
    "import matplotlib.pyplot as plt\n",
    "from scipy.stats import norm, multivariate_normal "
   ]
  },
  {
   "cell_type": "markdown",
   "metadata": {
    "id": "TtDSGwXXOzhk"
   },
   "source": [
    "## Problema 1\n",
    "\n",
    "Resolver los siguientes problemas con 30000 pasos de MonteCarlo. Además planteé la ecuación que resuelve el problema\n",
    "\n",
    "a) Un examen de opción múltiple contiene 30 preguntas, cada una con cinco respuestas posibles. Supongase que el estudiante sólo adivina las respuestas. ¿Cuál es la probabilidad de que el estudiante conteste de manera correcta más de 20 preguntas? \n",
    "\n",
    "a) En una central teléfonica se reciben llamadas según las leyes de un proceso de Poisson, con un promedio de diez llamadas por hora, ¿Cuál es la probabilidad de que ninguna llamada sea recibida entre las 8am y las 12 del medio día?"
   ]
  },
  {
   "cell_type": "markdown",
   "metadata": {
    "id": "7xE2bIxWNz14"
   },
   "source": [
    "Escriba aquí tus ecuaciones aquí"
   ]
  },
  {
   "cell_type": "code",
   "execution_count": 2,
   "metadata": {
    "id": "H5fcdvWON5xf"
   },
   "outputs": [],
   "source": [
    "# tu codigo aqui"
   ]
  },
  {
   "cell_type": "markdown",
   "metadata": {
    "id": "xLdV95A5DY-l"
   },
   "source": [
    "## Problema 2\n",
    "\n",
    "Considere las dos caracteristicas \"Alcohol level\" y \"Alcalinity level\" del conjunto de datos [wine_data](https://scikit-learn.org/stable/modules/generated/sklearn.datasets.load_wine.html). Pueden usar el notebook que vimos en clase la referencia es el siguiente curso. \n",
    "[Machine Learning Fundamentals UC San Diego](https://www.edx.org/es/course/machine-learning-fundamentals-2)"
   ]
  },
  {
   "cell_type": "code",
   "execution_count": null,
   "metadata": {
    "colab": {
     "base_uri": "https://localhost:8080/"
    },
    "id": "WK56oFi5BHMz",
    "outputId": "666d1e99-438c-421f-b483-c1ee92ea8b0b"
   },
   "outputs": [
    {
     "data": {
      "text/plain": [
       "((178,), (178,))"
      ]
     },
     "execution_count": 3,
     "metadata": {},
     "output_type": "execute_result"
    }
   ],
   "source": [
    "from sklearn.datasets import load_wine\n",
    "import scipy.stats\n",
    "\n",
    "alcohol_levels = load_wine()['data'][:, [0]].ravel()\n",
    "alcalinity_levels = load_wine()['data'][:, [3]].ravel()\n",
    "\n",
    "alcohol_levels.shape, alcalinity_levels.shape"
   ]
  },
  {
   "cell_type": "markdown",
   "metadata": {
    "id": "w9TDfMOMGC--"
   },
   "source": [
    "a) A partir de esas dos caracteristicas del vino, calcule el vector $\\vec{\\mu}$ y la matrix de covarianza $\\Sigma$, \n",
    "\n",
    "$$\n",
    "\\vec{\\mu} = \\begin{bmatrix}\n",
    "\\mu_x\\\\\n",
    "\\mu_y\n",
    "\\end{bmatrix}, \\quad \\Sigma = \\begin{bmatrix}\n",
    "\\text{Var}(x) & \\text{Cov}(x, y)\\\\\n",
    "\\text{Cov}(y, x) & \\text{Var}(y)\n",
    "\\end{bmatrix}\n",
    "$$"
   ]
  },
  {
   "cell_type": "code",
   "execution_count": 4,
   "metadata": {
    "colab": {
     "base_uri": "https://localhost:8080/"
    },
    "id": "RMVO6JheB4L1",
    "outputId": "c1cb149c-afcd-4b58-fb0c-cf3801a08ee9"
   },
   "outputs": [
    {
     "name": "stdout",
     "output_type": "stream",
     "text": [
      "[0. 0.] [[0. 0.]\n",
      " [0. 0.]]\n"
     ]
    }
   ],
   "source": [
    "## Tu codigo aqui\n",
    "mu = np.zeros(2)\n",
    "covar = np.zeros((2, 2))\n",
    "\n",
    "\n",
    "\n",
    "print(mu, covar)"
   ]
  },
  {
   "cell_type": "markdown",
   "metadata": {
    "id": "wgwnS3uQHY0l"
   },
   "source": [
    "b) A partir del la matriz de covarianza dibuje los puntos y la gaussiana bivariada, con las curvas de nivel.\n",
    "\n",
    "El resultado se tiene que ver como lo siguiente, \n",
    "\n",
    "![](https://raw.githubusercontent.com/diegour1/MetodosComputacionales1/main/DataFiles/image11.png)"
   ]
  },
  {
   "cell_type": "code",
   "execution_count": null,
   "metadata": {
    "id": "EfXUNg1yGisK"
   },
   "outputs": [],
   "source": [
    "# tu codigo aqui"
   ]
  },
  {
   "cell_type": "markdown",
   "metadata": {
    "id": "QQ703UhFHr4F"
   },
   "source": [
    "c) Diagonalice la matriz de covarianza, es decir obtenga los valores propios y vectores propios de la matriz de covarianza"
   ]
  },
  {
   "cell_type": "code",
   "execution_count": 5,
   "metadata": {
    "colab": {
     "base_uri": "https://localhost:8080/"
    },
    "id": "U6Vv9XzwStEg",
    "outputId": "12afb1b5-e652-480e-92bc-1409b0dc8322"
   },
   "outputs": [
    {
     "name": "stdout",
     "output_type": "stream",
     "text": [
      "[0. 0.] [[0. 0.]\n",
      " [0. 0.]]\n"
     ]
    }
   ],
   "source": [
    "# Tu codigo aquí\n",
    "eig_vals = np.zeros(2)\n",
    "eig_vecs = np.zeros((2, 2))\n",
    "\n",
    "\n",
    "\n",
    "print(eig_vals, eig_vecs)"
   ]
  },
  {
   "cell_type": "markdown",
   "metadata": {
    "id": "0NbXN5dXIjnT"
   },
   "source": [
    "d) A partir de los vectores propios y valores propios de la matriz, y el vector $\\vec{\\mu}$.\n",
    "\n",
    "*   Desplace los datos de forma que el promedio de los datos en juntas coordenadas sea cero.\n",
    "*   Rote los datos de forma que la covarianza de los datos sea cero.\n",
    "*   Gráfique la gaussiana de los nuevos datos rotados con sus curvas de nivel, a partir de la diagonzalización de la matrix de covarianza original (parte c). No volver a usar la función `np.cov()` de numpy.\n",
    "\n",
    "Una rotación de puntos en dos dimensiones se puede ver como una matriz de la forma,\n",
    "\n",
    "$$\n",
    "\\text{Rot}(\\theta) = \\begin{bmatrix}\n",
    "\\cos{\\theta} & -\\sin{\\theta}\\\\\n",
    "\\sin{\\theta} & \\cos{\\theta}\n",
    "\\end{bmatrix}\n",
    "$$\n",
    "\n",
    "La gráfica se debe ver como lo siguiente,\n",
    "\n",
    "![](https://raw.githubusercontent.com/diegour1/MetodosComputacionales1/main/DataFiles/image12.png)"
   ]
  },
  {
   "cell_type": "code",
   "execution_count": null,
   "metadata": {
    "id": "CXXs3eL_SW8e"
   },
   "outputs": [],
   "source": [
    "# tu codigo aqui\n",
    "\n",
    "\n"
   ]
  },
  {
   "cell_type": "markdown",
   "metadata": {
    "id": "rmMGythIMLDN"
   },
   "source": [
    "Nota: Las coordenadas de los nuevos datos se llaman Componentes principales, lo que hicimos fue basicamente el método PCA, el cual permite reducir la dimensionalidad de los datos, ignorando las componentes menos importantes."
   ]
  },
  {
   "cell_type": "markdown",
   "metadata": {
    "id": "Haqd76Hlz2V6"
   },
   "source": [
    "## Problema 3\n",
    "\n",
    "Un método para medir el nivel de pH de una solución resulta en una medición con un valor que está distribuido de forma normal con un promedio igual al nivel de pH y una desviación estándar de 0.05. Un ingeniero ambiental afirma que las dos soluciones vienen de la misma fuente. Si esta hipótesis fuera correcta entonces el nivel de pH de las soluciones sería igual. Para probar la veracidad de esta afirmación se realizaron 10 mediciones independientes del nivel de pH de juntas soluciones, los datos son los siguientes.\n",
    "\n",
    "![](https://raw.githubusercontent.com/diegour1/MetodosComputacionales1/main/DataFiles/image10.png)\n",
    "\n",
    "1.   Calcule el $p$ value, guárdelo en la variable `p_value`.\n",
    "2.   Qué puede concluir con un level of significance de $\\alpha = 0.05$, guarde la conclusión en el string `conclusion`\n",
    "\n",
    "Incluya el siguiente `print` al final:\n",
    "\n",
    "```\n",
    "print(f\"p value = {p_value}, la conclusion es:  {conclusion}\")\n",
    "```\n",
    "\n",
    "\n",
    "\n"
   ]
  },
  {
   "cell_type": "code",
   "execution_count": null,
   "metadata": {
    "colab": {
     "base_uri": "https://localhost:8080/"
    },
    "id": "1Dzy37PS7-rg",
    "outputId": "30ecba38-fb77-4685-df61-3b6cb511e59a"
   },
   "outputs": [
    {
     "name": "stdout",
     "output_type": "stream",
     "text": [
      "0\n",
      "p value = 0, la conclusion es:  \n"
     ]
    }
   ],
   "source": [
    "# tu codigo aqui\n",
    "p_value = 0\n",
    "conclusion = \"\"\n",
    "\n",
    "\n",
    "\n",
    "print(p_value)\n",
    "print(f\"p value = {p_value}, la conclusion es:  {conclusion}\")"
   ]
  }
 ],
 "metadata": {
  "colab": {
   "name": "Taller6MC.ipynb",
   "provenance": []
  },
  "hide_input": false,
  "kernelspec": {
   "display_name": "Python 3 (ipykernel)",
   "language": "python",
   "name": "python3"
  },
  "language_info": {
   "codemirror_mode": {
    "name": "ipython",
    "version": 3
   },
   "file_extension": ".py",
   "mimetype": "text/x-python",
   "name": "python",
   "nbconvert_exporter": "python",
   "pygments_lexer": "ipython3",
   "version": "3.8.8"
  },
  "nbTranslate": {
   "displayLangs": [
    "*"
   ],
   "hotkey": "alt-t",
   "langInMainMenu": true,
   "sourceLang": "en",
   "targetLang": "fr",
   "useGoogleTranslate": true
  },
  "toc": {
   "base_numbering": 1,
   "nav_menu": {},
   "number_sections": false,
   "sideBar": true,
   "skip_h1_title": false,
   "title_cell": "Table of Contents",
   "title_sidebar": "Contents",
   "toc_cell": false,
   "toc_position": {},
   "toc_section_display": true,
   "toc_window_display": true
  },
  "varInspector": {
   "cols": {
    "lenName": 16,
    "lenType": 16,
    "lenVar": 40
   },
   "kernels_config": {
    "python": {
     "delete_cmd_postfix": "",
     "delete_cmd_prefix": "del ",
     "library": "var_list.py",
     "varRefreshCmd": "print(var_dic_list())"
    },
    "r": {
     "delete_cmd_postfix": ") ",
     "delete_cmd_prefix": "rm(",
     "library": "var_list.r",
     "varRefreshCmd": "cat(var_dic_list()) "
    }
   },
   "types_to_exclude": [
    "module",
    "function",
    "builtin_function_or_method",
    "instance",
    "_Feature"
   ],
   "window_display": false
  }
 },
 "nbformat": 4,
 "nbformat_minor": 1
}
