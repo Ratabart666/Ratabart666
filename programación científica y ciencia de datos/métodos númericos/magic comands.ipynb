{
 "cells": [
  {
   "cell_type": "code",
   "execution_count": 41,
   "id": "37a10ef9",
   "metadata": {
    "ExecuteTime": {
     "end_time": "2022-04-14T17:29:17.494431Z",
     "start_time": "2022-04-14T17:29:17.489430Z"
    }
   },
   "outputs": [],
   "source": [
    "#%automagic"
   ]
  },
  {
   "cell_type": "code",
   "execution_count": 42,
   "id": "024d72ca",
   "metadata": {
    "ExecuteTime": {
     "end_time": "2022-04-14T17:29:17.906463Z",
     "start_time": "2022-04-14T17:29:17.897461Z"
    }
   },
   "outputs": [
    {
     "name": "stdout",
     "output_type": "stream",
     "text": [
      "CPU times: total: 0 ns\n",
      "Wall time: 0 ns\n"
     ]
    }
   ],
   "source": [
    "%time"
   ]
  },
  {
   "cell_type": "code",
   "execution_count": 43,
   "id": "e8ae9f95",
   "metadata": {
    "ExecuteTime": {
     "end_time": "2022-04-14T17:29:18.608512Z",
     "start_time": "2022-04-14T17:29:18.505504Z"
    }
   },
   "outputs": [
    {
     "name": "stdout",
     "output_type": "stream",
     "text": [
      "A\t Alg\t ColorTable\t Compleja\t MSWORD_FRIENDLY\t NamespaceMagics\t P\t PrettyTable\t T\t \n",
      "Themes\t Vf\t Vg\t a\t ajuste\t alpha\t ang_inc\t ang_ref\t autopep8\t \n",
      "ax\t axs\t b\t covarianza\t curve_fit\t datos\t datos1\t datos2\t datosinterpolados\t \n",
      "derivada1\t derivada2\t derivada_central\t derivada_progresiva\t derivada_regresiva\t desviacionestandar\t f\t fig\t func\t \n",
      "get_ipython\t getsizeof\t i\t integral_riemann\t integral_trapecio\t interpolacionlagrange\t json\t lagrange\t m\t \n",
      "newton\t np\t num_collisions\t p\t pd\t plt\t productoria\t r\t stats\t \n",
      "sumatoria\t t\t vacio\t validacion\t var_dic_list\t vf\t w\t x\t x2\t \n",
      "y\t z\t Δb\t Δm\t \n"
     ]
    }
   ],
   "source": [
    "a = [1,2,3]\n",
    "b = \"hi there\"\n",
    "%who"
   ]
  },
  {
   "cell_type": "code",
   "execution_count": 44,
   "id": "1775e181",
   "metadata": {
    "ExecuteTime": {
     "end_time": "2022-04-14T17:29:20.827677Z",
     "start_time": "2022-04-14T17:29:20.821675Z"
    }
   },
   "outputs": [],
   "source": [
    "%pinfo a"
   ]
  },
  {
   "cell_type": "code",
   "execution_count": 30,
   "id": "328f1bb6",
   "metadata": {
    "ExecuteTime": {
     "end_time": "2022-04-14T17:16:18.819257Z",
     "start_time": "2022-04-14T17:16:18.810255Z"
    }
   },
   "outputs": [
    {
     "name": "stdout",
     "output_type": "stream",
     "text": [
      "Overwriting hello_world.py\n"
     ]
    }
   ],
   "source": [
    "%%writefile hello_world.py\n",
    "\n",
    "\n",
    "def hello_world():\n",
    "   print(\"hello world\")"
   ]
  },
  {
   "cell_type": "code",
   "execution_count": 35,
   "id": "504654a9",
   "metadata": {
    "ExecuteTime": {
     "end_time": "2022-04-14T17:18:38.236465Z",
     "start_time": "2022-04-14T17:18:38.226466Z"
    }
   },
   "outputs": [],
   "source": [
    "%pycat Actividad 2(programación orientada a objetos).py"
   ]
  },
  {
   "cell_type": "code",
   "execution_count": 4,
   "id": "3f7afbeb",
   "metadata": {
    "ExecuteTime": {
     "end_time": "2022-04-14T17:05:56.630313Z",
     "start_time": "2022-04-14T17:05:56.619327Z"
    }
   },
   "outputs": [
    {
     "data": {
      "text/latex": [
       "$x\\in \\epsilon$\n"
      ],
      "text/plain": [
       "<IPython.core.display.Latex object>"
      ]
     },
     "metadata": {},
     "output_type": "display_data"
    }
   ],
   "source": [
    "%%latex\n",
    "$x\\in \\epsilon$"
   ]
  },
  {
   "cell_type": "code",
   "execution_count": 5,
   "id": "2cda89ec",
   "metadata": {
    "ExecuteTime": {
     "end_time": "2022-04-14T17:05:57.556379Z",
     "start_time": "2022-04-14T17:05:57.548375Z"
    }
   },
   "outputs": [
    {
     "data": {
      "application/json": {
       "cell": {
        "!": "OSMagics",
        "HTML": "Other",
        "SVG": "Other",
        "bash": "Other",
        "capture": "ExecutionMagics",
        "cmd": "Other",
        "debug": "ExecutionMagics",
        "file": "Other",
        "html": "DisplayMagics",
        "javascript": "DisplayMagics",
        "js": "DisplayMagics",
        "latex": "DisplayMagics",
        "markdown": "DisplayMagics",
        "perl": "Other",
        "prun": "ExecutionMagics",
        "pypy": "Other",
        "python": "Other",
        "python2": "Other",
        "python3": "Other",
        "ruby": "Other",
        "script": "ScriptMagics",
        "sh": "Other",
        "svg": "DisplayMagics",
        "sx": "OSMagics",
        "system": "OSMagics",
        "time": "ExecutionMagics",
        "timeit": "ExecutionMagics",
        "writefile": "OSMagics"
       },
       "line": {
        "alias": "OSMagics",
        "alias_magic": "BasicMagics",
        "autoawait": "AsyncMagics",
        "autocall": "AutoMagics",
        "automagic": "AutoMagics",
        "autosave": "KernelMagics",
        "bookmark": "OSMagics",
        "cd": "OSMagics",
        "clear": "KernelMagics",
        "cls": "KernelMagics",
        "colors": "BasicMagics",
        "conda": "PackagingMagics",
        "config": "ConfigMagics",
        "connect_info": "KernelMagics",
        "copy": "Other",
        "ddir": "Other",
        "debug": "ExecutionMagics",
        "dhist": "OSMagics",
        "dirs": "OSMagics",
        "doctest_mode": "BasicMagics",
        "echo": "Other",
        "ed": "Other",
        "edit": "KernelMagics",
        "env": "OSMagics",
        "gui": "BasicMagics",
        "hist": "Other",
        "history": "HistoryMagics",
        "killbgscripts": "ScriptMagics",
        "ldir": "Other",
        "less": "KernelMagics",
        "load": "CodeMagics",
        "load_ext": "ExtensionMagics",
        "loadpy": "CodeMagics",
        "logoff": "LoggingMagics",
        "logon": "LoggingMagics",
        "logstart": "LoggingMagics",
        "logstate": "LoggingMagics",
        "logstop": "LoggingMagics",
        "ls": "Other",
        "lsmagic": "BasicMagics",
        "macro": "ExecutionMagics",
        "magic": "BasicMagics",
        "matplotlib": "PylabMagics",
        "mkdir": "Other",
        "more": "KernelMagics",
        "notebook": "BasicMagics",
        "page": "BasicMagics",
        "pastebin": "CodeMagics",
        "pdb": "ExecutionMagics",
        "pdef": "NamespaceMagics",
        "pdoc": "NamespaceMagics",
        "pfile": "NamespaceMagics",
        "pinfo": "NamespaceMagics",
        "pinfo2": "NamespaceMagics",
        "pip": "PackagingMagics",
        "popd": "OSMagics",
        "pprint": "BasicMagics",
        "precision": "BasicMagics",
        "prun": "ExecutionMagics",
        "psearch": "NamespaceMagics",
        "psource": "NamespaceMagics",
        "pushd": "OSMagics",
        "pwd": "OSMagics",
        "pycat": "OSMagics",
        "pylab": "PylabMagics",
        "qtconsole": "KernelMagics",
        "quickref": "BasicMagics",
        "recall": "HistoryMagics",
        "rehashx": "OSMagics",
        "reload_ext": "ExtensionMagics",
        "ren": "Other",
        "rep": "Other",
        "rerun": "HistoryMagics",
        "reset": "NamespaceMagics",
        "reset_selective": "NamespaceMagics",
        "rmdir": "Other",
        "run": "ExecutionMagics",
        "save": "CodeMagics",
        "sc": "OSMagics",
        "set_env": "OSMagics",
        "store": "StoreMagics",
        "sx": "OSMagics",
        "system": "OSMagics",
        "tb": "ExecutionMagics",
        "time": "ExecutionMagics",
        "timeit": "ExecutionMagics",
        "unalias": "OSMagics",
        "unload_ext": "ExtensionMagics",
        "who": "NamespaceMagics",
        "who_ls": "NamespaceMagics",
        "whos": "NamespaceMagics",
        "xdel": "NamespaceMagics",
        "xmode": "BasicMagics"
       }
      },
      "text/plain": [
       "Available line magics:\n",
       "%alias  %alias_magic  %autoawait  %autocall  %automagic  %autosave  %bookmark  %cd  %clear  %cls  %colors  %conda  %config  %connect_info  %copy  %ddir  %debug  %dhist  %dirs  %doctest_mode  %echo  %ed  %edit  %env  %gui  %hist  %history  %killbgscripts  %ldir  %less  %load  %load_ext  %loadpy  %logoff  %logon  %logstart  %logstate  %logstop  %ls  %lsmagic  %macro  %magic  %matplotlib  %mkdir  %more  %notebook  %page  %pastebin  %pdb  %pdef  %pdoc  %pfile  %pinfo  %pinfo2  %pip  %popd  %pprint  %precision  %prun  %psearch  %psource  %pushd  %pwd  %pycat  %pylab  %qtconsole  %quickref  %recall  %rehashx  %reload_ext  %ren  %rep  %rerun  %reset  %reset_selective  %rmdir  %run  %save  %sc  %set_env  %store  %sx  %system  %tb  %time  %timeit  %unalias  %unload_ext  %who  %who_ls  %whos  %xdel  %xmode\n",
       "\n",
       "Available cell magics:\n",
       "%%!  %%HTML  %%SVG  %%bash  %%capture  %%cmd  %%debug  %%file  %%html  %%javascript  %%js  %%latex  %%markdown  %%perl  %%prun  %%pypy  %%python  %%python2  %%python3  %%ruby  %%script  %%sh  %%svg  %%sx  %%system  %%time  %%timeit  %%writefile\n",
       "\n",
       "Automagic is ON, % prefix IS NOT needed for line magics."
      ]
     },
     "execution_count": 5,
     "metadata": {},
     "output_type": "execute_result"
    }
   ],
   "source": [
    "%lsmagic"
   ]
  },
  {
   "cell_type": "code",
   "execution_count": 28,
   "id": "dcc737ec",
   "metadata": {
    "ExecuteTime": {
     "end_time": "2022-04-14T17:15:18.078514Z",
     "start_time": "2022-04-14T17:15:18.058506Z"
    },
    "run_control": {
     "marked": false
    }
   },
   "outputs": [],
   "source": [
    "%matplotlib inline\n",
    "%matplotlib widget\n",
    "# %pip\n",
    "# ?'plot'.replace()\n",
    "%config InlineBackend.figure_format = 'retina'"
   ]
  },
  {
   "cell_type": "code",
   "execution_count": null,
   "id": "f3451b38",
   "metadata": {
    "ExecuteTime": {
     "end_time": "2022-04-14T17:13:45.169229Z",
     "start_time": "2022-04-14T17:13:45.162226Z"
    }
   },
   "outputs": [],
   "source": [
    "# %load \"Actividad 2(programación orientada a objetos).py\"\n",
    "#!/usr/bin/env python\n",
    "\n",
    "# In[1]:\n",
    "\n",
    "\n",
    "class Compleja:\n",
    "    def __init__(self, real, compleja):\n",
    "        self.real = real\n",
    "        self.compleja = compleja\n",
    "\n",
    "    def suma(self, other):\n",
    "        return((self.real+other.real, self.compleja+other.compleja))\n",
    "\n",
    "    def resta(self, other):\n",
    "        return((self.real-other.real, self.compleja-other.compleja))\n",
    "\n",
    "    def multiplicacion(self, other):\n",
    "        a = self.real\n",
    "        b = self.compleja\n",
    "        c = other.real\n",
    "        d = other.compleja\n",
    "        return((a*c-b*d, b*c+a*d))\n",
    "\n",
    "    def division(self, other):\n",
    "        a = self.real\n",
    "        b = self.compleja\n",
    "        c = other.real\n",
    "        d = other.compleja\n",
    "        comun = c**2+d**2\n",
    "        return(((a*c+b*d)/comun, (b*c-a*d)/comun))\n",
    "\n",
    "    def norma(self):\n",
    "        a = self.real\n",
    "        b = self.compleja\n",
    "        return((a**2+b**2)**(1/2))\n",
    "# referencia:\n",
    "# http://maralboran.org/wikipedia/index.php/N%C3%BAmeros_complejos:_Operaciones_%281%C2%BABach%29\n",
    "\n",
    "\n",
    "# Creación objetos\n",
    "z = Compleja(2, 1)  # Notación:(parte real,parte imaginaria)\n",
    "y = Compleja(3, 4)\n",
    "w = Compleja(3, 1)\n",
    "# ejemplo suma:\n",
    "print(w.suma(z))\n",
    "print(w.suma(y))\n",
    "print('------------')\n",
    "# ejemplo resta:\n",
    "print(w.resta(z))\n",
    "print(w.resta(y))\n",
    "print('------------')\n",
    "# ejemplo multiplicación:\n",
    "print(w.multiplicacion(z))\n",
    "print(w.multiplicacion(y))\n",
    "print('------------')\n",
    "# ejemplo división\n",
    "print(w.division(z))\n",
    "print(w.division(z))\n",
    "print('----------')\n",
    "# ejemplo norma\n",
    "print(w.norma())\n",
    "print(z.norma())\n",
    "\n",
    "\n",
    "# In[ ]:"
   ]
  },
  {
   "cell_type": "code",
   "execution_count": 48,
   "id": "cf291e49",
   "metadata": {
    "ExecuteTime": {
     "end_time": "2022-04-14T17:30:43.428512Z",
     "start_time": "2022-04-14T17:30:42.864470Z"
    }
   },
   "outputs": [
    {
     "data": {
      "application/vnd.jupyter.widget-view+json": {
       "model_id": "84b63183c45645b8ac6bf0f51a0dfc78",
       "version_major": 2,
       "version_minor": 0
      },
      "image/png": "[encoded data removed]",
      "text/html": [
       "\n",
       "            <div style=\"display: inline-block;\">\n",
       "                <div class=\"jupyter-widgets widget-label\" style=\"text-align: center;\">\n",
       "                    Figure\n",
       "                </div>\n",
       "                <img src='data:image/png;base64,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' width=432.0/>\n",
       "            </div>\n",
       "        "
      ],
      "text/plain": [
       "Canvas(toolbar=Toolbar(toolitems=[('Home', 'Reset original view', 'home', 'home'), ('Back', 'Back to previous …"
      ]
     },
     "metadata": {},
     "output_type": "display_data"
    },
    {
     "name": "stdout",
     "output_type": "stream",
     "text": [
      "--------------------\n",
      "Vector A\n",
      " \n",
      "[3, -1, -1, 0, 0, 0]\n",
      "[-1, 4, -1, -1, 0, 0]\n",
      "[-1, -1, 4, -1, -1, 0]\n",
      "[0, -1, -1, 4, -1, -1]\n",
      "[0, 0, -1, -1, 4, -1]\n",
      "[0, 0, 0, -1, -1, 3]\n",
      "--------------------\n",
      "Vector b\n",
      " \n",
      "[5, 5, 0, 0, 0, 0]\n",
      " \n",
      "--------------------\n",
      "Vector x(solución)\n",
      " \n",
      "[3.72549, 3.431373, 2.745098, 2.254902, 1.568627, 1.27451]\n",
      " \n",
      "--------------------\n",
      "+--------------------+\n",
      "|  Resultado alpha   |\n",
      "+--------------------+\n",
      "| 1.7586206896551726 |\n",
      "+--------------------+\n",
      "-El bloque 2 empieza en reposo y tiene masa de 1 kg\n",
      "-El bloque 1 empieza con una velocidad de -1m/s y se varía la masa\n",
      " \n",
      "+--------------+--------------+\n",
      "| (Masa m1(kg) | # Colisiones |\n",
      "+--------------+--------------+\n",
      "|      1       |      3       |\n",
      "|      10      |      10      |\n",
      "|     100      |      31      |\n",
      "|     1000     |      99      |\n",
      "|    10000     |     314      |\n",
      "|    100000    |     993      |\n",
      "|   1000000    |     3141     |\n",
      "|   10000000   |     9934     |\n",
      "|  100000000   |    31415     |\n",
      "+--------------+--------------+\n"
     ]
    }
   ],
   "source": [
    "%run  \"Taller4MC.ipynb\""
   ]
  },
  {
   "cell_type": "code",
   "execution_count": 17,
   "id": "8295342d",
   "metadata": {
    "ExecuteTime": {
     "end_time": "2022-04-14T17:10:15.078384Z",
     "start_time": "2022-04-14T17:10:15.052388Z"
    },
    "scrolled": true
   },
   "outputs": [
    {
     "name": "stdout",
     "output_type": "stream",
     "text": [
      " El volumen de la unidad C es OS\n",
      " El número de serie del volumen es: 20A8-6EF2\n",
      "\n",
      " Directorio de C:\\Users\\Asus\\OneDrive - Universidad de los Andes\\semestre 3\\metodos comp\n",
      "\n",
      "14/04/2022  12:09    <DIR>          .\n",
      "30/03/2022  20:52    <DIR>          ..\n",
      "10/04/2022  20:33    <DIR>          .ipynb_checkpoints\n",
      "08/04/2022  08:54    <DIR>          __pycache__\n",
      "01/02/2022  18:31               770 Actividad 1 bash(linux).txt\n",
      "25/02/2022  11:36             1.413 Actividad 2(programación orientada a objetos).py\n",
      "28/02/2022  00:06             8.521 Actividad 3(metódos y derivadas númericas).py\n",
      "26/03/2022  17:36             5.255 Actividad 4 (Interpolación de Lagrange).py\n",
      "25/03/2022  10:36            17.241 Actividad 5(matrices).py\n",
      "08/04/2022  09:34             7.040 Actividad 6(regresión).py\n",
      "10/04/2022  22:16    <DIR>          Already-known-algorithms\n",
      "12/04/2022  01:15               808 BonoTaller.sh\n",
      "06/04/2022  08:41             4.830 datos refraccion angulo incidencia.txt\n",
      "06/04/2022  08:41             4.945 datos refraccion angulo reflexion.txt\n",
      "02/04/2022  19:49             1.143 datos_termodinamicos.txt\n",
      "14/04/2022  12:06            10.797 imagen 1 (Datos experimentales).png\n",
      "14/04/2022  12:06            17.610 imagen 2 (Linealización y regresión lineal metódo no matricial).png\n",
      "14/04/2022  12:06            17.179 imagen 3 (Linealización y regresión lineal metódo matricial).png\n",
      "14/04/2022  12:06            17.037 imagen 4 (scipy).png\n",
      "14/04/2022  12:09            24.847 magic comands.ipynb\n",
      "10/04/2022  22:17    <DIR>          numerical-method-algorithms-part-1\n",
      "05/04/2022  14:25    <DIR>          Plotting-Methods\n",
      "19/03/2022  21:35    <DIR>          Project\n",
      "26/03/2022  19:09             2.199 Quizz.ipynb\n",
      "09/04/2022  16:44            24.448 Taller1MC.ipynb\n",
      "09/04/2022  16:52         1.700.001 Taller2MC.ipynb\n",
      "09/04/2022  17:03            80.227 Taller3MC.ipynb\n",
      "13/04/2022  09:49           188.230 Taller4MC.ipynb\n",
      "06/04/2022  14:37    <DIR>          Temas\n",
      "              20 archivos      2.134.541 bytes\n",
      "               9 dirs  187.744.735.232 bytes libres\n"
     ]
    }
   ],
   "source": [
    "ls"
   ]
  },
  {
   "cell_type": "code",
   "execution_count": 18,
   "id": "f18a75bf",
   "metadata": {
    "ExecuteTime": {
     "end_time": "2022-04-14T17:10:22.144127Z",
     "start_time": "2022-04-14T17:10:22.139124Z"
    }
   },
   "outputs": [],
   "source": [
    "less datos refraccion angulo incidencia.txt"
   ]
  }
 ],
 "metadata": {
  "hide_input": false,
  "kernelspec": {
   "display_name": "Python 3 (ipykernel)",
   "language": "python",
   "name": "python3"
  },
  "language_info": {
   "codemirror_mode": {
    "name": "ipython",
    "version": 3
   },
   "file_extension": ".py",
   "mimetype": "text/x-python",
   "name": "python",
   "nbconvert_exporter": "python",
   "pygments_lexer": "ipython3",
   "version": "3.8.8"
  },
  "latex_envs": {
   "LaTeX_envs_menu_present": true,
   "autoclose": false,
   "autocomplete": true,
   "bibliofile": "biblio.bib",
   "cite_by": "apalike",
   "current_citInitial": 1,
   "eqLabelWithNumbers": true,
   "eqNumInitial": 1,
   "hotkeys": {
    "equation": "Ctrl-E",
    "itemize": "Ctrl-I"
   },
   "labels_anchors": false,
   "latex_user_defs": false,
   "report_style_numbering": false,
   "user_envs_cfg": false
  },
  "nbTranslate": {
   "displayLangs": [
    "*"
   ],
   "hotkey": "alt-t",
   "langInMainMenu": true,
   "sourceLang": "en",
   "targetLang": "fr",
   "useGoogleTranslate": true
  },
  "notify_time": "30",
  "toc": {
   "base_numbering": 1,
   "nav_menu": {},
   "number_sections": true,
   "sideBar": true,
   "skip_h1_title": false,
   "title_cell": "Table of Contents",
   "title_sidebar": "Contents",
   "toc_cell": false,
   "toc_position": {},
   "toc_section_display": true,
   "toc_window_display": false
  },
  "varInspector": {
   "cols": {
    "lenName": 16,
    "lenType": 16,
    "lenVar": 40
   },
   "kernels_config": {
    "python": {
     "delete_cmd_postfix": "",
     "delete_cmd_prefix": "del ",
     "library": "var_list.py",
     "varRefreshCmd": "print(var_dic_list())"
    },
    "r": {
     "delete_cmd_postfix": ") ",
     "delete_cmd_prefix": "rm(",
     "library": "var_list.r",
     "varRefreshCmd": "cat(var_dic_list()) "
    }
   },
   "types_to_exclude": [
    "module",
    "function",
    "builtin_function_or_method",
    "instance",
    "_Feature"
   ],
   "window_display": false
  }
 },
 "nbformat": 4,
 "nbformat_minor": 5
}
