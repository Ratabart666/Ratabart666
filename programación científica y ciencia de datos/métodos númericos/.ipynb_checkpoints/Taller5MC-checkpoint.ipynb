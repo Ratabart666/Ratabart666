{
 "cells": [
  {
   "cell_type": "markdown",
   "metadata": {
    "id": "0Z8Dn_z6Mb9b"
   },
   "source": [
    "# Taller 5\n",
    "\n",
    "## Métodos Computacionales 1 2022-10\n",
    "\n",
    "Instrucciones: Suba el jupyter notebook **.ipynb** en la actividad de bloque neon. El archivo debe ser nombrado ApellidoNombre_ApellidoNombre_Taller5.ipynb. **El archivo debe poder correr en el binder de la magistral** \n",
    "\n",
    "Si un ejercicio demora **más de 10 segundos** en correr se considerará **incorrecto**.\n",
    "\n",
    "No modifique el cuaderno, ni los casos de prueba, puede correr los casos de prueba pero no modificarlos.\n",
    "\n",
    "**Entrega: Viernes 29 de Abril 11:59 pm**"
   ]
  },
  {
   "cell_type": "markdown",
   "metadata": {
    "id": "VvtNBbxJ0n7a"
   },
   "source": [
    "## Librerias"
   ]
  },
  {
   "cell_type": "code",
   "execution_count": 14,
   "metadata": {
    "ExecuteTime": {
     "end_time": "2022-05-02T15:58:02.247066Z",
     "start_time": "2022-05-02T15:58:02.244064Z"
    },
    "id": "mmgcGeXk0pPA"
   },
   "outputs": [],
   "source": [
    "import matplotlib.pyplot as plt\n",
    "import numpy as np\n",
    "import Algoritmosnumericos as Alg\n",
    "import math"
   ]
  },
  {
   "cell_type": "markdown",
   "metadata": {
    "id": "TtDSGwXXOzhk"
   },
   "source": [
    "## Problema 1\n",
    "\n",
    "A partir del método de Montecarlo, calcule el volumen de un cono cuya base tiene radio $1$, y cuya altura es $3$, con 100000 (cien mil puntos de Montecarlo). Guarde el volumen en la variable `volume_cone`, al final incluya el siguiente `print` para la evaluación de su ejercicio. \n",
    "```\n",
    "print(f\"Volume of a cone = {volume_cone}\")\n",
    "```\n",
    "\n",
    "\n",
    "\n"
   ]
  },
  {
   "cell_type": "markdown",
   "metadata": {},
   "source": [
    "Para el método montecarlo \n",
    "\n",
    "Tomamos X como una variable aleatoria continua uniforme en [0,1] así, su función de densidad está dada por:\n",
    "$$f_{x}(x)= \\frac{1}{1-0} = 1 , x  \\epsilon [0,1]$$\n",
    "Además, tomamos otra variable aleatoria continua uniforme \n",
    "$$Y= f(X) $$ \n",
    "y tenemos que su valor promedio está dado por:\n",
    "$$\\int_{0}^{1}f(x)f_{x}(x)dx = \\int_{0}^{1}f(x)dx$$\n",
    "lo que daría la integral desde cero hasta uno de la función porque su función de densidad es igual a 1 en dicho intervalo.\n",
    "Cuando tenemos un número de puntos en equis muy grandes, por la ley de los grandes números podemos decir que está integral está dada por:\n",
    "$$\\int_{0}^{1}f(x)dx=\\frac{1}{N}\\sum_{i=1}^{N}f(x_{i})$$\n",
    "En donde N es el número de puntos o muestras tomadas, y xi son los puntos tomados aleatorios distribuidos aleatoriamente, por tanto, la integral se reescribe como el promedio de la función evaluada en dichos puntos aleatorios con distribución uniforme. \n",
    "Sin embargo, la función que queremos integrar tiene límites diferentes a 0 y 1, por tanto, se realizará un cambio de variable que sirva para poder calcular la integral por este método con diferentes límites.\n",
    "$$x= a + (b-a)u$$\n",
    "$$dx= (b-a)du$$\n",
    "Reescrita la integral con este cambio de variable, se tiene:\n",
    "$$\\int_{0}^{1}f(a +(b-a)u)(b-a)du = (b-a)\\int_{0}^{1}f(a +(b-a)u)du$$\n",
    "\n",
    "Lo anterior, se puede reescribir por la ley de los grandes números, quedaría:\n",
    "$$(b-a)\\int_{0}^{1}f(a +(b-a)u)du=\\frac{(b-a)}{N}\\sum_{i=1}^{N}f(a +(b-a)u_{i})$$\n",
    "En donde ui son los valores aleatorios con distribución uniforme, esta ecuación se usará para la solución del problema.\n",
    "\n",
    "Por lo anterior, este método requiere:\n",
    "- limites de integración \n",
    "- función de integración\n",
    "- números aleatorios\n",
    "\n",
    "Para la función de integración se usará el método de los discos para calcular volúmenes del cálculo integral, en dónde el volumen de cada disco está dado por:\n",
    "\n",
    "$$dV_{disco}= \\pi r^{2}\\Delta x$$\n",
    "\n",
    "El radio del disco varía cuando se hacen rebanadas pequeñas y está dada por la recta que va desde el punto (0,0) y (h, r), esto porque r es la posición en y la cual varía con la altura, por tanto, su función estaría dada por:\n",
    "$$(y-0)= m(x-0)$$\n",
    "$$m = \\frac{r-0}{h-0}=\\frac{r}{h}$$\n",
    "$$y=\\frac{r}{h}x$$\n",
    "\n",
    "Se reemplaza en la primera ecuación:\n",
    "\n",
    "$$V_{disco}= \\pi (\\frac{r}{h}x)^{2}\\Delta x$$\n",
    "$$dV_{disco}= \\int_{a}^{b}\\pi (\\frac{r}{h}x)^{2}dx$$\n",
    "$$dV_{disco}= \\pi\\frac{r^{2}}{h^{2}}\\int_{a}^{b}x^{2}dx$$\n",
    "\n",
    "Esta integral se utilizará para calcular el volumen, reescrita con los valores del problema:\n",
    "r = 1\n",
    "h = 3\n",
    "\n",
    "$$dV_{disco}= \\frac{\\pi}{9}\\int_{0}^{3}x^{2}dx$$"
   ]
  },
  {
   "cell_type": "code",
   "execution_count": 15,
   "metadata": {
    "ExecuteTime": {
     "end_time": "2022-05-02T15:58:02.314069Z",
     "start_time": "2022-05-02T15:58:02.308070Z"
    }
   },
   "outputs": [],
   "source": [
    "#Límites\n",
    "LimInferior = 0\n",
    "LimSuperior = 3"
   ]
  },
  {
   "cell_type": "code",
   "execution_count": 16,
   "metadata": {
    "ExecuteTime": {
     "end_time": "2022-05-02T15:58:02.355073Z",
     "start_time": "2022-05-02T15:58:02.350073Z"
    }
   },
   "outputs": [],
   "source": [
    "#Función de integración\n",
    "def f(x):\n",
    "    return (math.pi/9)*(x**2)"
   ]
  },
  {
   "cell_type": "code",
   "execution_count": 17,
   "metadata": {
    "ExecuteTime": {
     "end_time": "2022-05-02T15:58:02.399075Z",
     "start_time": "2022-05-02T15:58:02.392077Z"
    }
   },
   "outputs": [],
   "source": [
    "#MonteCarlo\n",
    "def MonteCarlo(LimInferior, LimSuperior, Muestras):\n",
    "    suma = 0\n",
    "    for i in range(Muestras):\n",
    "        suma += f(LimInferior + (LimSuperior-LimInferior)*np.random.uniform(0,1,1))\n",
    "    return ((LimSuperior-LimInferior)/Muestras)*suma[0]"
   ]
  },
  {
   "cell_type": "code",
   "execution_count": 18,
   "metadata": {
    "ExecuteTime": {
     "end_time": "2022-05-02T15:58:04.999272Z",
     "start_time": "2022-05-02T15:58:02.435078Z"
    }
   },
   "outputs": [
    {
     "name": "stdout",
     "output_type": "stream",
     "text": [
      "Volume of a cone = 3.134556110091418\n"
     ]
    }
   ],
   "source": [
    "#Solución\n",
    "volume_cone = MonteCarlo(LimInferior, LimSuperior, 100000)\n",
    "print(f\"Volume of a cone = {volume_cone}\")"
   ]
  },
  {
   "cell_type": "markdown",
   "metadata": {
    "id": "xLdV95A5DY-l"
   },
   "source": [
    "## Problema 2\n",
    "\n",
    "Considere $D = \\{d_1, \\cdots d_n\\}$ un conjunto de documentos y $T = \\{t_1, \\cdots t_m\\}$ un conjunto de términos (palabras). Considere además, $TD = (TD_{i,j})_{i=1\\cdots m, j = 1 \\cdots n}$ como una matriz tal que $TD_{i, j}$ indica el número de veces que el término $t_i$ (palabra) aparece en el documento $d_j$. También, considere $l_i$ como la longitud (número de letras) del término $t_i$, y sea $L = (l_1, \\cdots, l_m)$ un vector columna. Adicionalmente, asuma un proceso en el cual el documento $d_j$ is escogido aleatoriamente con probabilidad uniforme y el termino $t_i$, presente en el documento $d_j$,  es escogido con una probabilidad proporcional a la frecuencia de $t_i$ en el documento $d_j$.\n",
    "\n",
    "Para las siguientes expresiones usted debe mostrar lo siguiente:\n",
    "\n",
    "*   La expresión matemática de lo que se le pide en términos de $TD$, $L$, constantes (es decir en terminos de matrices, vectores, escalares) y operaciones algebraícas o del algebra lineal.\n",
    "*   Una expresión en `numpy`, tal que al ser evaluada se obtenga, la matriz, el vector o el escalar requerido (La expresión debe estar descrita en términos del algebra lineal, es decir no se pueden usar estructuras de control, `for`, `while`, etc)\n",
    "*   El resultado de las expresiones usando los siguientes datos:\n",
    "\n",
    "\n",
    "$$\n",
    "TD =  \\begin{bmatrix}\n",
    "2 & 3 & 0 & 3 & 7 \\\\  0 & 5 & 5 & 0 & 3 \\\\ 5 & 0 & 7 & 3 & 3 \\\\ 3 & 1 & 0 & 9 & 9 \\\\ 0 & 0 & 7 & 1 & 3 \\\\ 6 & 9 & 4 & 6 & 0 \n",
    "\\end{bmatrix}, \\quad L = \\begin{bmatrix}\n",
    "5 \\\\  2 \\\\ 3 \\\\ 6 \\\\ 4 \\\\ 3 \\\\ \n",
    "\\end{bmatrix}\n",
    "$$\n",
    "\n",
    "\n",
    "\n"
   ]
  },
  {
   "cell_type": "code",
   "execution_count": 19,
   "metadata": {
    "ExecuteTime": {
     "end_time": "2022-05-02T15:58:05.009275Z",
     "start_time": "2022-05-02T15:58:05.001273Z"
    },
    "id": "4CUcPGP0xi1z"
   },
   "outputs": [
    {
     "data": {
      "text/plain": [
       "[[2, 3, 0, 3, 7],\n",
       " [0, 5, 5, 0, 3],\n",
       " [5, 0, 7, 3, 3],\n",
       " [3, 1, 0, 9, 9],\n",
       " [0, 0, 7, 1, 3],\n",
       " [6, 9, 4, 6, 0]]"
      ]
     },
     "execution_count": 19,
     "metadata": {},
     "output_type": "execute_result"
    }
   ],
   "source": [
    "# Arrays for the computations\n",
    "\n",
    "TD = [[2, 3, 0, 3, 7],[0, 5, 5, 0, 3],[5, 0, 7, 3, 3],[3, 1, 0, 9, 9],[0, 0, 7, 1, 3],[6, 9, 4, 6, 0]]\n",
    "L = [[5, 2, 3, 6, 4, 3]]\n",
    "n , m = len(TD),len(TD[0])\n",
    "TD"
   ]
  },
  {
   "cell_type": "markdown",
   "metadata": {
    "id": "DmZ1Xk-xx1OR"
   },
   "source": [
    "(a) Matriz $P(T, D)$ (cada posición de la matriz, $P(T, D)_{i,j}$ indica la probabilidad conjunta del término $t_i$ y el documento $d_j$, $P(t_j, d_j)$)\n",
    "\n",
    "Escriba su expresión matemática a continuación, \n",
    "\n",
    "**Supongamos que la matriz $TD$ es de $nxm$ entonces $n$ será el número de filas y palabras, $m$ el número de columnas y documentos.**\n",
    "\n",
    "$$\n",
    "P(T, D)_{i,j} = P(T \\cap D) _{i,j}\n",
    "$$\n",
    "\n",
    "**Lema 1:**:\n",
    "$$P(t _{i} \\cap d _{j})=P(d _{j})P(t _{i}|d _{j}) \\ \\textbf{(1)}$$\n",
    "\n",
    "**Demostración**\n",
    "$$P(t _{i} \\cap d _{j})=\\frac{P(d _{j})P(t _{i} \\cap d _{j})}{P(d _{j})}=P(d _{j})P(t _{i}|d _{j})$$\n",
    "\n",
    "$Q.E.D$\n",
    "\n",
    "La probabilidad de escoger el documento es uniforme, por ende cada elemento tiene la misma probabilidad que es igual a $\\frac{1}{m}$, siendo $m$ el número de documentos.\n",
    "\n",
    "Si ya tenemos el documento $j$ elejido entonces basta hallar una probabilidad proporcional a la frecuencia$(TD _{i,j})$,esta es:\n",
    "\n",
    "$$P(t _{i}|d _{j})=\\frac{T _{i} D _{j}}{\\sum _{i=1}^{n}T _{i}D _{j}}$$\n",
    "\n",
    "En términos de álgebra lineal, lo anterior es equivalente a:\n",
    "\n",
    "$$P(t _{i}|d _{j})=\\frac{T _{i} D _{j}}{TD ^{j}\\cdot (1,...1) \\ \\textbf{el  1  está  n veces}} \\ \\textbf{(2)}$$\n",
    "\n",
    "Remplazando $(2)$ en $(1)$ y utilizando la probabilidad uniforme del documento tenemos:\n",
    "\n",
    "$$P(t _{i} \\cap d _{j})=\\frac{1}{m} \\ \\frac{T _{i} D _{j}}{TD ^{j}\\cdot (1,...1) \\ \\textbf{el  1  está  n veces}}$$\n",
    "\n",
    "Para expresar esto a manera de matriz notamos que:\n",
    "\n",
    "- $\\frac{1}{m}$ se puede sacar como factor común y multiplicar por la matriz deseada de probabilidades\n",
    "\n",
    "- $T _{i} D _{j}$ hace parte de la matriz Dada por ende sabemos que parte de la expresión tiene la forma $\\frac{1}{m} TD...$\n",
    "\n",
    "- Adicionalmente cada columna $j$ se multiplica por $\\frac{1}{TD ^{j}\\cdot (1,...1) \\ \\textbf{el  1  está  n  veces}}$\n",
    "\n",
    "**Lema 2**\n",
    "\n",
    "\n",
    "Sea $A$ una matriz de $nxm$ y sea $E$ una matriz elemental de $mxm$ del tipo multiplicar fila $i$ por el escalar $c$, asociada a una matriz $mxn$, entonces \n",
    "\n",
    "$$AE$$ es la misma matriz $A$ pero con la columna $i$ multiplicada por el escalar $c$.\n",
    "\n",
    "**Demostración**\n",
    "\n",
    "Suponga que A es de $nxm$, suponga además que $E$ es de $mxm$ y  es la matriz elemental asociada a multiplicar una fila por el escalar $i$ de una matriz $mxn$\n",
    "\n",
    "La matriz $E$ por hipótesis es una matriz simétrica, por ende $E=E^{T}$\n",
    "\n",
    "$$AE=AE^{T}=(EA^{T})^{T}$$\n",
    "\n",
    "\n",
    "\n",
    "Trivialmente $E$ tiene como resultado que dentro del paréntisis  a la fila $i$ de $A^{T}$ (que es la columna $i$ de A) se le multiplique por el escalar $c$,es decir al resolver lo que está dentro del paréntisis queda la fila $i$ de de $A^{T}$ (que es la columna $i$ de A),multiplicada por $c$, al transponerlo queda el resultado deseado.\n",
    "\n",
    "$Q.E.D$\n",
    "\n",
    "Utilizando el lema 2, tenemos lo siguiente:\n",
    "\n",
    "Suponga que $TD$ es una matriz de $nxm$ y $E_{i}$ es una matriz de $mxm$\n",
    "\n",
    "**(Sea $E_{i}$ la matriz elemental que multiplica la fila i por el escalar  $\\frac{1}{TD ^{j}\\cdot (1,...1) \\ \\textbf{el  1  está  n  veces}})$**\n",
    "\n",
    "$P(T,D)=\\frac{1}{m} (TD \\prod_{1}^{m}E_{i})$, siendo m el número de columnas\n",
    "\n",
    "Para poder comprobar el resultado, se suma cada entrada de la matriz y se mira que de 1. Esto porque la suma debe ser 1\n",
    "\n"
   ]
  },
  {
   "cell_type": "code",
   "execution_count": 20,
   "metadata": {
    "ExecuteTime": {
     "end_time": "2022-05-02T15:58:05.023278Z",
     "start_time": "2022-05-02T15:58:05.011272Z"
    },
    "id": "Soak5hOoykxG",
    "run_control": {
     "marked": true
    }
   },
   "outputs": [
    {
     "name": "stdout",
     "output_type": "stream",
     "text": [
      "----------------------------------------------------------------------------------------------------\n",
      "La matriz asociada a P(T,D) es:\n",
      " \n",
      "[0.025, 0.033333, 0.0, 0.027273, 0.056]\n",
      "[0.0, 0.055556, 0.043478, 0.0, 0.024]\n",
      "[0.0625, 0.0, 0.06087, 0.027273, 0.024]\n",
      "[0.0375, 0.011111, 0.0, 0.081818, 0.072]\n",
      "[0.0, 0.0, 0.06087, 0.009091, 0.024]\n",
      "[0.075, 0.1, 0.034783, 0.054545, 0.0]\n",
      "----------------------------------------------------------------------------------------------------\n",
      "Adicionalmente para comprobar, se puede ver que la suma de las probabilidades de todos los eventos es la unidad\n",
      "La suma de todas las probabilidades es:\n",
      " \n",
      "1.0\n",
      "----------------------------------------------------------------------------------------------------\n"
     ]
    }
   ],
   "source": [
    "print(100*'-')\n",
    "\n",
    "elemental = 0  # matriz elemental que multiplica la fila j por un escalar\n",
    "escalar = 0  # escalar asociado a la matriz anterior\n",
    "TD1 = TD  # matriz resultado\n",
    "for i in range(m):  # El for es para expresar de manera más conveniente todo el producto de matrices,el lenguaje utilizado\n",
    "    # es de álgebra lineal.\n",
    "    escalar = (Alg.producto(Alg.columnaj(TD1, i), [n*[1]]))**-1\n",
    "    elemental = Alg.E_fila_c(m, i, escalar)\n",
    "    TD1 = Alg.producto(TD1, elemental)\n",
    "TD1 = Alg.escalarmatriz(TD1, 1/m)  # multiplicación por el factor comun 1/m\n",
    "\n",
    "print('La matriz asociada a P(T,D) es:')\n",
    "print(' ')\n",
    "Alg.print_matriz(TD1)\n",
    "\n",
    "print(100*'-')\n",
    "\n",
    "print('Adicionalmente para comprobar, se puede ver que la suma de las probabilidades de todos los eventos es la unidad')\n",
    "\n",
    "suma = 0\n",
    "for i in TD1:\n",
    "    suma += Alg.sumatoria(i)\n",
    "\n",
    "print('La suma de todas las probabilidades es:')\n",
    "print(' ')\n",
    "print(suma)\n",
    "\n",
    "print(100*'-')"
   ]
  },
  {
   "cell_type": "markdown",
   "metadata": {
    "id": "FmVDpv4SzDla"
   },
   "source": [
    "(b) Matriz $P(T|D)$\n",
    "\n",
    "Escriba su expresión matemática a continuación, \n",
    "\n",
    "**Utilizando los lemas anteriores**\n",
    "\n",
    "$P(t _{i} \\cap d _{j})=P(d _{j})\\ P(t _{i}|d _{j})=\\frac{1}{m} \\ P(t _{i}|d _{j})$\n",
    "\n",
    "Lo que es equivalente a decir que\n",
    "\n",
    "$\n",
    "P(T|D)_{i, j} = mP(t _{i} \\cap d _{j})\n",
    "$\n",
    "\n",
    "\n",
    "Es decir la matriz  $P(T|D)$ Es igual a la matriz anterior multplicada por \n",
    "\n",
    "Para comprobar se mira que la suma de las entradas de cada columna sea 1. Esto porque si fijamos $d_{j}$ la suma de todas las posibilidades con $d_{j}$ fijo debe ser igual a 1."
   ]
  },
  {
   "cell_type": "code",
   "execution_count": 21,
   "metadata": {
    "ExecuteTime": {
     "end_time": "2022-05-02T15:58:05.037278Z",
     "start_time": "2022-05-02T15:58:05.028283Z"
    },
    "id": "JXlgbXHRzYvo"
   },
   "outputs": [
    {
     "name": "stdout",
     "output_type": "stream",
     "text": [
      "La matriz asociada a P(T|D) es:\n",
      " \n",
      "[0.125, 0.166667, 0.0, 0.136364, 0.28]\n",
      "[0.0, 0.277778, 0.217391, 0.0, 0.12]\n",
      "[0.3125, 0.0, 0.304348, 0.136364, 0.12]\n",
      "[0.1875, 0.055556, 0.0, 0.409091, 0.36]\n",
      "[0.0, 0.0, 0.304348, 0.045455, 0.12]\n",
      "[0.375, 0.5, 0.173913, 0.272727, 0.0]\n",
      "----------------------------------------------------------------------------------------------------\n",
      "Adicionalmente para comprobar, se puede ver que la suma de las probabilidades de las columnas es la unidad\n",
      " \n",
      "suma para la columna  1\n",
      "1.0\n",
      " \n",
      "suma para la columna  2\n",
      "1.0\n",
      " \n",
      "suma para la columna  3\n",
      "1.0\n",
      " \n",
      "suma para la columna  4\n",
      "1.0\n",
      " \n",
      "suma para la columna  5\n",
      "1.0\n",
      " \n",
      "----------------------------------------------------------------------------------------------------\n"
     ]
    }
   ],
   "source": [
    "### Escriba e imprima la matriz con los valores de ejemplo a continuación\n",
    "print('La matriz asociada a P(T|D) es:')\n",
    "print(' ')\n",
    "TD2=Alg.escalarmatriz(TD1,m)\n",
    "Alg.print_matriz(TD2)\n",
    "\n",
    "print(100*'-')\n",
    "\n",
    "print('Adicionalmente para comprobar, se puede ver que la suma de las probabilidades de las columnas es la unidad')\n",
    "print(' ')\n",
    "\n",
    "for i in range(len(TD2[0])):\n",
    "    print('suma para la columna ',i+1)\n",
    "    print(Alg.sumatoria(Alg.columnaj(TD2,i)[0]))\n",
    "    print(' ')\n",
    "    \n",
    "print(100*'-')\n"
   ]
  },
  {
   "cell_type": "markdown",
   "metadata": {
    "id": "OBYAuE1TzauB"
   },
   "source": [
    "(c) Vector P(D)\n",
    "\n",
    "Escriba su expresión matemática a continuación,\n",
    "\n",
    "La probabilidad de que ocurra $D_{j}$ es la suma de la columna $D_{j}$ de la matriz $P(A,B)$ o equivalentemente $D_{j}^{T}\\cdot (1..1) \\ \\textbf{el 1 está n veces}$, De forma matricial sería:\n",
    "\n",
    "$$\n",
    "P(D)=(1..1) \\ \\textbf{el 1 está n veces} \\ \\cdot P(A,B)\n",
    "$$\n",
    "En este caso la suma de todas las entradas del vector debe ser igual a 1 o equivalentemente $P(D)(1..1) \\ \\textbf{el 1 está m veces}=1$\n",
    "\n",
    "Adicionalmente la probabilidad debe ser igual para cada entrada del vector, ya que por hipótesis la probabilidad era uniforme e igual a $\\frac{1}{m}$"
   ]
  },
  {
   "cell_type": "code",
   "execution_count": 22,
   "metadata": {
    "ExecuteTime": {
     "end_time": "2022-05-02T15:58:05.049280Z",
     "start_time": "2022-05-02T15:58:05.039275Z"
    },
    "id": "0ZuKBnSfzuHX"
   },
   "outputs": [
    {
     "name": "stdout",
     "output_type": "stream",
     "text": [
      "El vector P(D) es:\n",
      "\n",
      "[0.2, 0.2, 0.2, 0.2, 0.2]\n",
      "\n",
      "Como vemos la probabilidad es igual para cada documento\n",
      "----------------------------------------------------------------------------------------------------\n",
      "Comprobamos que la probabilidad de cada documento es igual a 1/m\n",
      "\n",
      "1/m es: 0.2\n",
      "----------------------------------------------------------------------------------------------------\n",
      "Comprobamos que la suma de todas las probabilidades sea igual a 1\n",
      "\n",
      "La suma de las probabilidades es: 1.0\n",
      "----------------------------------------------------------------------------------------------------\n"
     ]
    }
   ],
   "source": [
    "### Escriba e imprima el vector con los valores de ejemplo a continuación\n",
    "print('El vector P(D) es:')\n",
    "print('')\n",
    "TD3=Alg.producto([n*[1]],TD1)\n",
    "Alg.print_matriz(TD3)\n",
    "print('')\n",
    "print('Como vemos la probabilidad es igual para cada documento')\n",
    "print(100*'-')\n",
    "print('Comprobamos que la probabilidad de cada documento es igual a 1/m')\n",
    "print('')\n",
    "print('1/m es:',1/m)\n",
    "print(100*'-')\n",
    "print('Comprobamos que la suma de todas las probabilidades sea igual a 1')\n",
    "print('')\n",
    "print('La suma de las probabilidades es:',Alg.sumatoria(TD3[0]))\n",
    "print(100*'-')"
   ]
  },
  {
   "cell_type": "markdown",
   "metadata": {
    "id": "Haqd76Hlz2V6"
   },
   "source": [
    "## Problema 3\n",
    "Continuación problema anterior\n",
    "\n",
    "(d) Vector P(T)\n",
    "\n",
    "La probabilidad de que ocurra $T_{i}$ es la suma de la fila $D_{i}$ de la matriz  $P(A,B)$ **(Por probabilidad total bayesiana)** o equivalentemente $T_{i}\\cdot (1..1) \\ \\textbf{el 1 está n veces}$, De forma matricial sería:\n",
    "\n",
    "$$\n",
    "P(T)=((1..1) \\ \\textbf{el 1 está m veces} \\ \\cdot P(A,B)^{T})\n",
    "$$\n",
    "\n",
    "**Transpongo a $P(A,B)$,así cada $T_{i}$ se vuelve columna y podemos realizar un paso análogo al último inciso del punto 2**\n",
    "\n",
    "En este caso la suma de todas las entradas del vector debe ser igual a 1 o equivalentemente $P(D)(1..1) \\ \\textbf{el 1 está n veces}=1$"
   ]
  },
  {
   "cell_type": "code",
   "execution_count": 23,
   "metadata": {
    "ExecuteTime": {
     "end_time": "2022-05-02T15:58:05.059277Z",
     "start_time": "2022-05-02T15:58:05.052279Z"
    },
    "id": "q8sqdTtxz2V7"
   },
   "outputs": [
    {
     "name": "stdout",
     "output_type": "stream",
     "text": [
      "El vector P(T) es:\n",
      "\n",
      "[0.141606, 0.123034, 0.174642, 0.202429, 0.09396, 0.264328]\n",
      "\n",
      "----------------------------------------------------------------------------------------------------\n",
      "Comprobamos que la suma de todas las probabilidades sea igual a 1\n",
      "\n",
      "La suma de las probabilidades es: 1.0\n",
      "----------------------------------------------------------------------------------------------------\n"
     ]
    }
   ],
   "source": [
    "### Escriba e imprima el vector con los valores de ejemplo a continuación\n",
    "print('El vector P(T) es:')\n",
    "print('')\n",
    "TD4=Alg.producto([m*[1]],Alg.transpuesta(TD1))\n",
    "Alg.print_matriz(TD4)\n",
    "print('')\n",
    "print(100*'-')\n",
    "print('Comprobamos que la suma de todas las probabilidades sea igual a 1')\n",
    "print('')\n",
    "print('La suma de las probabilidades es:',Alg.sumatoria(TD4[0]))\n",
    "print(100*'-')"
   ]
  },
  {
   "cell_type": "markdown",
   "metadata": {
    "id": "hiCvvxLW0LmV"
   },
   "source": [
    "(e) Matriz $P(D|T)$\n",
    "\n",
    "Escriba su expresión matemática a continuación,\n",
    "\n",
    "Utilizando el teorema de bayes:\n",
    "\n",
    "$$P(D|T)_{i,j}=\\frac{P(T|D)_{j,i}P(D)_{i}}{P(T)_{j}}$$\n",
    "\n",
    "Cada columna i se multiplica por $P(D)_{i}$\n",
    "análogamente cada fila j se multiplica por $\\frac{1}{P(T)_{j}}$. Lo primero se puede hacer por el **lema 2** y lo segundo por matrices elementales.\n",
    "\n",
    "**Matemáticamente:**\n",
    "\n",
    "Sea $P(T|D)$ una matriz de $nxm$, sea $E_{i}$ una matriz de $nxn$ y $F_{j}$ una matriz de $mxm$\n",
    "\n",
    "Suponga además que $E_{i}$ es la matriz elemental asociada a la multiplicación de la fila i por $P(D)_{i}$.\n",
    "\n",
    "De igual manera suponga además que $F_{j}$ es la matriz elemental asociada a la multiplicación de la fila j por $\\frac{1}{P(T)_{j}}$\n",
    "\n",
    "Entonces:\n",
    "\n",
    "$$P(D|T)=\\prod_{n}^{1}F_{j}P(T|D)\\prod_{1}^{m}E_{i}$$\n",
    "\n",
    "Podemos ver por la formúla final nos dice que alteramos de alguna manera a $P(T|D)$ por ende las filas siguen correspondiendo a palabras y las columnas a documentos; sin embargo para cada fila, la suma de sus entradas debe ser igual a 1. Esto porque si fijamos a $T_{j}$, suponiendo que ya pasó, la suma de las probabilidades de $D_{i}$ con $T_{j}$ fijo debe ser 1\n",
    "\n",
    "\n",
    "\n"
   ]
  },
  {
   "cell_type": "code",
   "execution_count": 24,
   "metadata": {
    "ExecuteTime": {
     "end_time": "2022-05-02T15:58:05.071278Z",
     "start_time": "2022-05-02T15:58:05.061280Z"
    },
    "id": "py-QC25p0LmX"
   },
   "outputs": [
    {
     "name": "stdout",
     "output_type": "stream",
     "text": [
      "La matriz asociada a P(D|T) es:\n",
      "[0.176546, 0.235395, 0.0, 0.192596, 0.395463]\n",
      "[0.0, 0.451547, 0.353385, 0.0, 0.195068]\n",
      "[0.357874, 0.0, 0.348539, 0.156163, 0.137424]\n",
      "[0.18525, 0.054889, 0.0, 0.404182, 0.35568]\n",
      "[0.0, 0.0, 0.647821, 0.096752, 0.255427]\n",
      "[0.283738, 0.378318, 0.131589, 0.206355, 0.0]\n",
      "----------------------------------------------------------------------------------------------------\n",
      "Adicionalmente para comprobar, se puede ver que la suma de las probabilidades de las filas es la unidad\n",
      " \n",
      "suma para la fila  1\n",
      "1.0\n",
      " \n",
      "suma para la fila  2\n",
      "1.0\n",
      " \n",
      "suma para la fila  3\n",
      "0.9999999999999999\n",
      " \n",
      "suma para la fila  4\n",
      "1.0\n",
      " \n",
      "suma para la fila  5\n",
      "1.0\n",
      " \n",
      "----------------------------------------------------------------------------------------------------\n"
     ]
    }
   ],
   "source": [
    "### Escriba e imprima la matriz con los valores de ejemplo a continuación\n",
    "#TD2 matriz P(T|D)\n",
    "#TD4 vector P(T) filas\n",
    "#TD3 vector P(D) columnas\n",
    "print('La matriz asociada a P(D|T) es:')\n",
    "\n",
    "TD5=Alg.E_fila_c(n,n-1,1/TD4[0][n-1])\n",
    "for i in np.arange(n-2,-1,-1):\n",
    "    TD5=Alg.producto( TD5 , Alg.E_fila_c(n,i,1/TD4[0][i]) )\n",
    "TD5=Alg.producto(TD5,TD2)\n",
    "TD5=Alg.producto( TD5 , Alg.E_fila_c(m,0,TD3[0][0]) )\n",
    "for i in range(1,m):\n",
    "    TD5=Alg.producto( TD5 , Alg.E_fila_c(m,i,TD3[0][i]) )\n",
    "Alg.print_matriz(TD5)\n",
    "\n",
    "print(100*'-')\n",
    "\n",
    "print('Adicionalmente para comprobar, se puede ver que la suma de las probabilidades de las filas es la unidad')\n",
    "print(' ')\n",
    "\n",
    "for i in range(len(TD5[0])):\n",
    "    print('suma para la fila ',i+1)\n",
    "    print(Alg.sumatoria(TD5[i]))\n",
    "    print(' ')\n",
    "    \n",
    "print(100*'-')\n",
    "    \n"
   ]
  },
  {
   "cell_type": "markdown",
   "metadata": {
    "id": "r2zS_j-r0g0z"
   },
   "source": [
    "(f) Escalar $E[l]$ (el valor esperado de la variable aleatoria $l$ que corresponde a la longitud de un término escogido aleatoriamente) (sin importar el documento)\n",
    "\n",
    "Escriba su expresión matemática a continuación, \n",
    "\n",
    "\n",
    "Cada elemento $\\phi _{i}$ de $L$(vector de longitudes para cada elemento de t) **(no importa si L tiene valores repetidos).** tiene asociada una probabilidad $P(\\phi_{i})=P(t_{i})$\n",
    "\n",
    "En caso de que tenga valores repetidos simplemente se saca factor común al valor repetido y se suman las probabilidades asociadas a los 2 elementos repetidos de $L$, quedando cada elemento no repetido $\\omega$ de $L$ con una probabilidad igual a la suma de las probabilidades de los elementos repetidos. Se puede hacer este proceso y aplicar la formúla de abajo, sin embargo si asumimos que no nos importa que el elemento $\\omega$ de L  se repita y aplicamos la formúla de abajo, se puede demostrar de que llegamos al mismo resultado.Se deja la comprobación al lector de este hecho trivial.\n",
    "\n",
    "Hallamos el valor esperado por la siguiente formúla\n",
    "\n",
    "\n",
    "$$\n",
    "E[l] = \\sum _{i} \\phi _{i}P(t_{i})=(\\phi_{1}...) \\ \\cdot \\ (P(t_{1})....)\n",
    "$$\n",
    "\n",
    "La formúla nos dice que basta hallar el vector de probabilidades"
   ]
  },
  {
   "cell_type": "code",
   "execution_count": 25,
   "metadata": {
    "ExecuteTime": {
     "end_time": "2022-05-02T15:58:05.078278Z",
     "start_time": "2022-05-02T15:58:05.073283Z"
    },
    "id": "QAoaKJDE1RXD"
   },
   "outputs": [
    {
     "name": "stdout",
     "output_type": "stream",
     "text": [
      "El valor esperado para la variable aleatoria l(que corresponde a la longitud de un término escogido aleatoriamente) \n",
      " (sin importar el documento)) es:  3.8614266578831797\n"
     ]
    }
   ],
   "source": [
    "### Escriba e imprima el escalar con los valores de ejemplo a continuación\n",
    "mean=Alg.producto(TD4,L)\n",
    "print('El valor esperado para la variable aleatoria l(que corresponde a la longitud de un término escogido aleatoriamente) \\n (sin importar el documento)) es: ',mean)"
   ]
  },
  {
   "cell_type": "markdown",
   "metadata": {
    "id": "LhFWfkQ41VZj"
   },
   "source": [
    "(g) Escalar V(l) (Varianza de $l$)\n",
    "\n",
    "Escriba su expresión matemática a continuación, \n",
    "\n",
    "Por razones análogas al punto anterior no importa si los valores de $L$ se repiten.\n",
    "\n",
    "Note:**$x_i \\in L$**\n",
    "\n",
    "$$\n",
    "V(l) = { \\sum _{i} (x_i-\\bar{x})^{2}P(x_{i})}={ \\sum _{i} (x_i-\\bar{x})^{2}P(t_{i})}\n",
    "$$\n"
   ]
  },
  {
   "cell_type": "code",
   "execution_count": 26,
   "metadata": {
    "ExecuteTime": {
     "end_time": "2022-05-02T15:58:05.085278Z",
     "start_time": "2022-05-02T15:58:05.080280Z"
    },
    "id": "IM8U5xQI1m5R"
   },
   "outputs": [
    {
     "name": "stdout",
     "output_type": "stream",
     "text": [
      "La varianza de la variable aleatoria l (que corresponde a la longitud de un término escogido aleatoriamente) \n",
      " (sin importar el documento)) es:  0.18357091122382957\n"
     ]
    }
   ],
   "source": [
    "### Escriba e imprima el escalar con los valores de ejemplo a continuación\n",
    "std=0\n",
    "for i in range(len(L)):\n",
    "    std+=((L[0][i]-mean)**2)*TD4[0][i]\n",
    "\n",
    "print('La varianza de la variable aleatoria l (que corresponde a la longitud de un término escogido aleatoriamente) \\n (sin importar el documento)) es: ',std)\n",
    "    \n"
   ]
  }
 ],
 "metadata": {
  "colab": {
   "name": "Taller5MC.ipynb",
   "provenance": []
  },
  "hide_input": false,
  "kernelspec": {
   "display_name": "Python 3 (ipykernel)",
   "language": "python",
   "name": "python3"
  },
  "language_info": {
   "codemirror_mode": {
    "name": "ipython",
    "version": 3
   },
   "file_extension": ".py",
   "mimetype": "text/x-python",
   "name": "python",
   "nbconvert_exporter": "python",
   "pygments_lexer": "ipython3",
   "version": "3.8.8"
  },
  "nbTranslate": {
   "displayLangs": [
    "*"
   ],
   "hotkey": "alt-t",
   "langInMainMenu": true,
   "sourceLang": "en",
   "targetLang": "fr",
   "useGoogleTranslate": true
  },
  "toc": {
   "base_numbering": 1,
   "nav_menu": {},
   "number_sections": false,
   "sideBar": true,
   "skip_h1_title": false,
   "title_cell": "Table of Contents",
   "title_sidebar": "Contents",
   "toc_cell": false,
   "toc_position": {},
   "toc_section_display": true,
   "toc_window_display": true
  },
  "varInspector": {
   "cols": {
    "lenName": 16,
    "lenType": 16,
    "lenVar": 40
   },
   "kernels_config": {
    "python": {
     "delete_cmd_postfix": "",
     "delete_cmd_prefix": "del ",
     "library": "var_list.py",
     "varRefreshCmd": "print(var_dic_list())"
    },
    "r": {
     "delete_cmd_postfix": ") ",
     "delete_cmd_prefix": "rm(",
     "library": "var_list.r",
     "varRefreshCmd": "cat(var_dic_list()) "
    }
   },
   "types_to_exclude": [
    "module",
    "function",
    "builtin_function_or_method",
    "instance",
    "_Feature"
   ],
   "window_display": false
  }
 },
 "nbformat": 4,
 "nbformat_minor": 1
}
