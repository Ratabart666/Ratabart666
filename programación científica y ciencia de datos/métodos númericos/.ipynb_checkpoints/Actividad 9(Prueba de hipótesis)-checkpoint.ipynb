{
 "cells": [
  {
   "cell_type": "markdown",
   "id": "674675fd",
   "metadata": {},
   "source": [
    "# Aclaración"
   ]
  },
  {
   "cell_type": "markdown",
   "id": "58439667",
   "metadata": {},
   "source": [
    "Por comodidad se define una función hipótesis que realize todo el trabajo, sin embargo se coloca numerales para identificar como la función hace cada punto solicitado para los puntos 2 y 3.\n",
    "\n",
    "**Adicionalmente calculamos el valor absoluto del estádistico de prueba**"
   ]
  },
  {
   "cell_type": "markdown",
   "id": "8be653ef",
   "metadata": {},
   "source": [
    "# Librerias"
   ]
  },
  {
   "cell_type": "code",
   "execution_count": 1,
   "id": "e4002bba",
   "metadata": {
    "ExecuteTime": {
     "end_time": "2022-05-15T04:27:01.981959Z",
     "start_time": "2022-05-15T04:27:01.975968Z"
    }
   },
   "outputs": [],
   "source": [
    "import numpy as np\n",
    "from scipy.stats import norm"
   ]
  },
  {
   "cell_type": "markdown",
   "id": "ac9ab293",
   "metadata": {},
   "source": [
    "# Prueba de hipótesis "
   ]
  },
  {
   "cell_type": "code",
   "execution_count": 38,
   "id": "758e2fbf",
   "metadata": {
    "ExecuteTime": {
     "end_time": "2022-05-15T05:59:29.101714Z",
     "start_time": "2022-05-15T05:59:29.094716Z"
    }
   },
   "outputs": [],
   "source": [
    "def hipotesis(n, μ, σ, μh, α):\n",
    "    # Normalizamos por comodidad para una distribución normal estandar y hallamos el valor absoluto del estádistico de prueba\n",
    "    z = abs(μh-μ)*(np.sqrt(n))*(1/σ)\n",
    "    # Hecho lo  anterior hallamos la mitad de p\n",
    "    p = 1-norm.cdf(z)\n",
    "    # Realizamos la prueba de hipotésis\n",
    "    if(2*p < α):\n",
    "        # a\n",
    "        print('z: ', z)\n",
    "        # b\n",
    "        print('p: ', 2*p)\n",
    "        # c se mete alpha en los argumentos de la función\n",
    "        # -\n",
    "        # d\n",
    "        print(False)\n",
    "    else:\n",
    "        print('z: ', z)\n",
    "        print('p: ', 2*p)\n",
    "        print(True)"
   ]
  },
  {
   "cell_type": "markdown",
   "id": "163a5d48",
   "metadata": {},
   "source": [
    "## Punto 1"
   ]
  },
  {
   "cell_type": "code",
   "execution_count": 39,
   "id": "57de97e1",
   "metadata": {
    "ExecuteTime": {
     "end_time": "2022-05-15T05:59:29.846284Z",
     "start_time": "2022-05-15T05:59:29.840284Z"
    }
   },
   "outputs": [
    {
     "name": "stdout",
     "output_type": "stream",
     "text": [
      "z:  2.0034692133618837\n",
      "p:  0.0451269488886763\n",
      "False\n"
     ]
    }
   ],
   "source": [
    "n, μ, σ, μh, α = 50, 14.15, 3, 15, 0.05\n",
    "hipotesis(n, μ, σ, μh, α)"
   ]
  },
  {
   "cell_type": "markdown",
   "id": "525feba5",
   "metadata": {},
   "source": [
    "## Punto 2"
   ]
  },
  {
   "cell_type": "code",
   "execution_count": 40,
   "id": "ccd8f014",
   "metadata": {
    "ExecuteTime": {
     "end_time": "2022-05-15T05:59:30.239684Z",
     "start_time": "2022-05-15T05:59:30.233684Z"
    }
   },
   "outputs": [
    {
     "name": "stdout",
     "output_type": "stream",
     "text": [
      "z:  1.5396007178390019\n",
      "p:  0.12365771040283358\n",
      "True\n"
     ]
    }
   ],
   "source": [
    "n, μ, σ, μh, α = 48, 17, 4.5, 18, 0.05\n",
    "hipotesis(n, μ, σ, μh, α)"
   ]
  },
  {
   "cell_type": "markdown",
   "id": "4751fd30",
   "metadata": {},
   "source": [
    "## Punto 3"
   ]
  },
  {
   "cell_type": "markdown",
   "id": "7238e9e8",
   "metadata": {},
   "source": [
    "La idea es a través de la prueba de hipótesis validar si la resta entre las 2 distribuciones tiene promedio 0. Para eso restamos A de B y estimamos los parámetros faltantes con esta información. \n",
    "\n",
    "De manera análoga calculcamos la desviación estandar de una resta que seria la raiz cuadrada de las sumas de las desviaciones estandar al cuadrado, como tienen la misma desviación sería $\\sqrt{2}\\sigma$ donde sigma es la desviación estandar"
   ]
  },
  {
   "cell_type": "code",
   "execution_count": 41,
   "id": "c39311c4",
   "metadata": {
    "ExecuteTime": {
     "end_time": "2022-05-15T05:59:30.817344Z",
     "start_time": "2022-05-15T05:59:30.807343Z"
    }
   },
   "outputs": [
    {
     "name": "stdout",
     "output_type": "stream",
     "text": [
      "z:  0.804984471899919\n",
      "p:  0.42082864053497304\n",
      "True\n"
     ]
    }
   ],
   "source": [
    "A = [6.24, 6.31, 6.28, 6.30, 6.25, 6.26, 6.24, 6.29, 6.22, 6.28]\n",
    "B = [6.27, 6.25, 6.33, 6.27, 6.24, 6.31, 6.28, 6.29, 6.34, 6.27]\n",
    "C = np.array(B)-np.array(A)\n",
    "n, μ, σ, μh, α = len(C), np.mean(C), np.sqrt(2)*0.05, 0, 0.05\n",
    "hipotesis(n, μ, σ, μh, α)"
   ]
  }
 ],
 "metadata": {
  "hide_input": false,
  "kernelspec": {
   "display_name": "Python 3 (ipykernel)",
   "language": "python",
   "name": "python3"
  },
  "language_info": {
   "codemirror_mode": {
    "name": "ipython",
    "version": 3
   },
   "file_extension": ".py",
   "mimetype": "text/x-python",
   "name": "python",
   "nbconvert_exporter": "python",
   "pygments_lexer": "ipython3",
   "version": "3.8.8"
  },
  "nbTranslate": {
   "displayLangs": [
    "*"
   ],
   "hotkey": "alt-t",
   "langInMainMenu": true,
   "sourceLang": "en",
   "targetLang": "fr",
   "useGoogleTranslate": true
  },
  "toc": {
   "base_numbering": 1,
   "nav_menu": {},
   "number_sections": false,
   "sideBar": true,
   "skip_h1_title": false,
   "title_cell": "Table of Contents",
   "title_sidebar": "Contents",
   "toc_cell": false,
   "toc_position": {},
   "toc_section_display": true,
   "toc_window_display": false
  },
  "varInspector": {
   "cols": {
    "lenName": 16,
    "lenType": 16,
    "lenVar": 40
   },
   "kernels_config": {
    "python": {
     "delete_cmd_postfix": "",
     "delete_cmd_prefix": "del ",
     "library": "var_list.py",
     "varRefreshCmd": "print(var_dic_list())"
    },
    "r": {
     "delete_cmd_postfix": ") ",
     "delete_cmd_prefix": "rm(",
     "library": "var_list.r",
     "varRefreshCmd": "cat(var_dic_list()) "
    }
   },
   "types_to_exclude": [
    "module",
    "function",
    "builtin_function_or_method",
    "instance",
    "_Feature"
   ],
   "window_display": false
  }
 },
 "nbformat": 4,
 "nbformat_minor": 5
}
