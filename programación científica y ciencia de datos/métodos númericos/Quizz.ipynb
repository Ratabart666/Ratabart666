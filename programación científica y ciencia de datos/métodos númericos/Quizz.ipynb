{
 "cells": [
  {
   "cell_type": "code",
   "execution_count": 2,
   "id": "194be31b",
   "metadata": {},
   "outputs": [],
   "source": [
    "import numpy as np\n",
    "def f(x):\n",
    "    return np.e**(-x**2)"
   ]
  },
  {
   "cell_type": "code",
   "execution_count": 3,
   "id": "7e8f2b0c",
   "metadata": {},
   "outputs": [],
   "source": [
    "#Se define a f como una función de x antes\n",
    "def integral_riemann(f,a,b,n):\n",
    "    Δx=(b-a)/n#longitud de las particiones del intervalo\n",
    "    I=0#Integral, se hace inicialmente 0\n",
    "    for i in range(0,n):\n",
    "        xi=a+i*Δx\n",
    "        I+=f(xi)*Δx#sumatoria pequeños rectangulos\n",
    "    return I"
   ]
  },
  {
   "cell_type": "code",
   "execution_count": 4,
   "id": "df3e6c6a",
   "metadata": {},
   "outputs": [],
   "source": [
    "#Se define a f como una función de x antes\n",
    "def integral_trapecio(f,a,b,n):\n",
    "    Δx=(b-a)/n#longitud de las particiones del intervalo\n",
    "    yi=f(a)\n",
    "    yf=f(b)\n",
    "    sigmaf=0\n",
    "    xi=0\n",
    "    for i in range(1,n):\n",
    "        xi=a+i*Δx\n",
    "        sigmaf+=f(xi)\n",
    "        \n",
    "    I=Δx*((yi/2)+sigmaf+(yf/2))\n",
    "    return I"
   ]
  },
  {
   "cell_type": "code",
   "execution_count": 13,
   "id": "79ac381f",
   "metadata": {},
   "outputs": [
    {
     "data": {
      "text/plain": [
       "0.7624738509105875"
      ]
     },
     "execution_count": 13,
     "metadata": {},
     "output_type": "execute_result"
    }
   ],
   "source": [
    "integral_riemann(f,0,1,20)"
   ]
  }
 ],
 "metadata": {
  "kernelspec": {
   "display_name": "Python 3 (ipykernel)",
   "language": "python",
   "name": "python3"
  },
  "language_info": {
   "codemirror_mode": {
    "name": "ipython",
    "version": 3
   },
   "file_extension": ".py",
   "mimetype": "text/x-python",
   "name": "python",
   "nbconvert_exporter": "python",
   "pygments_lexer": "ipython3",
   "version": "3.8.8"
  },
  "widgets": {
   "application/vnd.jupyter.widget-state+json": {
    "state": {},
    "version_major": 2,
    "version_minor": 0
   }
  }
 },
 "nbformat": 4,
 "nbformat_minor": 5
}
