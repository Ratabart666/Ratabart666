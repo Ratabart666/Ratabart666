{
 "cells": [
  {
   "cell_type": "markdown",
   "id": "c771c7e4",
   "metadata": {},
   "source": [
    "# Máquina de turing no determinista que reconoce el lenguaje:\n",
    "$\\{w \\in \\mathbb\\sum^{*}$:w=v#v\\}$"
   ]
  },
  {
   "cell_type": "code",
   "execution_count": 8,
   "id": "b914fd43",
   "metadata": {},
   "outputs": [
    {
     "ename": "RejectionException",
     "evalue": "The machine entered a non-final configuration for which no transition is defined (q4, 1)",
     "output_type": "error",
     "traceback": [
      "\u001b[1;31m---------------------------------------------------------------------------\u001b[0m",
      "\u001b[1;31mRejectionException\u001b[0m                        Traceback (most recent call last)",
      "Input \u001b[1;32mIn [8]\u001b[0m, in \u001b[0;36m<cell line: 63>\u001b[1;34m()\u001b[0m\n\u001b[0;32m      1\u001b[0m \u001b[38;5;28;01mfrom\u001b[39;00m \u001b[38;5;21;01mautomata\u001b[39;00m\u001b[38;5;21;01m.\u001b[39;00m\u001b[38;5;21;01mtm\u001b[39;00m\u001b[38;5;21;01m.\u001b[39;00m\u001b[38;5;21;01mdtm\u001b[39;00m \u001b[38;5;28;01mimport\u001b[39;00m DTM\n\u001b[0;32m      3\u001b[0m dtm \u001b[38;5;241m=\u001b[39m DTM(\n\u001b[0;32m      4\u001b[0m     states\u001b[38;5;241m=\u001b[39m{\u001b[38;5;124m'\u001b[39m\u001b[38;5;124mq1\u001b[39m\u001b[38;5;124m'\u001b[39m,\u001b[38;5;124m'\u001b[39m\u001b[38;5;124mq2\u001b[39m\u001b[38;5;124m'\u001b[39m,\u001b[38;5;124m'\u001b[39m\u001b[38;5;124mq3\u001b[39m\u001b[38;5;124m'\u001b[39m,\u001b[38;5;124m'\u001b[39m\u001b[38;5;124mq4\u001b[39m\u001b[38;5;124m'\u001b[39m,\u001b[38;5;124m'\u001b[39m\u001b[38;5;124mq5\u001b[39m\u001b[38;5;124m'\u001b[39m,\u001b[38;5;124m'\u001b[39m\u001b[38;5;124mq6\u001b[39m\u001b[38;5;124m'\u001b[39m,\u001b[38;5;124m'\u001b[39m\u001b[38;5;124mq7\u001b[39m\u001b[38;5;124m'\u001b[39m,\u001b[38;5;124m'\u001b[39m\u001b[38;5;124mq8\u001b[39m\u001b[38;5;124m'\u001b[39m,\u001b[38;5;124m'\u001b[39m\u001b[38;5;124mq9\u001b[39m\u001b[38;5;124m'\u001b[39m},\n\u001b[0;32m      5\u001b[0m     input_symbols\u001b[38;5;241m=\u001b[39m{\u001b[38;5;124m'\u001b[39m\u001b[38;5;124m0\u001b[39m\u001b[38;5;124m'\u001b[39m,\u001b[38;5;124m'\u001b[39m\u001b[38;5;124m1\u001b[39m\u001b[38;5;124m'\u001b[39m},\n\u001b[1;32m   (...)\u001b[0m\n\u001b[0;32m     59\u001b[0m     final_states\u001b[38;5;241m=\u001b[39m{\u001b[38;5;124m'\u001b[39m\u001b[38;5;124mq9\u001b[39m\u001b[38;5;124m'\u001b[39m}\n\u001b[0;32m     60\u001b[0m )\n\u001b[1;32m---> 63\u001b[0m \u001b[43mdtm\u001b[49m\u001b[38;5;241;43m.\u001b[39;49m\u001b[43mread_input\u001b[49m\u001b[43m(\u001b[49m\u001b[38;5;124;43m'\u001b[39;49m\u001b[38;5;124;43m10010#10100\u001b[39;49m\u001b[38;5;124;43m'\u001b[39;49m\u001b[43m)\u001b[49m\n",
      "File \u001b[1;32m~\\anaconda3\\lib\\site-packages\\automata\\base\\automaton.py:34\u001b[0m, in \u001b[0;36mAutomaton.read_input\u001b[1;34m(self, input_str)\u001b[0m\n\u001b[0;32m     28\u001b[0m \u001b[38;5;124;03m\"\"\"\u001b[39;00m\n\u001b[0;32m     29\u001b[0m \u001b[38;5;124;03mCheck if the given string is accepted by this automaton.\u001b[39;00m\n\u001b[0;32m     30\u001b[0m \n\u001b[0;32m     31\u001b[0m \u001b[38;5;124;03mReturn the automaton's final configuration if this string is valid.\u001b[39;00m\n\u001b[0;32m     32\u001b[0m \u001b[38;5;124;03m\"\"\"\u001b[39;00m\n\u001b[0;32m     33\u001b[0m validation_generator \u001b[38;5;241m=\u001b[39m \u001b[38;5;28mself\u001b[39m\u001b[38;5;241m.\u001b[39mread_input_stepwise(input_str)\n\u001b[1;32m---> 34\u001b[0m \u001b[38;5;28;01mfor\u001b[39;00m config \u001b[38;5;129;01min\u001b[39;00m validation_generator:\n\u001b[0;32m     35\u001b[0m     \u001b[38;5;28;01mpass\u001b[39;00m\n\u001b[0;32m     36\u001b[0m \u001b[38;5;28;01mreturn\u001b[39;00m config\n",
      "File \u001b[1;32m~\\anaconda3\\lib\\site-packages\\automata\\tm\\dtm.py:132\u001b[0m, in \u001b[0;36mDTM.read_input_stepwise\u001b[1;34m(self, input_str)\u001b[0m\n\u001b[0;32m    129\u001b[0m \u001b[38;5;66;03m# The initial state cannot be a final state for a DTM, so the first\u001b[39;00m\n\u001b[0;32m    130\u001b[0m \u001b[38;5;66;03m# iteration is always guaranteed to run (as it should)\u001b[39;00m\n\u001b[0;32m    131\u001b[0m \u001b[38;5;28;01mwhile\u001b[39;00m \u001b[38;5;129;01mnot\u001b[39;00m \u001b[38;5;28mself\u001b[39m\u001b[38;5;241m.\u001b[39m_has_accepted(current_configuration):\n\u001b[1;32m--> 132\u001b[0m     current_configuration \u001b[38;5;241m=\u001b[39m \u001b[38;5;28;43mself\u001b[39;49m\u001b[38;5;241;43m.\u001b[39;49m\u001b[43m_get_next_configuration\u001b[49m\u001b[43m(\u001b[49m\n\u001b[0;32m    133\u001b[0m \u001b[43m        \u001b[49m\u001b[43mcurrent_configuration\u001b[49m\n\u001b[0;32m    134\u001b[0m \u001b[43m    \u001b[49m\u001b[43m)\u001b[49m\n\u001b[0;32m    135\u001b[0m     \u001b[38;5;28;01myield\u001b[39;00m current_configuration\n",
      "File \u001b[1;32m~\\anaconda3\\lib\\site-packages\\automata\\tm\\dtm.py:106\u001b[0m, in \u001b[0;36mDTM._get_next_configuration\u001b[1;34m(self, old_config)\u001b[0m\n\u001b[0;32m    104\u001b[0m     transitions\u001b[38;5;241m.\u001b[39mremove(\u001b[38;5;28;01mNone\u001b[39;00m)\n\u001b[0;32m    105\u001b[0m \u001b[38;5;28;01mif\u001b[39;00m \u001b[38;5;28mlen\u001b[39m(transitions) \u001b[38;5;241m==\u001b[39m \u001b[38;5;241m0\u001b[39m:\n\u001b[1;32m--> 106\u001b[0m     \u001b[38;5;28;01mraise\u001b[39;00m exceptions\u001b[38;5;241m.\u001b[39mRejectionException(\n\u001b[0;32m    107\u001b[0m         \u001b[38;5;124m'\u001b[39m\u001b[38;5;124mThe machine entered a non-final configuration for which no \u001b[39m\u001b[38;5;124m'\u001b[39m\n\u001b[0;32m    108\u001b[0m         \u001b[38;5;124m'\u001b[39m\u001b[38;5;124mtransition is defined (\u001b[39m\u001b[38;5;132;01m{}\u001b[39;00m\u001b[38;5;124m, \u001b[39m\u001b[38;5;132;01m{}\u001b[39;00m\u001b[38;5;124m)\u001b[39m\u001b[38;5;124m'\u001b[39m\u001b[38;5;241m.\u001b[39mformat(\n\u001b[0;32m    109\u001b[0m             old_config\u001b[38;5;241m.\u001b[39mstate, old_config\u001b[38;5;241m.\u001b[39mtape\u001b[38;5;241m.\u001b[39mread_symbol()))\n\u001b[0;32m    110\u001b[0m tape \u001b[38;5;241m=\u001b[39m old_config\u001b[38;5;241m.\u001b[39mtape\n\u001b[0;32m    111\u001b[0m (new_state, new_tape_symbol,\n\u001b[0;32m    112\u001b[0m     direction) \u001b[38;5;241m=\u001b[39m transitions\u001b[38;5;241m.\u001b[39mpop()\n",
      "\u001b[1;31mRejectionException\u001b[0m: The machine entered a non-final configuration for which no transition is defined (q4, 1)"
     ]
    }
   ],
   "source": [
    "from automata.tm.dtm import DTM\n",
    "\n",
    "dtm = DTM(\n",
    "    states={'q1','q2','q3','q4','q5','q6','q7','q8','q9'},\n",
    "    input_symbols={'0','1'},\n",
    "    tape_symbols={'0','1','#','.','x'},\n",
    "    transitions={\n",
    "#####################################################\n",
    "        'q1': {\n",
    "            '1': ('q3', 'x', 'R'),\n",
    "            '0': ('q2', 'x', 'R'),\n",
    "            '#': ('q8', '#', 'R')\n",
    "        },\n",
    "#####################################################\n",
    "        \n",
    "        'q2': {\n",
    "            '0': ('q2', '0', 'R'),\n",
    "            '1': ('q2', '1', 'R'), \n",
    "            '#': ('q4', '#', 'R')     \n",
    "        },\n",
    "#####################################################\n",
    "        'q3': {\n",
    "            '0': ('q3', '0', 'R'),\n",
    "            '1': ('q3', '1', 'R'),\n",
    "            '#': ('q5', '#', 'R')\n",
    "        },\n",
    "#####################################################\n",
    "        'q4': {\n",
    "            'x': ('q4', 'x', 'R'),\n",
    "            '0': ('q6', 'x', 'L')\n",
    "        },\n",
    "#####################################################\n",
    "        'q5': {\n",
    "            'x': ('q5', 'x', 'R'),\n",
    "            '1': ('q6', 'x', 'L')\n",
    "        },\n",
    "#####################################################\n",
    "        'q6': {\n",
    "            '0': ('q6', '0', 'L'),\n",
    "            '1': ('q6', '1', 'L'),\n",
    "            'x': ('q6', 'x', 'L'),\n",
    "            '#': ('q7', '#', 'L')\n",
    "        },\n",
    "#####################################################\n",
    "        'q7': {\n",
    "            'x': ('q1', 'x', 'R'),\n",
    "            '0': ('q7', '0', 'L'),\n",
    "            '1': ('q7', '1', 'L')\n",
    "        },\n",
    "#####################################################\n",
    "        'q8': {\n",
    "            'x': ('q8', 'x', 'R'),\n",
    "            '.': ('q9', '.', 'R')\n",
    "        }, \n",
    "#####################################################          \n",
    "    },\n",
    "    initial_state='q1',\n",
    "    blank_symbol='.',\n",
    "    final_states={'q9'}\n",
    ")\n",
    "\n",
    "    \n",
    "dtm.read_input('10000#10100')"
   ]
  },
  {
   "cell_type": "code",
   "execution_count": null,
   "id": "543f63cd",
   "metadata": {},
   "outputs": [],
   "source": []
  }
 ],
 "metadata": {
  "kernelspec": {
   "display_name": "Python 3 (ipykernel)",
   "language": "python",
   "name": "python3"
  },
  "language_info": {
   "codemirror_mode": {
    "name": "ipython",
    "version": 3
   },
   "file_extension": ".py",
   "mimetype": "text/x-python",
   "name": "python",
   "nbconvert_exporter": "python",
   "pygments_lexer": "ipython3",
   "version": "3.8.8"
  }
 },
 "nbformat": 4,
 "nbformat_minor": 5
}
