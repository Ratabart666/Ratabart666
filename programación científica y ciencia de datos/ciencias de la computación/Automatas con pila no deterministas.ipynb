{
 "cells": [
  {
   "cell_type": "markdown",
   "id": "641c56da",
   "metadata": {},
   "source": [
    "# Automáta con pila no determinista que reconoce a $\\{ w \\in \\sum^{*}:0^{n}1^{n} n \\in \\mathbb{N}\\}$, $\\sum= \\{ 0,1 \\}$"
   ]
  },
  {
   "cell_type": "code",
   "execution_count": 21,
   "id": "5099c771",
   "metadata": {},
   "outputs": [
    {
     "data": {
      "text/plain": [
       "{PDAConfiguration('q5', '', PDAStack())}"
      ]
     },
     "execution_count": 21,
     "metadata": {},
     "output_type": "execute_result"
    }
   ],
   "source": [
    "# Lea con detenimiento la parte de automátas con pila determinista para poder entender la sintaxis, aquí es similar \n",
    "from automata.pda.npda import NPDA\n",
    "npda = NPDA(\n",
    "    states={'q3', 'q4', 'q5'},\n",
    "    input_symbols={'0', '1'},\n",
    "    stack_symbols={'A', 'B', '$'},\n",
    "    transitions={\n",
    "#############################################    \n",
    "#############################################    \n",
    "#############################################\n",
    "        'q3': {\n",
    "            '0': {\n",
    "                '$': {('q3', ('A','$'))},\n",
    "                'A':{('q3',('A','A'))}\n",
    "                 },\n",
    "#--------------------------------------------   \n",
    "            '1' : {\n",
    "                'A':{('q4','')}\n",
    "                 }\n",
    "              },\n",
    "#############################################    \n",
    "#############################################    \n",
    "#############################################\n",
    "        'q4': {\n",
    "            '1' : {\n",
    "                'A':{('q4','')}\n",
    "                 },\n",
    "#--------------------------------------------   \n",
    "            '' : {\n",
    "                '$':{('q5','')}\n",
    "                 }\n",
    "              }    },  \n",
    "#############################################    \n",
    "#############################################    \n",
    "#############################################\n",
    "    initial_state='q3',\n",
    "    initial_stack_symbol='$',\n",
    "    final_states={'q5'},\n",
    "    acceptance_mode='final_state'\n",
    ")\n",
    "npda.read_input('000000111111')\n"
   ]
  }
 ],
 "metadata": {
  "kernelspec": {
   "display_name": "Python 3 (ipykernel)",
   "language": "python",
   "name": "python3"
  },
  "language_info": {
   "codemirror_mode": {
    "name": "ipython",
    "version": 3
   },
   "file_extension": ".py",
   "mimetype": "text/x-python",
   "name": "python",
   "nbconvert_exporter": "python",
   "pygments_lexer": "ipython3",
   "version": "3.8.8"
  }
 },
 "nbformat": 4,
 "nbformat_minor": 5
}
