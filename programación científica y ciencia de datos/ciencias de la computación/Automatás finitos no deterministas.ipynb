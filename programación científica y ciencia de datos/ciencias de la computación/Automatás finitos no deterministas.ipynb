{
 "cells": [
  {
   "cell_type": "markdown",
   "id": "947d204b",
   "metadata": {},
   "source": [
    "# Acepta las cadenas que tienen a 101 o 11 como subcadena inicial"
   ]
  },
  {
   "cell_type": "code",
   "execution_count": 19,
   "id": "733e0ac0",
   "metadata": {},
   "outputs": [
    {
     "data": {
      "text/plain": [
       "{'q1', 'q4'}"
      ]
     },
     "execution_count": 19,
     "metadata": {},
     "output_type": "execute_result"
    }
   ],
   "source": [
    "# from automata.fa.nfa import NFA\n",
    "\n",
    "nfa = NFA(\n",
    "    states={'q1', 'q2', 'q3','q4'},\n",
    "    input_symbols={'1', '0'},\n",
    "    transitions={\n",
    "        'q1': {'0': {'q1'},'1':{'q1','q2'}},    # Use '' as the key name for empty string (lambda/epsilon) transitions\n",
    "        'q2': {'0': {'q3'},'':{'q3'}},\n",
    "        'q3': {'1': {'q4'}},\n",
    "        'q4': {'0':{'q4'},'1':{'q4'}}\n",
    "    },\n",
    "    initial_state='q1',\n",
    "    final_states={'q4'}\n",
    ")\n",
    "nfa.read_input('00000000000001010000000000000000')"
   ]
  }
 ],
 "metadata": {
  "kernelspec": {
   "display_name": "Python 3 (ipykernel)",
   "language": "python",
   "name": "python3"
  },
  "language_info": {
   "codemirror_mode": {
    "name": "ipython",
    "version": 3
   },
   "file_extension": ".py",
   "mimetype": "text/x-python",
   "name": "python",
   "nbconvert_exporter": "python",
   "pygments_lexer": "ipython3",
   "version": "3.8.8"
  }
 },
 "nbformat": 4,
 "nbformat_minor": 5
}
