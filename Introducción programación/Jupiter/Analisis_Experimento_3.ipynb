{
 "cells": [
  {
   "cell_type": "code",
   "execution_count": 2,
   "metadata": {},
   "outputs": [],
   "source": [
    "#Import de paquetes necesarios"
   ]
  },
  {
   "cell_type": "code",
   "execution_count": 3,
   "metadata": {},
   "outputs": [],
   "source": [
    "import matplotlib.pylab as pl"
   ]
  },
  {
   "cell_type": "code",
   "execution_count": 4,
   "metadata": {},
   "outputs": [],
   "source": [
    "import numpy as np"
   ]
  },
  {
   "cell_type": "code",
   "execution_count": 5,
   "metadata": {},
   "outputs": [],
   "source": [
    "from matplotlib import pyplot as plt"
   ]
  },
  {
   "cell_type": "code",
   "execution_count": 6,
   "metadata": {},
   "outputs": [],
   "source": [
    "import math as mt"
   ]
  },
  {
   "cell_type": "code",
   "execution_count": 7,
   "metadata": {},
   "outputs": [],
   "source": [
    "import scipy as sp"
   ]
  },
  {
   "cell_type": "code",
   "execution_count": 8,
   "metadata": {},
   "outputs": [],
   "source": [
    "from scipy import optimize"
   ]
  },
  {
   "cell_type": "code",
   "execution_count": 9,
   "metadata": {},
   "outputs": [],
   "source": [
    "#Funciones útiles\n",
    "ln = mt.log\n",
    "e = mt.e\n",
    "abs= mt.fabs"
   ]
  },
  {
   "cell_type": "code",
   "execution_count": 10,
   "metadata": {},
   "outputs": [
    {
     "name": "stdout",
     "output_type": "stream",
     "text": [
      "L = 28.55 cm\n",
      "ΔL = 0.05000000000000071 cm\n"
     ]
    }
   ],
   "source": [
    "#Cálculo de L promedio para cada color\n",
    "s= np.array([21.4, 78.5]) #Distancia al color\n",
    "c= 50.0 #Centro\n",
    "D= 110.6 #Distancia Regla-Rejilla\n",
    "cs= np.array([abs(c-s[0]), abs(c-s[1])])\n",
    "\n",
    "L = sum(cs)/len(s)\n",
    "σL= mt.sqrt(sum((L-cs)**2)/(len(s)-1))\n",
    "ΔL= σL/mt.sqrt(len(s))\n",
    "print('L = ' + str(L) + ' cm') \n",
    "print('ΔL = ' + str(ΔL) + ' cm') "
   ]
  },
  {
   "cell_type": "code",
   "execution_count": 11,
   "metadata": {},
   "outputs": [],
   "source": [
    "#Distancia del centro a los colores -L (cm)-\n",
    "LH  = np.array([28.6, 32.3, 44.95])                    #Hidrógeno= (Violeta, Azul, Rojo)\n",
    "LHe = np.array([29.4, 31.0, 32.5, 33.15, 39.5, 45.7])  #Helio= (Violeta, Azul, Aguamarina, Verde, Amarillo, Rojo)\n",
    "LHg = np.array([28.6, 36.4, 38.7, 44.5])               #Mercurio= (Violeta, Verde, Amarillo, Rojo)\n",
    "LAr = np.array([27.5, 31, 34, 37, 39.8, 40.8])         #Argón= (Violeta, Azul, Verde, Amarillo, Naranja, Naranja oscuro)"
   ]
  },
  {
   "cell_type": "code",
   "execution_count": 12,
   "metadata": {},
   "outputs": [],
   "source": [
    "#Incertidumbre de L -ΔL (cm)-\n",
    "ΔLH  = np.array([0.2, 0.1, 0.05])\n",
    "ΔLHe = np.array([0.2, 0.0, 0.0, 0.05, 0.0, 0.1])\n",
    "ΔLHg = np.array([0.2, 0.2, 0.2, 0.05])\n",
    "ΔLAr = np.array([0.7, 2, 1, 2, 0.8, 0.8])"
   ]
  },
  {
   "cell_type": "code",
   "execution_count": 13,
   "metadata": {},
   "outputs": [],
   "source": [
    "#Constantes\n",
    "#Distancia entre la regla y la Rejilla -(cm)-\n",
    "DH  = 112.0\n",
    "DHe = 112.0\n",
    "DHg = 111.6\n",
    "DAr = 111.1\n",
    "DL  = 110.6\n",
    "#Separación de las Rendijas -(nm)-\n",
    "d  = 1666\n",
    "Δd = 1"
   ]
  },
  {
   "cell_type": "code",
   "execution_count": 14,
   "metadata": {},
   "outputs": [
    {
     "name": "stdout",
     "output_type": "stream",
     "text": [
      "Cos(δ) = 0.9387 radianes\n",
      "ΔSin(δ) = 0.00596770655858392 radianes\n"
     ]
    }
   ],
   "source": [
    "#Cálculo de Sin(δ)\n",
    "D = DAr\n",
    "L = LAr[5]\n",
    "ΔL= ΔLAr[5]\n",
    "\n",
    "δ = mt.atan(L/D)\n",
    "Δδ= mt.sqrt((D*ΔL/(L**2+D**2))**2+(D*0.05/(L**2+D**2))**2)\n",
    "Cδ= round(mt.cos(δ),4)\n",
    "print('Cos(δ) = ' + str(Cδ) + ' radianes') \n",
    "print('ΔSin(δ) = ' + str(Δδ*mt.cos(δ)) + ' radianes') "
   ]
  },
  {
   "cell_type": "code",
   "execution_count": 15,
   "metadata": {},
   "outputs": [],
   "source": [
    "#Ángulo entre la linea central y cada color -δ (radianes)-\n",
    "SδH   = np.array([0.247, 0.2771, 0.3725])\n",
    "CδH   = np.array([0.968, 0.9608, 0.928])\n",
    "ΔSδH  = np.array([0.002, 0.0009, 0.0005])\n",
    "\n",
    "SδHe  = np.array([0.254, 0.2668, 0.2787, 0.2838, 0.3326, 0.3778])\n",
    "CδHe  = np.array([0.9672, 0.9638, 0.9604, 0.9589, 0.9431, 0.9259])\n",
    "ΔSδHe = np.array([0.002, 0.0004, 0.0004, 0.0006, 0.0004,0.0008 ])\n",
    "\n",
    "SδHg  = np.array([0.248, 0.310, 0.328, 0.3704])\n",
    "CδHg  = np.array([0.9687, 0.9507, 0.9448, 0.9289])\n",
    "ΔSδHg = np.array([0.002, 0.002, 0.002, 0.0005])\n",
    "\n",
    "SδAr  = np.array([0.240, 0.27, 0.293, 0.32, 0.337, 0.345])\n",
    "CδAr  = np.array([0.9707, 0.9632, 0.9562, 0.9488, 0.9414, 0.9387])\n",
    "ΔSδAr = np.array([0.006, 0.02, 0.008, 0.02, 0.006, 0.006])"
   ]
  },
  {
   "cell_type": "code",
   "execution_count": 16,
   "metadata": {},
   "outputs": [
    {
     "name": "stdout",
     "output_type": "stream",
     "text": [
      "λH = [411.502  461.6486 620.585 ] nm\n",
      "ΔλH = [3.225376   1.44062352 0.773024  ] nm\n",
      "λHe = [423.164  444.4888 464.3142 472.8108 554.1116 629.4148] nm\n",
      "ΔλHe = [3.2227104  0.64227632 0.64001056 0.95851644 0.62848184 1.23403952] nm\n",
      "λHg = [413.168  516.46   546.448  617.0864] nm\n",
      "ΔλHg = [3.2277084 3.1677324 3.1480736 0.7737737] nm\n",
      "λAr = [399.84  449.82  488.138 533.12  561.442 574.77 ] nm\n",
      "ΔλAr = [ 9.7031172 32.093824  12.7442336 31.614016   9.4102344  9.3832452] nm\n"
     ]
    }
   ],
   "source": [
    "#Longitud de onda para cada color según el elemento -λ (nm)-\n",
    "λH = d*SδH\n",
    "ΔλH= d*CδH*ΔSδH\n",
    "print('λH = ' + str(λH) + ' nm') \n",
    "print('ΔλH = ' + str(ΔλH) + ' nm') \n",
    "λHe = d*SδHe\n",
    "ΔλHe= d*CδHe*ΔSδHe\n",
    "print('λHe = ' + str(λHe) + ' nm') \n",
    "print('ΔλHe = ' + str(ΔλHe) + ' nm') \n",
    "λHg = d*SδHg\n",
    "ΔλHg= d*CδHg*ΔSδHg\n",
    "print('λHg = ' + str(λHg) + ' nm') \n",
    "print('ΔλHg = ' + str(ΔλHg) + ' nm') \n",
    "λAr = d*SδAr\n",
    "ΔλAr= d*CδAr*ΔSδAr\n",
    "print('λAr = ' + str(λAr) + ' nm') \n",
    "print('ΔλAr = ' + str(ΔλAr) + ' nm') "
   ]
  },
  {
   "cell_type": "code",
   "execution_count": 17,
   "metadata": {},
   "outputs": [],
   "source": [
    "#Niveles de energía para el Hidrógeno\n",
    "n= np.array([6, 5, 3])"
   ]
  },
  {
   "cell_type": "code",
   "execution_count": 18,
   "metadata": {},
   "outputs": [],
   "source": [
    "#Eje X\n",
    "X1 = np.array([0, 1, 2, 3, 4, 5, 6, 7, 8, 9, 10])\n",
    "X2 = np.array([0, 2, 4, 6,  8, 10, 12, 14, 16])\n",
    "X4 = np.array([0, 2, 4, 6, 8, 10, 12, 14, 16, 18, 20, 22, 24])\n",
    "#Eje Y\n",
    "Y2 = np.array([0, 1, 2, 3, 4, 5, 6, 7, 8])"
   ]
  },
  {
   "cell_type": "code",
   "execution_count": 19,
   "metadata": {},
   "outputs": [],
   "source": [
    "#Datos continuos (Necesarios para el ajuste)\n",
    "nc = sp.linspace(2, 7, 20)"
   ]
  },
  {
   "cell_type": "code",
   "execution_count": 20,
   "metadata": {},
   "outputs": [],
   "source": [
    "def Y(n,a,b):\n",
    "    return (a*(1/n**2))+b"
   ]
  },
  {
   "cell_type": "code",
   "execution_count": 21,
   "metadata": {},
   "outputs": [],
   "source": [
    "params, params_covariance = optimize.curve_fit(Y, n, 1/λH, p0=[2, 2])"
   ]
  },
  {
   "cell_type": "code",
   "execution_count": 22,
   "metadata": {},
   "outputs": [
    {
     "data": {
      "image/png": "[encoded data removed]",
      "text/plain": [
       "<Figure size 576x432 with 1 Axes>"
      ]
     },
     "metadata": {
      "needs_background": "light"
     },
     "output_type": "display_data"
    }
   ],
   "source": [
    "#Gráfica de n vs 1/λ para el Hidrógeno\n",
    "plt.figure(figsize=(8, 6))\n",
    "plt.errorbar(n, 1/λH, yerr=(1/λH**2)*ΔλH, xerr=0, fmt=\"o\", mec='red', mfc='red', ecolor= \"r\", ms= \"5\", label = \"Valores medidos\")\n",
    "plt.errorbar(nc, Y(nc, params[0], params[1]), color=\"g\", fmt='--', label = \"Ajuste\")\n",
    "plt.ylabel(\"1/λ (nm)\", size = 'large') \n",
    "plt.yticks(size = 'large')\n",
    "plt.xlabel(\"n\", size = 'large') \n",
    "plt.xticks(size = 'large')\n",
    "plt.legend(loc=\"lower right\")\n",
    "plt.grid(True) \n",
    "plt.savefig(\"n vs λ\")"
   ]
  },
  {
   "cell_type": "code",
   "execution_count": 23,
   "metadata": {},
   "outputs": [
    {
     "name": "stdout",
     "output_type": "stream",
     "text": [
      "a = -0.00912749279142437\n",
      "b = 0.0026134871497988325\n",
      "RH = 10453948.59919533 m^-1\n",
      "ΔRH = 26005.71249707485 m^-1\n"
     ]
    }
   ],
   "source": [
    "x=n\n",
    "y=1/λH\n",
    "N=3\n",
    "a=params[0]\n",
    "b=params[1]\n",
    "\n",
    "#Incertidumbre de λ\n",
    "𝜎a= mt.sqrt((sum((y-(a*x)-b)**2)*N)/((N-2)*(N*sum(x**2)-sum(x)**2)))\n",
    "𝜎b= mt.sqrt((sum((y-a*x-b)**2)*sum(x**2))/((N-2)*(N*sum(x**2)-sum(x)**2)))\n",
    "ΔRH= mt.sqrt(4*𝜎b/10**(-9))\n",
    "\n",
    "print('a = ' + str(a))\n",
    "print('b = ' + str(b))\n",
    "print('RH = ' + str((b*4)/10**(-9))+ ' m^-1') \n",
    "print('ΔRH = ' + str(ΔRH) + ' m^-1') "
   ]
  },
  {
   "cell_type": "markdown",
   "metadata": {},
   "source": [
    "# Análisis de LEDs"
   ]
  },
  {
   "cell_type": "code",
   "execution_count": 24,
   "metadata": {},
   "outputs": [
    {
     "name": "stdout",
     "output_type": "stream",
     "text": [
      "L = 40.0 cm\n",
      "ΔL = 2.0 cm\n"
     ]
    }
   ],
   "source": [
    "#Cálculo de L promedio para cada color\n",
    "s= np.array([12, 92]) #Distancia al color\n",
    "c= 50.0 #Centro\n",
    "D= 110.6 #Distancia Regla-Rejilla\n",
    "cs= np.array([abs(c-s[0]), abs(c-s[1])])\n",
    "\n",
    "L = sum(cs)/len(s)\n",
    "σL= mt.sqrt(sum((L-cs)**2)/(len(s)-1))\n",
    "ΔL= σL/mt.sqrt(len(s))\n",
    "print('L = ' + str(L) + ' cm') \n",
    "print('ΔL = ' + str(ΔL) + ' cm') "
   ]
  },
  {
   "cell_type": "code",
   "execution_count": 25,
   "metadata": {},
   "outputs": [],
   "source": [
    "#Distancia del centro a los colores -L (cm)-\n",
    "La = np.array([28.55, 30.2])\n",
    "ΔLa= np.array([0.05, 0.2])\n",
    "Lv = np.array([33.0, 35.8])  \n",
    "ΔLv= np.array([0.0, 0.7])\n",
    "Lr = np.array([40.2, 42.8])   \n",
    "ΔLr= np.array([0.2, 0.1])\n",
    "Lx = np.array([38, 40])\n",
    "ΔLx= np.array([2, 2])"
   ]
  },
  {
   "cell_type": "code",
   "execution_count": 26,
   "metadata": {},
   "outputs": [
    {
     "name": "stdout",
     "output_type": "stream",
     "text": [
      "Sin(δ) = 0.2499 radianes\n",
      "Cos(δ) = 0.9683 radianes\n",
      "ΔSin(δ) = 0.0005803716236360098 radianes\n"
     ]
    }
   ],
   "source": [
    "#Cálculo de Sin(δ)\n",
    "D = DL\n",
    "L = La[0]\n",
    "ΔL= ΔLa[0]\n",
    "\n",
    "δ = mt.atan(L/D)\n",
    "Δδ= mt.sqrt((D*ΔL/(L**2+D**2))**2+(D*0.05/(L**2+D**2))**2)\n",
    "Sδ= round(mt.sin(δ),4)\n",
    "Cδ= round(mt.cos(δ),4)\n",
    "print('Sin(δ) = ' + str(Sδ) + ' radianes') \n",
    "print('Cos(δ) = ' + str(Cδ) + ' radianes') \n",
    "print('ΔSin(δ) = ' + str(Δδ*mt.cos(δ)) + ' radianes') "
   ]
  },
  {
   "cell_type": "code",
   "execution_count": 27,
   "metadata": {},
   "outputs": [],
   "source": [
    "#Ángulo entre la linea central y cada color -δ (radianes)-\n",
    "Sδa   = np.array([0.2499, 0.263])\n",
    "Cδa   = np.array([0.968, 0.9647])\n",
    "ΔSδa  = np.array([0.0006, 0.002])\n",
    "\n",
    "Sδv   = np.array([0.2859, 0.308])\n",
    "Cδv   = np.array([0.9583, 0.9514])\n",
    "ΔSδv  = np.array([0.0004, 0.005])\n",
    "\n",
    "Sδr   = np.array([0.315, 0.3609])\n",
    "Cδr   = np.array([0.9398, 0.9326])\n",
    "ΔSδr  = np.array([0.002, 0.0008])\n",
    "\n",
    "Sδx   = np.array([0.32, 0.34])\n",
    "Cδx   = np.array([0.946, 0.940])\n",
    "ΔSδx  = np.array([0.02, 0.02])"
   ]
  },
  {
   "cell_type": "code",
   "execution_count": 28,
   "metadata": {},
   "outputs": [
    {
     "name": "stdout",
     "output_type": "stream",
     "text": [
      "λa = [416.3334 438.158 ] nm\n",
      "Δλa = [0.9676128 3.2143804] nm\n",
      "λv = [476.3094 513.128 ] nm\n",
      "Δλv = [0.63861112 7.925162  ] nm\n",
      "λr = [524.79   601.2594] nm\n",
      "Δλr = [3.1314136  1.24296928] nm\n",
      "λx = [533.12 566.44] nm\n",
      "Δλx = [31.52072 31.3208 ] nm\n"
     ]
    }
   ],
   "source": [
    "λa = d*Sδa\n",
    "Δλa= d*Cδa*ΔSδa\n",
    "print('λa = ' + str(λa) + ' nm') \n",
    "print('Δλa = ' + str(Δλa) + ' nm') \n",
    "λv = d*Sδv\n",
    "Δλv= d*Cδv*ΔSδv\n",
    "print('λv = ' + str(λv) + ' nm') \n",
    "print('Δλv = ' + str(Δλv) + ' nm') \n",
    "λr = d*Sδr\n",
    "Δλr= d*Cδr*ΔSδr\n",
    "print('λr = ' + str(λr) + ' nm') \n",
    "print('Δλr = ' + str(Δλr) + ' nm') \n",
    "λx = d*Sδx\n",
    "Δλx= d*Cδx*ΔSδx\n",
    "print('λx = ' + str(λx) + ' nm') \n",
    "print('Δλx = ' + str(Δλx) + ' nm') "
   ]
  },
  {
   "cell_type": "code",
   "execution_count": 41,
   "metadata": {},
   "outputs": [],
   "source": [
    "λ= np.array([470, 530, 580, 670]) #Azul, Verde, Amarillo, Rojo\n",
    "Y= np.array([1, 2, 3, 4])\n",
    "#Ejes\n",
    "Y2 = np.array([])\n",
    "X2 = np.array([410, 435, 460, 485, 510, 535, 560, 585, 610, 635, 660, 685])"
   ]
  },
  {
   "cell_type": "code",
   "execution_count": 68,
   "metadata": {},
   "outputs": [
    {
     "data": {
      "image/png": "[encoded data removed]",
      "text/plain": [
       "<Figure size 576x288 with 1 Axes>"
      ]
     },
     "metadata": {
      "needs_background": "light"
     },
     "output_type": "display_data"
    }
   ],
   "source": [
    "#Gráfica del intérvalo de cada color para los LEDs\n",
    "plt.figure(figsize=(8, 4))\n",
    "plt.errorbar(λ, Y, yerr=0, xerr=0, fmt=\"*\", mec='black', mfc='black', ecolor= \"r\", ms= \"10\", label = \"Valores medidos\")\n",
    "plt.ylabel(\"\", size = 'large') \n",
    "plt.yticks(Y2, size = 'large')\n",
    "plt.xlabel(\"λ (nm)\", size = 'large') \n",
    "plt.xticks(X2, size = 'large')\n",
    "plt.axhline(1, color='b', xmin=0.05, xmax=0.12)\n",
    "plt.axhline(2, color='g', xmin=0.23, xmax=0.38)\n",
    "plt.axhline(3, color='y', xmin=0.44, xmax=0.58)\n",
    "plt.axhline(4, color='r', xmin=0.41, xmax=0.685)\n",
    "plt.grid(True) \n",
    "plt.savefig(\"LEDs\")"
   ]
  },
  {
   "cell_type": "code",
   "execution_count": null,
   "metadata": {},
   "outputs": [],
   "source": []
  }
 ],
 "metadata": {
  "kernelspec": {
   "display_name": "Python 3",
   "language": "python",
   "name": "python3"
  },
  "language_info": {
   "codemirror_mode": {
    "name": "ipython",
    "version": 3
   },
   "file_extension": ".py",
   "mimetype": "text/x-python",
   "name": "python",
   "nbconvert_exporter": "python",
   "pygments_lexer": "ipython3",
   "version": "3.8.8"
  }
 },
 "nbformat": 4,
 "nbformat_minor": 2
}
