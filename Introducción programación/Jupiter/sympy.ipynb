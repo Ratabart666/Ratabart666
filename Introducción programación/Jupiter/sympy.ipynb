{
 "cells": [
  {
   "cell_type": "code",
   "execution_count": 1,
   "id": "4c89f28d",
   "metadata": {},
   "outputs": [
    {
     "name": "stdout",
     "output_type": "stream",
     "text": [
      "1 (x + 1)/x\n",
      "2 x**3 + x**2*(2 - z) + x*(y + 1) - 3\n",
      "3 (1, [(z, 1), (x + 2*y, 2)])\n",
      "4 x**2 + 2*x*y + y**2\n",
      "5 (x + y)**2\n",
      "6 x^{2}\n",
      "7 2*x\n",
      "8 z\n",
      "9 sin(2*x)\n",
      "10 w**2 + 2*w*z + z**2\n",
      "11 x**2 + 3*x\n",
      "12 2*sqrt(2)\n",
      "13 2.8\n",
      "14 2.82842712474619\n",
      "15 4.00000000000000\n",
      "(2*x - 1)/(x**2 + x + 1) - 1/(x + 4) + 3/x\n",
      "16 cos(4*x)/2 + 1/2\n",
      "17 0\n",
      "18 True\n",
      "19 1/2\n",
      "20 2*sin(x)*cos(x)\n",
      "21 cos(4*x)/2 + 1/2\n",
      "22 x**3\n",
      "23 x - y\n",
      "24 x**w*x**y\n",
      "25 x**(w*y)\n",
      "26 log(x) + log(y)\n",
      "27 log(x*y)\n",
      "28 2*sin(x)**2/sin(2*x)\n"
     ]
    },
    {
     "data": {
      "text/plain": [
       "array([ 0.        ,  0.84147098,  0.90929743,  0.14112001, -0.7568025 ,\n",
       "       -0.95892427, -0.2794155 ,  0.6569866 ,  0.98935825,  0.41211849])"
      ]
     },
     "execution_count": 1,
     "metadata": {},
     "output_type": "execute_result"
    }
   ],
   "source": [
    "#1 Precálculo\n",
    "from sympy import *#importa todas las funciones de sympy\n",
    "import numpy as np \n",
    "x,y,z,w=symbols('x y z w ')#importante importar los simbolos\n",
    "init_printing()#imprime automaticamente \n",
    "i=x**2+2*x*y+y**2\n",
    "expr = x*y + x - 3 + 2*x**2 - z*x**2 + x**3\n",
    "collected_expr = collect(expr, x)#factoriza en función de una variable\n",
    "collected_expr.coeff(x, 2)#factoriza una potencia en especifico\n",
    "cancelar=cancel((x**2 + 2*x + 1)/(x**2 + x))\n",
    "print(1,cancelar)#simplifica polinomios racionales\n",
    "print(2,collected_expr)\n",
    "print(3,factor_list(x**2*z + 4*x*y*z + 4*y**2*z))\n",
    "print(4,expand(i))#forma expandida\n",
    "print(5,factor(i))#forma factorizada\n",
    "a=latex(x**2)#conversión a latex\n",
    "print(6,a)\n",
    "print(7,x+x)#ahora la variable está definida como un simbolo\n",
    "h=symbols('z')\n",
    "print(8,h)#el str que nombramos al simbolo, no tiene que ser necesariamene el mismo\n",
    "print(9,simplify(2*sin(x)*cos(x)))#simplica las operaciones\n",
    "print(10,i.subs([[x,z],[y,w]]))#sustituye un simbolo por un valor o variable\n",
    "print(11,sympify('x**2+3*x'))#convierte str en variables de sympy\n",
    "print(12,sqrt(8))#imprime de manera simbolica\n",
    "print(13,sqrt(8).evalf(2))#evalua como flotante\n",
    "print(14,sqrt(8).evalf(chop=True))#evaluar como flotatente removiendo errores pequeños\n",
    "print(15,i.evalf(subs={x:1,y:1}))#evaluar flotante con subs\n",
    "expr = (4*x**3 + 21*x**2 + 10*x + 12)/(x**4 + 5*x**3 + 5*x**2 + 4*x)\n",
    "print(apart(expr))#descompone en fracciones parciales\n",
    "expr = (4*x**3 + 21*x**2 + 10*x + 12)/(x**4 + 5*x**3 + 5*x**2 + 4*x)\n",
    "print(16,trigsimp(sin(x)**4 - 2*cos(x)**2*sin(x)**2 + cos(x)**4))#simp\n",
    "h=2*sin(x)*cos(x)\n",
    "f=sin(2*x)\n",
    "print(17,simplify(h-f))#Si a=b entonces a-b=0, debido a la sintaxis de python es conveniente ver si a es igual a b de esta manera\n",
    "print(18,h.equals(f))#Te compara a través de valores aleatorios si a=b \n",
    "print(19,Rational(2,4))# expresa un número como una fracción\n",
    "print(20,expand_trig(sin(2*x)))#expansión trig\n",
    "expr = (4*x**3 + 21*x**2 + 10*x + 12)/(x**4 + 5*x**3 + 5*x**2 + 4*x)\n",
    "print(21,trigsimp(sin(x)**4 - 2*cos(x)**2*sin(x)**2 + cos(x)**4))#simplifica con razones trig\n",
    "simp=powsimp(x**1*x**2)\n",
    "print(22,simp)#simplifica potencias force=True para hacer suposiciones\n",
    "print(23,(x**2*(x-y)).coeff(x,2))#da los coeficientes de x**n\n",
    "print(24,expand_power_exp(x**(y+w)))#forma expandida de los exponentes, tener en cuenta simplificaciones\n",
    "print(25,powdenest((x**w)**y,force=True))#deja el exponente como un producto,suposiciones\n",
    "print(26,expand_log(log(x*y),force=True))#expande logaritmos ln(x)=log(x), se asumen condiciones\n",
    "print(27,logcombine(log(x) + log(y),force=True))#'factoriza' logaritmos, se asumen condiciones\n",
    "print(28,tan(x).rewrite(sin))#reescribe una funcion en función de otra\n",
    "\n",
    "\n",
    "\n",
    "x, y = symbols('x y', positive=True)\n",
    "a, b = symbols('a b', real=True)#se pueden especificar a que conjuntos de números pertenecen las variables\n",
    "a = np.arange(10) \n",
    "expr = sin(x)\n",
    "f = lambdify(x, expr, \"numpy\") #evaluar funciones con expresiones de otra librería\n",
    "f(a)\n",
    "#las funciones trig inversas se denotan con a+la función trig\n",
    "\n",
    "\n",
    "\n",
    "\n",
    "\n",
    "\n",
    "\n",
    "\n"
   ]
  },
  {
   "cell_type": "code",
   "execution_count": 29,
   "id": "7757a76e",
   "metadata": {},
   "outputs": [
    {
     "data": {
      "text/latex": [
       "$\\displaystyle - 4 e^{x} \\sin{\\left(x \\right)}$"
      ],
      "text/plain": [
       "-4*exp(x)*sin(x)"
      ]
     },
     "execution_count": 29,
     "metadata": {},
     "output_type": "execute_result"
    }
   ],
   "source": [
    "#2 cálculo\n",
    "from sympy import *#importa todas las funciones de sympy\n",
    "import numpy as np\n",
    "x,y,z,w=symbols('x y z w ')#importante importar los simbolos\n",
    "diff(sin(x)*exp(x),x,4)#deriva\n",
    "\n"
   ]
  },
  {
   "cell_type": "code",
   "execution_count": 2,
   "id": "b2e16cf2",
   "metadata": {
    "scrolled": true
   },
   "outputs": [
    {
     "data": {
      "image/png": "[encoded data removed]",
      "text/latex": [
       "$\\displaystyle \\frac{\\pi}{2}$"
      ],
      "text/plain": [
       "π\n",
       "─\n",
       "2"
      ]
     },
     "execution_count": 2,
     "metadata": {},
     "output_type": "execute_result"
    }
   ],
   "source": [
    "from sympy import *\n",
    "import numpy as np\n",
    "np.linspace(-2*np.pi,2*np.pi,9)\n",
    "x=symbols('x')\n",
    "init_printing()\n",
    "pi/2\n",
    "\n",
    "\n"
   ]
  },
  {
   "cell_type": "code",
   "execution_count": null,
   "id": "4c809976",
   "metadata": {},
   "outputs": [],
   "source": []
  }
 ],
 "metadata": {
  "kernelspec": {
   "display_name": "Python 3",
   "language": "python",
   "name": "python3"
  },
  "language_info": {
   "codemirror_mode": {
    "name": "ipython",
    "version": 3
   },
   "file_extension": ".py",
   "mimetype": "text/x-python",
   "name": "python",
   "nbconvert_exporter": "python",
   "pygments_lexer": "ipython3",
   "version": "3.8.8"
  }
 },
 "nbformat": 4,
 "nbformat_minor": 5
}
