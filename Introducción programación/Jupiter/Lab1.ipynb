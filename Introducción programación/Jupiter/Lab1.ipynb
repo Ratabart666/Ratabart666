{
 "cells": [
  {
   "cell_type": "code",
   "execution_count": 1,
   "metadata": {},
   "outputs": [],
   "source": [
    "#Import de paquetes necesarios\n",
    "import matplotlib.pylab as pl\n",
    "import numpy as np\n",
    "from matplotlib import pyplot as plt\n",
    "import math as mt\n",
    "from scipy import optimize\n",
    "import scipy as sp\n",
    "import pandas as pd"
   ]
  },
  {
   "cell_type": "code",
   "execution_count": 2,
   "metadata": {},
   "outputs": [],
   "source": [
    "#Constantes útiles\n",
    "h= 6.62607015e-34 #Js\n",
    "e= 1.602176565e-19 #C\n",
    "m= 9.10938291e-31 #kg\n",
    "\n",
    "#####################\n",
    "\n",
    "n = 1\n",
    "L = 0.135 #m\n",
    "d1= 213e-12 #m\n",
    "d2= 123e-12 #m\n"
   ]
  },
  {
   "cell_type": "markdown",
   "metadata": {},
   "source": [
    "### Actividad 2\n",
    "\n",
    "1. Organice sus datos en una tabla. No olvide incluir las incertidumbres asociadas a cada medición.\n"
   ]
  },
  {
   "cell_type": "code",
   "execution_count": 3,
   "metadata": {},
   "outputs": [
    {
     "name": "stdout",
     "output_type": "stream",
     "text": [
      "   U(kV)  D1.1 (mm)  D1.2 (mm)  D1 (mm)  D2.1 (mm)  D2.2 (mm)  D2 (mm)\n",
      "0    3.2       27.9      31.45   29.675      49.75      52.95   51.350\n",
      "1    3.4       26.8      30.05   28.425      47.55      52.60   50.075\n",
      "2    3.6       25.7      29.20   27.450      46.55      50.50   48.525\n",
      "3    3.8       25.4      28.35   26.875      44.90      47.70   46.300\n",
      "4    4.0       25.6      27.65   26.625      43.70      46.55   45.125\n",
      "5    4.2       24.3      27.35   25.825      42.30      45.40   43.850\n",
      "6    4.4       23.5      27.25   25.375      41.90      43.85   42.875\n"
     ]
    }
   ],
   "source": [
    "column_names = [\"U(kV)\",\"D1.1 (mm)\",\"D1.2 (mm)\",\"D1 (mm)\",\"D2.1 (mm)\",\"D2.2 (mm)\",\"D2 (mm)\"]\n",
    "\n",
    "df = pd.read_csv(\"Datos1comas.csv\", names=column_names, index_col=False) #DataFarme con los datos\n",
    "print(df)"
   ]
  },
  {
   "cell_type": "code",
   "execution_count": 4,
   "metadata": {},
   "outputs": [],
   "source": [
    "data = df.to_dict(orient='series') #Series (array) de los datos"
   ]
  },
  {
   "cell_type": "markdown",
   "metadata": {},
   "source": [
    "2. Notará que el patrón de difracción circular para un diámetro $D_{1,2}$ presenta un ancho. Mida este ancho y describa cómo cambia ante cambios de voltaje (incluyendo la intensidad del patrón también). ¿Cómo afecta esto a la incertidumbre en la medición de $D_{1,2}$?"
   ]
  },
  {
   "cell_type": "code",
   "execution_count": 5,
   "metadata": {},
   "outputs": [
    {
     "data": {
      "text/plain": [
       "0    3.55\n",
       "1    3.25\n",
       "2    3.50\n",
       "3    2.95\n",
       "4    2.05\n",
       "5    3.05\n",
       "6    3.75\n",
       "dtype: float64"
      ]
     },
     "execution_count": 5,
     "metadata": {},
     "output_type": "execute_result"
    }
   ],
   "source": [
    "data[\"D1.2 (mm)\"]-data[\"D1.1 (mm)\"]"
   ]
  },
  {
   "cell_type": "code",
   "execution_count": 6,
   "metadata": {},
   "outputs": [
    {
     "data": {
      "text/plain": [
       "0    3.20\n",
       "1    5.05\n",
       "2    3.95\n",
       "3    2.80\n",
       "4    2.85\n",
       "5    3.10\n",
       "6    1.95\n",
       "dtype: float64"
      ]
     },
     "execution_count": 6,
     "metadata": {},
     "output_type": "execute_result"
    }
   ],
   "source": [
    "data[\"D2.2 (mm)\"]-data[\"D2.1 (mm)\"]"
   ]
  },
  {
   "cell_type": "markdown",
   "metadata": {},
   "source": [
    "3. Determine la longitud de onda según la ecuación de de Broglie y la conservación de la energía $λ_{deBroglie}$ y compárela con la calculada de acuerdo a la ley de Bragg $λ_{Bragg}$.¿A qué se pueden deber las discrepancias, si las hay? Calcule el error porcentual."
   ]
  },
  {
   "cell_type": "code",
   "execution_count": 7,
   "metadata": {},
   "outputs": [
    {
     "name": "stdout",
     "output_type": "stream",
     "text": [
      "[2. 2. 2. 1. 1. 2. 2.]\n",
      "[2. 3. 2. 1. 1. 2. 1.]\n"
     ]
    }
   ],
   "source": [
    "ΔD1= [] #Incertidumbre de D1\n",
    "\n",
    "for i in range(data[\"D1.1 (mm)\"].size):\n",
    "    datos= [data[\"D1.1 (mm)\"][i], data[\"D1.2 (mm)\"][i]]\n",
    "    mean= data[\"D1 (mm)\"][i]\n",
    "    \n",
    "    σ= np.sqrt(sum((datos-mean)**2)/(2-1)) #Desviación estándar muestral\n",
    "    ΔD1.append(round(σ/np.sqrt(2)))\n",
    "\n",
    "ΔD1= np.array(ΔD1)\n",
    "print(ΔD1)\n",
    "\n",
    "ΔD2= [] #Incertidumbre de D2\n",
    "\n",
    "for i in range(data[\"D2.1 (mm)\"].size):\n",
    "    datos= [data[\"D2.1 (mm)\"][i], data[\"D2.2 (mm)\"][i]]\n",
    "    mean= data[\"D2 (mm)\"][i]\n",
    "    \n",
    "    σ= np.sqrt(sum((datos-mean)**2)/(2-1)) #Desviación estándar muestral\n",
    "    ΔD2.append(round(σ/np.sqrt(2)))\n",
    "\n",
    "ΔD2= np.array(ΔD2)\n",
    "print(ΔD2)"
   ]
  },
  {
   "cell_type": "code",
   "execution_count": 8,
   "metadata": {},
   "outputs": [
    {
     "data": {
      "text/plain": [
       "0    30.0\n",
       "1    28.0\n",
       "2    27.0\n",
       "3    27.0\n",
       "4    27.0\n",
       "5    26.0\n",
       "6    25.0\n",
       "Name: D1 (mm), dtype: float64"
      ]
     },
     "execution_count": 8,
     "metadata": {},
     "output_type": "execute_result"
    }
   ],
   "source": [
    "D1= data[\"D1 (mm)\"].copy() #D1 con incertidumbre\n",
    "D1= round(D1)\n",
    "\n",
    "D2= data[\"D2 (mm)\"].copy() #D2 con incertidumbre\n",
    "D2= round(D2)\n",
    "\n",
    "D1"
   ]
  },
  {
   "cell_type": "code",
   "execution_count": 9,
   "metadata": {},
   "outputs": [
    {
     "data": {
      "text/plain": [
       "0    21.68\n",
       "1    21.03\n",
       "2    20.44\n",
       "3    19.90\n",
       "4    19.39\n",
       "5    18.92\n",
       "6    18.49\n",
       "Name: U(kV), dtype: float64"
      ]
     },
     "execution_count": 9,
     "metadata": {},
     "output_type": "execute_result"
    }
   ],
   "source": [
    "λ_Broglie= h/np.sqrt(2*e*m*data[\"U(kV)\"]*1000)\n",
    "λ_Broglie= round(λ_Broglie*1e12, 2)\n",
    "λ_Broglie #pm"
   ]
  },
  {
   "cell_type": "code",
   "execution_count": 10,
   "metadata": {},
   "outputs": [],
   "source": [
    "\n",
    "def lambda_bragg(d, n, L, D):\n",
    "    return (2*d/n)*np.sin(np.arctan(D/(2*L*1000))/2)\n",
    "\n",
    "def inc_lambda_bragg(d, n, L, D, ΔD):\n",
    "    D = D/1000\n",
    "    ΔD= ΔD/1000\n",
    "    dλ_Bragg= 2*L*d*np.cos(np.arctan(D/(2*L))/2)/(n*(D**2+4*L**2))\n",
    "    return dλ_Bragg*ΔD"
   ]
  },
  {
   "cell_type": "code",
   "execution_count": 11,
   "metadata": {},
   "outputs": [
    {
     "data": {
      "text/plain": [
       "0    23.557964\n",
       "1    22.000420\n",
       "2    21.220637\n",
       "3    21.220637\n",
       "4    21.220637\n",
       "5    20.440211\n",
       "6    19.659164\n",
       "Name: D1 (mm), dtype: float64"
      ]
     },
     "execution_count": 11,
     "metadata": {},
     "output_type": "execute_result"
    }
   ],
   "source": [
    "λ_Bragg1= lambda_bragg(d1, n, L, D1)\n",
    "λ_Bragg2= lambda_bragg(d2, n, L, D2)\n",
    "\n",
    "λ_Bragg1*1e12 #pm"
   ]
  },
  {
   "cell_type": "code",
   "execution_count": 12,
   "metadata": {},
   "outputs": [
    {
     "data": {
      "text/plain": [
       "0    0.9\n",
       "1    1.3\n",
       "2    0.9\n",
       "3    0.4\n",
       "4    0.4\n",
       "5    0.9\n",
       "6    0.4\n",
       "Name: D2 (mm), dtype: float64"
      ]
     },
     "execution_count": 12,
     "metadata": {},
     "output_type": "execute_result"
    }
   ],
   "source": [
    "Δλ_Bragg1= inc_lambda_bragg(d1, n, L, D1, ΔD1)\n",
    "Δλ_Bragg1= round(Δλ_Bragg1*1e12,1)\n",
    "\n",
    "Δλ_Bragg2= inc_lambda_bragg(d2, n, L, D2, ΔD2)\n",
    "Δλ_Bragg2= round(Δλ_Bragg2*1e12,1)\n",
    "Δλ_Bragg2 #pm"
   ]
  },
  {
   "cell_type": "code",
   "execution_count": 13,
   "metadata": {},
   "outputs": [
    {
     "data": {
      "text/plain": [
       "0    22.9\n",
       "1    22.5\n",
       "2    22.1\n",
       "3    20.7\n",
       "4    20.3\n",
       "5    19.8\n",
       "6    19.4\n",
       "Name: D2 (mm), dtype: float64"
      ]
     },
     "execution_count": 13,
     "metadata": {},
     "output_type": "execute_result"
    }
   ],
   "source": [
    "λ_Bragg1a= round(λ_Bragg1*1e12,1)   #Longitud de onda de Bragg con incertidumbre\n",
    "λ_Bragg2a= round(λ_Bragg2*1e12,1)\n",
    "\n",
    "λ_Bragg2a"
   ]
  },
  {
   "cell_type": "code",
   "execution_count": 14,
   "metadata": {},
   "outputs": [
    {
     "data": {
      "text/plain": [
       "0    5.627306\n",
       "1    6.990014\n",
       "2    8.121331\n",
       "3    4.020101\n",
       "4    4.693141\n",
       "5    4.651163\n",
       "6    4.921579\n",
       "dtype: float64"
      ]
     },
     "execution_count": 14,
     "metadata": {},
     "output_type": "execute_result"
    }
   ],
   "source": [
    "def error_porcentual(medida, teorica):\n",
    "    return abs(((medida-teorica)/teorica))*1\n",
    "\n",
    "error_porcentual(λ_Bragg2a, λ_Broglie)*100 #%"
   ]
  },
  {
   "cell_type": "markdown",
   "metadata": {},
   "source": [
    "5. De acuerdo a lo que se mostró en la Fig.2 se deberían esperar más círculos en elpatrón de difracción. Usando la geometría de la red hexagonal $d_j$ para $j \\ge 2$ y conociendo la longitud de onda de los electrones calculada con $λ_{deBroglie}$ estime el diámetro de los círculos que deberían verse en la pantalla. Compare este valor con el diámetro del patrón de los electrones que no sufren difracción, ¿Por qué no se observan estos círculos?. Tenga en cuenta el rango de validez de la condición de Bragg."
   ]
  },
  {
   "cell_type": "code",
   "execution_count": 15,
   "metadata": {},
   "outputs": [
    {
     "data": {
      "text/plain": [
       "0    0.085463\n",
       "1    0.082720\n",
       "2    0.080245\n",
       "3    0.077993\n",
       "4    0.075875\n",
       "5    0.073933\n",
       "6    0.072162\n",
       "Name: U(kV), dtype: float64"
      ]
     },
     "execution_count": 15,
     "metadata": {},
     "output_type": "execute_result"
    }
   ],
   "source": [
    "def distancia_estimada(d, n, L, λ):\n",
    "    return 2*L*np.tan(2*np.arcsin(n*λ/(2*d)))\n",
    "\n",
    "d3= 106e-12\n",
    "d4=  80e-12\n",
    "d5=  71e-12\n",
    "\n",
    "D3= distancia_estimada(d3, n, L, λ_Broglie*1e-12)\n",
    "D4= distancia_estimada(d4, n, L, λ_Broglie*1e-12)\n",
    "D5= distancia_estimada(d5, n, L, λ_Broglie*1e-12)\n",
    "D5"
   ]
  },
  {
   "cell_type": "markdown",
   "metadata": {},
   "source": [
    "### Actividad 3\n",
    "\n",
    "1. En la Actividad 2, se supuso que las distancias reticulares interplanares del grafito eran conocidas. En este ejercicio supondremos que es un valor desconocido y que a partir del experimento las podremos determinar. Realice una gráfica de $D_{1,2}$ contra $V^{−1/2}$. Debería obtener una gráfica similar a la que se muestra en la Fig. 6"
   ]
  },
  {
   "cell_type": "code",
   "execution_count": 16,
   "metadata": {},
   "outputs": [],
   "source": [
    "def x_data(U):\n",
    "    return (U*1000)**(-0.5)\n",
    "\n",
    "def y_data(D):\n",
    "    return D/1000\n",
    "\n",
    "def ya(x, a):\n",
    "    return a*x"
   ]
  },
  {
   "cell_type": "code",
   "execution_count": 28,
   "metadata": {},
   "outputs": [],
   "source": [
    "Ua = sp.linspace(0, 0.022, 500)"
   ]
  },
  {
   "cell_type": "code",
   "execution_count": 32,
   "metadata": {},
   "outputs": [],
   "source": [
    "params1, params_covariance1 = optimize.curve_fit( ya, x_data(data[\"U(kV)\"]), y_data(data[\"D1 (mm)\"]), p0=[2])\n",
    "\n",
    "params2, params_covariance2 = optimize.curve_fit( ya, x_data(data[\"U(kV)\"]), y_data(data[\"D2 (mm)\"]), p0=[2])\n"
   ]
  },
  {
   "cell_type": "code",
   "execution_count": 40,
   "metadata": {},
   "outputs": [
    {
     "data": {
      "image/png": "[encoded data removed]",
      "text/plain": [
       "<Figure size 576x432 with 1 Axes>"
      ]
     },
     "metadata": {
      "needs_background": "light"
     },
     "output_type": "display_data"
    }
   ],
   "source": [
    "#Gráfica de U vs D1\n",
    "plt.figure(figsize=(8, 6))\n",
    "plt.errorbar(x_data(data[\"U(kV)\"]), y_data(data[\"D1 (mm)\"]), yerr=ΔD1/1000, xerr=0, fmt=\"o\", mec='red', mfc='red', ecolor= \"black\", ms= \"5\", label = \"D1\")\n",
    "plt.errorbar(Ua, ya(Ua, params1[0]), color=\"r\", fmt='--', label = \"Ajuste D1\")\n",
    "plt.errorbar(x_data(data[\"U(kV)\"]), y_data(data[\"D2 (mm)\"]), yerr=ΔD2/1000, xerr=0, fmt=\"o\", mec='g', mfc='g', ecolor= \"black\", ms= \"5\", label = \"D2\")\n",
    "plt.errorbar(Ua, ya(Ua, params2[0]), color=\"g\", fmt='--', label = \"Ajuste D2\")\n",
    "plt.ylabel(\"D (m)\", size = 'large') \n",
    "plt.yticks(size = 'large')\n",
    "plt.xlabel(\"U (V^{-1/2})\", size = 'large') \n",
    "plt.xticks(size = 'large')\n",
    "plt.legend(loc=\"lower right\")\n",
    "plt.grid(True) \n",
    "plt.savefig(\"D vs U\")"
   ]
  },
  {
   "cell_type": "markdown",
   "metadata": {},
   "source": [
    "2. Realice una regresión lineal, teniendo en cuenta que la recta debe pasar por el punto (0,0). Según la ley de Bragg, ¿quá valor debería tomar la pendiente de esta gráfica? ¿cuál es la incertidumbre en esta pendiente?"
   ]
  },
  {
   "cell_type": "code",
   "execution_count": 34,
   "metadata": {},
   "outputs": [
    {
     "name": "stdout",
     "output_type": "stream",
     "text": [
      "a1 = 1.6681052490902821\n",
      "Δa1= 0.002\n",
      "a2= 2.8787242670815036\n",
      "Δa2= 0.004\n"
     ]
    }
   ],
   "source": [
    "x = x_data(data[\"U(kV)\"]) #V\n",
    "y1= y_data(data[\"D1 (mm)\"]) #m\n",
    "y2= y_data(data[\"D2 (mm)\"]) #m\n",
    "N = 7\n",
    "a1= params1[0] #S.I.\n",
    "a2= params2[0] #S.I.\n",
    "b = 0\n",
    "\n",
    "def inc_pendiente(x,y,N,a,b):\n",
    "    S= sum((y-b-a*x)**2)\n",
    "    return np.sqrt((S/(N-2))*sum(x**2)/(N*sum(x**2)-sum(x)**2))\n",
    "\n",
    "\n",
    "Δa1= round(inc_pendiente(x,y1,N,a1,b),3)\n",
    "Δa2= round(inc_pendiente(x,y2,N,a2,b),3)\n",
    "\n",
    "print('a1 = ' + str(a1))\n",
    "print('Δa1= ' + str(Δa1))\n",
    "print('a2= ' + str(a2))\n",
    "print('Δa2= ' + str(Δa2))"
   ]
  },
  {
   "cell_type": "code",
   "execution_count": 35,
   "metadata": {},
   "outputs": [
    {
     "data": {
      "text/plain": [
       "1.668"
      ]
     },
     "execution_count": 35,
     "metadata": {},
     "output_type": "execute_result"
    }
   ],
   "source": [
    "a1a= round(a1,3) #Pendiente 1 con incertidumbre\n",
    "a2a= round(a2,3) #Pendiente 2 con incertidumbre\n",
    "a1a"
   ]
  },
  {
   "cell_type": "markdown",
   "metadata": {},
   "source": [
    "3. Con la pendiente de la regresión lineal y suponiendo $λ_{Bragg}$ = $λ_{deBroglie}$ calcule las distancias $d_1$,$d_2$. Compare su resultado con los valores reportados en la literatura para el grafito."
   ]
  },
  {
   "cell_type": "code",
   "execution_count": 36,
   "metadata": {},
   "outputs": [
    {
     "data": {
      "text/plain": [
       "(198.52220166606722, 115.01737838798196)"
      ]
     },
     "execution_count": 36,
     "metadata": {},
     "output_type": "execute_result"
    }
   ],
   "source": [
    "d1e= 2*L*n*h/(a1a*np.sqrt(2*e*m))\n",
    "d2e= 2*L*n*h/(a2a*np.sqrt(2*e*m))\n",
    "\n",
    "(d1e*1e12, d2e*1e12) #pm"
   ]
  },
  {
   "cell_type": "code",
   "execution_count": 37,
   "metadata": {},
   "outputs": [
    {
     "data": {
      "text/plain": [
       "(0.5, 0.5)"
      ]
     },
     "execution_count": 37,
     "metadata": {},
     "output_type": "execute_result"
    }
   ],
   "source": [
    "Δd1e= (4*L*n*h/(np.sqrt(2*e*m)*a1a**2))*Δa1\n",
    "Δd2e= (4*L*n*h/(np.sqrt(2*e*m)*a2a**2))*Δa2\n",
    "\n",
    "(round(Δd1e*1e12,1),round(Δd1e*1e12,1)) #pm"
   ]
  },
  {
   "cell_type": "markdown",
   "metadata": {},
   "source": [
    "4. Determine la constante de Planck con su respectiva incertidumbre. Puede usar la aproximación de ángulo pequeño donde lo considere necesario."
   ]
  },
  {
   "cell_type": "code",
   "execution_count": 38,
   "metadata": {},
   "outputs": [
    {
     "name": "stdout",
     "output_type": "stream",
     "text": [
      "7.0758000893999415e-34\n",
      "6.997676516542562e-34\n"
     ]
    }
   ],
   "source": [
    "h_t1= np.sqrt(2*m*e*data[\"U(kV)\"]*1000)*(2*d1/n)*np.sin(np.arctan(D1/(2*L*1000))/2)\n",
    "h_t2= np.sqrt(2*m*e*data[\"U(kV)\"]*1000)*(2*d2/n)*np.sin(np.arctan(D2/(2*L*1000))/2)\n",
    "\n",
    "print(np.mean(h_t1))\n",
    "print(np.mean(h_t2))"
   ]
  },
  {
   "cell_type": "code",
   "execution_count": 39,
   "metadata": {},
   "outputs": [
    {
     "data": {
      "text/plain": [
       "(5.1973613592009234e-36, 3.365254727754008e-36)"
      ]
     },
     "execution_count": 39,
     "metadata": {},
     "output_type": "execute_result"
    }
   ],
   "source": [
    "datos1= h_t1\n",
    "mean1 = np.mean(h_t1)\n",
    "datos2= h_t2\n",
    "mean2 = np.mean(h_t2)\n",
    "\n",
    "σ1= np.sqrt(sum((datos1-mean1)**2)/(7-1))\n",
    "σ2= np.sqrt(sum((datos2-mean2)**2)/(7-1))\n",
    "\n",
    "(σ1/np.sqrt(7), σ2/np.sqrt(7))"
   ]
  }
 ],
 "metadata": {
  "kernelspec": {
   "display_name": "Python 3",
   "language": "python",
   "name": "python3"
  },
  "language_info": {
   "codemirror_mode": {
    "name": "ipython",
    "version": 3
   },
   "file_extension": ".py",
   "mimetype": "text/x-python",
   "name": "python",
   "nbconvert_exporter": "python",
   "pygments_lexer": "ipython3",
   "version": "3.8.5"
  }
 },
 "nbformat": 4,
 "nbformat_minor": 2
}
