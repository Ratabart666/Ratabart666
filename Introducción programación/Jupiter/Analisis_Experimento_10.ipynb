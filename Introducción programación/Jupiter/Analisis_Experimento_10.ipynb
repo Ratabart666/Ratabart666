{
 "cells": [
  {
   "cell_type": "code",
   "execution_count": 2,
   "metadata": {},
   "outputs": [],
   "source": [
    "#Import de paquetes necesarios"
   ]
  },
  {
   "cell_type": "code",
   "execution_count": 3,
   "metadata": {},
   "outputs": [],
   "source": [
    "import matplotlib.pylab as pl"
   ]
  },
  {
   "cell_type": "code",
   "execution_count": 4,
   "metadata": {},
   "outputs": [],
   "source": [
    "import numpy as np"
   ]
  },
  {
   "cell_type": "code",
   "execution_count": 5,
   "metadata": {},
   "outputs": [],
   "source": [
    "from matplotlib import pyplot as plt"
   ]
  },
  {
   "cell_type": "code",
   "execution_count": 6,
   "metadata": {},
   "outputs": [],
   "source": [
    "import math as mt"
   ]
  },
  {
   "cell_type": "code",
   "execution_count": 7,
   "metadata": {},
   "outputs": [],
   "source": [
    "import scipy as sp"
   ]
  },
  {
   "cell_type": "code",
   "execution_count": 8,
   "metadata": {},
   "outputs": [],
   "source": [
    "from scipy import optimize"
   ]
  },
  {
   "cell_type": "code",
   "execution_count": 9,
   "metadata": {},
   "outputs": [],
   "source": [
    "#Funciones útiles\n",
    "ln = mt.log\n",
    "e = mt.e\n",
    "abs= mt.fabs"
   ]
  },
  {
   "cell_type": "code",
   "execution_count": 10,
   "metadata": {},
   "outputs": [],
   "source": [
    "def promedio(X):\n",
    "    return sum(X)/(len(X))\n",
    "\n",
    "def error(P,X):\n",
    "    return (mt.sqrt(sum((P-X)**2)/(len(X)-1)))/mt.sqrt(len(X))"
   ]
  },
  {
   "cell_type": "code",
   "execution_count": 11,
   "metadata": {},
   "outputs": [],
   "source": [
    "#Código Histograma\n",
    "#plt.subplot(121)\n",
    "#plt.title('Radiación de fondo - 10s')\n",
    "#plt.hist(Rf_10s, rwidth= 1)\n",
    "#plt.hist(datos, bins=60, alpha=1, edgecolor = 'black',  linewidth=1, rwidth= 0.9, color='r')\n",
    "#plt.grid(True)\n",
    "#plt.show()\n",
    "#plt.clf()"
   ]
  },
  {
   "cell_type": "code",
   "execution_count": 12,
   "metadata": {},
   "outputs": [],
   "source": [
    "#Datos de radiación de fondo para t=10s\n",
    "Rf_10s= np.array([4,7,4,2,2,3,2,4,3,4,11,4,6,2,5,2,4,7,7,2,8,6,7,2,5,6,7,5,4,2,5,4,4,4,4,3,3,3,1,5,2,0,2,2,4,4,3,4,3,4,4,6,4,4,1,5,5,1,3,0,5,6,4,9,3,2,5,3,2,3,6,3,3,2,3,4,5,4,4,5,3,3,6,2,5,7,3,7,3,5,2,4,2,4,4,2,1,3,3])\n",
    "\n",
    "#Datos de radiación de fondo para t=60s\n",
    "Rf_60s= np.array([18,18,21,19,16,9,23,22,24,13])"
   ]
  },
  {
   "cell_type": "code",
   "execution_count": 13,
   "metadata": {
    "scrolled": false
   },
   "outputs": [
    {
     "data": {
      "image/png": "[encoded data removed]",
      "text/plain": [
       "<Figure size 1080x360 with 2 Axes>"
      ]
     },
     "metadata": {
      "needs_background": "light"
     },
     "output_type": "display_data"
    }
   ],
   "source": [
    "#Histograma radiación de fondo para t=10s\n",
    "plt.subplots(figsize=(15, 5))\n",
    "plt.subplot(121)\n",
    "plt.title('Radiación de fondo - 10s')\n",
    "plt.hist(Rf_10s, rwidth= 0.9)\n",
    "plt.grid(True)\n",
    "\n",
    "#Histograma radiación de fondo para t=60s\n",
    "plt.subplot(122)\n",
    "plt.title('Radiación de fondo - 60s')\n",
    "plt.hist(Rf_60s,  rwidth= 0.9, color='purple')\n",
    "plt.grid(True)"
   ]
  },
  {
   "cell_type": "code",
   "execution_count": 14,
   "metadata": {},
   "outputs": [
    {
     "name": "stdout",
     "output_type": "stream",
     "text": [
      "Rfp_10s = 3.878787878787879\n",
      "ΔRfp_10s= 0.19062371304159295\n",
      " \n",
      "Rfp_60s = 18.3\n",
      "ΔRfp_60s=  1.4761059883656351\n"
     ]
    }
   ],
   "source": [
    "print('Rfp_10s = ' + str(promedio(Rf_10s)))\n",
    "print('ΔRfp_10s= ' + str(error(promedio(Rf_10s),Rf_10s)))\n",
    "print(' ')\n",
    "print('Rfp_60s = ' + str(promedio(Rf_60s)))\n",
    "print('ΔRfp_60s=  ' + str(error(promedio(Rf_60s),Rf_60s)))"
   ]
  },
  {
   "cell_type": "markdown",
   "metadata": {},
   "source": [
    "-------------------"
   ]
  },
  {
   "cell_type": "code",
   "execution_count": 15,
   "metadata": {},
   "outputs": [],
   "source": [
    "#Datos de la isotropía de la radiación Θ=0°\n",
    "If_0= np.array([6,5,3,3,3])\n",
    "\n",
    "#Datos de la isotropía de la radiación Θ=30°\n",
    "If_30= np.array([1,5,5,2,4])\n",
    "\n",
    "#Datos de la isotropía de la radiación Θ=60°\n",
    "If_60= np.array([2,5,1,5,6])"
   ]
  },
  {
   "cell_type": "code",
   "execution_count": 20,
   "metadata": {
    "scrolled": false
   },
   "outputs": [
    {
     "data": {
      "image/png": "[encoded data removed]",
      "text/plain": [
       "<Figure size 1080x216 with 3 Axes>"
      ]
     },
     "metadata": {
      "needs_background": "light"
     },
     "output_type": "display_data"
    }
   ],
   "source": [
    "#Histograma isotropía de la radiación Θ=0°\n",
    "plt.subplots(figsize=(15, 3))\n",
    "plt.subplot(131)\n",
    "plt.title('Isotropía - 0°')\n",
    "plt.hist(If_0, rwidth= 1)\n",
    "plt.grid(True)\n",
    "\n",
    "#Histograma isotropía de la radiación Θ=30°\n",
    "plt.subplot(132)\n",
    "plt.title('Isotropía - 30°')\n",
    "plt.hist(If_30, y, rwidth= 1, color='purple')\n",
    "plt.grid(True)\n",
    "\n",
    "#Histograma isotropía de la radiación Θ=60°\n",
    "plt.subplot(133)\n",
    "plt.title('Isotropía - 60°')\n",
    "plt.hist(If_60,  rwidth= 0.9, color='g')\n",
    "plt.grid(True)"
   ]
  },
  {
   "cell_type": "code",
   "execution_count": 17,
   "metadata": {},
   "outputs": [
    {
     "name": "stdout",
     "output_type": "stream",
     "text": [
      "Ifp_0° = 4.0\n",
      "ΔIfp_0°= 0.6324555320336759\n",
      " \n",
      "Ifp_30° = 3.4\n",
      "ΔIfp_30°= 0.8124038404635959\n",
      " \n",
      "Ifp_60° = 3.8\n",
      "ΔIfp_60°= 0.9695359714832658\n"
     ]
    }
   ],
   "source": [
    "print('Ifp_0° = ' + str(promedio(If_0)))\n",
    "print('ΔIfp_0°= ' + str(error(promedio(If_0),If_0)))\n",
    "print(' ')\n",
    "print('Ifp_30° = ' + str(promedio(If_30)))\n",
    "print('ΔIfp_30°= ' + str(error(promedio(If_30),If_30)))\n",
    "print(' ')\n",
    "print('Ifp_60° = ' + str(promedio(If_60)))\n",
    "print('ΔIfp_60°= ' + str(error(promedio(If_60),If_60)))"
   ]
  },
  {
   "cell_type": "code",
   "execution_count": 21,
   "metadata": {},
   "outputs": [],
   "source": [
    "Y= np.array((1, 1, 1))\n",
    "Y2= np.array([0])"
   ]
  },
  {
   "cell_type": "code",
   "execution_count": 26,
   "metadata": {},
   "outputs": [
    {
     "data": {
      "image/png": "[encoded data removed]",
      "text/plain": [
       "<Figure size 576x72 with 1 Axes>"
      ]
     },
     "metadata": {
      "needs_background": "light"
     },
     "output_type": "display_data"
    }
   ],
   "source": [
    "#Gráfica de la exactitud de la Resolución espectral de ESPARTACO usando el Neón\n",
    "plt.figure(figsize=(8, 1))\n",
    "plt.errorbar(4.0, 1, yerr=0, xerr=0.6, fmt=\"*\", mec='blue', mfc='blue', ecolor= \"b\", ms= \"12\")\n",
    "plt.errorbar(3.4, 1, yerr=0, xerr=0.8, fmt=\"*\", mec='purple', mfc='purple', ecolor= \"purple\", ms= \"12\")\n",
    "plt.errorbar(3.8, 1, yerr=0, xerr=0.9, fmt=\"*\", mec='g', mfc='g', ecolor= \"g\", ms= \"12\")\n",
    "plt.ylabel(\"\", size = 'large') \n",
    "plt.yticks(Y2, size = 'large')\n",
    "plt.xlabel(\"g\", size = 'large') \n",
    "plt.axvline(4.6, color='b', ymin=0.4, ymax=0.6)\n",
    "plt.axvline(3.4, color='b', ymin=0.4, ymax=0.6)\n",
    "plt.axvline(4.2, color='purple', ymin=0.4, ymax=0.6)\n",
    "plt.axvline(2.6, color='purple', ymin=0.4, ymax=0.6)\n",
    "plt.axvline(4.7, color='g', ymin=0.4, ymax=0.6)\n",
    "plt.axvline(2.9, color='g', ymin=0.4, ymax=0.6)\n",
    "plt.grid(True) \n",
    "#plt.savefig(\"Resolucion\")"
   ]
  },
  {
   "cell_type": "markdown",
   "metadata": {},
   "source": [
    "----------------"
   ]
  },
  {
   "cell_type": "code",
   "execution_count": 31,
   "metadata": {},
   "outputs": [],
   "source": [
    "#Datos de la radiación de una muetra fija (Camisa incandecente)\n",
    "Mf= np.array([16,12,13,6,10,13,8,15,6,7,13,12,14,12,11,10,10,14,14,16,9,11,7,10,5,17,13,10,13,9,7,13,9,19,11,14,10,7,6,11,14,9,8,14,7,10,9,13,10,10,15,15,11,11,9,15,19,10,12,13,16,7,8,13,15,10,9,18,8,7,8,11,14,11,9,9,11,12,10,16,9,11,10,11,10,13,12,12,12,10,15,10,5,16,9,11,24,12,9,12])"
   ]
  },
  {
   "cell_type": "code",
   "execution_count": 34,
   "metadata": {
    "scrolled": true
   },
   "outputs": [
    {
     "data": {
      "image/png": "[encoded data removed]",
      "text/plain": [
       "<Figure size 432x288 with 1 Axes>"
      ]
     },
     "metadata": {
      "needs_background": "light"
     },
     "output_type": "display_data"
    },
    {
     "data": {
      "text/plain": [
       "<Figure size 432x288 with 0 Axes>"
      ]
     },
     "metadata": {},
     "output_type": "display_data"
    }
   ],
   "source": [
    "#Histograma radiación de una \"Camisa Incandecente\"\n",
    "plt.title('Radiación Camisa Incandescente')\n",
    "plt.hist(Mf, rwidth= 0.9)\n",
    "plt.grid(True)\n",
    "plt.show()\n",
    "plt.clf()"
   ]
  },
  {
   "cell_type": "code",
   "execution_count": 35,
   "metadata": {},
   "outputs": [
    {
     "name": "stdout",
     "output_type": "stream",
     "text": [
      "Mfp = 11.32\n",
      "ΔMfp=  0.3293335787019082\n"
     ]
    }
   ],
   "source": [
    "print('Mfp = ' + str(promedio(Mf)))\n",
    "print('ΔMfp=  ' + str(error(promedio(Mf),Mf)))"
   ]
  },
  {
   "cell_type": "markdown",
   "metadata": {},
   "source": [
    "------------------"
   ]
  },
  {
   "cell_type": "code",
   "execution_count": 28,
   "metadata": {},
   "outputs": [],
   "source": [
    "#Datos de radiación para la muetra fija con d=10 cm\n",
    "Mf_10= np.array([8,7,10,10,10,9])\n",
    "\n",
    "#Datos de radiación para la muetra fija con d=9 cm\n",
    "Mf_9= np.array([5,8,7,10,8,10])\n",
    "\n",
    "#Datos de radiación para la muetra fija con d=8 cm\n",
    "Mf_8= np.array([10,7,11,8,10,6])\n",
    "\n",
    "#Datos de radiación para la muetra fija con d=7 cm\n",
    "Mf_7= np.array([11,8,10,16,10,8])\n",
    "\n",
    "#Datos de radiación para la muetra fija con d=6 cm\n",
    "Mf_6= np.array([13,14,10,8,13,15])\n",
    "\n",
    "#Datos de radiación para la muetra fija con d=5 cm\n",
    "Mf_5= np.array([14,12,20,10,12,12])"
   ]
  },
  {
   "cell_type": "code",
   "execution_count": 29,
   "metadata": {
    "scrolled": false
   },
   "outputs": [
    {
     "data": {
      "image/png": "[encoded data removed]",
      "text/plain": [
       "<Figure size 1080x720 with 6 Axes>"
      ]
     },
     "metadata": {
      "needs_background": "light"
     },
     "output_type": "display_data"
    }
   ],
   "source": [
    "#Histograma muetra fija con d=10 cm\n",
    "plt.subplots(figsize=(15, 10))\n",
    "plt.subplot(231)\n",
    "plt.title('Muestra fija - d=10 cm')\n",
    "plt.hist(Mf_10, rwidth= 1)\n",
    "plt.grid(True)\n",
    "\n",
    "#Histograma muetra fija con d=9 cm\n",
    "plt.subplot(232)\n",
    "plt.title('Muestra fija - d=9 cm')\n",
    "plt.hist(Mf_9,  rwidth= 1, color='y')\n",
    "plt.grid(True)\n",
    "\n",
    "#Histograma muetra fija con d=8 cm\n",
    "plt.subplot(233)\n",
    "plt.title('Muestra fija - d=8 cm')\n",
    "plt.hist(Mf_8,  rwidth= 0.9, color='g')\n",
    "plt.grid(True)\n",
    "\n",
    "#Histograma muetra fija con d=7 cm\n",
    "plt.subplot(234)\n",
    "plt.title('Muestra fija - d=7 cm')\n",
    "plt.hist(Mf_7,  rwidth= 0.9, color='r')\n",
    "plt.grid(True)\n",
    "\n",
    "#Histograma muetra fija con d=6 cm\n",
    "plt.subplot(235)\n",
    "plt.title('Muestra fija - d=6 cm')\n",
    "plt.hist(Mf_6,  rwidth= 0.9, color='purple')\n",
    "plt.grid(True)\n",
    "\n",
    "#Histograma muetra fija con d=5 cm\n",
    "plt.subplot(236)\n",
    "plt.title('Muestra fija - d=5 cm')\n",
    "plt.hist(Mf_5,  rwidth= 0.9, color='orange')\n",
    "plt.grid(True)"
   ]
  },
  {
   "cell_type": "code",
   "execution_count": 37,
   "metadata": {},
   "outputs": [
    {
     "name": "stdout",
     "output_type": "stream",
     "text": [
      "Mfp_5 = 13.333333333333334\n",
      "ΔMfp_5= 1.4298407059684812\n",
      " \n",
      "Mfp_7 = 10.5\n",
      "ΔMfp_7= 1.2041594578792296\n",
      " \n",
      "Mfp_9 = 8.0\n",
      "ΔMfp_9= 0.7745966692414834\n"
     ]
    }
   ],
   "source": [
    "print('Mfp_5 = ' + str(promedio(Mf_5)))\n",
    "print('ΔMfp_5= ' + str(error(promedio(Mf_5),Mf_5)))\n",
    "print(' ')\n",
    "print('Mfp_7 = ' + str(promedio(Mf_7)))\n",
    "print('ΔMfp_7= ' + str(error(promedio(Mf_7),Mf_7)))\n",
    "print(' ')\n",
    "print('Mfp_9 = ' + str(promedio(Mf_9)))\n",
    "print('ΔMfp_9= ' + str(error(promedio(Mf_9),Mf_9)))"
   ]
  },
  {
   "cell_type": "markdown",
   "metadata": {},
   "source": [
    "---------------------------"
   ]
  },
  {
   "cell_type": "code",
   "execution_count": 174,
   "metadata": {},
   "outputs": [],
   "source": [
    "#Atenuación de la radiacion producida por el Cesio (Cs)\n",
    "Cs  = np.array([54,55,51,53])\n",
    "\n",
    "#Barrera de Plomo \n",
    "Cs_T= np.array([5,5,4,4])\n",
    "Cs_S= np.array([7,9,8,7])\n",
    "Cs_R= np.array([14,5,7,11])\n",
    "Cs_Q= np.array([6,11,9,13])\n",
    "\n",
    "#Barrera de Aluminio\n",
    "Cs_P= np.array([7,7,4,6])\n",
    "Cs_M= np.array([10,5,8,6])\n",
    "Cs_I= np.array([10,14,10,12])\n",
    "Cs_G= np.array([8,9,5,9])\n",
    "\n",
    "#Barrera de Plástico\n",
    "Cs_F= np.array([20,21,18,15])\n",
    "Cs_E= np.array([18,18,20,23])\n",
    "\n",
    "#Barrera de Hojas de papel\n",
    "Cs_4h = np.array([41,38,46,38])\n",
    "Cs_8h = np.array([33,21,25,29])\n",
    "Cs_12h= np.array([11,18,14,14])\n",
    "Cs_16h= np.array([16,14,11,14])"
   ]
  },
  {
   "cell_type": "code",
   "execution_count": 175,
   "metadata": {},
   "outputs": [
    {
     "name": "stdout",
     "output_type": "stream",
     "text": [
      "Sin Placa= 53.25\n",
      "ΔSin_pca =  0.8539125638299665\n",
      " \n",
      "Pb 6.35mm= 4.5\n",
      "ΔPb_6.35 = 0.28867513459481287\n",
      "Pb 3.18mm= 7.75\n",
      "ΔPb_3.18 = 0.47871355387816905\n",
      "Pb 1.62mm= 9.25\n",
      "ΔPb_1.62 = 2.0155644370746373\n",
      "Pb 0.81mm= 9.75\n",
      "ΔPb_0.81 = 1.4930394055974097\n",
      " \n",
      "Al 3.18mm= 6.0\n",
      "ΔAl_3.18 = 0.7071067811865476\n",
      "Al 2.03mm= 7.25\n",
      "ΔAl_2.03 = 1.1086778913041726\n",
      "Al 0.81mm= 11.5\n",
      "ΔAl_0.81 =  0.9574271077563381\n",
      "Al 0.51mm= 7.75\n",
      "ΔAl_0.51 = 0.9464847243000456\n",
      " \n",
      "Pco 1.02mm= 18.5\n",
      "ΔPco_1.02 =  1.3228756555322954\n",
      "Pco 0.76mm= 19.75\n",
      "ΔPco_0.76 =  1.181453906563152\n",
      " \n",
      "Ppl 0.8mm= 40.75\n",
      "ΔPpl_0.8 =  1.8874586088176875\n",
      "Ppl 1.6mm= 27.0\n",
      "ΔPpl_1.6 =  2.581988897471611\n",
      "Ppl 2.4mm= 14.25\n",
      "ΔPpl_2.4 =  1.4361406616345072\n",
      "Ppl 3.2mm= 13.75\n",
      "ΔPpl_3.2 =  1.0307764064044151\n"
     ]
    }
   ],
   "source": [
    "print('Sin Placa= ' + str(promedio(Cs)))\n",
    "print('ΔSin_pca =  ' + str(error(promedio(Cs),Cs)))\n",
    "print(' ')\n",
    "print('Pb 6.35mm= ' + str(promedio(Cs_T)))\n",
    "print('ΔPb_6.35 = ' + str(error(promedio(Cs_T),Cs_T)))\n",
    "\n",
    "print('Pb 3.18mm= ' + str(promedio(Cs_S)))\n",
    "print('ΔPb_3.18 = ' + str(error(promedio(Cs_S),Cs_S)))\n",
    "\n",
    "print('Pb 1.62mm= ' + str(promedio(Cs_R)))\n",
    "print('ΔPb_1.62 = ' + str(error(promedio(Cs_R),Cs_R)))\n",
    "\n",
    "print('Pb 0.81mm= ' + str(promedio(Cs_Q)))\n",
    "print('ΔPb_0.81 = ' + str(error(promedio(Cs_Q),Cs_Q)))\n",
    "print(' ')\n",
    "print('Al 3.18mm= ' + str(promedio(Cs_P)))\n",
    "print('ΔAl_3.18 = ' + str(error(promedio(Cs_P),Cs_P)))\n",
    "\n",
    "print('Al 2.03mm= ' + str(promedio(Cs_M)))\n",
    "print('ΔAl_2.03 = ' + str(error(promedio(Cs_M),Cs_M)))\n",
    "\n",
    "print('Al 0.81mm= ' + str(promedio(Cs_I)))\n",
    "print('ΔAl_0.81 =  ' + str(error(promedio(Cs_I),Cs_I)))\n",
    "\n",
    "print('Al 0.51mm= ' + str(promedio(Cs_G)))\n",
    "print('ΔAl_0.51 = ' + str(error(promedio(Cs_G),Cs_G)))\n",
    "print(' ')\n",
    "print('Pco 1.02mm= ' + str(promedio(Cs_F)))\n",
    "print('ΔPco_1.02 =  ' + str(error(promedio(Cs_F),Cs_F)))\n",
    "\n",
    "print('Pco 0.76mm= ' + str(promedio(Cs_E)))\n",
    "print('ΔPco_0.76 =  ' + str(error(promedio(Cs_E),Cs_E)))\n",
    "print(' ')\n",
    "print('Ppl 0.8mm= ' + str(promedio(Cs_4h)))\n",
    "print('ΔPpl_0.8 =  ' + str(error(promedio(Cs_4h),Cs_4h)))\n",
    "\n",
    "print('Ppl 1.6mm= ' + str(promedio(Cs_8h)))\n",
    "print('ΔPpl_1.6 =  ' + str(error(promedio(Cs_8h),Cs_8h)))\n",
    "\n",
    "print('Ppl 2.4mm= ' + str(promedio(Cs_12h)))\n",
    "print('ΔPpl_2.4 =  ' + str(error(promedio(Cs_12h),Cs_12h)))\n",
    "\n",
    "print('Ppl 3.2mm= ' + str(promedio(Cs_16h)))\n",
    "print('ΔPpl_3.2 =  ' + str(error(promedio(Cs_16h),Cs_16h)))"
   ]
  },
  {
   "cell_type": "markdown",
   "metadata": {},
   "source": [
    "---------------"
   ]
  },
  {
   "cell_type": "code",
   "execution_count": 176,
   "metadata": {},
   "outputs": [],
   "source": [
    "#Atenuación de la radiacion producida por una mezcla de Cesio-137 y Zinc-65\n",
    "Mx  = np.array([77,69,91,89])\n",
    "\n",
    "#Barrera de Plomo \n",
    "Mx_T= np.array([9,2,4,7])\n",
    "Mx_S= np.array([6,7,6,8])\n",
    "Mx_R= np.array([4,4,6,7])\n",
    "Mx_Q= np.array([9,5,7,7])\n",
    "\n",
    "#Barrera de Aluminio\n",
    "Mx_P= np.array([8,6,5,3])\n",
    "Mx_M= np.array([9,6,6,12])\n",
    "Mx_I= np.array([11,13,9,10])\n",
    "Mx_G= np.array([12,13,11,8])\n",
    "\n",
    "#Barrera de Plástico\n",
    "Mx_F= np.array([19,20,16,13])\n",
    "Mx_E= np.array([29,30,28,32])\n",
    "\n",
    "#Barrera de Hojas de papel\n",
    "Mx_4h = np.array([56,48,57,65])\n",
    "Mx_8h = np.array([29,34,23,40])\n",
    "Mx_12h= np.array([23,18,20,26])\n",
    "Mx_16h= np.array([13,15,20,16])"
   ]
  },
  {
   "cell_type": "code",
   "execution_count": 177,
   "metadata": {},
   "outputs": [
    {
     "name": "stdout",
     "output_type": "stream",
     "text": [
      "Sin Placa= 81.5\n",
      "ΔSin_pca =  5.188127472091127\n",
      " \n",
      "Pb 6.35mm= 5.5\n",
      "ΔPb_6.35 = 1.5545631755148024\n",
      "Pb 3.18mm= 6.75\n",
      "ΔPb_3.18 = 0.47871355387816905\n",
      "Pb 1.62mm= 5.25\n",
      "ΔPb_1.62 = 0.75\n",
      "Pb 0.81mm= 7.0\n",
      "ΔPb_0.81 = 0.816496580927726\n",
      " \n",
      "Al 3.18mm= 5.5\n",
      "ΔAl_3.18 = 1.0408329997330663\n",
      "Al 2.03mm= 8.25\n",
      "ΔAl_2.03 = 1.4361406616345072\n",
      "Al 0.81mm= 10.75\n",
      "ΔAl_0.81 =  0.8539125638299665\n",
      "Al 0.51mm= 11.0\n",
      "ΔAl_0.51 = 1.0801234497346435\n",
      " \n",
      "Pco 1.02mm= 17.0\n",
      "ΔPco_1.02 =  1.5811388300841898\n",
      "Pco 0.76mm= 29.75\n",
      "ΔPco_0.76 =  0.8539125638299665\n",
      " \n",
      "Ppl 0.8mm= 56.5\n",
      "ΔPpl_0.8 =  3.476108935769035\n",
      "Ppl 1.6mm= 31.5\n",
      "ΔPpl_1.6 =  3.6170890690351176\n",
      "Ppl 2.4mm= 21.75\n",
      "ΔPpl_2.4 =  1.75\n",
      "Ppl 3.2mm= 16.0\n",
      "ΔPpl_3.2 =  1.4719601443879744\n"
     ]
    }
   ],
   "source": [
    "print('Sin Placa= ' + str(promedio(Mx)))\n",
    "print('ΔSin_pca =  ' + str(error(promedio(Mx),Mx)))\n",
    "print(' ')\n",
    "print('Pb 6.35mm= ' + str(promedio(Mx_T)))\n",
    "print('ΔPb_6.35 = ' + str(error(promedio(Mx_T),Mx_T)))\n",
    "\n",
    "print('Pb 3.18mm= ' + str(promedio(Mx_S)))\n",
    "print('ΔPb_3.18 = ' + str(error(promedio(Mx_S),Mx_S)))\n",
    "\n",
    "print('Pb 1.62mm= ' + str(promedio(Mx_R)))\n",
    "print('ΔPb_1.62 = ' + str(error(promedio(Mx_R),Mx_R)))\n",
    "\n",
    "print('Pb 0.81mm= ' + str(promedio(Mx_Q)))\n",
    "print('ΔPb_0.81 = ' + str(error(promedio(Mx_Q),Mx_Q)))\n",
    "print(' ')\n",
    "print('Al 3.18mm= ' + str(promedio(Mx_P)))\n",
    "print('ΔAl_3.18 = ' + str(error(promedio(Mx_P),Mx_P)))\n",
    "\n",
    "print('Al 2.03mm= ' + str(promedio(Mx_M)))\n",
    "print('ΔAl_2.03 = ' + str(error(promedio(Mx_M),Mx_M)))\n",
    "\n",
    "print('Al 0.81mm= ' + str(promedio(Mx_I)))\n",
    "print('ΔAl_0.81 =  ' + str(error(promedio(Mx_I),Mx_I)))\n",
    "\n",
    "print('Al 0.51mm= ' + str(promedio(Mx_G)))\n",
    "print('ΔAl_0.51 = ' + str(error(promedio(Mx_G),Mx_G)))\n",
    "print(' ')\n",
    "print('Pco 1.02mm= ' + str(promedio(Mx_F)))\n",
    "print('ΔPco_1.02 =  ' + str(error(promedio(Mx_F),Mx_F)))\n",
    "\n",
    "print('Pco 0.76mm= ' + str(promedio(Mx_E)))\n",
    "print('ΔPco_0.76 =  ' + str(error(promedio(Mx_E),Mx_E)))\n",
    "print(' ')\n",
    "print('Ppl 0.8mm= ' + str(promedio(Mx_4h)))\n",
    "print('ΔPpl_0.8 =  ' + str(error(promedio(Mx_4h),Mx_4h)))\n",
    "\n",
    "print('Ppl 1.6mm= ' + str(promedio(Mx_8h)))\n",
    "print('ΔPpl_1.6 =  ' + str(error(promedio(Mx_8h),Mx_8h)))\n",
    "\n",
    "print('Ppl 2.4mm= ' + str(promedio(Mx_12h)))\n",
    "print('ΔPpl_2.4 =  ' + str(error(promedio(Mx_12h),Mx_12h)))\n",
    "\n",
    "print('Ppl 3.2mm= ' + str(promedio(Mx_16h)))\n",
    "print('ΔPpl_3.2 =  ' + str(error(promedio(Mx_16h),Mx_16h)))"
   ]
  },
  {
   "cell_type": "markdown",
   "metadata": {},
   "source": [
    "----------------"
   ]
  },
  {
   "cell_type": "code",
   "execution_count": 181,
   "metadata": {},
   "outputs": [],
   "source": [
    "#Atenuación de la radiacion producida por una Camisa Incandescente\n",
    "CI  = np.array([50,45,42,48])\n",
    "\n",
    "#Barrera de Plomo \n",
    "CI_T= np.array([15,12,8,13])\n",
    "CI_S= np.array([15,23,18,22])\n",
    "CI_R= np.array([9,13,11,10])\n",
    "CI_Q= np.array([12,18,15,11])\n",
    "\n",
    "#Barrera de Aluminio\n",
    "CI_P= np.array([12,5,8,11])\n",
    "CI_M= np.array([7,16,8,7])\n",
    "CI_I= np.array([17,14,16,13])\n",
    "CI_G= np.array([20,16,19,16])\n",
    "\n",
    "#Barrera de Plástico\n",
    "CI_F= np.array([22,27,23,24])\n",
    "CI_E= np.array([28,31,25,29])\n",
    "\n",
    "#Barrera de Hojas de papel\n",
    "CI_4h = np.array([34,26,30,27])\n",
    "CI_8h = np.array([19,26,18,27])\n",
    "CI_12h= np.array([15,24,21,22])\n",
    "CI_16h= np.array([17,20,14,19])"
   ]
  },
  {
   "cell_type": "code",
   "execution_count": 183,
   "metadata": {},
   "outputs": [
    {
     "name": "stdout",
     "output_type": "stream",
     "text": [
      "Sin Placa= 46.25\n",
      "ΔSin_pca =  1.75\n",
      " \n",
      "Pb 6.35mm= 12.0\n",
      "ΔPb_6.35  = 1.4719601443879744\n",
      "Pb 3.18mm= 19.5\n",
      "ΔPb_3.18  = 1.848422751068236\n",
      "Pb 1.62mm= 10.75\n",
      "ΔPb_1.62  = 0.8539125638299665\n",
      "Pb 0.81mm= 14.0\n",
      "ΔPb_0.81  = 1.5811388300841898\n",
      " \n",
      "Al 3.18mm= 9.0\n",
      "ΔAl_3.18 = 1.5811388300841898\n",
      "Al 2.03mm= 9.5\n",
      "ΔAl_2.03 = 2.179449471770337\n",
      "Al 0.81mm= 15.0\n",
      "ΔAl_0.81 =  0.9128709291752769\n",
      "Al 0.51mm= 17.75\n",
      "ΔAl_0.51  = 1.0307764064044151\n",
      " \n",
      "Pco 1.02mm= 24.0\n",
      "ΔPco_1.02 =  1.0801234497346435\n",
      "Pco 0.76mm= 28.25\n",
      "ΔPco_0.76 =  1.25\n",
      " \n",
      "Ppl 0.8mm= 29.25\n",
      "ΔPpl_0.8 =  1.796988221070652\n",
      "Ppl 1.6mm= 22.5\n",
      "ΔPpl_1.6 =  2.327373340628157\n",
      "Ppl 2.4mm= 20.5\n",
      "ΔPpl_2.4 =  1.9364916731037085\n",
      "Ppl 3.2mm= 17.5\n",
      "ΔPpl_3.2 =  1.3228756555322954\n"
     ]
    }
   ],
   "source": [
    "print('Sin Placa= ' + str(promedio(CI)))\n",
    "print('ΔSin_pca =  ' + str(error(promedio(CI),CI)))\n",
    "print(' ')\n",
    "print('Pb 6.35mm= ' + str(promedio(CI_T)))\n",
    "print('ΔPb_6.35  = ' + str(error(promedio(CI_T),CI_T)))\n",
    "\n",
    "print('Pb 3.18mm= ' + str(promedio(CI_S)))\n",
    "print('ΔPb_3.18  = ' + str(error(promedio(CI_S),CI_S)))\n",
    "\n",
    "print('Pb 1.62mm= ' + str(promedio(CI_R)))\n",
    "print('ΔPb_1.62  = ' + str(error(promedio(CI_R),CI_R)))\n",
    "\n",
    "print('Pb 0.81mm= ' + str(promedio(CI_Q)))\n",
    "print('ΔPb_0.81  = ' + str(error(promedio(CI_Q),CI_Q)))\n",
    "print(' ')\n",
    "print('Al 3.18mm= ' + str(promedio(CI_P)))\n",
    "print('ΔAl_3.18 = ' + str(error(promedio(CI_P),CI_P)))\n",
    "\n",
    "print('Al 2.03mm= ' + str(promedio(CI_M)))\n",
    "print('ΔAl_2.03 = ' + str(error(promedio(CI_M),CI_M)))\n",
    "\n",
    "print('Al 0.81mm= ' + str(promedio(CI_I)))\n",
    "print('ΔAl_0.81 =  ' + str(error(promedio(CI_I),CI_I)))\n",
    "\n",
    "print('Al 0.51mm= ' + str(promedio(CI_G)))\n",
    "print('ΔAl_0.51  = ' + str(error(promedio(CI_G),CI_G)))\n",
    "print(' ')\n",
    "print('Pco 1.02mm= ' + str(promedio(CI_F)))\n",
    "print('ΔPco_1.02 =  ' + str(error(promedio(CI_F),CI_F)))\n",
    "\n",
    "print('Pco 0.76mm= ' + str(promedio(CI_E)))\n",
    "print('ΔPco_0.76 =  ' + str(error(promedio(CI_E),CI_E)))\n",
    "print(' ')\n",
    "print('Ppl 0.8mm= ' + str(promedio(CI_4h)))\n",
    "print('ΔPpl_0.8 =  ' + str(error(promedio(CI_4h),CI_4h)))\n",
    "\n",
    "print('Ppl 1.6mm= ' + str(promedio(CI_8h)))\n",
    "print('ΔPpl_1.6 =  ' + str(error(promedio(CI_8h),CI_8h)))\n",
    "\n",
    "print('Ppl 2.4mm= ' + str(promedio(CI_12h)))\n",
    "print('ΔPpl_2.4 =  ' + str(error(promedio(CI_12h),CI_12h)))\n",
    "\n",
    "print('Ppl 3.2mm= ' + str(promedio(CI_16h)))\n",
    "print('ΔPpl_3.2 =  ' + str(error(promedio(CI_16h),CI_16h)))"
   ]
  },
  {
   "cell_type": "markdown",
   "metadata": {},
   "source": [
    "------------------"
   ]
  },
  {
   "cell_type": "code",
   "execution_count": 60,
   "metadata": {},
   "outputs": [],
   "source": [
    "Xl= np.array(['Cesio', 'Mezcla', 'Camisa'])\n",
    "\n",
    "X= np.array([1,2,3])\n",
    "ɣ= np.array([18.8, 8.5, 30.4])\n",
    "β= np.array([58.3, 59.8, 32.6])\n",
    "α= np.array([22.9, 31.7, 37])\n",
    "\n",
    "ɣ= np.array([18.8, 8.5, 30.4])\n",
    "β= np.array([100, 100, 100])\n",
    "α= np.array([51.7, 40.2, 67.4])"
   ]
  },
  {
   "cell_type": "code",
   "execution_count": 65,
   "metadata": {},
   "outputs": [
    {
     "data": {
      "image/png": "[encoded data removed]",
      "text/plain": [
       "<Figure size 432x288 with 1 Axes>"
      ]
     },
     "metadata": {
      "needs_background": "light"
     },
     "output_type": "display_data"
    },
    {
     "data": {
      "text/plain": [
       "<Figure size 432x288 with 0 Axes>"
      ]
     },
     "metadata": {},
     "output_type": "display_data"
    }
   ],
   "source": [
    "#Diagrama de barras con los porcentajes de radiación de cada muestra\n",
    "plt.title('Porcentajes de radiación alfa, beta y gama')\n",
    "plt.bar(X, β, color= 'g', label= 'β')\n",
    "plt.bar(X, α, color= 'orange', label= 'α')\n",
    "plt.bar(X, ɣ, label= 'ɣ')\n",
    "plt.legend(loc=\"upper right\")\n",
    "#plt.grid(True)\n",
    "plt.show()\n",
    "plt.clf()"
   ]
  },
  {
   "cell_type": "code",
   "execution_count": null,
   "metadata": {},
   "outputs": [],
   "source": []
  }
 ],
 "metadata": {
  "kernelspec": {
   "display_name": "Python 3",
   "language": "python",
   "name": "python3"
  },
  "language_info": {
   "codemirror_mode": {
    "name": "ipython",
    "version": 3
   },
   "file_extension": ".py",
   "mimetype": "text/x-python",
   "name": "python",
   "nbconvert_exporter": "python",
   "pygments_lexer": "ipython3",
   "version": "3.8.8"
  }
 },
 "nbformat": 4,
 "nbformat_minor": 2
}
