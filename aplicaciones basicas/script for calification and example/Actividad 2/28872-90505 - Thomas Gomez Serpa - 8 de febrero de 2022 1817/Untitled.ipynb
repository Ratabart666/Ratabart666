{
 "cells": [
  {
   "cell_type": "code",
   "execution_count": 37,
   "id": "8a62e2dd",
   "metadata": {},
   "outputs": [
    {
     "name": "stdout",
     "output_type": "stream",
     "text": [
      "(5, 2)\n",
      "(1, 0)\n",
      "(5, 5)\n",
      "(1.4, -0.2)\n",
      "3.1622776601683795\n"
     ]
    }
   ],
   "source": [
    "\n",
    "\n",
    "class Compleja:\n",
    "    def __init__(self,real,compleja):\n",
    "        self.real=real\n",
    "        self.compleja=compleja\n",
    "    def suma(self,other):\n",
    "        return((self.real+other.real,self.compleja+other.compleja))\n",
    "    def resta(self,other):\n",
    "        return((self.real-other.real,self.compleja-other.compleja))\n",
    "    def multiplicacion(self,other):\n",
    "        a=self.real\n",
    "        b=self.compleja\n",
    "        c=other.real\n",
    "        d=other.compleja\n",
    "        return((a*c-b*d,b*c+a*d))\n",
    "    def division(self,other):\n",
    "        a=self.real\n",
    "        b=self.compleja\n",
    "        c=other.real\n",
    "        d=other.compleja\n",
    "        comun=c**2+d**2\n",
    "        return(((a*c+b*d)/comun,(b*c-a*d)/comun))\n",
    "    def norma(self):\n",
    "        a=self.real\n",
    "        b=self.compleja\n",
    "        return((a**2+b**2)**(1/2))\n",
    "#referencia:\n",
    "#http://maralboran.org/wikipedia/index.php/N%C3%BAmeros_complejos:_Operaciones_%281%C2%BABach%29\n",
    "\n",
    "#Creación objetos\n",
    "z=Compleja(2,1)#Notación:(parte real,parte imaginaria)\n",
    "w=Compleja(3,1)\n",
    "#ejemplo suma:\n",
    "print(w.suma(z))\n",
    "#ejemplo resta:\n",
    "print(w.resta(z))\n",
    "#ejemplo multiplicación:\n",
    "print(w.multiplicacion(z))\n",
    "#ejemplo división\n",
    "print(w.division(z))\n",
    "#ejemplo norma\n",
    "print(w.norma())\n",
    "\n",
    "\n"
   ]
  }
 ],
 "metadata": {
  "kernelspec": {
   "display_name": "Python 3",
   "language": "python",
   "name": "python3"
  },
  "language_info": {
   "codemirror_mode": {
    "name": "ipython",
    "version": 3
   },
   "file_extension": ".py",
   "mimetype": "text/x-python",
   "name": "python",
   "nbconvert_exporter": "python",
   "pygments_lexer": "ipython3",
   "version": "3.8.8"
  }
 },
 "nbformat": 4,
 "nbformat_minor": 5
}
