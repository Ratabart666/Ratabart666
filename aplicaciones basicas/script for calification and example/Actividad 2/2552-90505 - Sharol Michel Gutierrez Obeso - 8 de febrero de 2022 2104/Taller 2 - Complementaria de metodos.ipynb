{
 "cells": [
  {
   "cell_type": "code",
   "execution_count": 150,
   "id": "ed63dc00",
   "metadata": {},
   "outputs": [],
   "source": [
    "#TAREA 2 - COMPLEMENTARIA DE METODOS COMPUTACIONALES - SHAROL GUTIERREZ - 201819940\n",
    "import numpy #Fue necesario importar esta biblioteca para definir las funciones de producto y cociente entre numeros complejos, ademas de la norma de un numero complejo. \n",
    "class complejos: #Esta clase contiene a los numeros complejos, es decir, numeros con una parte real y una parte imaginaria\n",
    "    def __init__ (self,re,im): #Este metodo define la clase y sus componentes. Los numeros complejos tienen parte real (re) y parte imaginaria(im).\n",
    "        self.re = re #con esto definimos a la parte real del numero complejo\n",
    "        self.im = im #Con esto definimos la parte imaginaria del numero complejo\n",
    "    def suma (self,otro): #Este metodo define la suma entre numeros complejos, sabiendo que en estos numeros la parte real se suma con la parte real y la parte imaginaria se sume con la imaginaria.\n",
    "        realsum = self.re+otro.re #Se plantea la parte real de la suma entre complejos. \n",
    "        imaginariasum = self.im+otro.im #Se plantea la parte imaginaria de la suma entre complejos. \n",
    "        return realsum, imaginariasum #Se retornan los resultados. \n",
    "    def resta (self,otro): #Metodo que define la resta entre numeros complejos.\n",
    "        realres = self.re-otro.re #Parte real de la resta \n",
    "        imaginariares = self.im-otro.im #Parte imaginaria de la resta \n",
    "        return realres, imaginariares #Se retornan los resultados previamente programados \n",
    "    def producto (self,otro): #Se define el producto punto entre numeros complejos\n",
    "        realpro = numpy.dot(self.re,otro.re)-numpy.dot(self.im,otro.im) #Parte real del producto punto. \n",
    "        imaginariapro = numpy.dot(self.re,otro.im)+numpy.dot(self.im,otro.re) #Parte imaginaria del producto punto. \n",
    "        return realpro, imaginariapro #Se retorna lo planteado\n",
    "    def cociente (self,otro): #Se define la operacion cociente entre numeros complejos\n",
    "        realco = (numpy.dot(self.re,otro.re)+numpy.dot(self.im,otro.im))/(otro.re**2+otro.im**2) #Se define la parte real del cociente entre complejos.\n",
    "        imaginarioco = (numpy.dot(self.im,otro.re)-numpy.dot(self.re,otro.im))/(otro.re**2+otro.im**2) #Se define la parte imaginaria del cociente entre complejos. \n",
    "        return realco, imaginarioco #se retorna lo obtenido\n",
    "    def norma (self): #Metodo que define la norma de un numero complejo\n",
    "        renorma = numpy.sqrt(self.re**2+self.im**2) #Se plantea la norma\n",
    "        return renorma #Se retorna lo obtenido "
   ]
  },
  {
   "cell_type": "code",
   "execution_count": 151,
   "id": "0ab4dc5c",
   "metadata": {},
   "outputs": [
    {
     "data": {
      "text/plain": [
       "(3, 5)"
      ]
     },
     "execution_count": 151,
     "metadata": {},
     "output_type": "execute_result"
    }
   ],
   "source": [
    "#EJEMPLOS DE SUMA\n",
    "z1 = complejos(1,2) #Ejemplo 1 de suma entre complejos. Se definen los dos numeros y se aplica la operacion.  \n",
    "z2 = complejos(2,3)\n",
    "z1.suma(z2)"
   ]
  },
  {
   "cell_type": "code",
   "execution_count": 152,
   "id": "14f15051",
   "metadata": {},
   "outputs": [
    {
     "data": {
      "text/plain": [
       "(7, 11)"
      ]
     },
     "execution_count": 152,
     "metadata": {},
     "output_type": "execute_result"
    }
   ],
   "source": [
    "z3 = complejos(2,4) #Ejemplo 2 de suma entre complejos. Se definen los dos numeros y se aplica la operacion.\n",
    "z4 = complejos(5,7)\n",
    "z3.suma(z4)"
   ]
  },
  {
   "cell_type": "code",
   "execution_count": 153,
   "id": "e1f4cd55",
   "metadata": {},
   "outputs": [
    {
     "data": {
      "text/plain": [
       "(3, -3)"
      ]
     },
     "execution_count": 153,
     "metadata": {},
     "output_type": "execute_result"
    }
   ],
   "source": [
    "z5 = complejos(5,2) #Ejemplo 1 de resta entre complejos. Se definen los dos numeros y se aplica la operacion.\n",
    "z6 = complejos(2,5)\n",
    "z5.resta(z6)"
   ]
  },
  {
   "cell_type": "code",
   "execution_count": 154,
   "id": "3a15d650",
   "metadata": {},
   "outputs": [
    {
     "data": {
      "text/plain": [
       "(4, -7)"
      ]
     },
     "execution_count": 154,
     "metadata": {},
     "output_type": "execute_result"
    }
   ],
   "source": [
    "z7 = complejos(6,2) #Ejemplo 2 de resta entre complejos. Se definen los dos numeros y se aplica la operacion.\n",
    "z8 = complejos(2,9)\n",
    "z7.resta(z8)"
   ]
  },
  {
   "cell_type": "code",
   "execution_count": 155,
   "id": "3112c406",
   "metadata": {
    "scrolled": true
   },
   "outputs": [
    {
     "data": {
      "text/plain": [
       "(0, 13)"
      ]
     },
     "execution_count": 155,
     "metadata": {},
     "output_type": "execute_result"
    }
   ],
   "source": [
    "z9 = complejos(3,2) #Ejemplo 1 de producto entre complejos. Se definen los dos numeros y se aplica la operacion.\n",
    "z10 = complejos(2,3)\n",
    "z9.producto(z10)"
   ]
  },
  {
   "cell_type": "code",
   "execution_count": 156,
   "id": "096da7dd",
   "metadata": {},
   "outputs": [
    {
     "data": {
      "text/plain": [
       "(-6, 15)"
      ]
     },
     "execution_count": 156,
     "metadata": {},
     "output_type": "execute_result"
    }
   ],
   "source": [
    "z11 = complejos(5,2) #Ejemplo 2 de producto entre complejos. Se definen los dos numeros y se aplica la operacion.\n",
    "z12 = complejos(0,3)\n",
    "z11.producto(z12)"
   ]
  },
  {
   "cell_type": "code",
   "execution_count": 157,
   "id": "88097760",
   "metadata": {},
   "outputs": [
    {
     "data": {
      "text/plain": [
       "(-0.2, 0.6)"
      ]
     },
     "execution_count": 157,
     "metadata": {},
     "output_type": "execute_result"
    }
   ],
   "source": [
    "z13 = complejos(2,2) #Ejemplo 1 de cociente entre complejos. Se definen los dos numeros y se aplica la operacion.\n",
    "z14 = complejos(2,-4)\n",
    "z13.cociente(z14)"
   ]
  },
  {
   "cell_type": "code",
   "execution_count": 158,
   "id": "595415fb",
   "metadata": {},
   "outputs": [
    {
     "data": {
      "text/plain": [
       "(0.3, 0.4)"
      ]
     },
     "execution_count": 158,
     "metadata": {},
     "output_type": "execute_result"
    }
   ],
   "source": [
    "z15 = complejos(-1,2) #Ejemplo 2 de cociente entre complejos. Se definen los dos numeros y se aplica la operacion.\n",
    "z16 = complejos(2,4)\n",
    "z15.cociente(z16)"
   ]
  },
  {
   "cell_type": "code",
   "execution_count": 159,
   "id": "49527229",
   "metadata": {},
   "outputs": [
    {
     "data": {
      "text/plain": [
       "2.8284271247461903"
      ]
     },
     "execution_count": 159,
     "metadata": {},
     "output_type": "execute_result"
    }
   ],
   "source": [
    "z9 = complejos(2,2) #Ejemplo 1 del calculo de la norma de un complejo. Se define el numero y se aplica la operacion.\n",
    "z9.norma()"
   ]
  },
  {
   "cell_type": "code",
   "execution_count": 160,
   "id": "a7f4e184",
   "metadata": {},
   "outputs": [
    {
     "data": {
      "text/plain": [
       "2.23606797749979"
      ]
     },
     "execution_count": 160,
     "metadata": {},
     "output_type": "execute_result"
    }
   ],
   "source": [
    "z9 = complejos(1,2) #Ejemplo 1 del calculo de la norma de un complejo. Se define el numero y se aplica la operacion.\n",
    "z9.norma()"
   ]
  },
  {
   "cell_type": "code",
   "execution_count": null,
   "id": "76d06a17",
   "metadata": {},
   "outputs": [],
   "source": [
    " \n",
    "    \n",
    "    \n",
    "    "
   ]
  }
 ],
 "metadata": {
  "kernelspec": {
   "display_name": "Python 3 (ipykernel)",
   "language": "python",
   "name": "python3"
  },
  "language_info": {
   "codemirror_mode": {
    "name": "ipython",
    "version": 3
   },
   "file_extension": ".py",
   "mimetype": "text/x-python",
   "name": "python",
   "nbconvert_exporter": "python",
   "pygments_lexer": "ipython3",
   "version": "3.9.7"
  }
 },
 "nbformat": 4,
 "nbformat_minor": 5
}
